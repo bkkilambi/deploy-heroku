{
 "cells": [
  {
   "cell_type": "code",
   "execution_count": 312,
   "id": "f01eee49",
   "metadata": {},
   "outputs": [],
   "source": [
    "#Import all libraries\n",
    "\n",
    "import pandas as pd\n",
    "import numpy as np\n",
    "import chardet\n",
    "import seaborn as sns\n",
    "import matplotlib.pyplot as plt\n",
    "import re\n",
    "from nltk.tokenize import word_tokenize\n",
    "from nltk.corpus import stopwords\n",
    "from sklearn.feature_extraction.text import CountVectorizer\n",
    "from nltk.stem.porter import PorterStemmer\n",
    "from nltk.stem import WordNetLemmatizer\n",
    "from autocorrect import Speller\n",
    "\n",
    "from sklearn.model_selection import train_test_split,RepeatedStratifiedKFold,StratifiedKFold, GridSearchCV\n",
    "from sklearn.ensemble import RandomForestClassifier\n",
    "from sklearn.feature_extraction.text import TfidfVectorizer\n",
    "from sklearn.metrics import accuracy_score, confusion_matrix, precision_recall_curve, classification_report, roc_auc_score\n",
    "\n",
    "from sklearn.pipeline import Pipeline\n",
    "from sklearn.decomposition import PCA\n",
    "from sklearn.preprocessing import StandardScaler\n",
    "from sklearn.pipeline import FeatureUnion\n",
    "from sklearn.base import BaseEstimator, TransformerMixin\n",
    "from sklearn.linear_model import LogisticRegression\n",
    "from sklearn.model_selection import cross_val_score\n",
    "from sklearn.ensemble import RandomForestClassifier\n",
    "from sklearn.ensemble import GradientBoostingClassifier\n",
    "\n",
    "from sklearn.metrics.pairwise import pairwise_distances\n",
    "\n",
    "import xgboost as xgb\n",
    "from xgboost import XGBClassifier\n",
    "from xgboost import plot_importance\n",
    "\n",
    "import joblib\n"
   ]
  },
  {
   "cell_type": "markdown",
   "id": "91d5323c",
   "metadata": {},
   "source": [
    "## Loading of data"
   ]
  },
  {
   "cell_type": "code",
   "execution_count": 2,
   "id": "cdcfffe4",
   "metadata": {},
   "outputs": [],
   "source": [
    "pd.set_option('display.max_colwidth', None)"
   ]
  },
  {
   "cell_type": "code",
   "execution_count": 3,
   "id": "aba22393",
   "metadata": {},
   "outputs": [],
   "source": [
    "ratings_orig = pd.read_csv('sample30.csv')\n",
    "data_desc = pd.read_csv('Data+Attribute+Description.csv')"
   ]
  },
  {
   "cell_type": "markdown",
   "id": "03bb1ed8",
   "metadata": {},
   "source": [
    "## Data Cleaning"
   ]
  },
  {
   "cell_type": "code",
   "execution_count": 4,
   "id": "3727e0a8",
   "metadata": {},
   "outputs": [],
   "source": [
    "ratings = ratings_orig.copy()"
   ]
  },
  {
   "cell_type": "code",
   "execution_count": 5,
   "id": "beaa7911",
   "metadata": {},
   "outputs": [
    {
     "data": {
      "text/plain": [
       "(30000, 15)"
      ]
     },
     "execution_count": 5,
     "metadata": {},
     "output_type": "execute_result"
    }
   ],
   "source": [
    "ratings.shape"
   ]
  },
  {
   "cell_type": "code",
   "execution_count": 6,
   "id": "e32b595a",
   "metadata": {},
   "outputs": [
    {
     "data": {
      "text/html": [
       "<div>\n",
       "<style scoped>\n",
       "    .dataframe tbody tr th:only-of-type {\n",
       "        vertical-align: middle;\n",
       "    }\n",
       "\n",
       "    .dataframe tbody tr th {\n",
       "        vertical-align: top;\n",
       "    }\n",
       "\n",
       "    .dataframe thead th {\n",
       "        text-align: right;\n",
       "    }\n",
       "</style>\n",
       "<table border=\"1\" class=\"dataframe\">\n",
       "  <thead>\n",
       "    <tr style=\"text-align: right;\">\n",
       "      <th></th>\n",
       "      <th>id</th>\n",
       "      <th>brand</th>\n",
       "      <th>categories</th>\n",
       "      <th>manufacturer</th>\n",
       "      <th>name</th>\n",
       "      <th>reviews_date</th>\n",
       "      <th>reviews_didPurchase</th>\n",
       "      <th>reviews_doRecommend</th>\n",
       "      <th>reviews_rating</th>\n",
       "      <th>reviews_text</th>\n",
       "      <th>reviews_title</th>\n",
       "      <th>reviews_userCity</th>\n",
       "      <th>reviews_userProvince</th>\n",
       "      <th>reviews_username</th>\n",
       "      <th>user_sentiment</th>\n",
       "    </tr>\n",
       "  </thead>\n",
       "  <tbody>\n",
       "    <tr>\n",
       "      <th>0</th>\n",
       "      <td>AV13O1A8GV-KLJ3akUyj</td>\n",
       "      <td>Universal Music</td>\n",
       "      <td>Movies, Music &amp; Books,Music,R&amp;b,Movies &amp; TV,Movie Bundles &amp; Collections,CDs &amp; Vinyl,Rap &amp; Hip-Hop,Bass,Music on CD or Vinyl,Rap,Hip-Hop,Mainstream Rap,Pop Rap</td>\n",
       "      <td>Universal Music Group / Cash Money</td>\n",
       "      <td>Pink Friday: Roman Reloaded Re-Up (w/dvd)</td>\n",
       "      <td>2012-11-30T06:21:45.000Z</td>\n",
       "      <td>NaN</td>\n",
       "      <td>NaN</td>\n",
       "      <td>5</td>\n",
       "      <td>i love this album. it's very good. more to the hip hop side than her current pop sound.. SO HYPE! i listen to this everyday at the gym! i give it 5star rating all the way. her metaphors are just crazy.</td>\n",
       "      <td>Just Awesome</td>\n",
       "      <td>Los Angeles</td>\n",
       "      <td>NaN</td>\n",
       "      <td>joshua</td>\n",
       "      <td>Positive</td>\n",
       "    </tr>\n",
       "    <tr>\n",
       "      <th>1</th>\n",
       "      <td>AV14LG0R-jtxr-f38QfS</td>\n",
       "      <td>Lundberg</td>\n",
       "      <td>Food,Packaged Foods,Snacks,Crackers,Snacks, Cookies &amp; Chips,Rice Cakes,Cakes</td>\n",
       "      <td>Lundberg</td>\n",
       "      <td>Lundberg Organic Cinnamon Toast Rice Cakes</td>\n",
       "      <td>2017-07-09T00:00:00.000Z</td>\n",
       "      <td>True</td>\n",
       "      <td>NaN</td>\n",
       "      <td>5</td>\n",
       "      <td>Good flavor. This review was collected as part of a promotion.</td>\n",
       "      <td>Good</td>\n",
       "      <td>NaN</td>\n",
       "      <td>NaN</td>\n",
       "      <td>dorothy w</td>\n",
       "      <td>Positive</td>\n",
       "    </tr>\n",
       "    <tr>\n",
       "      <th>2</th>\n",
       "      <td>AV14LG0R-jtxr-f38QfS</td>\n",
       "      <td>Lundberg</td>\n",
       "      <td>Food,Packaged Foods,Snacks,Crackers,Snacks, Cookies &amp; Chips,Rice Cakes,Cakes</td>\n",
       "      <td>Lundberg</td>\n",
       "      <td>Lundberg Organic Cinnamon Toast Rice Cakes</td>\n",
       "      <td>2017-07-09T00:00:00.000Z</td>\n",
       "      <td>True</td>\n",
       "      <td>NaN</td>\n",
       "      <td>5</td>\n",
       "      <td>Good flavor.</td>\n",
       "      <td>Good</td>\n",
       "      <td>NaN</td>\n",
       "      <td>NaN</td>\n",
       "      <td>dorothy w</td>\n",
       "      <td>Positive</td>\n",
       "    </tr>\n",
       "  </tbody>\n",
       "</table>\n",
       "</div>"
      ],
      "text/plain": [
       "                     id            brand  \\\n",
       "0  AV13O1A8GV-KLJ3akUyj  Universal Music   \n",
       "1  AV14LG0R-jtxr-f38QfS         Lundberg   \n",
       "2  AV14LG0R-jtxr-f38QfS         Lundberg   \n",
       "\n",
       "                                                                                                                                                       categories  \\\n",
       "0  Movies, Music & Books,Music,R&b,Movies & TV,Movie Bundles & Collections,CDs & Vinyl,Rap & Hip-Hop,Bass,Music on CD or Vinyl,Rap,Hip-Hop,Mainstream Rap,Pop Rap   \n",
       "1                                                                                    Food,Packaged Foods,Snacks,Crackers,Snacks, Cookies & Chips,Rice Cakes,Cakes   \n",
       "2                                                                                    Food,Packaged Foods,Snacks,Crackers,Snacks, Cookies & Chips,Rice Cakes,Cakes   \n",
       "\n",
       "                         manufacturer  \\\n",
       "0  Universal Music Group / Cash Money   \n",
       "1                            Lundberg   \n",
       "2                            Lundberg   \n",
       "\n",
       "                                         name              reviews_date  \\\n",
       "0   Pink Friday: Roman Reloaded Re-Up (w/dvd)  2012-11-30T06:21:45.000Z   \n",
       "1  Lundberg Organic Cinnamon Toast Rice Cakes  2017-07-09T00:00:00.000Z   \n",
       "2  Lundberg Organic Cinnamon Toast Rice Cakes  2017-07-09T00:00:00.000Z   \n",
       "\n",
       "  reviews_didPurchase reviews_doRecommend  reviews_rating  \\\n",
       "0                 NaN                 NaN               5   \n",
       "1                True                 NaN               5   \n",
       "2                True                 NaN               5   \n",
       "\n",
       "                                                                                                                                                                                                reviews_text  \\\n",
       "0  i love this album. it's very good. more to the hip hop side than her current pop sound.. SO HYPE! i listen to this everyday at the gym! i give it 5star rating all the way. her metaphors are just crazy.   \n",
       "1                                                                                                                                             Good flavor. This review was collected as part of a promotion.   \n",
       "2                                                                                                                                                                                               Good flavor.   \n",
       "\n",
       "  reviews_title reviews_userCity reviews_userProvince reviews_username  \\\n",
       "0  Just Awesome      Los Angeles                  NaN           joshua   \n",
       "1          Good              NaN                  NaN        dorothy w   \n",
       "2          Good              NaN                  NaN        dorothy w   \n",
       "\n",
       "  user_sentiment  \n",
       "0       Positive  \n",
       "1       Positive  \n",
       "2       Positive  "
      ]
     },
     "execution_count": 6,
     "metadata": {},
     "output_type": "execute_result"
    }
   ],
   "source": [
    "ratings.head(3)"
   ]
  },
  {
   "cell_type": "code",
   "execution_count": 7,
   "id": "faec32ce",
   "metadata": {},
   "outputs": [
    {
     "data": {
      "text/html": [
       "<div>\n",
       "<style scoped>\n",
       "    .dataframe tbody tr th:only-of-type {\n",
       "        vertical-align: middle;\n",
       "    }\n",
       "\n",
       "    .dataframe tbody tr th {\n",
       "        vertical-align: top;\n",
       "    }\n",
       "\n",
       "    .dataframe thead th {\n",
       "        text-align: right;\n",
       "    }\n",
       "</style>\n",
       "<table border=\"1\" class=\"dataframe\">\n",
       "  <thead>\n",
       "    <tr style=\"text-align: right;\">\n",
       "      <th></th>\n",
       "      <th>Attribute</th>\n",
       "      <th>Attribute Description</th>\n",
       "    </tr>\n",
       "  </thead>\n",
       "  <tbody>\n",
       "    <tr>\n",
       "      <th>0</th>\n",
       "      <td>id</td>\n",
       "      <td>Uniques identity number to identify each unique review given by the user to a particular product in the dataset</td>\n",
       "    </tr>\n",
       "    <tr>\n",
       "      <th>1</th>\n",
       "      <td>brand</td>\n",
       "      <td>Name of the brand of the product to which user has given review and rating</td>\n",
       "    </tr>\n",
       "    <tr>\n",
       "      <th>2</th>\n",
       "      <td>categories</td>\n",
       "      <td>Category of the product like household essentials, books, personal care products, medicines, cosmetic�items, beauty products, electrical appliances, kitchen and dining products, health care products and many more.</td>\n",
       "    </tr>\n",
       "    <tr>\n",
       "      <th>3</th>\n",
       "      <td>manufacturer</td>\n",
       "      <td>Name of the manufacturer of the product</td>\n",
       "    </tr>\n",
       "    <tr>\n",
       "      <th>4</th>\n",
       "      <td>name</td>\n",
       "      <td>Name of the product to which user has added review or rating</td>\n",
       "    </tr>\n",
       "    <tr>\n",
       "      <th>5</th>\n",
       "      <td>reviews_date</td>\n",
       "      <td>Date on which the review has been added by the user</td>\n",
       "    </tr>\n",
       "    <tr>\n",
       "      <th>6</th>\n",
       "      <td>reviews_didPurchase</td>\n",
       "      <td>Whether a particular user has purchased the product or not</td>\n",
       "    </tr>\n",
       "    <tr>\n",
       "      <th>7</th>\n",
       "      <td>reviews_doRecommend</td>\n",
       "      <td>Whether a particular user has recommended the product or not</td>\n",
       "    </tr>\n",
       "    <tr>\n",
       "      <th>8</th>\n",
       "      <td>reviews_rating</td>\n",
       "      <td>Rating given by the user to a particular product</td>\n",
       "    </tr>\n",
       "    <tr>\n",
       "      <th>9</th>\n",
       "      <td>reviews_text</td>\n",
       "      <td>Review given by the user to a particular product</td>\n",
       "    </tr>\n",
       "    <tr>\n",
       "      <th>10</th>\n",
       "      <td>reviews_title</td>\n",
       "      <td>The title of the review given by the user to a particular product</td>\n",
       "    </tr>\n",
       "    <tr>\n",
       "      <th>11</th>\n",
       "      <td>reviews_userCity</td>\n",
       "      <td>The residing city of the user</td>\n",
       "    </tr>\n",
       "    <tr>\n",
       "      <th>12</th>\n",
       "      <td>reviews_userProvince</td>\n",
       "      <td>The residing province of the user</td>\n",
       "    </tr>\n",
       "    <tr>\n",
       "      <th>13</th>\n",
       "      <td>reviews_username</td>\n",
       "      <td>The unique identification for individual user in the dataset</td>\n",
       "    </tr>\n",
       "    <tr>\n",
       "      <th>14</th>\n",
       "      <td>user_sentiment</td>\n",
       "      <td>The overall sentiment of the user for a particular product (Positive or Negative)</td>\n",
       "    </tr>\n",
       "  </tbody>\n",
       "</table>\n",
       "</div>"
      ],
      "text/plain": [
       "               Attribute  \\\n",
       "0                     id   \n",
       "1                  brand   \n",
       "2             categories   \n",
       "3           manufacturer   \n",
       "4                   name   \n",
       "5           reviews_date   \n",
       "6    reviews_didPurchase   \n",
       "7    reviews_doRecommend   \n",
       "8         reviews_rating   \n",
       "9           reviews_text   \n",
       "10         reviews_title   \n",
       "11      reviews_userCity   \n",
       "12  reviews_userProvince   \n",
       "13      reviews_username   \n",
       "14        user_sentiment   \n",
       "\n",
       "                                                                                                                                                                                                    Attribute Description  \n",
       "0                                                                                                         Uniques identity number to identify each unique review given by the user to a particular product in the dataset  \n",
       "1                                                                                                                                              Name of the brand of the product to which user has given review and rating  \n",
       "2   Category of the product like household essentials, books, personal care products, medicines, cosmetic�items, beauty products, electrical appliances, kitchen and dining products, health care products and many more.  \n",
       "3                                                                                                                                                                                 Name of the manufacturer of the product  \n",
       "4                                                                                                                                                            Name of the product to which user has added review or rating  \n",
       "5                                                                                                                                                                     Date on which the review has been added by the user  \n",
       "6                                                                                                                                                              Whether a particular user has purchased the product or not  \n",
       "7                                                                                                                                                            Whether a particular user has recommended the product or not  \n",
       "8                                                                                                                                                                        Rating given by the user to a particular product  \n",
       "9                                                                                                                                                                        Review given by the user to a particular product  \n",
       "10                                                                                                                                                      The title of the review given by the user to a particular product  \n",
       "11                                                                                                                                                                                          The residing city of the user  \n",
       "12                                                                                                                                                                                      The residing province of the user  \n",
       "13                                                                                                                                                           The unique identification for individual user in the dataset  \n",
       "14                                                                                                                                      The overall sentiment of the user for a particular product (Positive or Negative)  "
      ]
     },
     "execution_count": 7,
     "metadata": {},
     "output_type": "execute_result"
    }
   ],
   "source": [
    "data_desc"
   ]
  },
  {
   "cell_type": "code",
   "execution_count": 8,
   "id": "2cdfcf1a",
   "metadata": {},
   "outputs": [
    {
     "data": {
      "text/plain": [
       "(30000, 15)"
      ]
     },
     "execution_count": 8,
     "metadata": {},
     "output_type": "execute_result"
    }
   ],
   "source": [
    "ratings.shape"
   ]
  },
  {
   "cell_type": "code",
   "execution_count": 9,
   "id": "70d81d26",
   "metadata": {},
   "outputs": [
    {
     "data": {
      "text/plain": [
       "id                          0\n",
       "brand                       0\n",
       "categories                  0\n",
       "manufacturer              141\n",
       "name                        0\n",
       "reviews_date               46\n",
       "reviews_didPurchase     14068\n",
       "reviews_doRecommend      2570\n",
       "reviews_rating              0\n",
       "reviews_text                0\n",
       "reviews_title             190\n",
       "reviews_userCity        28071\n",
       "reviews_userProvince    29830\n",
       "reviews_username           63\n",
       "user_sentiment              1\n",
       "dtype: int64"
      ]
     },
     "execution_count": 9,
     "metadata": {},
     "output_type": "execute_result"
    }
   ],
   "source": [
    "ratings.isnull().sum()"
   ]
  },
  {
   "cell_type": "markdown",
   "id": "04d78226",
   "metadata": {},
   "source": [
    "reviews_userCity and reviews_userProvince have more than 93% null values. No amount of imputation would help here and we would not like to add any imaginary data. User city and province does not influence the sentiment classification nor the recommendation system so it is safe to remove them. "
   ]
  },
  {
   "cell_type": "code",
   "execution_count": 10,
   "id": "2204c28f",
   "metadata": {},
   "outputs": [],
   "source": [
    "ratings = ratings.drop(['reviews_userCity', 'reviews_userProvince'], axis=1)"
   ]
  },
  {
   "cell_type": "markdown",
   "id": "df66e8ac",
   "metadata": {},
   "source": [
    "Now, checking again for the null values - "
   ]
  },
  {
   "cell_type": "code",
   "execution_count": 11,
   "id": "c1f8d152",
   "metadata": {},
   "outputs": [
    {
     "data": {
      "text/plain": [
       "id                      0.00\n",
       "brand                   0.00\n",
       "categories              0.00\n",
       "manufacturer            0.47\n",
       "name                    0.00\n",
       "reviews_date            0.15\n",
       "reviews_didPurchase    46.89\n",
       "reviews_doRecommend     8.57\n",
       "reviews_rating          0.00\n",
       "reviews_text            0.00\n",
       "reviews_title           0.63\n",
       "reviews_username        0.21\n",
       "user_sentiment          0.00\n",
       "dtype: float64"
      ]
     },
     "execution_count": 11,
     "metadata": {},
     "output_type": "execute_result"
    }
   ],
   "source": [
    "round(((ratings.isnull().sum()/ratings.shape[0])*100),2)"
   ]
  },
  {
   "cell_type": "markdown",
   "id": "1f1cac84",
   "metadata": {},
   "source": [
    "Removing the column for reviews_didPurchase as well. The values cannot be imputed as there are close to 50% values which are null. "
   ]
  },
  {
   "cell_type": "code",
   "execution_count": 12,
   "id": "04394db4",
   "metadata": {},
   "outputs": [],
   "source": [
    "ratings = ratings.drop(['reviews_didPurchase'], axis=1)"
   ]
  },
  {
   "cell_type": "markdown",
   "id": "baceb6bc",
   "metadata": {},
   "source": [
    "Checking null values again - "
   ]
  },
  {
   "cell_type": "code",
   "execution_count": 13,
   "id": "b3f9a461",
   "metadata": {},
   "outputs": [
    {
     "data": {
      "text/plain": [
       "id                        0\n",
       "brand                     0\n",
       "categories                0\n",
       "manufacturer            141\n",
       "name                      0\n",
       "reviews_date             46\n",
       "reviews_doRecommend    2570\n",
       "reviews_rating            0\n",
       "reviews_text              0\n",
       "reviews_title           190\n",
       "reviews_username         63\n",
       "user_sentiment            1\n",
       "dtype: int64"
      ]
     },
     "execution_count": 13,
     "metadata": {},
     "output_type": "execute_result"
    }
   ],
   "source": [
    "ratings.isnull().sum(axis=0)"
   ]
  },
  {
   "cell_type": "code",
   "execution_count": 14,
   "id": "526548e4",
   "metadata": {},
   "outputs": [
    {
     "data": {
      "text/plain": [
       "id                     0.00\n",
       "brand                  0.00\n",
       "categories             0.00\n",
       "manufacturer           0.47\n",
       "name                   0.00\n",
       "reviews_date           0.15\n",
       "reviews_doRecommend    8.57\n",
       "reviews_rating         0.00\n",
       "reviews_text           0.00\n",
       "reviews_title          0.63\n",
       "reviews_username       0.21\n",
       "user_sentiment         0.00\n",
       "dtype: float64"
      ]
     },
     "execution_count": 14,
     "metadata": {},
     "output_type": "execute_result"
    }
   ],
   "source": [
    "round(((ratings.isnull().sum()/ratings.shape[0])*100),2)"
   ]
  },
  {
   "cell_type": "markdown",
   "id": "6ac501b9",
   "metadata": {},
   "source": [
    "There is one row for user_sentiment, which has a null value. Let's check that row - "
   ]
  },
  {
   "cell_type": "code",
   "execution_count": 15,
   "id": "2d723ccb",
   "metadata": {},
   "outputs": [
    {
     "data": {
      "text/plain": [
       "28354    my kids absolutely loved this film so much that we watched it twice. Having a digital copy means that every time we get in the car we get to watch it wherever we go. we even got to use our $5 reward coupon towards the purchase of this movie so we got an additional $5 off + we got to add the points towards our next rewards coupon we love the savings we get at Best Buy\n",
       "Name: reviews_text, dtype: object"
      ]
     },
     "execution_count": 15,
     "metadata": {},
     "output_type": "execute_result"
    }
   ],
   "source": [
    "ratings[ratings['user_sentiment'].isnull()]['reviews_text']"
   ]
  },
  {
   "cell_type": "markdown",
   "id": "4048bae1",
   "metadata": {},
   "source": [
    "It looks like the user likes the product and has recommended the product. The review text also shows that the user loved this product and has given it the highest rating. We can make the sentiment for this user as positive. It is safe to classify the review/sentiment as a positive one."
   ]
  },
  {
   "cell_type": "code",
   "execution_count": 16,
   "id": "f54d6510",
   "metadata": {},
   "outputs": [],
   "source": [
    "ratings.loc[ratings['user_sentiment'].isnull(),'user_sentiment'] = 'Positive'"
   ]
  },
  {
   "cell_type": "code",
   "execution_count": 17,
   "id": "82510fc3",
   "metadata": {},
   "outputs": [
    {
     "data": {
      "text/plain": [
       "id                        0\n",
       "brand                     0\n",
       "categories                0\n",
       "manufacturer            141\n",
       "name                      0\n",
       "reviews_date             46\n",
       "reviews_doRecommend    2570\n",
       "reviews_rating            0\n",
       "reviews_text              0\n",
       "reviews_title           190\n",
       "reviews_username         63\n",
       "user_sentiment            0\n",
       "dtype: int64"
      ]
     },
     "execution_count": 17,
     "metadata": {},
     "output_type": "execute_result"
    }
   ],
   "source": [
    "ratings.isnull().sum(axis=0)"
   ]
  },
  {
   "cell_type": "markdown",
   "id": "0c88d2a2",
   "metadata": {},
   "source": [
    "We can remove the column reviews_date as it is not important for the sentiment classfier or the recommendation system."
   ]
  },
  {
   "cell_type": "code",
   "execution_count": 18,
   "id": "21635062",
   "metadata": {},
   "outputs": [],
   "source": [
    "ratings = ratings.drop(['reviews_date'], axis=1)"
   ]
  },
  {
   "cell_type": "code",
   "execution_count": 19,
   "id": "b140db59",
   "metadata": {},
   "outputs": [
    {
     "data": {
      "text/plain": [
       "id                        0\n",
       "brand                     0\n",
       "categories                0\n",
       "manufacturer            141\n",
       "name                      0\n",
       "reviews_doRecommend    2570\n",
       "reviews_rating            0\n",
       "reviews_text              0\n",
       "reviews_title           190\n",
       "reviews_username         63\n",
       "user_sentiment            0\n",
       "dtype: int64"
      ]
     },
     "execution_count": 19,
     "metadata": {},
     "output_type": "execute_result"
    }
   ],
   "source": [
    "ratings.isnull().sum(axis=0)"
   ]
  },
  {
   "cell_type": "markdown",
   "id": "f5b91968",
   "metadata": {},
   "source": [
    "Let's look at the null values for manufacturer and its brands - "
   ]
  },
  {
   "cell_type": "code",
   "execution_count": 20,
   "id": "5e3fd470",
   "metadata": {},
   "outputs": [
    {
     "data": {
      "text/plain": [
       "Summit Entertainment    141\n",
       "Name: brand, dtype: int64"
      ]
     },
     "execution_count": 20,
     "metadata": {},
     "output_type": "execute_result"
    }
   ],
   "source": [
    "ratings[ratings['manufacturer'].isnull()]['brand'].value_counts()"
   ]
  },
  {
   "cell_type": "markdown",
   "id": "6ef80ae4",
   "metadata": {},
   "source": [
    "So for all 141 null values for manufacturer column, the brand is the same - Summit Entertainment. Let's check what is the manufacturer of Summit entertainment brand if there are more rows for the same - "
   ]
  },
  {
   "cell_type": "code",
   "execution_count": 21,
   "id": "c37f2ac9",
   "metadata": {},
   "outputs": [
    {
     "data": {
      "text/plain": [
       "Summit Entertainment    672\n",
       "Name: manufacturer, dtype: int64"
      ]
     },
     "execution_count": 21,
     "metadata": {},
     "output_type": "execute_result"
    }
   ],
   "source": [
    "ratings[ratings['brand'] == 'Summit Entertainment']['manufacturer'].value_counts()"
   ]
  },
  {
   "cell_type": "markdown",
   "id": "2d7b5968",
   "metadata": {},
   "source": [
    "So for all other Summit Entertainment brands, the manufacturer seems to be Summit Entertainment itself. It is unlikely that the brand is the same and the manufacturer is different. It is possible to have different brands under the same manufacturer but not the same brand under different manufacturers. So it is safe to fill in all the manufacturer null values to Summit Entertainment. "
   ]
  },
  {
   "cell_type": "code",
   "execution_count": 22,
   "id": "afdda9b6",
   "metadata": {},
   "outputs": [],
   "source": [
    "ratings.loc[ratings['manufacturer'].isnull(), 'manufacturer'] = 'Summit Entertainment'"
   ]
  },
  {
   "cell_type": "code",
   "execution_count": 23,
   "id": "b384646d",
   "metadata": {},
   "outputs": [
    {
     "data": {
      "text/plain": [
       "id                        0\n",
       "brand                     0\n",
       "categories                0\n",
       "manufacturer              0\n",
       "name                      0\n",
       "reviews_doRecommend    2570\n",
       "reviews_rating            0\n",
       "reviews_text              0\n",
       "reviews_title           190\n",
       "reviews_username         63\n",
       "user_sentiment            0\n",
       "dtype: int64"
      ]
     },
     "execution_count": 23,
     "metadata": {},
     "output_type": "execute_result"
    }
   ],
   "source": [
    "ratings.isnull().sum()"
   ]
  },
  {
   "cell_type": "markdown",
   "id": "082e09e9",
   "metadata": {},
   "source": [
    "Username column obviously cannot be removed as we need to make recommendations for them. But if we do not know which user made the review, we cannot impute it with some random name. So it is better to delete the rows that do not have a username. "
   ]
  },
  {
   "cell_type": "code",
   "execution_count": 24,
   "id": "94920ff7",
   "metadata": {},
   "outputs": [],
   "source": [
    "ratings = ratings[~ratings['reviews_username'].isnull()]"
   ]
  },
  {
   "cell_type": "code",
   "execution_count": 25,
   "id": "aea69fe1",
   "metadata": {},
   "outputs": [
    {
     "data": {
      "text/plain": [
       "id                        0\n",
       "brand                     0\n",
       "categories                0\n",
       "manufacturer              0\n",
       "name                      0\n",
       "reviews_doRecommend    2541\n",
       "reviews_rating            0\n",
       "reviews_text              0\n",
       "reviews_title           189\n",
       "reviews_username          0\n",
       "user_sentiment            0\n",
       "dtype: int64"
      ]
     },
     "execution_count": 25,
     "metadata": {},
     "output_type": "execute_result"
    }
   ],
   "source": [
    "ratings.isnull().sum()"
   ]
  },
  {
   "cell_type": "markdown",
   "id": "837cae46",
   "metadata": {},
   "source": [
    "There are 189 rows that do not have a review title. We cannot impute or fill it with some text nor is it safe to remove the column entirely as it could be useful in sentiment prediction. So better to delete the rows that have null title. "
   ]
  },
  {
   "cell_type": "code",
   "execution_count": 26,
   "id": "c2ff1bca",
   "metadata": {},
   "outputs": [],
   "source": [
    "ratings = ratings[~ratings['reviews_title'].isnull()]"
   ]
  },
  {
   "cell_type": "code",
   "execution_count": 27,
   "id": "3490b0eb",
   "metadata": {},
   "outputs": [
    {
     "data": {
      "text/plain": [
       "id                        0\n",
       "brand                     0\n",
       "categories                0\n",
       "manufacturer              0\n",
       "name                      0\n",
       "reviews_doRecommend    2376\n",
       "reviews_rating            0\n",
       "reviews_text              0\n",
       "reviews_title             0\n",
       "reviews_username          0\n",
       "user_sentiment            0\n",
       "dtype: int64"
      ]
     },
     "execution_count": 27,
     "metadata": {},
     "output_type": "execute_result"
    }
   ],
   "source": [
    "ratings.isnull().sum()"
   ]
  },
  {
   "cell_type": "code",
   "execution_count": 28,
   "id": "ff137d91",
   "metadata": {},
   "outputs": [
    {
     "data": {
      "text/plain": [
       "(29748, 11)"
      ]
     },
     "execution_count": 28,
     "metadata": {},
     "output_type": "execute_result"
    }
   ],
   "source": [
    "ratings.shape"
   ]
  },
  {
   "cell_type": "markdown",
   "id": "f51de62c",
   "metadata": {},
   "source": [
    "We can drop the column reviews_doRecommend since it gives similar information as reviews_text and reviews_rating columns. If the user likes the product and rates it high, he will recommend it and vice versa. So this can be dropped without much info loss."
   ]
  },
  {
   "cell_type": "code",
   "execution_count": 29,
   "id": "e8d7910d",
   "metadata": {},
   "outputs": [],
   "source": [
    "ratings = ratings.drop(['reviews_doRecommend'], axis=1)"
   ]
  },
  {
   "cell_type": "markdown",
   "id": "dccd4978",
   "metadata": {},
   "source": [
    "Let's check null values again - "
   ]
  },
  {
   "cell_type": "code",
   "execution_count": 30,
   "id": "d26d0597",
   "metadata": {},
   "outputs": [
    {
     "data": {
      "text/plain": [
       "id                  0\n",
       "brand               0\n",
       "categories          0\n",
       "manufacturer        0\n",
       "name                0\n",
       "reviews_rating      0\n",
       "reviews_text        0\n",
       "reviews_title       0\n",
       "reviews_username    0\n",
       "user_sentiment      0\n",
       "dtype: int64"
      ]
     },
     "execution_count": 30,
     "metadata": {},
     "output_type": "execute_result"
    }
   ],
   "source": [
    "ratings.isnull().sum()"
   ]
  },
  {
   "cell_type": "code",
   "execution_count": 31,
   "id": "2c43239f",
   "metadata": {},
   "outputs": [
    {
     "data": {
      "text/plain": [
       "(29748, 10)"
      ]
     },
     "execution_count": 31,
     "metadata": {},
     "output_type": "execute_result"
    }
   ],
   "source": [
    "ratings.shape"
   ]
  },
  {
   "cell_type": "markdown",
   "id": "3bb997c9",
   "metadata": {},
   "source": [
    "Let's see if there are any duplicate rows - "
   ]
  },
  {
   "cell_type": "code",
   "execution_count": 32,
   "id": "c91e488c",
   "metadata": {},
   "outputs": [
    {
     "data": {
      "text/plain": [
       "(279, 10)"
      ]
     },
     "execution_count": 32,
     "metadata": {},
     "output_type": "execute_result"
    }
   ],
   "source": [
    "ratings[ratings.duplicated()].shape"
   ]
  },
  {
   "cell_type": "markdown",
   "id": "d8c18ec0",
   "metadata": {},
   "source": [
    "So there are 279 data items that have duplicate entries. These should be removed - "
   ]
  },
  {
   "cell_type": "code",
   "execution_count": 33,
   "id": "11b1aa20",
   "metadata": {},
   "outputs": [],
   "source": [
    "ratings = ratings[~(ratings.duplicated())]"
   ]
  },
  {
   "cell_type": "code",
   "execution_count": 34,
   "id": "8459ec6d",
   "metadata": {},
   "outputs": [
    {
     "data": {
      "text/plain": [
       "(29469, 10)"
      ]
     },
     "execution_count": 34,
     "metadata": {},
     "output_type": "execute_result"
    }
   ],
   "source": [
    "ratings.shape"
   ]
  },
  {
   "cell_type": "code",
   "execution_count": 35,
   "id": "9433034b",
   "metadata": {},
   "outputs": [
    {
     "data": {
      "text/plain": [
       "id                  0\n",
       "brand               0\n",
       "categories          0\n",
       "manufacturer        0\n",
       "name                0\n",
       "reviews_rating      0\n",
       "reviews_text        0\n",
       "reviews_title       0\n",
       "reviews_username    0\n",
       "user_sentiment      0\n",
       "dtype: int64"
      ]
     },
     "execution_count": 35,
     "metadata": {},
     "output_type": "execute_result"
    }
   ],
   "source": [
    "ratings.isnull().sum()"
   ]
  },
  {
   "cell_type": "markdown",
   "id": "8aefe606",
   "metadata": {},
   "source": [
    "So now we have a clean dataset with no null values and duplicate rows. "
   ]
  },
  {
   "cell_type": "code",
   "execution_count": 36,
   "id": "f0b278e0",
   "metadata": {},
   "outputs": [
    {
     "data": {
      "text/plain": [
       "1.77"
      ]
     },
     "execution_count": 36,
     "metadata": {},
     "output_type": "execute_result"
    }
   ],
   "source": [
    "percent_loss = ((ratings_orig.shape[0]-ratings.shape[0])/ratings_orig.shape[0])*100\n",
    "percent_loss"
   ]
  },
  {
   "cell_type": "markdown",
   "id": "f06927a5",
   "metadata": {},
   "source": [
    "There's very little 1.7% data loss after cleaning which is good enough."
   ]
  },
  {
   "cell_type": "markdown",
   "id": "df325fc2",
   "metadata": {},
   "source": [
    "Let's check if all the columns are of the right datatype before proceeding further in data analysis - "
   ]
  },
  {
   "cell_type": "code",
   "execution_count": 37,
   "id": "c79d9eb8",
   "metadata": {},
   "outputs": [
    {
     "data": {
      "text/plain": [
       "id                  object\n",
       "brand               object\n",
       "categories          object\n",
       "manufacturer        object\n",
       "name                object\n",
       "reviews_rating       int64\n",
       "reviews_text        object\n",
       "reviews_title       object\n",
       "reviews_username    object\n",
       "user_sentiment      object\n",
       "dtype: object"
      ]
     },
     "execution_count": 37,
     "metadata": {},
     "output_type": "execute_result"
    }
   ],
   "source": [
    "ratings.dtypes"
   ]
  },
  {
   "cell_type": "markdown",
   "id": "9272d9e8",
   "metadata": {},
   "source": [
    "All except the ratings are strings/objects which is good. Also the rating is int type which is correct. "
   ]
  },
  {
   "cell_type": "markdown",
   "id": "b21c17c3",
   "metadata": {},
   "source": [
    "Let's also make sure there are no spelling mistakes in the brands/manufacturers - "
   ]
  },
  {
   "cell_type": "code",
   "execution_count": 38,
   "id": "0f2f3b0a",
   "metadata": {},
   "outputs": [
    {
     "data": {
      "text/plain": [
       "array(['Universal Music', 'Lundberg', 'K-Y', 'J.R. Watkins', 'AMBI',\n",
       "       \"Johnson's\", 'Olay', 'Windex', 'Heinz', 'KIND', 'Pantene',\n",
       "       'Aussie', 'Disney', 'CeraVe', 'Solo Foods', 'Finish',\n",
       "       'Jake And The Neverland Pirates', 'Pearhead', 'No Brand',\n",
       "       'Neutrogena', 'Meguiars', 'Banana Boat', 'Cetaphil', 'Suave',\n",
       "       'Bumble Bee', 'Citrus Magic', 'La Tortilla Factory',\n",
       "       'Target.com Use Only', 'Sea Gull Lighting', 'The Seaweed Bath Co.',\n",
       "       'Way Basics', 'Biokleen', 'Yes to Carrots', 'Alberto VO5',\n",
       "       'Warner Bros.', 'FOX', 'Progresso', \"Herr's\", 'Hawaiian Punch',\n",
       "       'Universal Home Video', 'Holmes', 'Sony Music', \"Nature's Path\",\n",
       "       'Lite Source', 'SLOAN VALVE COMPANY', 'Nearly Natural',\n",
       "       'Toy Story', 'MaraNatha', 'Chex', 'TRESemme', 'Wagan',\n",
       "       'Creme Of Nature', 'Arrid', 'Eagle Brand', 'Pinaud',\n",
       "       'Hortense B. Hewitt', 'Canada Dry', 'Baxter of California', 'Ragu',\n",
       "       'Sabra', 'Pendaflex', \"Newman's Own Organics\",\n",
       "       'The Honest Company', 'Plano', 'Hoover', 'Stander', 'Calvin Klein',\n",
       "       'iStarUSA', 'Happy Family', \"Udi's\", 'Sony Pictures', \"Annie's\",\n",
       "       'Super PoliGrip', 'Australian Gold', 'Summit Entertainment',\n",
       "       'Hormel', 'Tai Pei', 'Clorox', 'Avery', 'Chips Deluxe', 'Orajel',\n",
       "       \"Chester's\", 'D-Con', 'Lysol', 'COOLA', \"Burt's Bees\",\n",
       "       'SC Johnson', 'Simple Green', 'Wilton', \"Mrs. Meyer's\",\n",
       "       'Cuisinart', 'Iman', 'Pioneer', 'Stonyfield', 'Bounce',\n",
       "       \"L'Oreal Paris\", 'Just For Men', 'Yosemite Home Decor', 'Kraus',\n",
       "       'Mill Creek', 'All-Bran', 'Coty', 'Axe', 'Power Crunch',\n",
       "       'INC International Concepts', 'Smead', 'Nojo', 'Sizzix',\n",
       "       'Vaseline', 'Tostitos', 'Starbucks', 'UMGD', 'RC Cola',\n",
       "       'Head & Shoulders', 'Scotty', 'Kenroy Home', 'Nielsen',\n",
       "       'Dermalogica', 'South Shore', \"Africa's Best\", 'Tramontina',\n",
       "       \"Newman's Own\", 'Carson-Dellosa Publishing', 'Home Health',\n",
       "       'J.a. Henckels', 'Kikkoman', 'Kohler', 'Gain', 'Pleasant Hearth',\n",
       "       'Warner Manufacturing', 'Cal Lighting', 'Lynk', 'Trend Lab',\n",
       "       'Plum Organics', 'Touch of Color', 'JNH Lifestyles', 'Era',\n",
       "       'Reebok', 'Delta Faucet', 'Ogx', \"Physician's Formula\",\n",
       "       'Lionsgate Home Entertainment', 'Weleda', 'Fiskars', 'Teamson',\n",
       "       'Rizzy Home', 'JLA Home', 'Tree Hut', 'Cococare',\n",
       "       'Pacific Natural Foods', 'Honeywell', 'Jergens', \"Lay's\", 'Noosa',\n",
       "       \"STACY'S\", 'Nexxus', 'Hollywood Beauty', 'Southern Enterprises',\n",
       "       'Chips Ahoy', '4C Foods', 'Caress', 'Feit',\n",
       "       'UNIVERSAL HOME ENTERTAINMENT', 'Lush Decor', 'Yes to Grapefruit',\n",
       "       'Maybelline', 'Sony', 'Clear Scalp & Hair Therapy', 'Cheetos',\n",
       "       'Bisquick', 'Warner Home Video', 'Voortman', 'Tim Holtz',\n",
       "       'Lionsgate', 'Aveeno', 'LDR', \"Ben & Jerry's\", 'Jolly Time',\n",
       "       'ANCHOR BAY', 'Maaya Home', 'Warner Music Group', 'Care Free Curl',\n",
       "       'Spam', 'Cantu', 'Vicks', 'National Mfg.', 'Shea Moisture',\n",
       "       'Hunter Fan', 'Concept Housewares', 'Walkers', 'Barielle',\n",
       "       \"Musselman's\", 'Storkcraft', 'Queen Helene', 'Bodycology',\n",
       "       'Chobani', 'Bedtime Originals', 'Brownline', \"L'oreal Paris\"],\n",
       "      dtype=object)"
      ]
     },
     "execution_count": 38,
     "metadata": {},
     "output_type": "execute_result"
    }
   ],
   "source": [
    "ratings['brand'].unique()"
   ]
  },
  {
   "cell_type": "code",
   "execution_count": 39,
   "id": "bfde1db6",
   "metadata": {},
   "outputs": [
    {
     "data": {
      "text/plain": [
       "array(['Universal Music Group / Cash Money', 'Lundberg', 'K-Y',\n",
       "       'J.R. Watkins', 'FLEMING & CO', \"Johnson's\", 'P&G', 'Windex',\n",
       "       'Heinz North America', 'Kind Fruit & Nut Bars', 'Pantene',\n",
       "       'Aussie', 'Disney/Pixar', 'CeraVe', 'Solo', 'Reckitt Benckiser',\n",
       "       'Disney', 'Pearhead', '120', 'Johnson & Johnson SLC', 'Parts',\n",
       "       'Energizer Personal Care', 'Cetaphil', 'UNILEVER', 'Bumble Bee',\n",
       "       'Citrus Magic', 'La Tortilla Fac', 'Xenon', 'Sea Gull Lighting',\n",
       "       'The Seaweed Bath', 'Way Basics', 'Biokleen Cleaners',\n",
       "       'Yes To Inc.', 'High Ridge Brands Co.', 'TIME WARNER',\n",
       "       'MGM (Video & DVD)', 'Twentieth Century Fox',\n",
       "       'GENERAL MILLS SALES, INC.', \"Herr's\", 'Dr Pepper/Seven Up, Inc',\n",
       "       'Universal', 'UNIVERSAL HOME ENTERTAINMENT',\n",
       "       'Jarden Home Environment', 'Columbia', 'Pantene Pro-V Hair Care',\n",
       "       \"Nature's Path Foods, Inc.\", 'Lite-Source', 'William H Harvey',\n",
       "       'Nearly Natural', 'Disguise', 'Maranatha Natural Foods',\n",
       "       'Hbo Home Video', 'Tresemme', 'Wagan', 'Beautyge Brands USA, Inc.',\n",
       "       'Arrid', 'Eagle Family Foods, Inc.', 'Pinaud Clubman', 'Wmu',\n",
       "       'Baxter of California', 'Unilever',\n",
       "       'SABRE SECURITY EQUIPMENT CORPORATION', 'Esselte Corporation',\n",
       "       \"Newman's Own\", 'The Honest Company', 'South Bend', 'Hoover',\n",
       "       'Stander Inc', 'Calvin Klein', 'iStarUSA', 'NURTURE INC', \"Udi's\",\n",
       "       'SONY CORP', \"Annie's Homegrown\", 'Generic', 'Warner Home Video',\n",
       "       'AUSTRALIAN GOLD PRODUCTS LTD.', 'Summit Entertainment', 'Hormel',\n",
       "       'Discovery Foods', 'Clorox', 'Avery Dennison', 'Kellogg Sales Co',\n",
       "       'Orajel', 'Frito-Lay', 'COOLA', \"Burt's Bees\", 'S C JOHNSON WAX',\n",
       "       'Sunshine Makers', 'Wilton', 'SC JOHNSON', 'CUISINART', 'Avery',\n",
       "       'IMAN', 'Lundberg Family Farms', 'Stonyfield Farm, Inc.',\n",
       "       'Allure Home', 'Bounce', \"L'OREAL SA\", 'Combe Incorporated',\n",
       "       'Yosemite Home Decor', 'Kraus', 'Mill Creek', 'Kellogg Company',\n",
       "       'Coty brands', 'Axe', 'BNRG', 'International Concepts',\n",
       "       'SMEAD MANUFACTURING CO.', 'Little Bedding', 'Sizzix', 'Starbucks',\n",
       "       'Gaither Music Group', 'Cadbury Schweppes Americas Beverages',\n",
       "       '20th Century Fox', 'Procter & Gamble Company', 'Scotty',\n",
       "       'SBME SPECIAL MKTS.', 'Kenroy Home', 'Valmont', 'Dermalogica',\n",
       "       \"L'oreal Paris\", 'DISNEY/BUENA VISTA HOME VIDEO', 'South Shore',\n",
       "       'Cheatham Chemical Co.', 'Tramontina USA Inc.',\n",
       "       \"Newman's Own, Inc.\", 'Carson-Dellosa Publishing', 'Home Health',\n",
       "       'Lite Source', 'J.A. Henckels International', 'Olay',\n",
       "       'Kikkoman Sales Usa, Inc.', 'KOHLER', \"Burt's Bees, Inc.\",\n",
       "       'GHP Group, Inc.', 'CAL Lighting', 'Lynk', 'Trend Lab',\n",
       "       'Plum Organic', 'CREATIVE CONVERTING', 'PROVIDENT',\n",
       "       'JNH Lifestyles', 'Era liquid detergent', 'Reebok',\n",
       "       'Annies Homegrown', 'Delta', 'Vogue International',\n",
       "       'Physicians Formula', 'Lions Gate', 'Weleda', 'Fiskars Brands Inc',\n",
       "       'AmazonUs/CLOO7', 'Teamson', 'American Coffee Partnership',\n",
       "       'Rizzy Rugs', 'E&E Co. Ltd', 'Naterra International',\n",
       "       'Cococare Skin Care', 'Pacific Foods of Oregon, Inc.',\n",
       "       'Kaz USA, Inc.', 'KAO USA INC', \"Lay's\", 'Unfi', 'Honeywell',\n",
       "       \"Stacy's\", \"STACY'S PITA CHIPS\", 'Tostitos',\n",
       "       'Nexxus Beauty Products', 'Hollywood Beauty Imports',\n",
       "       'Southern Enterprises', 'Nabisco Biscuit Company', 'Caress',\n",
       "       'FeitElectric', 'Universal Studios Home Entertainment',\n",
       "       'Triangle Home Fashions', 'General Mills Sales, Inc.',\n",
       "       'Yes To, Inc', 'Maybelline New York', 'Pleasant Hearth',\n",
       "       'PHASE FOUR', 'Vaseline', 'Clear', 'Test',\n",
       "       'VOORTMAN COOKIES LIMITED', 'Tonic Studios', 'Aveeno Baby', 'LDR',\n",
       "       'American Pop Corn Co.', 'Starz', 'Boraam - DROPSHIP',\n",
       "       'Broken Bow', 'Softsheen-Carson', 'Hormel Foods Corporation',\n",
       "       'Smead', 'Cantu Shea Butter', 'Walt Disney', 'Walt Disney Records',\n",
       "       'Stanley Hardware', 'SheaMoisture', 'Arc Abrasives',\n",
       "       'Group5 Mktg/Concept Housewares', 'KeHE Distributors', 'Barielle',\n",
       "       'Knouse Foods Inc', '1200', 'Queen Helene Skin Cream, Lotion',\n",
       "       'Advanced Beauty', 'Chooka', 'Meguiars', 'Lambs and Ivy Inc',\n",
       "       'Capitol', 'Mrs. Meyers'], dtype=object)"
      ]
     },
     "execution_count": 39,
     "metadata": {},
     "output_type": "execute_result"
    }
   ],
   "source": [
    "ratings['manufacturer'].unique()"
   ]
  },
  {
   "cell_type": "code",
   "execution_count": 40,
   "id": "dda0b558",
   "metadata": {},
   "outputs": [
    {
     "data": {
      "text/plain": [
       "array(['Pink Friday: Roman Reloaded Re-Up (w/dvd)',\n",
       "       'Lundberg Organic Cinnamon Toast Rice Cakes',\n",
       "       'K-Y Love Sensuality Pleasure Gel',\n",
       "       'J.R. Watkins Hand Cream, Lemon Cream',\n",
       "       'Ambi Complexion Cleansing Bar',\n",
       "       \"Johnson's Baby Bubble Bath and Wash, 15oz\",\n",
       "       'Olay Regenerist Deep Hydration Regenerating Cream',\n",
       "       'Windex Original Glass Cleaner Refill 67.6oz (2 Liter)',\n",
       "       'Heinz Tomato Ketchup, 38oz',\n",
       "       'Kind Dark Chocolate Chunk Gluten Free Granola Bars - 5 Count',\n",
       "       'Pantene Color Preserve Volume Shampoo, 25.4oz',\n",
       "       'Aussie Aussome Volume Shampoo, 13.5 Oz',\n",
       "       \"Cars Toon: Mater's Tall Tales\", 'CeraVe SA Renewing Cream',\n",
       "       'Solo Foods Almond Paste',\n",
       "       'Finish Quantum Dishwasher Detergent, Lemon Sparkle Scent, 45 Count',\n",
       "       'Disney174 Jake And The Neverland Pirates 4 Piece Bedding Set - Toddler',\n",
       "       'Pearhead Id Bracelet Frame',\n",
       "       'Craft Punch Giga Scallop Circle 45 24687534 To 334',\n",
       "       'Neutrogena Wet Skin Sunscreen Spray Broad Spectrum SPF 50, 5oz',\n",
       "       \"Meguiar's Deep Crystal Car Wash 64-Oz.\",\n",
       "       'Banana Boat Sunless Summer Color Self Tanning Lotion, Light To Medium',\n",
       "       'Cetaphil Gentle Skin Cleanser, 2oz',\n",
       "       'Suave Professionals Hair Conditioner, Sleek',\n",
       "       'Bumble Bee Solid White Albacore In Water - 5 Oz',\n",
       "       'Citrus Magic Instant Spot & Stain Remover',\n",
       "       'La Tortilla Factory Hand Made Style Tortillas Flour',\n",
       "       \"Black Sister's Revenge (dvd)\",\n",
       "       'Sea Gull Lighting Six Light Bath Sconce/vanity - Brushed Nickel',\n",
       "       'The Seaweed Bath Co. Argan Conditioner, Smoothing Citrus',\n",
       "       'Way Basics 3-Shelf Eco Narrow Bookcase Storage Shelf, Espresso - Formaldehyde Free - Lifetime Guarantee',\n",
       "       'Bi-O-kleen Spray & Wipe All Purpose Cleaner',\n",
       "       'Yes To Carrots Nourishing Body Wash',\n",
       "       'Alberto VO5 Salon Series Smooth Plus Sleek Shampoo',\n",
       "       'Dark Shadows (includes Digital Copy) (ultraviolet) (dvdvideo)',\n",
       "       'Clambake (dvd)', 'Mike Dave Need Wedding Dates (dvd + Digital)',\n",
       "       'Sea Gull Lighting Ceiling Fan - White',\n",
       "       'Progresso Traditional Meatball & Rice Soup',\n",
       "       \"Herr's Baked Cheese Curls\",\n",
       "       'Hawaiian Punch Berry Limeade Blast Juice',\n",
       "       'My Big Fat Greek Wedding 2 (blu-Ray + Dvd + Digital)',\n",
       "       'King Ralph (dvd)',\n",
       "       'Holmes174 Personal Indoor Heater W/ Manual Controls White 1500w Hfh131-N',\n",
       "       'The Script - No Sound Without Silence (cd)',\n",
       "       'Pantene Pro-V Expert Collection Age Defy Conditioner',\n",
       "       \"Nature's Path Flax Plus Maple Pecan Crunch Cereal\",\n",
       "       'Lite Source Basic Ii 1-Lt Floor Lamp - Dark Bronze',\n",
       "       'Sloan Royal Urinal Flush Valve, 1.0 Gpf, Royal 186-1',\n",
       "       'Sunflower Swag With Metal Frame - Nearly Natural',\n",
       "       \"Toy Story Kids' Woody Accessory Kit\",\n",
       "       'Maranatha No Stir Raw Maple Almond Butter',\n",
       "       'Chex Muddy Buddies Brownie Supreme Snack Mix',\n",
       "       'Sopranos:Season 6 Part 1 (blu-Ray)',\n",
       "       'Tresemme Kertatin Smooth Infusing Conditioning',\n",
       "       'Wagan Smartac 80watt Inverter With Usb',\n",
       "       'Creme Of Nature Intensive Conditioning Treatment, 32',\n",
       "       'Arrid Extra Dry Anti-Perspirant Deodorant Spray Regular',\n",
       "       'Eagle Fat Free Sweetened Condensed Milk',\n",
       "       'Pinaud Clubman Styling Gel, Superhold',\n",
       "       'Wedding Wishes Wedding Guest Book',\n",
       "       'Diet Canada Dry Ginger Ale - 12pk/12 Fl Oz Cans',\n",
       "       'Baxter Of California Cream Pomade',\n",
       "       'Ragu Roasted Garlic Parmesan Pasta Sauce',\n",
       "       'Sabre 2 Pack Door And Window Alarm',\n",
       "       'Pendaflex174 Divide It Up File Folder, Multi Section, Letter, Assorted, 12/pack',\n",
       "       \"Newman's Own Organics Licorice Twist, Black 5oz\",\n",
       "       'The Honest Company Laundry Detergent',\n",
       "       'Plano Mini-Magnum 13-Compartment Tackle Box',\n",
       "       'Hoover174 Platinum Collection153 Lightweight Bagged Upright Vacuum With Canister - Uh30010com',\n",
       "       'Stander Pt Bedcane - Bed Handle',\n",
       "       'Calvin Klein Secret Obsession Eau De Parfum',\n",
       "       'Wallmount Server Cabinet (450mm, 9 RU)',\n",
       "       'Happy Tot Apple and Butternut Squash', \"Udi's Pepperoni Pizza\",\n",
       "       'The Resident Evil Collection 5 Discs (blu-Ray)',\n",
       "       \"Annie's Homegrown Gluten Free Double Chocolate Chip Granola Bars\",\n",
       "       'Super Poligrip Denture Adhesive Cream, Ultra Fresh - 2.4 Oz',\n",
       "       \"Nearly Natural 5.5' Bamboo W/decorative Planter\",\n",
       "       '100:Complete First Season (blu-Ray)',\n",
       "       'Australian Gold Exotic Blend Lotion, SPF 4',\n",
       "       'Red (special Edition) (dvdvideo)', 'Hormel Chili, No Beans',\n",
       "       'Tai Pei Sweet & Sour Chicken',\n",
       "       'Clorox Disinfecting Wipes Value Pack Scented 150 Ct Total',\n",
       "       'Avery174 Ready Index Contemporary Table Of Contents Divider, 1-8, Multi, Letter',\n",
       "       \"Chips Deluxe Soft 'n Chewy Cookies\",\n",
       "       'Orajel Maximum Strength Toothache Pain Relief Liquid',\n",
       "       \"Chester's Cheese Flavored Puffcorn Snacks\",\n",
       "       'D-Con Mice Bait Station - 3ct',\n",
       "       'Lysol Concentrate Deodorizing Cleaner, Original Scent',\n",
       "       'Coola Organic Sunscreen Classic Face Cucumber SPF 30',\n",
       "       \"Burt's Bees Lip Shimmer, Raisin\",\n",
       "       'SC Johnson One Step No Buff Wax',\n",
       "       'Simple Green All-Purpose Cleaner, 16oz',\n",
       "       'Wilton Black Dots Standard Baking Cups',\n",
       "       \"Mrs. Meyer's174 Lemon Verbena Laundry Scent Booster - 18oz\",\n",
       "       'Cuisinart174 Electric Juicer - Stainless Steel Cje-1000',\n",
       "       'Avery174 11-1/4 X 9-1/4 Index Maker Extra Wide Label Dividers With 5 Tab - Clear (5 Sets Per Pack)',\n",
       "       'Iman Second To None Stick Foundation, Clay 1',\n",
       "       'Romantic Drama: Greatest Classic Films Collection 2 Discs',\n",
       "       'Lundberg Wehani Rice, 25lb',\n",
       "       'Post Bound Jumbo Album - Burgundy (11x14)',\n",
       "       'Stonyfield Yobaby Peach & Pear Yogurt 4oz 6 Ct',\n",
       "       'Charcoal Stone Toothbrush Holder Gray',\n",
       "       'Bounce Dryer Sheets, Fresh Linen, 160 sheets',\n",
       "       \"L'oreal Paris Visible Lift Smooth Absolute, Natural Buff\",\n",
       "       'Just For Men Touch Of Gray Gray Hair Treatment, Black T-55',\n",
       "       'Pocket Watch Wall Clock Distressed Black - Yosemite Home Decor174',\n",
       "       'Kraus FVS-1007 Single Hole Vessel Bathroom Faucet from the Ramus Collection',\n",
       "       'Mill Creek Aloe Vera & Paba Lotion',\n",
       "       'All,bran Complete Wheat Flakes, 18 Oz.',\n",
       "       'Clorox Ultimate Care Premium Bleach',\n",
       "       'Coty Airspun Face Powder, Translucent Extra Coverage',\n",
       "       'Axe Dry Anti-Perspirant Deodorant Invisible Solid Phoenix',\n",
       "       'Power Crunch Protein Energy Bar Peanut Butter Creme Original',\n",
       "       '42 Dual Drop Leaf Table with 2 Madrid Chairs\"',\n",
       "       'Smead174 Recycled Letter Size Manila File Backs W/prong Fasteners, 2 Capacity, 100/box',\n",
       "       'Nearly Natural Pothos Ledge Plant (set On Foam) Silk Plant',\n",
       "       'Little Bedding By Nojo Jungle Dreams 2 Pack Sheet Set',\n",
       "       'Sizzix Framelits Dies 1by Tim Holtz Bird Crazy-Silver Asst Sizes',\n",
       "       'Vaseline Intensive Care Lip Therapy Cocoa Butter',\n",
       "       'Tostitos Simply Blue Corn Tortilla Chips',\n",
       "       'Starbucks153 Doubleshot Protein Coffee - 11 Fl Oz',\n",
       "       'Bill Glor Gaither - Church In The Wildwood (cd)', 'RC Cola, 12oz',\n",
       "       \"There's Something About Mary (dvd)\",\n",
       "       'Head & Shoulders Dandruff Shampoo Ocean Lift 2 In 1',\n",
       "       'Scotty Mini Double Ended Extender',\n",
       "       'Elvis Presley - Girl Happy (cd)',\n",
       "       'Kenroy Home Table Lamp - Chrome',\n",
       "       'Black Front Loading Frame Set (8.5x11) Set Of 12',\n",
       "       'Dermalogica Special Cleansing Gel, 8.4oz',\n",
       "       \"L'oreal Paris Colour Caresse Wet Shine Stain, Pink Resistance\",\n",
       "       'Doc Mcstuffins: Friendship Is The Best Medicine',\n",
       "       'Smead174 3-In-1 Supertab Section Folders, 1/3 Cut Top Tab, Letter, Assorted, 12/pack',\n",
       "       'Bilbao Nightstand Gray Oak - South Shore',\n",
       "       \"Africa's Best No-Lye Dual Conditioning Relaxer System Super\",\n",
       "       'Tramontina Ceramica 10 Piece Cookware Set - Red',\n",
       "       \"Newman's Own Balsamic Vinaigrette, 16.0oz\",\n",
       "       'Carson-Dellosa Publishing Photographic Learning Cards Boxed Set, Nouns/verbs/adjectives, Grades K-12',\n",
       "       'Home Health Hairever Shampoo',\n",
       "       'Lite Source Reiko 1 Light Table Lamp - Orange',\n",
       "       'J.a. Henckels International 4-Pc Everedge Plus Steak Knife Set',\n",
       "       'Olay Moisturizing Lotion For Sensitive Skin',\n",
       "       'Kikkoman Soy Sauce, 5fl oz',\n",
       "       'Kohler 10280-4 Fort Bath Spout With Sculpted Lift Rod and 1/2-in NPT Connection',\n",
       "       'Gain Original Scent Liquid Fabric Softener 129 Oz',\n",
       "       \"Burt's Bees Lip Shimmer, Watermelon\",\n",
       "       'Pleasant Hearth Diamond Fireplace Screen - Espresso',\n",
       "       'Scooby Doo And The Loch Ness Monster (blu-Ray)',\n",
       "       'Cal Lighting Led Dark Bronze Finish Metal Piano Lamp',\n",
       "       'Lynk Professional174 Pull Out Cutting Board Bakeware Sliding Cabinet Organizer',\n",
       "       'Trend Lab Park Nursing Cover - Paisley',\n",
       "       \"L'oreal Paris Advanced Hairstyle Boost It High Lift Creation Spray\",\n",
       "       'Plum Organics Just Prunes', 'Candy Pink Plastic Cups, 20 pk',\n",
       "       \"Various - Country's Greatest Gospel:Gold Ed (cd)\",\n",
       "       'JNH Lifestyles Goldstar 3 Person FAR Infrared Sauna',\n",
       "       '2x Ultra Era with Oxi Booster, 50fl oz',\n",
       "       'Reebok Classic Leather Running Shoes - White (Men)',\n",
       "       \"Annie's Homegrown Deluxe Elbows & Four Cheese Sauce\",\n",
       "       'Delta Single Handle Shower Faucet',\n",
       "       'Ogx Conditioner, Hydrating Teatree Mint',\n",
       "       'Physicians Formula Mineral Wear Talc-Free Mineral Correcting Powder, Creamy Natural',\n",
       "       'Equals (blu-Ray)', 'Weleda Everon Lip Balm',\n",
       "       'Fiskars174 Classic Stick Rotary Cutter (45 Mm)',\n",
       "       'Clorox Disinfecting Bathroom Cleaner',\n",
       "       \"Fantasy Fields Lil' Sports Fan Step Stool - Teamson\",\n",
       "       'Starbucks Iced Expresso Classics Vanilla Latte Coffee Beverage - 40oz',\n",
       "       'Head & Shoulders Classic Clean Conditioner',\n",
       "       'Blue Anchor Design Throw Pillow (18x18) - Rizzy Home',\n",
       "       'Kendall Comforter And Sheet Set (twin) Aqua - 7pc',\n",
       "       'Tree Hut Shea Body Butters, Coconut Lime, 7 oz',\n",
       "       'Cococare 100% Natural Castor Oil',\n",
       "       'Pacific Natural Foods Organic Beef Broth',\n",
       "       'Honeywell Heatbud Ceramic Heater Black',\n",
       "       'Jergens Extra Moisturizing Liquid Hand Wash, 7.5oz',\n",
       "       \"Lay's Salt & Vinegar Flavored Potato Chips\", 'Noosa Honey Yogurt',\n",
       "       '0.6 Cu. Ft. Letter A4 Size Waterproof 30 Min. Fire File Chest',\n",
       "       'If A Man Answers (dvd)',\n",
       "       'Pleasant Hearth 1,800 sq ft Wood Burning Stove with Blower, Medium, LWS-127201',\n",
       "       \"Stacy's Simply Naked Bagel Chips\",\n",
       "       \"Stacy's Garden Veggie Medley Pita Chips\",\n",
       "       'Tostitos Bite Size Tortilla Chips',\n",
       "       'Nexxus Exxtra Gel Style Creation Sculptor',\n",
       "       'Hollywood Beauty Olive Cholesterol',\n",
       "       'Southern Enterprises Archer Fold-Away Home Bar in Walnut',\n",
       "       'Chips Ahoy! Original Chocolate Chip - Cookies - Family Size 18.2oz',\n",
       "       '4C Grated Parmesan Cheese 100% Natural 8oz Shaker',\n",
       "       'Caress Moisturizing Body Bar Natural Silk, 4.75oz',\n",
       "       'Feit 60-Watt A19 Gu24 Base Led Light Bulb - Soft White',\n",
       "       'Heiress (dvd)', 'Mia Shower Curtain Green/brown - Lush Decor174',\n",
       "       'Progresso Traditional Chicken Tuscany Soup',\n",
       "       'Yes To Grapefruit Rejuvenating Body Wash',\n",
       "       'Progresso Light Vegetable & Noodle Soup',\n",
       "       'Maybelline Clean Express! Makeup Removing Lotion',\n",
       "       'Physicians Formula Powder Palette Mineral Glow Pearls, Translucent Pearl',\n",
       "       'Pleasant Hearth 7.5 Steel Grate, 30 5 Bar - Black',\n",
       "       'Switchmas (dvd)',\n",
       "       'Vaseline Intensive Care Healthy Hands Stronger Nails',\n",
       "       'Solo Foods Poppy Seed Cake and Pastry Filling',\n",
       "       'Alex Cross (dvdvideo)',\n",
       "       'Clear Scalp & Hair Therapy Total Care Nourishing Shampoo',\n",
       "       'Progresso Traditional Chicken Rice With Vegetables Soup',\n",
       "       \"Cheetos Crunchy Flamin' Hot Cheese Flavored Snacks\",\n",
       "       'Bisquick Original Pancake And Baking Mix - 40oz',\n",
       "       'Godzilla 3d Includes Digital Copy Ultraviolet 3d/2d Blu-Ray/dvd',\n",
       "       'Voortman Sugar Free Fudge Chocolate Chip Cookies',\n",
       "       'Finish Gelpacs Dishwasher Detergent, Orange Scent, 84ct',\n",
       "       'Tim Holtz Retractable Craft Pick-Red 6x.5',\n",
       "       'Ragu Traditional Pasta Sauce',\n",
       "       \"Stargate (ws) (ultimate Edition) (director's Cut) (dvdvideo)\",\n",
       "       'Iman Luxury Moisturizing Lipstick, Black Brandy 006',\n",
       "       'Aveeno Baby Continuous Protection Lotion Sunscreen with Broad Spectrum SPF 55, 4oz',\n",
       "       '5302050 15/16 FCT/HOSE ADAPTOR',\n",
       "       \"Ben & Jerry's Coffee, Coffee Buzzbuzzbuzz! Ice Cream, Pint\",\n",
       "       'Jolly Time Select Premium Yellow Pop Corn',\n",
       "       'Leslie Sansone:Belly Blasting Walk (dvd)',\n",
       "       'Boraam Sonoma Kitchen Cart With Wire Brush Gray - Maaya Home',\n",
       "       \"Jason Aldean - They Don't Know\",\n",
       "       'Ogx Anti-breakage Keratin Oil 3 Minute Miraculous Recovery',\n",
       "       \"Meguiar's Ultimate Quik Detailer 22-Oz.\",\n",
       "       'Care Free Curl Gold Instant Activator', 'Spam Single Classic',\n",
       "       'Smead174 2 1/4 Inch Accordion Expansion Wallet, Poly, Letter, Translucent Green',\n",
       "       'Cantu Coconut Milk Shine Hold Mist - 8oz',\n",
       "       'Vicks Vaporub, Regular, 3.53oz',\n",
       "       'Planes: Fire Rescue (2 Discs) (includes Digital Copy) (blu-Ray/dvd)',\n",
       "       'Various Artists - Choo Choo Soul (cd)',\n",
       "       'High-Dome Floor Door Stop',\n",
       "       'Shea Moisture Mango & Carrot Kids Extra-Nourishing Conditioner, 8fl Oz',\n",
       "       'Ceiling Fan With Light White 14.2 X 29.9 X 9.2 - Hunter Fan',\n",
       "       'Concept Housewares 36 Natural Wood ceiling mounted pot rack',\n",
       "       'Tostitos Original Restaurant Style Tortilla Chips',\n",
       "       'Walkers Stem Ginger Shortbread',\n",
       "       'Barielle Nail Rebuilding Protein',\n",
       "       'Musselman Apple Sauce, Cinnamon, 48oz',\n",
       "       'Storkcraft Tuscany Glider and Ottoman, Beige Cushions, Espresso Finish',\n",
       "       'Queen Helene Cocoa Butter Solid',\n",
       "       'Bodycology Nourishing Body Cream, Pretty In Paris',\n",
       "       'Sea Gull Lighting Holman One Light Wall/bath Sconce - Brushed Nickel',\n",
       "       'Chobani174 Strawberry On The Bottom Non-Fat Greek Yogurt - 5.3oz',\n",
       "       'Meguiars Interior Detailer Wipes 25ct',\n",
       "       'Bedtime Originals Pinkie Musical Mobile',\n",
       "       'Various - Red Hot Blue:Tribute To Cole Porter (cd)',\n",
       "       '2017-2018 Brownline174 Duraflex 14-Month Planner 8 1/2 X 11 Black',\n",
       "       \"Mrs. Meyer's Lemon Verbena Surface Scrub\",\n",
       "       \"L'or233al Paris Elvive Extraordinary Clay Rebalancing Conditioner - 12.6 Fl Oz\"],\n",
       "      dtype=object)"
      ]
     },
     "execution_count": 40,
     "metadata": {},
     "output_type": "execute_result"
    }
   ],
   "source": [
    "ratings['name'].unique()"
   ]
  },
  {
   "cell_type": "markdown",
   "id": "6d1f408b",
   "metadata": {},
   "source": [
    "There seems to be a product name - \"L'or233al Paris Elvive Extraordinary Clay Rebalancing Conditioner - 12.6 Fl Oz\"] which is basically a L'oreal product but not named correctly. Let's correct all products with this faulty name - "
   ]
  },
  {
   "cell_type": "code",
   "execution_count": 41,
   "id": "2f33f62d",
   "metadata": {},
   "outputs": [],
   "source": [
    "def extract(string):\n",
    "    pattern = \"^L'or[0-9]+al\"\n",
    "    if(re.search(pattern, string)):\n",
    "        return string\n",
    "    else:\n",
    "        return False"
   ]
  },
  {
   "cell_type": "code",
   "execution_count": 42,
   "id": "2adf52fb",
   "metadata": {},
   "outputs": [
    {
     "data": {
      "text/plain": [
       "28814    L'or233al Paris Elvive Extraordinary Clay Rebalancing Conditioner - 12.6 Fl Oz\n",
       "28815    L'or233al Paris Elvive Extraordinary Clay Rebalancing Conditioner - 12.6 Fl Oz\n",
       "28816    L'or233al Paris Elvive Extraordinary Clay Rebalancing Conditioner - 12.6 Fl Oz\n",
       "28817    L'or233al Paris Elvive Extraordinary Clay Rebalancing Conditioner - 12.6 Fl Oz\n",
       "28818    L'or233al Paris Elvive Extraordinary Clay Rebalancing Conditioner - 12.6 Fl Oz\n",
       "                                              ...                                      \n",
       "29995    L'or233al Paris Elvive Extraordinary Clay Rebalancing Conditioner - 12.6 Fl Oz\n",
       "29996    L'or233al Paris Elvive Extraordinary Clay Rebalancing Conditioner - 12.6 Fl Oz\n",
       "29997    L'or233al Paris Elvive Extraordinary Clay Rebalancing Conditioner - 12.6 Fl Oz\n",
       "29998    L'or233al Paris Elvive Extraordinary Clay Rebalancing Conditioner - 12.6 Fl Oz\n",
       "29999    L'or233al Paris Elvive Extraordinary Clay Rebalancing Conditioner - 12.6 Fl Oz\n",
       "Name: name, Length: 1118, dtype: object"
      ]
     },
     "execution_count": 42,
     "metadata": {},
     "output_type": "execute_result"
    }
   ],
   "source": [
    "ratings[ratings['name'] == ratings['name'].apply(lambda x:extract(x))]['name']"
   ]
  },
  {
   "cell_type": "markdown",
   "id": "a832a66b",
   "metadata": {},
   "source": [
    "So there are 1118 rows which are faulty. Let's correct them - "
   ]
  },
  {
   "cell_type": "code",
   "execution_count": 43,
   "id": "89be5611",
   "metadata": {},
   "outputs": [
    {
     "name": "stderr",
     "output_type": "stream",
     "text": [
      "<ipython-input-43-7f4b5f370bef>:1: FutureWarning: The default value of regex will change from True to False in a future version.\n",
      "  ratings.loc[ratings['name'] == ratings['name'].apply(lambda x:extract(x)),'name'] = ratings.loc[ratings['name'] == ratings['name'].apply(lambda x:extract(x)),'name'].str.replace('^L\\'or[0-9]+al', 'L\\'oreal')\n"
     ]
    }
   ],
   "source": [
    "ratings.loc[ratings['name'] == ratings['name'].apply(lambda x:extract(x)),'name'] = ratings.loc[ratings['name'] == ratings['name'].apply(lambda x:extract(x)),'name'].str.replace('^L\\'or[0-9]+al', 'L\\'oreal') "
   ]
  },
  {
   "cell_type": "markdown",
   "id": "e8200813",
   "metadata": {},
   "source": [
    "Now let's make sure the changes have been made - "
   ]
  },
  {
   "cell_type": "code",
   "execution_count": 44,
   "id": "aaff2475",
   "metadata": {},
   "outputs": [
    {
     "data": {
      "text/plain": [
       "Series([], Name: name, dtype: object)"
      ]
     },
     "execution_count": 44,
     "metadata": {},
     "output_type": "execute_result"
    }
   ],
   "source": [
    "ratings[ratings['name'] == ratings['name'].apply(lambda x:extract(x))]['name']"
   ]
  },
  {
   "cell_type": "markdown",
   "id": "3403350f",
   "metadata": {},
   "source": [
    "There is no faulty name anymore. "
   ]
  },
  {
   "cell_type": "markdown",
   "id": "6b7c8804",
   "metadata": {},
   "source": [
    "Now that the data is clean, spell corrected let's do some EDA"
   ]
  },
  {
   "cell_type": "markdown",
   "id": "d4464f9e",
   "metadata": {},
   "source": [
    "## Exploratory Data Analysis"
   ]
  },
  {
   "cell_type": "code",
   "execution_count": 45,
   "id": "9fae09ca",
   "metadata": {},
   "outputs": [
    {
     "data": {
      "text/plain": [
       "(29469, 10)"
      ]
     },
     "execution_count": 45,
     "metadata": {},
     "output_type": "execute_result"
    }
   ],
   "source": [
    "ratings.shape"
   ]
  },
  {
   "cell_type": "code",
   "execution_count": 46,
   "id": "8e26625d",
   "metadata": {},
   "outputs": [
    {
     "data": {
      "text/plain": [
       "Index(['id', 'brand', 'categories', 'manufacturer', 'name', 'reviews_rating',\n",
       "       'reviews_text', 'reviews_title', 'reviews_username', 'user_sentiment'],\n",
       "      dtype='object')"
      ]
     },
     "execution_count": 46,
     "metadata": {},
     "output_type": "execute_result"
    }
   ],
   "source": [
    "ratings.columns"
   ]
  },
  {
   "cell_type": "code",
   "execution_count": 47,
   "id": "181dccc2",
   "metadata": {},
   "outputs": [],
   "source": [
    "def data_info(x):\n",
    "    print(ratings[x].value_counts())\n",
    "    ratings[x].value_counts().plot(kind='bar')        "
   ]
  },
  {
   "cell_type": "code",
   "execution_count": 48,
   "id": "cda0cf97",
   "metadata": {},
   "outputs": [
    {
     "name": "stdout",
     "output_type": "stream",
     "text": [
      "Stats for column : id\n",
      "AVpf3VOfilAPnD_xjpun    8396\n",
      "AVpfPaoqLJeJML435Xk9    3324\n",
      "AVpfJP1C1cnluZ0-e3Xy    2022\n",
      "AVpfRTh1ilAPnD_xYic2    1140\n",
      "AVpfW8y_LJeJML437ySW    1118\n",
      "                        ... \n",
      "AVpfKa3uilAPnD_xWSGx       1\n",
      "AVpfP-rELJeJML435jEN       1\n",
      "AV2Avn5dGV-KLJ3alTjq       1\n",
      "AVpe-MCY1cnluZ0-bCv_       1\n",
      "AV1YnUMYglJLPUi8IJpK       1\n",
      "Name: id, Length: 252, dtype: int64\n",
      "\n",
      "\n",
      "Stats for column : brand\n",
      "Clorox               10419\n",
      "Warner Home Video     3324\n",
      "Disney                1197\n",
      "L'oreal Paris         1118\n",
      "FOX                    887\n",
      "                     ...  \n",
      "Udi's                    1\n",
      "Pearhead                 1\n",
      "Kenroy Home              1\n",
      "Scotty                   1\n",
      "LDR                      1\n",
      "Name: brand, Length: 199, dtype: int64\n",
      "\n",
      "\n",
      "Stats for column : categories\n",
      "Household Essentials,Cleaning Supplies,Kitchen Cleaners,Cleaning Wipes,All-Purpose Cleaners,Health & Household,Household Supplies,Household Cleaning,Ways To Shop,Classroom Essentials,Featured Brands,Home And Storage & Org,Clorox,Glass Cleaners,Surface Care & Protection,Business & Industrial,Cleaning & Janitorial Supplies,Cleaners & Disinfectants,Cleaning Wipes & Pads,Cleaning Solutions,Housewares,Target Restock,Food & Grocery,Paper Goods,Wipes,All Purpose Cleaners    8396\n",
      "Movies, Music & Books,Movies,Action & Adventure,Movies & Music,Movies & TV Shows,Frys                                                                                                                                                                                                                                                                                                                                                                                                   3324\n",
      "Household Chemicals,Household Cleaners,Bath & Shower Cleaner,Household Essentials,Cleaning Supplies,Bathroom Cleaners,Prime Pantry,Bathroom,Featured Brands,Home And Storage & Org,Clorox,All-purpose Cleaners,Health & Household,Household Supplies,Household Cleaning,Target Restock,Food & Grocery                                                                                                                                                                                   2022\n",
      "Movies, Music & Books,Movies,Kids' & Family,Ways To Shop Entertainment,Movies & Tv On Blu-Ray,Movies & TV,Disney,Blu-ray,Children & Family,Movies & Music,Movies & TV Shows,Electronics, Tech Toys, Movies, Music,Blu-Rays,See ALL Blu-Ray,Frys                                                                                                                                                                                                                                         1140\n",
      "Beauty,Hair Care,Shampoo & Conditioner,Holiday Shop,Christmas,Featured Brands,Health & Beauty,L'oreal,Personal Care,Hair Treatments,Conditioner                                                                                                                                                                                                                                                                                                                                         1118\n",
      "                                                                                                                                                                                                                                                                                                                                                                                                                                                                                        ... \n",
      "Furniture,Kitchen & Dining Furniture,Bars & Bar Cabinets,Wine Racks,Home                                                                                                                                                                                                                                                                                                                                                                                                                   1\n",
      "Home,Home Decor,Lamps & Lighting,Table Lamps,Desk Lamps,Decor,Lamps                                                                                                                                                                                                                                                                                                                                                                                                                        1\n",
      "Food,Packaged Foods,Condiments, Dips, & Salad Dressings,Ketchup,Food & Beverage,Meal Solutions, Grains & Pasta,Condiments & Salad Dressing,Featured Brands,Grocery & Gourmet Food,Condiments & Salad Dressings,Grocery,Heinz,Food & Grocery,General Grocery,Marinades & Sauces                                                                                                                                                                                                             1\n",
      "Gift Finder,Gifts For Baby,Baby,Nursery,Baby Decor,Home,Home Decor,Frames & Display Boxes,Frames,Holiday Shop,Mother's Day,Keepsakes,Jewelry,Bracelets,Keepsakes & Baby Announcements,Baby Picture Frames,Keepsake Frames                                                                                                                                                                                                                                                                  1\n",
      "Home,Home Decor,Lamps & Lighting,Table Lamps,Decor,Lighting & Light Fixtures,Lamps                                                                                                                                                                                                                                                                                                                                                                                                         1\n",
      "Name: categories, Length: 252, dtype: int64\n",
      "\n",
      "\n",
      "Stats for column : manufacturer\n",
      "Clorox                 8397\n",
      "Test                   3324\n",
      "AmazonUs/CLOO7         2022\n",
      "L'oreal Paris          1164\n",
      "Walt Disney            1140\n",
      "                       ... \n",
      "PROVIDENT                 1\n",
      "Advanced Beauty           1\n",
      "Yosemite Home Decor       1\n",
      "SBME SPECIAL MKTS.        1\n",
      "Disney                    1\n",
      "Name: manufacturer, Length: 213, dtype: int64\n",
      "\n",
      "\n",
      "Stats for column : name\n",
      "Clorox Disinfecting Wipes Value Pack Scented 150 Ct Total                       8396\n",
      "Godzilla 3d Includes Digital Copy Ultraviolet 3d/2d Blu-Ray/dvd                 3324\n",
      "Clorox Disinfecting Bathroom Cleaner                                            2022\n",
      "Planes: Fire Rescue (2 Discs) (includes Digital Copy) (blu-Ray/dvd)             1140\n",
      "L'oreal Paris Elvive Extraordinary Clay Rebalancing Conditioner - 12.6 Fl Oz    1118\n",
      "                                                                                ... \n",
      "Scotty Mini Double Ended Extender                                                  1\n",
      "Stonyfield Yobaby Peach & Pear Yogurt 4oz 6 Ct                                     1\n",
      "Pearhead Id Bracelet Frame                                                         1\n",
      "Heinz Tomato Ketchup, 38oz                                                         1\n",
      "Pacific Natural Foods Organic Beef Broth                                           1\n",
      "Name: name, Length: 252, dtype: int64\n",
      "\n",
      "\n",
      "Stats for column : reviews_rating\n",
      "5    20495\n",
      "4     5920\n",
      "1     1337\n",
      "3     1316\n",
      "2      401\n",
      "Name: reviews_rating, dtype: int64\n",
      "\n",
      "\n",
      "Stats for column : reviews_text\n",
      "Good                                                                                                                                                                                                                                                                                                                                                                                        16\n",
      "Great                                                                                                                                                                                                                                                                                                                                                                                       16\n",
      "good                                                                                                                                                                                                                                                                                                                                                                                        12\n",
      "Great product                                                                                                                                                                                                                                                                                                                                                                                9\n",
      "great product                                                                                                                                                                                                                                                                                                                                                                                6\n",
      "                                                                                                                                                                                                                                                                                                                                                                                            ..\n",
      "Loved the movie better deal then Target. Great like the first one.                                                                                                                                                                                                                                                                                                                           1\n",
      "I like the Age Defying products and will use it again. I do not see a 2 in 1 shampoo/conditioner and hope they will have it soon. This review was collected as part of a promotion.                                                                                                                                                                                                          1\n",
      "This was a funny comedic movie with good performances through out                                                                                                                                                                                                                                                                                                                            1\n",
      "I am so thankful I had this product because recently I had a severe infection and nerve exposed in the same tooth. The Orajel Maximum Strength liquid numbed the pain and made it tolerable to get through until I could be seen at urgent care. This review was collected as part of a promotion.                                                                                           1\n",
      "This movie is by no account a perfect movie, but given that it is a fun movie to watch. The acting is over the top and so are the effects, but in the end you will enjoy it as long as you go in just thinking of it as just a fun watch. As the series progresses the movies get crazier and crazier but it comes with territory. Just sit back and enjoy yourself don't think to much!     1\n",
      "Name: reviews_text, Length: 27042, dtype: int64\n"
     ]
    },
    {
     "name": "stdout",
     "output_type": "stream",
     "text": [
      "\n",
      "\n",
      "Stats for column : reviews_title\n",
      "Great Product                   369\n",
      "Great movie                     361\n",
      "Clorox Wipes                    269\n",
      "Great                           216\n",
      "Great product                   205\n",
      "                               ... \n",
      "GREAT for Families on the Go      1\n",
      "Disinfects Everything             1\n",
      "awesome album                     1\n",
      "Wrong for me                      1\n",
      "Shampoo Is the Best               1\n",
      "Name: reviews_title, Length: 18490, dtype: int64\n",
      "\n",
      "\n",
      "Stats for column : reviews_username\n",
      "byamazon customer    41\n",
      "mike                 41\n",
      "chris                31\n",
      "sandy                15\n",
      "rick                 15\n",
      "                     ..\n",
      "tallen                1\n",
      "cleanse               1\n",
      "spam0ni               1\n",
      "agard617              1\n",
      "am2lady               1\n",
      "Name: reviews_username, Length: 24788, dtype: int64\n",
      "\n",
      "\n",
      "Stats for column : user_sentiment\n",
      "Positive    26163\n",
      "Negative     3306\n",
      "Name: user_sentiment, dtype: int64\n",
      "\n",
      "\n"
     ]
    },
    {
     "data": {
      "image/png": "[encoded data removed]",
      "text/plain": [
       "<Figure size 432x288 with 1 Axes>"
      ]
     },
     "metadata": {
      "needs_background": "light"
     },
     "output_type": "display_data"
    }
   ],
   "source": [
    "for col in ratings.columns:\n",
    "    print(\"Stats for column : \"+col )\n",
    "    data_info(col)\n",
    "    print(\"\\n\")"
   ]
  },
  {
   "cell_type": "markdown",
   "id": "396b665d",
   "metadata": {},
   "source": [
    "It can be seen from the above stats, that Clorox is the most reviewed (and probably most bought) brand with 10419 reviews. Since Colorox is more of a household essentials brand, that specific category is the topmost. Obviously even the top most reviewed manufacturer is also Clorox and the top most reviewed product is the Clorox Disinfecting wipes which belongs to the Clorox brand. "
   ]
  },
  {
   "cell_type": "markdown",
   "id": "00e67b52",
   "metadata": {},
   "source": [
    "Most of the ratings are 5 i.e out of 29469 records, 20495 records are rated 5 i.e ~70%. Most of the reviews are made by a user names - Mike. "
   ]
  },
  {
   "cell_type": "markdown",
   "id": "ee55e994",
   "metadata": {},
   "source": [
    "Coming to the most important aspect - the user sentiment. 26163 records have positive sentiment out of the 29469 total records which is almost 89%. So this is a skewed/imbalanced dataset. "
   ]
  },
  {
   "cell_type": "markdown",
   "id": "2af257f4",
   "metadata": {},
   "source": [
    "Let's look at the top most reviewed products, brands, manufacturers to understand how their rating is distributed - "
   ]
  },
  {
   "cell_type": "code",
   "execution_count": 49,
   "id": "064bdee1",
   "metadata": {},
   "outputs": [
    {
     "data": {
      "text/plain": [
       "Clorox Disinfecting Wipes Value Pack Scented 150 Ct Total                       8396\n",
       "Godzilla 3d Includes Digital Copy Ultraviolet 3d/2d Blu-Ray/dvd                 3324\n",
       "Clorox Disinfecting Bathroom Cleaner                                            2022\n",
       "Planes: Fire Rescue (2 Discs) (includes Digital Copy) (blu-Ray/dvd)             1140\n",
       "L'oreal Paris Elvive Extraordinary Clay Rebalancing Conditioner - 12.6 Fl Oz    1118\n",
       "Name: name, dtype: int64"
      ]
     },
     "execution_count": 49,
     "metadata": {},
     "output_type": "execute_result"
    }
   ],
   "source": [
    "top_5_products = ratings['name'].value_counts().sort_values(ascending=False)[:5]\n",
    "top_5_products"
   ]
  },
  {
   "cell_type": "code",
   "execution_count": 50,
   "id": "7dd7be0e",
   "metadata": {},
   "outputs": [
    {
     "data": {
      "text/html": [
       "<div>\n",
       "<style scoped>\n",
       "    .dataframe tbody tr th:only-of-type {\n",
       "        vertical-align: middle;\n",
       "    }\n",
       "\n",
       "    .dataframe tbody tr th {\n",
       "        vertical-align: top;\n",
       "    }\n",
       "\n",
       "    .dataframe thead th {\n",
       "        text-align: right;\n",
       "    }\n",
       "</style>\n",
       "<table border=\"1\" class=\"dataframe\">\n",
       "  <thead>\n",
       "    <tr style=\"text-align: right;\">\n",
       "      <th></th>\n",
       "      <th>id</th>\n",
       "      <th>brand</th>\n",
       "      <th>categories</th>\n",
       "      <th>manufacturer</th>\n",
       "      <th>name</th>\n",
       "      <th>reviews_rating</th>\n",
       "      <th>reviews_text</th>\n",
       "      <th>reviews_title</th>\n",
       "      <th>reviews_username</th>\n",
       "      <th>user_sentiment</th>\n",
       "    </tr>\n",
       "  </thead>\n",
       "  <tbody>\n",
       "    <tr>\n",
       "      <th>6479</th>\n",
       "      <td>AVpf3VOfilAPnD_xjpun</td>\n",
       "      <td>Clorox</td>\n",
       "      <td>Household Essentials,Cleaning Supplies,Kitchen Cleaners,Cleaning Wipes,All-Purpose Cleaners,Health &amp; Household,Household Supplies,Household Cleaning,Ways To Shop,Classroom Essentials,Featured Brands,Home And Storage &amp; Org,Clorox,Glass Cleaners,Surface Care &amp; Protection,Business &amp; Industrial,Cleaning &amp; Janitorial Supplies,Cleaners &amp; Disinfectants,Cleaning Wipes &amp; Pads,Cleaning Solutions,Housewares,Target Restock,Food &amp; Grocery,Paper Goods,Wipes,All Purpose Cleaners</td>\n",
       "      <td>Clorox</td>\n",
       "      <td>Clorox Disinfecting Wipes Value Pack Scented 150 Ct Total</td>\n",
       "      <td>1</td>\n",
       "      <td>This is an outstanding product, it not only cleans surfaces, but it has such a clean and fresh smell..I use it all the time.</td>\n",
       "      <td>Fresh Smell</td>\n",
       "      <td>barsea</td>\n",
       "      <td>Positive</td>\n",
       "    </tr>\n",
       "  </tbody>\n",
       "</table>\n",
       "</div>"
      ],
      "text/plain": [
       "                        id   brand  \\\n",
       "6479  AVpf3VOfilAPnD_xjpun  Clorox   \n",
       "\n",
       "                                                                                                                                                                                                                                                                                                                                                                                                                                                                                categories  \\\n",
       "6479  Household Essentials,Cleaning Supplies,Kitchen Cleaners,Cleaning Wipes,All-Purpose Cleaners,Health & Household,Household Supplies,Household Cleaning,Ways To Shop,Classroom Essentials,Featured Brands,Home And Storage & Org,Clorox,Glass Cleaners,Surface Care & Protection,Business & Industrial,Cleaning & Janitorial Supplies,Cleaners & Disinfectants,Cleaning Wipes & Pads,Cleaning Solutions,Housewares,Target Restock,Food & Grocery,Paper Goods,Wipes,All Purpose Cleaners   \n",
       "\n",
       "     manufacturer                                                       name  \\\n",
       "6479       Clorox  Clorox Disinfecting Wipes Value Pack Scented 150 Ct Total   \n",
       "\n",
       "      reviews_rating  \\\n",
       "6479               1   \n",
       "\n",
       "                                                                                                                      reviews_text  \\\n",
       "6479  This is an outstanding product, it not only cleans surfaces, but it has such a clean and fresh smell..I use it all the time.   \n",
       "\n",
       "     reviews_title reviews_username user_sentiment  \n",
       "6479   Fresh Smell           barsea       Positive  "
      ]
     },
     "execution_count": 50,
     "metadata": {},
     "output_type": "execute_result"
    }
   ],
   "source": [
    "top_products_df = ratings[ratings['name'].isin(top_5_products.index.tolist())]\n",
    "top_products_df.head(1)"
   ]
  },
  {
   "cell_type": "code",
   "execution_count": 51,
   "id": "4a5b6c7b",
   "metadata": {},
   "outputs": [
    {
     "data": {
      "text/plain": [
       "Text(0.5, 1.0, 'Distribution of ratings in products')"
      ]
     },
     "execution_count": 51,
     "metadata": {},
     "output_type": "execute_result"
    },
    {
     "data": {
      "image/png": "[encoded data removed]",
      "text/plain": [
       "<Figure size 576x360 with 1 Axes>"
      ]
     },
     "metadata": {
      "needs_background": "light"
     },
     "output_type": "display_data"
    }
   ],
   "source": [
    "plt.figure(figsize=(8,5))\n",
    "sns.boxplot(x='reviews_rating',y='name',data=top_products_df, palette='rainbow')\n",
    "plt.title(\"Distribution of ratings in products\")"
   ]
  },
  {
   "cell_type": "markdown",
   "id": "3e83fab0",
   "metadata": {},
   "source": [
    "So for the top 5 products, most of the ratings are between 4 and 5. i.e they are good products. "
   ]
  },
  {
   "cell_type": "markdown",
   "id": "a2c3ad31",
   "metadata": {},
   "source": [
    "Similarly let's get the distribution of ratings for top 5 most reviewed brands and manufacturers also - "
   ]
  },
  {
   "cell_type": "code",
   "execution_count": 52,
   "id": "7bf887bc",
   "metadata": {},
   "outputs": [
    {
     "data": {
      "text/plain": [
       "Clorox Disinfecting Wipes Value Pack Scented 150 Ct Total                       8396\n",
       "Godzilla 3d Includes Digital Copy Ultraviolet 3d/2d Blu-Ray/dvd                 3324\n",
       "Clorox Disinfecting Bathroom Cleaner                                            2022\n",
       "Planes: Fire Rescue (2 Discs) (includes Digital Copy) (blu-Ray/dvd)             1140\n",
       "L'oreal Paris Elvive Extraordinary Clay Rebalancing Conditioner - 12.6 Fl Oz    1118\n",
       "Name: name, dtype: int64"
      ]
     },
     "execution_count": 52,
     "metadata": {},
     "output_type": "execute_result"
    }
   ],
   "source": [
    "top_5_brands = ratings['name'].value_counts().sort_values(ascending=False)[:5]\n",
    "top_5_brands"
   ]
  },
  {
   "cell_type": "code",
   "execution_count": 53,
   "id": "ff6b3994",
   "metadata": {},
   "outputs": [
    {
     "data": {
      "text/html": [
       "<div>\n",
       "<style scoped>\n",
       "    .dataframe tbody tr th:only-of-type {\n",
       "        vertical-align: middle;\n",
       "    }\n",
       "\n",
       "    .dataframe tbody tr th {\n",
       "        vertical-align: top;\n",
       "    }\n",
       "\n",
       "    .dataframe thead th {\n",
       "        text-align: right;\n",
       "    }\n",
       "</style>\n",
       "<table border=\"1\" class=\"dataframe\">\n",
       "  <thead>\n",
       "    <tr style=\"text-align: right;\">\n",
       "      <th></th>\n",
       "      <th>id</th>\n",
       "      <th>brand</th>\n",
       "      <th>categories</th>\n",
       "      <th>manufacturer</th>\n",
       "      <th>name</th>\n",
       "      <th>reviews_rating</th>\n",
       "      <th>reviews_text</th>\n",
       "      <th>reviews_title</th>\n",
       "      <th>reviews_username</th>\n",
       "      <th>user_sentiment</th>\n",
       "    </tr>\n",
       "  </thead>\n",
       "  <tbody>\n",
       "    <tr>\n",
       "      <th>6479</th>\n",
       "      <td>AVpf3VOfilAPnD_xjpun</td>\n",
       "      <td>Clorox</td>\n",
       "      <td>Household Essentials,Cleaning Supplies,Kitchen Cleaners,Cleaning Wipes,All-Purpose Cleaners,Health &amp; Household,Household Supplies,Household Cleaning,Ways To Shop,Classroom Essentials,Featured Brands,Home And Storage &amp; Org,Clorox,Glass Cleaners,Surface Care &amp; Protection,Business &amp; Industrial,Cleaning &amp; Janitorial Supplies,Cleaners &amp; Disinfectants,Cleaning Wipes &amp; Pads,Cleaning Solutions,Housewares,Target Restock,Food &amp; Grocery,Paper Goods,Wipes,All Purpose Cleaners</td>\n",
       "      <td>Clorox</td>\n",
       "      <td>Clorox Disinfecting Wipes Value Pack Scented 150 Ct Total</td>\n",
       "      <td>1</td>\n",
       "      <td>This is an outstanding product, it not only cleans surfaces, but it has such a clean and fresh smell..I use it all the time.</td>\n",
       "      <td>Fresh Smell</td>\n",
       "      <td>barsea</td>\n",
       "      <td>Positive</td>\n",
       "    </tr>\n",
       "  </tbody>\n",
       "</table>\n",
       "</div>"
      ],
      "text/plain": [
       "                        id   brand  \\\n",
       "6479  AVpf3VOfilAPnD_xjpun  Clorox   \n",
       "\n",
       "                                                                                                                                                                                                                                                                                                                                                                                                                                                                                categories  \\\n",
       "6479  Household Essentials,Cleaning Supplies,Kitchen Cleaners,Cleaning Wipes,All-Purpose Cleaners,Health & Household,Household Supplies,Household Cleaning,Ways To Shop,Classroom Essentials,Featured Brands,Home And Storage & Org,Clorox,Glass Cleaners,Surface Care & Protection,Business & Industrial,Cleaning & Janitorial Supplies,Cleaners & Disinfectants,Cleaning Wipes & Pads,Cleaning Solutions,Housewares,Target Restock,Food & Grocery,Paper Goods,Wipes,All Purpose Cleaners   \n",
       "\n",
       "     manufacturer                                                       name  \\\n",
       "6479       Clorox  Clorox Disinfecting Wipes Value Pack Scented 150 Ct Total   \n",
       "\n",
       "      reviews_rating  \\\n",
       "6479               1   \n",
       "\n",
       "                                                                                                                      reviews_text  \\\n",
       "6479  This is an outstanding product, it not only cleans surfaces, but it has such a clean and fresh smell..I use it all the time.   \n",
       "\n",
       "     reviews_title reviews_username user_sentiment  \n",
       "6479   Fresh Smell           barsea       Positive  "
      ]
     },
     "execution_count": 53,
     "metadata": {},
     "output_type": "execute_result"
    }
   ],
   "source": [
    "top_brands_df = ratings[ratings['name'].isin(top_5_products.index.tolist())]\n",
    "top_brands_df.head(1)"
   ]
  },
  {
   "cell_type": "code",
   "execution_count": 54,
   "id": "8aebbe9c",
   "metadata": {},
   "outputs": [
    {
     "data": {
      "text/plain": [
       "Text(0.5, 1.0, 'Distribution of ratings in products')"
      ]
     },
     "execution_count": 54,
     "metadata": {},
     "output_type": "execute_result"
    },
    {
     "data": {
      "image/png": "[encoded data removed]",
      "text/plain": [
       "<Figure size 576x360 with 1 Axes>"
      ]
     },
     "metadata": {
      "needs_background": "light"
     },
     "output_type": "display_data"
    }
   ],
   "source": [
    "plt.figure(figsize=(8,5))\n",
    "sns.boxplot(x='reviews_rating',y='name',data=top_brands_df, palette='rainbow')\n",
    "plt.title(\"Distribution of ratings in products\")"
   ]
  },
  {
   "cell_type": "markdown",
   "id": "67a78d9b",
   "metadata": {},
   "source": [
    "It is the same behaviour as the products. "
   ]
  },
  {
   "cell_type": "markdown",
   "id": "528db274",
   "metadata": {},
   "source": [
    "Let's look at the user sentiment with these products and brands -"
   ]
  },
  {
   "cell_type": "code",
   "execution_count": 55,
   "id": "3c05d653",
   "metadata": {},
   "outputs": [
    {
     "data": {
      "text/plain": [
       "name                                                                          user_sentiment\n",
       "Clorox Disinfecting Wipes Value Pack Scented 150 Ct Total                     Positive          7593\n",
       "Godzilla 3d Includes Digital Copy Ultraviolet 3d/2d Blu-Ray/dvd               Positive          3033\n",
       "Clorox Disinfecting Bathroom Cleaner                                          Positive          1862\n",
       "L'oreal Paris Elvive Extraordinary Clay Rebalancing Conditioner - 12.6 Fl Oz  Positive          1083\n",
       "Planes: Fire Rescue (2 Discs) (includes Digital Copy) (blu-Ray/dvd)           Positive          1060\n",
       "Clorox Disinfecting Wipes Value Pack Scented 150 Ct Total                     Negative           803\n",
       "Godzilla 3d Includes Digital Copy Ultraviolet 3d/2d Blu-Ray/dvd               Negative           291\n",
       "Clorox Disinfecting Bathroom Cleaner                                          Negative           160\n",
       "Planes: Fire Rescue (2 Discs) (includes Digital Copy) (blu-Ray/dvd)           Negative            80\n",
       "L'oreal Paris Elvive Extraordinary Clay Rebalancing Conditioner - 12.6 Fl Oz  Negative            35\n",
       "Name: user_sentiment, dtype: int64"
      ]
     },
     "execution_count": 55,
     "metadata": {},
     "output_type": "execute_result"
    }
   ],
   "source": [
    "top_products_df.groupby('name')['user_sentiment'].value_counts().sort_values(ascending=False)"
   ]
  },
  {
   "cell_type": "markdown",
   "id": "d3f94dd0",
   "metadata": {},
   "source": [
    "So we can see that the Clorox disinfecting wipes which got the max reviews also has the max positive reviews meaning that's a good product. "
   ]
  },
  {
   "cell_type": "markdown",
   "id": "24d12292",
   "metadata": {},
   "source": [
    "Let's look at the unique number of products and users - "
   ]
  },
  {
   "cell_type": "code",
   "execution_count": 56,
   "id": "656fe57e",
   "metadata": {},
   "outputs": [
    {
     "data": {
      "text/plain": [
       "252"
      ]
     },
     "execution_count": 56,
     "metadata": {},
     "output_type": "execute_result"
    }
   ],
   "source": [
    "len(ratings['name'].unique())"
   ]
  },
  {
   "cell_type": "markdown",
   "id": "c710b651",
   "metadata": {},
   "source": [
    "There are 252 unique products"
   ]
  },
  {
   "cell_type": "code",
   "execution_count": 57,
   "id": "051faef4",
   "metadata": {},
   "outputs": [
    {
     "data": {
      "text/plain": [
       "24788"
      ]
     },
     "execution_count": 57,
     "metadata": {},
     "output_type": "execute_result"
    }
   ],
   "source": [
    "len(ratings['reviews_username'].unique())"
   ]
  },
  {
   "cell_type": "markdown",
   "id": "dc9978a7",
   "metadata": {},
   "source": [
    "There are 24788 unique users. So if go with user-user recommendation system, the correlation matrix is going to be huge. in this case item-item similarity is better since the number of products are fewer. "
   ]
  },
  {
   "cell_type": "markdown",
   "id": "1935a72b",
   "metadata": {},
   "source": [
    "Let's look at the user who gave the max reviews to the products - "
   ]
  },
  {
   "cell_type": "code",
   "execution_count": 58,
   "id": "85d5b7cc",
   "metadata": {},
   "outputs": [
    {
     "data": {
      "text/plain": [
       "byamazon customer    41\n",
       "mike                 41\n",
       "chris                31\n",
       "sandy                15\n",
       "rick                 15\n",
       "                     ..\n",
       "nicnach               1\n",
       "badback35             1\n",
       "dustinw               1\n",
       "cgl001                1\n",
       "am2lady               1\n",
       "Name: reviews_username, Length: 24788, dtype: int64"
      ]
     },
     "execution_count": 58,
     "metadata": {},
     "output_type": "execute_result"
    }
   ],
   "source": [
    "ratings['reviews_username'].value_counts().sort_values(ascending=False)"
   ]
  },
  {
   "cell_type": "markdown",
   "id": "cf8e98fb",
   "metadata": {},
   "source": [
    "Now after some EDA let's look at building the recommendation system."
   ]
  },
  {
   "cell_type": "markdown",
   "id": "2bc0ff99",
   "metadata": {},
   "source": [
    "## Recommendation System (item-item)"
   ]
  },
  {
   "cell_type": "markdown",
   "id": "3cc9130b",
   "metadata": {},
   "source": [
    "Dividing the dataset into train and test - "
   ]
  },
  {
   "cell_type": "code",
   "execution_count": 59,
   "id": "7b5757e3",
   "metadata": {},
   "outputs": [
    {
     "data": {
      "text/html": [
       "<div>\n",
       "<style scoped>\n",
       "    .dataframe tbody tr th:only-of-type {\n",
       "        vertical-align: middle;\n",
       "    }\n",
       "\n",
       "    .dataframe tbody tr th {\n",
       "        vertical-align: top;\n",
       "    }\n",
       "\n",
       "    .dataframe thead th {\n",
       "        text-align: right;\n",
       "    }\n",
       "</style>\n",
       "<table border=\"1\" class=\"dataframe\">\n",
       "  <thead>\n",
       "    <tr style=\"text-align: right;\">\n",
       "      <th></th>\n",
       "      <th>name</th>\n",
       "      <th>reviews_username</th>\n",
       "      <th>reviews_rating</th>\n",
       "    </tr>\n",
       "  </thead>\n",
       "  <tbody>\n",
       "    <tr>\n",
       "      <th>0</th>\n",
       "      <td>Pink Friday: Roman Reloaded Re-Up (w/dvd)</td>\n",
       "      <td>joshua</td>\n",
       "      <td>5</td>\n",
       "    </tr>\n",
       "    <tr>\n",
       "      <th>1</th>\n",
       "      <td>Lundberg Organic Cinnamon Toast Rice Cakes</td>\n",
       "      <td>dorothy w</td>\n",
       "      <td>5</td>\n",
       "    </tr>\n",
       "    <tr>\n",
       "      <th>2</th>\n",
       "      <td>Lundberg Organic Cinnamon Toast Rice Cakes</td>\n",
       "      <td>dorothy w</td>\n",
       "      <td>5</td>\n",
       "    </tr>\n",
       "    <tr>\n",
       "      <th>3</th>\n",
       "      <td>K-Y Love Sensuality Pleasure Gel</td>\n",
       "      <td>rebecca</td>\n",
       "      <td>1</td>\n",
       "    </tr>\n",
       "    <tr>\n",
       "      <th>4</th>\n",
       "      <td>K-Y Love Sensuality Pleasure Gel</td>\n",
       "      <td>walker557</td>\n",
       "      <td>1</td>\n",
       "    </tr>\n",
       "  </tbody>\n",
       "</table>\n",
       "</div>"
      ],
      "text/plain": [
       "                                         name reviews_username  reviews_rating\n",
       "0   Pink Friday: Roman Reloaded Re-Up (w/dvd)           joshua               5\n",
       "1  Lundberg Organic Cinnamon Toast Rice Cakes        dorothy w               5\n",
       "2  Lundberg Organic Cinnamon Toast Rice Cakes        dorothy w               5\n",
       "3            K-Y Love Sensuality Pleasure Gel          rebecca               1\n",
       "4            K-Y Love Sensuality Pleasure Gel        walker557               1"
      ]
     },
     "execution_count": 59,
     "metadata": {},
     "output_type": "execute_result"
    }
   ],
   "source": [
    "# Let's just make a copy of ratings df so that we dont make any unnecessary changes in the final cleaned dataframe\n",
    "ratings_reco = ratings.copy()\n",
    "ratings_reco = ratings_reco[['name', 'reviews_username', 'reviews_rating']]\n",
    "ratings_reco.head()"
   ]
  },
  {
   "cell_type": "code",
   "execution_count": 60,
   "id": "28b756b1",
   "metadata": {},
   "outputs": [
    {
     "data": {
      "text/plain": [
       "name                0\n",
       "reviews_username    0\n",
       "reviews_rating      0\n",
       "dtype: int64"
      ]
     },
     "execution_count": 60,
     "metadata": {},
     "output_type": "execute_result"
    }
   ],
   "source": [
    "ratings_reco.isnull().sum()"
   ]
  },
  {
   "cell_type": "code",
   "execution_count": 61,
   "id": "2950c89b",
   "metadata": {},
   "outputs": [],
   "source": [
    "# Test and Train split of the dataset.\n",
    "train, test = train_test_split(ratings_reco, test_size=0.30, random_state=31)"
   ]
  },
  {
   "cell_type": "code",
   "execution_count": 320,
   "id": "4a64fa1b",
   "metadata": {},
   "outputs": [
    {
     "name": "stdout",
     "output_type": "stream",
     "text": [
      "(20628, 3)\n",
      "(8841, 3)\n"
     ]
    }
   ],
   "source": [
    "print(train.shape)\n",
    "print(test.shape)"
   ]
  },
  {
   "cell_type": "code",
   "execution_count": 321,
   "id": "88643168",
   "metadata": {},
   "outputs": [
    {
     "data": {
      "text/plain": [
       "['model/train']"
      ]
     },
     "execution_count": 321,
     "metadata": {},
     "output_type": "execute_result"
    }
   ],
   "source": [
    "joblib.dump(train, 'model/train') "
   ]
  },
  {
   "cell_type": "code",
   "execution_count": 63,
   "id": "20685b65",
   "metadata": {},
   "outputs": [
    {
     "data": {
      "text/html": [
       "<div>\n",
       "<style scoped>\n",
       "    .dataframe tbody tr th:only-of-type {\n",
       "        vertical-align: middle;\n",
       "    }\n",
       "\n",
       "    .dataframe tbody tr th {\n",
       "        vertical-align: top;\n",
       "    }\n",
       "\n",
       "    .dataframe thead th {\n",
       "        text-align: right;\n",
       "    }\n",
       "</style>\n",
       "<table border=\"1\" class=\"dataframe\">\n",
       "  <thead>\n",
       "    <tr style=\"text-align: right;\">\n",
       "      <th>reviews_username</th>\n",
       "      <th>00dog3</th>\n",
       "      <th>00sab00</th>\n",
       "      <th>01impala</th>\n",
       "      <th>02dakota</th>\n",
       "      <th>0325home</th>\n",
       "      <th>06stidriver</th>\n",
       "      <th>08dallas</th>\n",
       "      <th>09mommy11</th>\n",
       "      <th>1.11E+24</th>\n",
       "      <th>11111111aaaaaaaaaaaaaaaaa</th>\n",
       "      <th>...</th>\n",
       "      <th>zpalma</th>\n",
       "      <th>zsarah</th>\n",
       "      <th>zsazsa</th>\n",
       "      <th>zt313</th>\n",
       "      <th>zubb</th>\n",
       "      <th>zulaa118</th>\n",
       "      <th>zuttle</th>\n",
       "      <th>zxjki</th>\n",
       "      <th>zyiah4</th>\n",
       "      <th>zzz1127</th>\n",
       "    </tr>\n",
       "    <tr>\n",
       "      <th>name</th>\n",
       "      <th></th>\n",
       "      <th></th>\n",
       "      <th></th>\n",
       "      <th></th>\n",
       "      <th></th>\n",
       "      <th></th>\n",
       "      <th></th>\n",
       "      <th></th>\n",
       "      <th></th>\n",
       "      <th></th>\n",
       "      <th></th>\n",
       "      <th></th>\n",
       "      <th></th>\n",
       "      <th></th>\n",
       "      <th></th>\n",
       "      <th></th>\n",
       "      <th></th>\n",
       "      <th></th>\n",
       "      <th></th>\n",
       "      <th></th>\n",
       "      <th></th>\n",
       "    </tr>\n",
       "  </thead>\n",
       "  <tbody>\n",
       "    <tr>\n",
       "      <th>0.6 Cu. Ft. Letter A4 Size Waterproof 30 Min. Fire File Chest</th>\n",
       "      <td>NaN</td>\n",
       "      <td>NaN</td>\n",
       "      <td>NaN</td>\n",
       "      <td>NaN</td>\n",
       "      <td>NaN</td>\n",
       "      <td>NaN</td>\n",
       "      <td>NaN</td>\n",
       "      <td>NaN</td>\n",
       "      <td>NaN</td>\n",
       "      <td>NaN</td>\n",
       "      <td>...</td>\n",
       "      <td>NaN</td>\n",
       "      <td>NaN</td>\n",
       "      <td>NaN</td>\n",
       "      <td>NaN</td>\n",
       "      <td>NaN</td>\n",
       "      <td>NaN</td>\n",
       "      <td>NaN</td>\n",
       "      <td>NaN</td>\n",
       "      <td>NaN</td>\n",
       "      <td>NaN</td>\n",
       "    </tr>\n",
       "    <tr>\n",
       "      <th>100:Complete First Season (blu-Ray)</th>\n",
       "      <td>NaN</td>\n",
       "      <td>NaN</td>\n",
       "      <td>NaN</td>\n",
       "      <td>NaN</td>\n",
       "      <td>NaN</td>\n",
       "      <td>NaN</td>\n",
       "      <td>5.0</td>\n",
       "      <td>NaN</td>\n",
       "      <td>NaN</td>\n",
       "      <td>NaN</td>\n",
       "      <td>...</td>\n",
       "      <td>NaN</td>\n",
       "      <td>NaN</td>\n",
       "      <td>NaN</td>\n",
       "      <td>NaN</td>\n",
       "      <td>NaN</td>\n",
       "      <td>NaN</td>\n",
       "      <td>NaN</td>\n",
       "      <td>NaN</td>\n",
       "      <td>NaN</td>\n",
       "      <td>NaN</td>\n",
       "    </tr>\n",
       "    <tr>\n",
       "      <th>2017-2018 Brownline174 Duraflex 14-Month Planner 8 1/2 X 11 Black</th>\n",
       "      <td>NaN</td>\n",
       "      <td>NaN</td>\n",
       "      <td>NaN</td>\n",
       "      <td>NaN</td>\n",
       "      <td>NaN</td>\n",
       "      <td>NaN</td>\n",
       "      <td>NaN</td>\n",
       "      <td>NaN</td>\n",
       "      <td>NaN</td>\n",
       "      <td>NaN</td>\n",
       "      <td>...</td>\n",
       "      <td>NaN</td>\n",
       "      <td>NaN</td>\n",
       "      <td>NaN</td>\n",
       "      <td>NaN</td>\n",
       "      <td>NaN</td>\n",
       "      <td>NaN</td>\n",
       "      <td>NaN</td>\n",
       "      <td>NaN</td>\n",
       "      <td>NaN</td>\n",
       "      <td>NaN</td>\n",
       "    </tr>\n",
       "    <tr>\n",
       "      <th>2x Ultra Era with Oxi Booster, 50fl oz</th>\n",
       "      <td>NaN</td>\n",
       "      <td>NaN</td>\n",
       "      <td>NaN</td>\n",
       "      <td>NaN</td>\n",
       "      <td>NaN</td>\n",
       "      <td>NaN</td>\n",
       "      <td>NaN</td>\n",
       "      <td>NaN</td>\n",
       "      <td>NaN</td>\n",
       "      <td>NaN</td>\n",
       "      <td>...</td>\n",
       "      <td>NaN</td>\n",
       "      <td>NaN</td>\n",
       "      <td>NaN</td>\n",
       "      <td>NaN</td>\n",
       "      <td>NaN</td>\n",
       "      <td>NaN</td>\n",
       "      <td>NaN</td>\n",
       "      <td>NaN</td>\n",
       "      <td>NaN</td>\n",
       "      <td>NaN</td>\n",
       "    </tr>\n",
       "    <tr>\n",
       "      <th>42 Dual Drop Leaf Table with 2 Madrid Chairs\"</th>\n",
       "      <td>NaN</td>\n",
       "      <td>NaN</td>\n",
       "      <td>NaN</td>\n",
       "      <td>NaN</td>\n",
       "      <td>NaN</td>\n",
       "      <td>NaN</td>\n",
       "      <td>NaN</td>\n",
       "      <td>NaN</td>\n",
       "      <td>NaN</td>\n",
       "      <td>NaN</td>\n",
       "      <td>...</td>\n",
       "      <td>NaN</td>\n",
       "      <td>NaN</td>\n",
       "      <td>NaN</td>\n",
       "      <td>NaN</td>\n",
       "      <td>NaN</td>\n",
       "      <td>NaN</td>\n",
       "      <td>NaN</td>\n",
       "      <td>NaN</td>\n",
       "      <td>NaN</td>\n",
       "      <td>NaN</td>\n",
       "    </tr>\n",
       "  </tbody>\n",
       "</table>\n",
       "<p>5 rows × 18052 columns</p>\n",
       "</div>"
      ],
      "text/plain": [
       "reviews_username                                                   00dog3  \\\n",
       "name                                                                        \n",
       "0.6 Cu. Ft. Letter A4 Size Waterproof 30 Min. Fire File Chest         NaN   \n",
       "100:Complete First Season (blu-Ray)                                   NaN   \n",
       "2017-2018 Brownline174 Duraflex 14-Month Planner 8 1/2 X 11 Black     NaN   \n",
       "2x Ultra Era with Oxi Booster, 50fl oz                                NaN   \n",
       "42 Dual Drop Leaf Table with 2 Madrid Chairs\"                         NaN   \n",
       "\n",
       "reviews_username                                                   00sab00  \\\n",
       "name                                                                         \n",
       "0.6 Cu. Ft. Letter A4 Size Waterproof 30 Min. Fire File Chest          NaN   \n",
       "100:Complete First Season (blu-Ray)                                    NaN   \n",
       "2017-2018 Brownline174 Duraflex 14-Month Planner 8 1/2 X 11 Black      NaN   \n",
       "2x Ultra Era with Oxi Booster, 50fl oz                                 NaN   \n",
       "42 Dual Drop Leaf Table with 2 Madrid Chairs\"                          NaN   \n",
       "\n",
       "reviews_username                                                   01impala  \\\n",
       "name                                                                          \n",
       "0.6 Cu. Ft. Letter A4 Size Waterproof 30 Min. Fire File Chest           NaN   \n",
       "100:Complete First Season (blu-Ray)                                     NaN   \n",
       "2017-2018 Brownline174 Duraflex 14-Month Planner 8 1/2 X 11 Black       NaN   \n",
       "2x Ultra Era with Oxi Booster, 50fl oz                                  NaN   \n",
       "42 Dual Drop Leaf Table with 2 Madrid Chairs\"                           NaN   \n",
       "\n",
       "reviews_username                                                   02dakota  \\\n",
       "name                                                                          \n",
       "0.6 Cu. Ft. Letter A4 Size Waterproof 30 Min. Fire File Chest           NaN   \n",
       "100:Complete First Season (blu-Ray)                                     NaN   \n",
       "2017-2018 Brownline174 Duraflex 14-Month Planner 8 1/2 X 11 Black       NaN   \n",
       "2x Ultra Era with Oxi Booster, 50fl oz                                  NaN   \n",
       "42 Dual Drop Leaf Table with 2 Madrid Chairs\"                           NaN   \n",
       "\n",
       "reviews_username                                                   0325home  \\\n",
       "name                                                                          \n",
       "0.6 Cu. Ft. Letter A4 Size Waterproof 30 Min. Fire File Chest           NaN   \n",
       "100:Complete First Season (blu-Ray)                                     NaN   \n",
       "2017-2018 Brownline174 Duraflex 14-Month Planner 8 1/2 X 11 Black       NaN   \n",
       "2x Ultra Era with Oxi Booster, 50fl oz                                  NaN   \n",
       "42 Dual Drop Leaf Table with 2 Madrid Chairs\"                           NaN   \n",
       "\n",
       "reviews_username                                                   06stidriver  \\\n",
       "name                                                                             \n",
       "0.6 Cu. Ft. Letter A4 Size Waterproof 30 Min. Fire File Chest              NaN   \n",
       "100:Complete First Season (blu-Ray)                                        NaN   \n",
       "2017-2018 Brownline174 Duraflex 14-Month Planner 8 1/2 X 11 Black          NaN   \n",
       "2x Ultra Era with Oxi Booster, 50fl oz                                     NaN   \n",
       "42 Dual Drop Leaf Table with 2 Madrid Chairs\"                              NaN   \n",
       "\n",
       "reviews_username                                                   08dallas  \\\n",
       "name                                                                          \n",
       "0.6 Cu. Ft. Letter A4 Size Waterproof 30 Min. Fire File Chest           NaN   \n",
       "100:Complete First Season (blu-Ray)                                     5.0   \n",
       "2017-2018 Brownline174 Duraflex 14-Month Planner 8 1/2 X 11 Black       NaN   \n",
       "2x Ultra Era with Oxi Booster, 50fl oz                                  NaN   \n",
       "42 Dual Drop Leaf Table with 2 Madrid Chairs\"                           NaN   \n",
       "\n",
       "reviews_username                                                   09mommy11  \\\n",
       "name                                                                           \n",
       "0.6 Cu. Ft. Letter A4 Size Waterproof 30 Min. Fire File Chest            NaN   \n",
       "100:Complete First Season (blu-Ray)                                      NaN   \n",
       "2017-2018 Brownline174 Duraflex 14-Month Planner 8 1/2 X 11 Black        NaN   \n",
       "2x Ultra Era with Oxi Booster, 50fl oz                                   NaN   \n",
       "42 Dual Drop Leaf Table with 2 Madrid Chairs\"                            NaN   \n",
       "\n",
       "reviews_username                                                   1.11E+24  \\\n",
       "name                                                                          \n",
       "0.6 Cu. Ft. Letter A4 Size Waterproof 30 Min. Fire File Chest           NaN   \n",
       "100:Complete First Season (blu-Ray)                                     NaN   \n",
       "2017-2018 Brownline174 Duraflex 14-Month Planner 8 1/2 X 11 Black       NaN   \n",
       "2x Ultra Era with Oxi Booster, 50fl oz                                  NaN   \n",
       "42 Dual Drop Leaf Table with 2 Madrid Chairs\"                           NaN   \n",
       "\n",
       "reviews_username                                                   11111111aaaaaaaaaaaaaaaaa  \\\n",
       "name                                                                                           \n",
       "0.6 Cu. Ft. Letter A4 Size Waterproof 30 Min. Fire File Chest                            NaN   \n",
       "100:Complete First Season (blu-Ray)                                                      NaN   \n",
       "2017-2018 Brownline174 Duraflex 14-Month Planner 8 1/2 X 11 Black                        NaN   \n",
       "2x Ultra Era with Oxi Booster, 50fl oz                                                   NaN   \n",
       "42 Dual Drop Leaf Table with 2 Madrid Chairs\"                                            NaN   \n",
       "\n",
       "reviews_username                                                   ...  \\\n",
       "name                                                               ...   \n",
       "0.6 Cu. Ft. Letter A4 Size Waterproof 30 Min. Fire File Chest      ...   \n",
       "100:Complete First Season (blu-Ray)                                ...   \n",
       "2017-2018 Brownline174 Duraflex 14-Month Planner 8 1/2 X 11 Black  ...   \n",
       "2x Ultra Era with Oxi Booster, 50fl oz                             ...   \n",
       "42 Dual Drop Leaf Table with 2 Madrid Chairs\"                      ...   \n",
       "\n",
       "reviews_username                                                   zpalma  \\\n",
       "name                                                                        \n",
       "0.6 Cu. Ft. Letter A4 Size Waterproof 30 Min. Fire File Chest         NaN   \n",
       "100:Complete First Season (blu-Ray)                                   NaN   \n",
       "2017-2018 Brownline174 Duraflex 14-Month Planner 8 1/2 X 11 Black     NaN   \n",
       "2x Ultra Era with Oxi Booster, 50fl oz                                NaN   \n",
       "42 Dual Drop Leaf Table with 2 Madrid Chairs\"                         NaN   \n",
       "\n",
       "reviews_username                                                   zsarah  \\\n",
       "name                                                                        \n",
       "0.6 Cu. Ft. Letter A4 Size Waterproof 30 Min. Fire File Chest         NaN   \n",
       "100:Complete First Season (blu-Ray)                                   NaN   \n",
       "2017-2018 Brownline174 Duraflex 14-Month Planner 8 1/2 X 11 Black     NaN   \n",
       "2x Ultra Era with Oxi Booster, 50fl oz                                NaN   \n",
       "42 Dual Drop Leaf Table with 2 Madrid Chairs\"                         NaN   \n",
       "\n",
       "reviews_username                                                   zsazsa  \\\n",
       "name                                                                        \n",
       "0.6 Cu. Ft. Letter A4 Size Waterproof 30 Min. Fire File Chest         NaN   \n",
       "100:Complete First Season (blu-Ray)                                   NaN   \n",
       "2017-2018 Brownline174 Duraflex 14-Month Planner 8 1/2 X 11 Black     NaN   \n",
       "2x Ultra Era with Oxi Booster, 50fl oz                                NaN   \n",
       "42 Dual Drop Leaf Table with 2 Madrid Chairs\"                         NaN   \n",
       "\n",
       "reviews_username                                                   zt313  \\\n",
       "name                                                                       \n",
       "0.6 Cu. Ft. Letter A4 Size Waterproof 30 Min. Fire File Chest        NaN   \n",
       "100:Complete First Season (blu-Ray)                                  NaN   \n",
       "2017-2018 Brownline174 Duraflex 14-Month Planner 8 1/2 X 11 Black    NaN   \n",
       "2x Ultra Era with Oxi Booster, 50fl oz                               NaN   \n",
       "42 Dual Drop Leaf Table with 2 Madrid Chairs\"                        NaN   \n",
       "\n",
       "reviews_username                                                   zubb  \\\n",
       "name                                                                      \n",
       "0.6 Cu. Ft. Letter A4 Size Waterproof 30 Min. Fire File Chest       NaN   \n",
       "100:Complete First Season (blu-Ray)                                 NaN   \n",
       "2017-2018 Brownline174 Duraflex 14-Month Planner 8 1/2 X 11 Black   NaN   \n",
       "2x Ultra Era with Oxi Booster, 50fl oz                              NaN   \n",
       "42 Dual Drop Leaf Table with 2 Madrid Chairs\"                       NaN   \n",
       "\n",
       "reviews_username                                                   zulaa118  \\\n",
       "name                                                                          \n",
       "0.6 Cu. Ft. Letter A4 Size Waterproof 30 Min. Fire File Chest           NaN   \n",
       "100:Complete First Season (blu-Ray)                                     NaN   \n",
       "2017-2018 Brownline174 Duraflex 14-Month Planner 8 1/2 X 11 Black       NaN   \n",
       "2x Ultra Era with Oxi Booster, 50fl oz                                  NaN   \n",
       "42 Dual Drop Leaf Table with 2 Madrid Chairs\"                           NaN   \n",
       "\n",
       "reviews_username                                                   zuttle  \\\n",
       "name                                                                        \n",
       "0.6 Cu. Ft. Letter A4 Size Waterproof 30 Min. Fire File Chest         NaN   \n",
       "100:Complete First Season (blu-Ray)                                   NaN   \n",
       "2017-2018 Brownline174 Duraflex 14-Month Planner 8 1/2 X 11 Black     NaN   \n",
       "2x Ultra Era with Oxi Booster, 50fl oz                                NaN   \n",
       "42 Dual Drop Leaf Table with 2 Madrid Chairs\"                         NaN   \n",
       "\n",
       "reviews_username                                                   zxjki  \\\n",
       "name                                                                       \n",
       "0.6 Cu. Ft. Letter A4 Size Waterproof 30 Min. Fire File Chest        NaN   \n",
       "100:Complete First Season (blu-Ray)                                  NaN   \n",
       "2017-2018 Brownline174 Duraflex 14-Month Planner 8 1/2 X 11 Black    NaN   \n",
       "2x Ultra Era with Oxi Booster, 50fl oz                               NaN   \n",
       "42 Dual Drop Leaf Table with 2 Madrid Chairs\"                        NaN   \n",
       "\n",
       "reviews_username                                                   zyiah4  \\\n",
       "name                                                                        \n",
       "0.6 Cu. Ft. Letter A4 Size Waterproof 30 Min. Fire File Chest         NaN   \n",
       "100:Complete First Season (blu-Ray)                                   NaN   \n",
       "2017-2018 Brownline174 Duraflex 14-Month Planner 8 1/2 X 11 Black     NaN   \n",
       "2x Ultra Era with Oxi Booster, 50fl oz                                NaN   \n",
       "42 Dual Drop Leaf Table with 2 Madrid Chairs\"                         NaN   \n",
       "\n",
       "reviews_username                                                   zzz1127  \n",
       "name                                                                        \n",
       "0.6 Cu. Ft. Letter A4 Size Waterproof 30 Min. Fire File Chest          NaN  \n",
       "100:Complete First Season (blu-Ray)                                    NaN  \n",
       "2017-2018 Brownline174 Duraflex 14-Month Planner 8 1/2 X 11 Black      NaN  \n",
       "2x Ultra Era with Oxi Booster, 50fl oz                                 NaN  \n",
       "42 Dual Drop Leaf Table with 2 Madrid Chairs\"                          NaN  \n",
       "\n",
       "[5 rows x 18052 columns]"
      ]
     },
     "execution_count": 63,
     "metadata": {},
     "output_type": "execute_result"
    }
   ],
   "source": [
    "df_pivot = train.pivot_table(\n",
    "    index='reviews_username',\n",
    "    columns='name',\n",
    "    values='reviews_rating'\n",
    ").T\n",
    "df_pivot.head()"
   ]
  },
  {
   "cell_type": "code",
   "execution_count": 64,
   "id": "0e748e26",
   "metadata": {},
   "outputs": [
    {
     "data": {
      "text/plain": [
       "(238, 18052)"
      ]
     },
     "execution_count": 64,
     "metadata": {},
     "output_type": "execute_result"
    }
   ],
   "source": [
    "df_pivot.shape"
   ]
  },
  {
   "cell_type": "code",
   "execution_count": 65,
   "id": "80421655",
   "metadata": {},
   "outputs": [
    {
     "name": "stdout",
     "output_type": "stream",
     "text": [
      "[[1.         0.         0.         ... 0.         0.         0.        ]\n",
      " [0.         1.         0.         ... 0.00260653 0.         0.        ]\n",
      " [0.         0.         1.         ... 0.         0.         0.        ]\n",
      " ...\n",
      " [0.         0.00260653 0.         ... 1.         0.         0.        ]\n",
      " [0.         0.         0.         ... 0.         1.         0.        ]\n",
      " [0.         0.         0.         ... 0.         0.         1.        ]]\n"
     ]
    }
   ],
   "source": [
    "# Item Similarity Matrix\n",
    "item_correlation = 1 - pairwise_distances(df_pivot.fillna(0), metric='cosine')\n",
    "item_correlation[np.isnan(item_correlation)] = 0\n",
    "print(item_correlation)"
   ]
  },
  {
   "cell_type": "code",
   "execution_count": 66,
   "id": "4ea6bcf8",
   "metadata": {},
   "outputs": [
    {
     "data": {
      "text/plain": [
       "(238, 238)"
      ]
     },
     "execution_count": 66,
     "metadata": {},
     "output_type": "execute_result"
    }
   ],
   "source": [
    "item_correlation.shape"
   ]
  },
  {
   "cell_type": "markdown",
   "id": "717a67e9",
   "metadata": {},
   "source": [
    "Filtering the correlation only for which the value is greater than 0. (Positively correlated)"
   ]
  },
  {
   "cell_type": "code",
   "execution_count": 67,
   "id": "59d12fbc",
   "metadata": {},
   "outputs": [
    {
     "data": {
      "text/plain": [
       "array([[1.        , 0.        , 0.        , ..., 0.        , 0.        ,\n",
       "        0.        ],\n",
       "       [0.        , 1.        , 0.        , ..., 0.00260653, 0.        ,\n",
       "        0.        ],\n",
       "       [0.        , 0.        , 1.        , ..., 0.        , 0.        ,\n",
       "        0.        ],\n",
       "       ...,\n",
       "       [0.        , 0.00260653, 0.        , ..., 1.        , 0.        ,\n",
       "        0.        ],\n",
       "       [0.        , 0.        , 0.        , ..., 0.        , 1.        ,\n",
       "        0.        ],\n",
       "       [0.        , 0.        , 0.        , ..., 0.        , 0.        ,\n",
       "        1.        ]])"
      ]
     },
     "execution_count": 67,
     "metadata": {},
     "output_type": "execute_result"
    }
   ],
   "source": [
    "item_correlation[item_correlation<0]=0\n",
    "item_correlation"
   ]
  },
  {
   "cell_type": "markdown",
   "id": "292e6fa3",
   "metadata": {},
   "source": [
    "### Prediction item-item"
   ]
  },
  {
   "cell_type": "code",
   "execution_count": 68,
   "id": "3bd20dc5",
   "metadata": {},
   "outputs": [
    {
     "data": {
      "text/plain": [
       "array([[0.        , 0.        , 0.        , ..., 0.        , 0.        ,\n",
       "        0.        ],\n",
       "       [0.        , 0.01104884, 0.        , ..., 0.01389017, 0.01636499,\n",
       "        0.02076641],\n",
       "       [0.        , 0.06770874, 0.        , ..., 0.03974833, 0.        ,\n",
       "        0.01304348],\n",
       "       ...,\n",
       "       [0.        , 0.00316403, 0.        , ..., 0.00594003, 0.        ,\n",
       "        0.        ],\n",
       "       [0.        , 0.00791008, 0.        , ..., 0.01485008, 0.        ,\n",
       "        0.        ],\n",
       "       [0.        , 0.00632807, 0.        , ..., 0.01188006, 0.        ,\n",
       "        0.        ]])"
      ]
     },
     "execution_count": 68,
     "metadata": {},
     "output_type": "execute_result"
    }
   ],
   "source": [
    "item_predicted_ratings = np.dot((df_pivot.fillna(0).T),item_correlation)\n",
    "item_predicted_ratings"
   ]
  },
  {
   "cell_type": "code",
   "execution_count": 69,
   "id": "c5a50203",
   "metadata": {},
   "outputs": [
    {
     "data": {
      "text/plain": [
       "(18052, 238)"
      ]
     },
     "execution_count": 69,
     "metadata": {},
     "output_type": "execute_result"
    }
   ],
   "source": [
    "item_predicted_ratings.shape"
   ]
  },
  {
   "cell_type": "code",
   "execution_count": 70,
   "id": "f94eedf2",
   "metadata": {},
   "outputs": [
    {
     "data": {
      "text/plain": [
       "(18052, 238)"
      ]
     },
     "execution_count": 70,
     "metadata": {},
     "output_type": "execute_result"
    }
   ],
   "source": [
    "dummy_train = (df_pivot.fillna(0)==0).astype(int)\n",
    "dummy_train = dummy_train.T\n",
    "dummy_train.shape"
   ]
  },
  {
   "cell_type": "code",
   "execution_count": 71,
   "id": "97d971f3",
   "metadata": {},
   "outputs": [
    {
     "data": {
      "text/html": [
       "<div>\n",
       "<style scoped>\n",
       "    .dataframe tbody tr th:only-of-type {\n",
       "        vertical-align: middle;\n",
       "    }\n",
       "\n",
       "    .dataframe tbody tr th {\n",
       "        vertical-align: top;\n",
       "    }\n",
       "\n",
       "    .dataframe thead th {\n",
       "        text-align: right;\n",
       "    }\n",
       "</style>\n",
       "<table border=\"1\" class=\"dataframe\">\n",
       "  <thead>\n",
       "    <tr style=\"text-align: right;\">\n",
       "      <th>name</th>\n",
       "      <th>0.6 Cu. Ft. Letter A4 Size Waterproof 30 Min. Fire File Chest</th>\n",
       "      <th>100:Complete First Season (blu-Ray)</th>\n",
       "      <th>2017-2018 Brownline174 Duraflex 14-Month Planner 8 1/2 X 11 Black</th>\n",
       "      <th>2x Ultra Era with Oxi Booster, 50fl oz</th>\n",
       "      <th>42 Dual Drop Leaf Table with 2 Madrid Chairs\"</th>\n",
       "      <th>4C Grated Parmesan Cheese 100% Natural 8oz Shaker</th>\n",
       "      <th>5302050 15/16 FCT/HOSE ADAPTOR</th>\n",
       "      <th>Africa's Best No-Lye Dual Conditioning Relaxer System Super</th>\n",
       "      <th>Alberto VO5 Salon Series Smooth Plus Sleek Shampoo</th>\n",
       "      <th>Alex Cross (dvdvideo)</th>\n",
       "      <th>...</th>\n",
       "      <th>Vicks Vaporub, Regular, 3.53oz</th>\n",
       "      <th>Voortman Sugar Free Fudge Chocolate Chip Cookies</th>\n",
       "      <th>Wagan Smartac 80watt Inverter With Usb</th>\n",
       "      <th>Walkers Stem Ginger Shortbread</th>\n",
       "      <th>Way Basics 3-Shelf Eco Narrow Bookcase Storage Shelf, Espresso - Formaldehyde Free - Lifetime Guarantee</th>\n",
       "      <th>Wedding Wishes Wedding Guest Book</th>\n",
       "      <th>Weleda Everon Lip Balm</th>\n",
       "      <th>Windex Original Glass Cleaner Refill 67.6oz (2 Liter)</th>\n",
       "      <th>Yes To Carrots Nourishing Body Wash</th>\n",
       "      <th>Yes To Grapefruit Rejuvenating Body Wash</th>\n",
       "    </tr>\n",
       "    <tr>\n",
       "      <th>reviews_username</th>\n",
       "      <th></th>\n",
       "      <th></th>\n",
       "      <th></th>\n",
       "      <th></th>\n",
       "      <th></th>\n",
       "      <th></th>\n",
       "      <th></th>\n",
       "      <th></th>\n",
       "      <th></th>\n",
       "      <th></th>\n",
       "      <th></th>\n",
       "      <th></th>\n",
       "      <th></th>\n",
       "      <th></th>\n",
       "      <th></th>\n",
       "      <th></th>\n",
       "      <th></th>\n",
       "      <th></th>\n",
       "      <th></th>\n",
       "      <th></th>\n",
       "      <th></th>\n",
       "    </tr>\n",
       "  </thead>\n",
       "  <tbody>\n",
       "    <tr>\n",
       "      <th>00dog3</th>\n",
       "      <td>1</td>\n",
       "      <td>1</td>\n",
       "      <td>1</td>\n",
       "      <td>1</td>\n",
       "      <td>1</td>\n",
       "      <td>1</td>\n",
       "      <td>1</td>\n",
       "      <td>1</td>\n",
       "      <td>1</td>\n",
       "      <td>1</td>\n",
       "      <td>...</td>\n",
       "      <td>1</td>\n",
       "      <td>1</td>\n",
       "      <td>1</td>\n",
       "      <td>1</td>\n",
       "      <td>1</td>\n",
       "      <td>1</td>\n",
       "      <td>1</td>\n",
       "      <td>1</td>\n",
       "      <td>1</td>\n",
       "      <td>1</td>\n",
       "    </tr>\n",
       "    <tr>\n",
       "      <th>00sab00</th>\n",
       "      <td>1</td>\n",
       "      <td>1</td>\n",
       "      <td>1</td>\n",
       "      <td>1</td>\n",
       "      <td>1</td>\n",
       "      <td>1</td>\n",
       "      <td>1</td>\n",
       "      <td>1</td>\n",
       "      <td>1</td>\n",
       "      <td>1</td>\n",
       "      <td>...</td>\n",
       "      <td>1</td>\n",
       "      <td>1</td>\n",
       "      <td>1</td>\n",
       "      <td>1</td>\n",
       "      <td>1</td>\n",
       "      <td>1</td>\n",
       "      <td>1</td>\n",
       "      <td>1</td>\n",
       "      <td>1</td>\n",
       "      <td>1</td>\n",
       "    </tr>\n",
       "    <tr>\n",
       "      <th>01impala</th>\n",
       "      <td>1</td>\n",
       "      <td>1</td>\n",
       "      <td>1</td>\n",
       "      <td>1</td>\n",
       "      <td>1</td>\n",
       "      <td>1</td>\n",
       "      <td>1</td>\n",
       "      <td>1</td>\n",
       "      <td>1</td>\n",
       "      <td>1</td>\n",
       "      <td>...</td>\n",
       "      <td>1</td>\n",
       "      <td>1</td>\n",
       "      <td>1</td>\n",
       "      <td>1</td>\n",
       "      <td>1</td>\n",
       "      <td>1</td>\n",
       "      <td>1</td>\n",
       "      <td>1</td>\n",
       "      <td>1</td>\n",
       "      <td>1</td>\n",
       "    </tr>\n",
       "    <tr>\n",
       "      <th>02dakota</th>\n",
       "      <td>1</td>\n",
       "      <td>1</td>\n",
       "      <td>1</td>\n",
       "      <td>1</td>\n",
       "      <td>1</td>\n",
       "      <td>1</td>\n",
       "      <td>1</td>\n",
       "      <td>1</td>\n",
       "      <td>1</td>\n",
       "      <td>1</td>\n",
       "      <td>...</td>\n",
       "      <td>1</td>\n",
       "      <td>1</td>\n",
       "      <td>1</td>\n",
       "      <td>1</td>\n",
       "      <td>1</td>\n",
       "      <td>1</td>\n",
       "      <td>1</td>\n",
       "      <td>1</td>\n",
       "      <td>1</td>\n",
       "      <td>1</td>\n",
       "    </tr>\n",
       "    <tr>\n",
       "      <th>0325home</th>\n",
       "      <td>1</td>\n",
       "      <td>1</td>\n",
       "      <td>1</td>\n",
       "      <td>1</td>\n",
       "      <td>1</td>\n",
       "      <td>1</td>\n",
       "      <td>1</td>\n",
       "      <td>1</td>\n",
       "      <td>1</td>\n",
       "      <td>1</td>\n",
       "      <td>...</td>\n",
       "      <td>1</td>\n",
       "      <td>1</td>\n",
       "      <td>1</td>\n",
       "      <td>1</td>\n",
       "      <td>1</td>\n",
       "      <td>1</td>\n",
       "      <td>1</td>\n",
       "      <td>1</td>\n",
       "      <td>1</td>\n",
       "      <td>1</td>\n",
       "    </tr>\n",
       "    <tr>\n",
       "      <th>...</th>\n",
       "      <td>...</td>\n",
       "      <td>...</td>\n",
       "      <td>...</td>\n",
       "      <td>...</td>\n",
       "      <td>...</td>\n",
       "      <td>...</td>\n",
       "      <td>...</td>\n",
       "      <td>...</td>\n",
       "      <td>...</td>\n",
       "      <td>...</td>\n",
       "      <td>...</td>\n",
       "      <td>...</td>\n",
       "      <td>...</td>\n",
       "      <td>...</td>\n",
       "      <td>...</td>\n",
       "      <td>...</td>\n",
       "      <td>...</td>\n",
       "      <td>...</td>\n",
       "      <td>...</td>\n",
       "      <td>...</td>\n",
       "      <td>...</td>\n",
       "    </tr>\n",
       "    <tr>\n",
       "      <th>zulaa118</th>\n",
       "      <td>1</td>\n",
       "      <td>1</td>\n",
       "      <td>1</td>\n",
       "      <td>1</td>\n",
       "      <td>1</td>\n",
       "      <td>1</td>\n",
       "      <td>1</td>\n",
       "      <td>1</td>\n",
       "      <td>1</td>\n",
       "      <td>1</td>\n",
       "      <td>...</td>\n",
       "      <td>1</td>\n",
       "      <td>1</td>\n",
       "      <td>1</td>\n",
       "      <td>1</td>\n",
       "      <td>1</td>\n",
       "      <td>1</td>\n",
       "      <td>1</td>\n",
       "      <td>1</td>\n",
       "      <td>1</td>\n",
       "      <td>1</td>\n",
       "    </tr>\n",
       "    <tr>\n",
       "      <th>zuttle</th>\n",
       "      <td>1</td>\n",
       "      <td>1</td>\n",
       "      <td>1</td>\n",
       "      <td>1</td>\n",
       "      <td>1</td>\n",
       "      <td>1</td>\n",
       "      <td>1</td>\n",
       "      <td>1</td>\n",
       "      <td>1</td>\n",
       "      <td>1</td>\n",
       "      <td>...</td>\n",
       "      <td>1</td>\n",
       "      <td>1</td>\n",
       "      <td>1</td>\n",
       "      <td>1</td>\n",
       "      <td>1</td>\n",
       "      <td>1</td>\n",
       "      <td>1</td>\n",
       "      <td>1</td>\n",
       "      <td>1</td>\n",
       "      <td>1</td>\n",
       "    </tr>\n",
       "    <tr>\n",
       "      <th>zxjki</th>\n",
       "      <td>1</td>\n",
       "      <td>1</td>\n",
       "      <td>1</td>\n",
       "      <td>1</td>\n",
       "      <td>1</td>\n",
       "      <td>1</td>\n",
       "      <td>1</td>\n",
       "      <td>1</td>\n",
       "      <td>1</td>\n",
       "      <td>1</td>\n",
       "      <td>...</td>\n",
       "      <td>1</td>\n",
       "      <td>1</td>\n",
       "      <td>1</td>\n",
       "      <td>1</td>\n",
       "      <td>1</td>\n",
       "      <td>1</td>\n",
       "      <td>1</td>\n",
       "      <td>1</td>\n",
       "      <td>1</td>\n",
       "      <td>1</td>\n",
       "    </tr>\n",
       "    <tr>\n",
       "      <th>zyiah4</th>\n",
       "      <td>1</td>\n",
       "      <td>1</td>\n",
       "      <td>1</td>\n",
       "      <td>1</td>\n",
       "      <td>1</td>\n",
       "      <td>1</td>\n",
       "      <td>1</td>\n",
       "      <td>1</td>\n",
       "      <td>1</td>\n",
       "      <td>1</td>\n",
       "      <td>...</td>\n",
       "      <td>1</td>\n",
       "      <td>1</td>\n",
       "      <td>1</td>\n",
       "      <td>1</td>\n",
       "      <td>1</td>\n",
       "      <td>1</td>\n",
       "      <td>1</td>\n",
       "      <td>1</td>\n",
       "      <td>1</td>\n",
       "      <td>1</td>\n",
       "    </tr>\n",
       "    <tr>\n",
       "      <th>zzz1127</th>\n",
       "      <td>1</td>\n",
       "      <td>1</td>\n",
       "      <td>1</td>\n",
       "      <td>1</td>\n",
       "      <td>1</td>\n",
       "      <td>1</td>\n",
       "      <td>1</td>\n",
       "      <td>1</td>\n",
       "      <td>1</td>\n",
       "      <td>1</td>\n",
       "      <td>...</td>\n",
       "      <td>1</td>\n",
       "      <td>1</td>\n",
       "      <td>1</td>\n",
       "      <td>1</td>\n",
       "      <td>1</td>\n",
       "      <td>1</td>\n",
       "      <td>1</td>\n",
       "      <td>1</td>\n",
       "      <td>1</td>\n",
       "      <td>1</td>\n",
       "    </tr>\n",
       "  </tbody>\n",
       "</table>\n",
       "<p>18052 rows × 238 columns</p>\n",
       "</div>"
      ],
      "text/plain": [
       "name              0.6 Cu. Ft. Letter A4 Size Waterproof 30 Min. Fire File Chest  \\\n",
       "reviews_username                                                                  \n",
       "00dog3                                                                        1   \n",
       "00sab00                                                                       1   \n",
       "01impala                                                                      1   \n",
       "02dakota                                                                      1   \n",
       "0325home                                                                      1   \n",
       "...                                                                         ...   \n",
       "zulaa118                                                                      1   \n",
       "zuttle                                                                        1   \n",
       "zxjki                                                                         1   \n",
       "zyiah4                                                                        1   \n",
       "zzz1127                                                                       1   \n",
       "\n",
       "name              100:Complete First Season (blu-Ray)  \\\n",
       "reviews_username                                        \n",
       "00dog3                                              1   \n",
       "00sab00                                             1   \n",
       "01impala                                            1   \n",
       "02dakota                                            1   \n",
       "0325home                                            1   \n",
       "...                                               ...   \n",
       "zulaa118                                            1   \n",
       "zuttle                                              1   \n",
       "zxjki                                               1   \n",
       "zyiah4                                              1   \n",
       "zzz1127                                             1   \n",
       "\n",
       "name              2017-2018 Brownline174 Duraflex 14-Month Planner 8 1/2 X 11 Black  \\\n",
       "reviews_username                                                                      \n",
       "00dog3                                                                            1   \n",
       "00sab00                                                                           1   \n",
       "01impala                                                                          1   \n",
       "02dakota                                                                          1   \n",
       "0325home                                                                          1   \n",
       "...                                                                             ...   \n",
       "zulaa118                                                                          1   \n",
       "zuttle                                                                            1   \n",
       "zxjki                                                                             1   \n",
       "zyiah4                                                                            1   \n",
       "zzz1127                                                                           1   \n",
       "\n",
       "name              2x Ultra Era with Oxi Booster, 50fl oz  \\\n",
       "reviews_username                                           \n",
       "00dog3                                                 1   \n",
       "00sab00                                                1   \n",
       "01impala                                               1   \n",
       "02dakota                                               1   \n",
       "0325home                                               1   \n",
       "...                                                  ...   \n",
       "zulaa118                                               1   \n",
       "zuttle                                                 1   \n",
       "zxjki                                                  1   \n",
       "zyiah4                                                 1   \n",
       "zzz1127                                                1   \n",
       "\n",
       "name              42 Dual Drop Leaf Table with 2 Madrid Chairs\"  \\\n",
       "reviews_username                                                  \n",
       "00dog3                                                        1   \n",
       "00sab00                                                       1   \n",
       "01impala                                                      1   \n",
       "02dakota                                                      1   \n",
       "0325home                                                      1   \n",
       "...                                                         ...   \n",
       "zulaa118                                                      1   \n",
       "zuttle                                                        1   \n",
       "zxjki                                                         1   \n",
       "zyiah4                                                        1   \n",
       "zzz1127                                                       1   \n",
       "\n",
       "name              4C Grated Parmesan Cheese 100% Natural 8oz Shaker  \\\n",
       "reviews_username                                                      \n",
       "00dog3                                                            1   \n",
       "00sab00                                                           1   \n",
       "01impala                                                          1   \n",
       "02dakota                                                          1   \n",
       "0325home                                                          1   \n",
       "...                                                             ...   \n",
       "zulaa118                                                          1   \n",
       "zuttle                                                            1   \n",
       "zxjki                                                             1   \n",
       "zyiah4                                                            1   \n",
       "zzz1127                                                           1   \n",
       "\n",
       "name              5302050 15/16 FCT/HOSE ADAPTOR  \\\n",
       "reviews_username                                   \n",
       "00dog3                                         1   \n",
       "00sab00                                        1   \n",
       "01impala                                       1   \n",
       "02dakota                                       1   \n",
       "0325home                                       1   \n",
       "...                                          ...   \n",
       "zulaa118                                       1   \n",
       "zuttle                                         1   \n",
       "zxjki                                          1   \n",
       "zyiah4                                         1   \n",
       "zzz1127                                        1   \n",
       "\n",
       "name              Africa's Best No-Lye Dual Conditioning Relaxer System Super  \\\n",
       "reviews_username                                                                \n",
       "00dog3                                                                      1   \n",
       "00sab00                                                                     1   \n",
       "01impala                                                                    1   \n",
       "02dakota                                                                    1   \n",
       "0325home                                                                    1   \n",
       "...                                                                       ...   \n",
       "zulaa118                                                                    1   \n",
       "zuttle                                                                      1   \n",
       "zxjki                                                                       1   \n",
       "zyiah4                                                                      1   \n",
       "zzz1127                                                                     1   \n",
       "\n",
       "name              Alberto VO5 Salon Series Smooth Plus Sleek Shampoo  \\\n",
       "reviews_username                                                       \n",
       "00dog3                                                             1   \n",
       "00sab00                                                            1   \n",
       "01impala                                                           1   \n",
       "02dakota                                                           1   \n",
       "0325home                                                           1   \n",
       "...                                                              ...   \n",
       "zulaa118                                                           1   \n",
       "zuttle                                                             1   \n",
       "zxjki                                                              1   \n",
       "zyiah4                                                             1   \n",
       "zzz1127                                                            1   \n",
       "\n",
       "name              Alex Cross (dvdvideo)  ...  Vicks Vaporub, Regular, 3.53oz  \\\n",
       "reviews_username                         ...                                   \n",
       "00dog3                                1  ...                               1   \n",
       "00sab00                               1  ...                               1   \n",
       "01impala                              1  ...                               1   \n",
       "02dakota                              1  ...                               1   \n",
       "0325home                              1  ...                               1   \n",
       "...                                 ...  ...                             ...   \n",
       "zulaa118                              1  ...                               1   \n",
       "zuttle                                1  ...                               1   \n",
       "zxjki                                 1  ...                               1   \n",
       "zyiah4                                1  ...                               1   \n",
       "zzz1127                               1  ...                               1   \n",
       "\n",
       "name              Voortman Sugar Free Fudge Chocolate Chip Cookies  \\\n",
       "reviews_username                                                     \n",
       "00dog3                                                           1   \n",
       "00sab00                                                          1   \n",
       "01impala                                                         1   \n",
       "02dakota                                                         1   \n",
       "0325home                                                         1   \n",
       "...                                                            ...   \n",
       "zulaa118                                                         1   \n",
       "zuttle                                                           1   \n",
       "zxjki                                                            1   \n",
       "zyiah4                                                           1   \n",
       "zzz1127                                                          1   \n",
       "\n",
       "name              Wagan Smartac 80watt Inverter With Usb  \\\n",
       "reviews_username                                           \n",
       "00dog3                                                 1   \n",
       "00sab00                                                1   \n",
       "01impala                                               1   \n",
       "02dakota                                               1   \n",
       "0325home                                               1   \n",
       "...                                                  ...   \n",
       "zulaa118                                               1   \n",
       "zuttle                                                 1   \n",
       "zxjki                                                  1   \n",
       "zyiah4                                                 1   \n",
       "zzz1127                                                1   \n",
       "\n",
       "name              Walkers Stem Ginger Shortbread  \\\n",
       "reviews_username                                   \n",
       "00dog3                                         1   \n",
       "00sab00                                        1   \n",
       "01impala                                       1   \n",
       "02dakota                                       1   \n",
       "0325home                                       1   \n",
       "...                                          ...   \n",
       "zulaa118                                       1   \n",
       "zuttle                                         1   \n",
       "zxjki                                          1   \n",
       "zyiah4                                         1   \n",
       "zzz1127                                        1   \n",
       "\n",
       "name              Way Basics 3-Shelf Eco Narrow Bookcase Storage Shelf, Espresso - Formaldehyde Free - Lifetime Guarantee  \\\n",
       "reviews_username                                                                                                            \n",
       "00dog3                                                                                                                  1   \n",
       "00sab00                                                                                                                 1   \n",
       "01impala                                                                                                                1   \n",
       "02dakota                                                                                                                1   \n",
       "0325home                                                                                                                1   \n",
       "...                                                                                                                   ...   \n",
       "zulaa118                                                                                                                1   \n",
       "zuttle                                                                                                                  1   \n",
       "zxjki                                                                                                                   1   \n",
       "zyiah4                                                                                                                  1   \n",
       "zzz1127                                                                                                                 1   \n",
       "\n",
       "name              Wedding Wishes Wedding Guest Book  Weleda Everon Lip Balm  \\\n",
       "reviews_username                                                              \n",
       "00dog3                                            1                       1   \n",
       "00sab00                                           1                       1   \n",
       "01impala                                          1                       1   \n",
       "02dakota                                          1                       1   \n",
       "0325home                                          1                       1   \n",
       "...                                             ...                     ...   \n",
       "zulaa118                                          1                       1   \n",
       "zuttle                                            1                       1   \n",
       "zxjki                                             1                       1   \n",
       "zyiah4                                            1                       1   \n",
       "zzz1127                                           1                       1   \n",
       "\n",
       "name              Windex Original Glass Cleaner Refill 67.6oz (2 Liter)  \\\n",
       "reviews_username                                                          \n",
       "00dog3                                                                1   \n",
       "00sab00                                                               1   \n",
       "01impala                                                              1   \n",
       "02dakota                                                              1   \n",
       "0325home                                                              1   \n",
       "...                                                                 ...   \n",
       "zulaa118                                                              1   \n",
       "zuttle                                                                1   \n",
       "zxjki                                                                 1   \n",
       "zyiah4                                                                1   \n",
       "zzz1127                                                               1   \n",
       "\n",
       "name              Yes To Carrots Nourishing Body Wash  \\\n",
       "reviews_username                                        \n",
       "00dog3                                              1   \n",
       "00sab00                                             1   \n",
       "01impala                                            1   \n",
       "02dakota                                            1   \n",
       "0325home                                            1   \n",
       "...                                               ...   \n",
       "zulaa118                                            1   \n",
       "zuttle                                              1   \n",
       "zxjki                                               1   \n",
       "zyiah4                                              1   \n",
       "zzz1127                                             1   \n",
       "\n",
       "name              Yes To Grapefruit Rejuvenating Body Wash  \n",
       "reviews_username                                            \n",
       "00dog3                                                   1  \n",
       "00sab00                                                  1  \n",
       "01impala                                                 1  \n",
       "02dakota                                                 1  \n",
       "0325home                                                 1  \n",
       "...                                                    ...  \n",
       "zulaa118                                                 1  \n",
       "zuttle                                                   1  \n",
       "zxjki                                                    1  \n",
       "zyiah4                                                   1  \n",
       "zzz1127                                                  1  \n",
       "\n",
       "[18052 rows x 238 columns]"
      ]
     },
     "execution_count": 71,
     "metadata": {},
     "output_type": "execute_result"
    }
   ],
   "source": [
    "dummy_train"
   ]
  },
  {
   "cell_type": "code",
   "execution_count": 72,
   "id": "5ab9c282",
   "metadata": {},
   "outputs": [
    {
     "data": {
      "text/plain": [
       "name\n",
       "Planes: Fire Rescue (2 Discs) (includes Digital Copy) (blu-Ray/dvd)    4.0\n",
       "Name: zubb, dtype: float64"
      ]
     },
     "execution_count": 72,
     "metadata": {},
     "output_type": "execute_result"
    }
   ],
   "source": [
    "df_pivot.T.loc['zubb'][df_pivot.T.loc['zubb']>1]"
   ]
  },
  {
   "cell_type": "code",
   "execution_count": 309,
   "id": "78c9a8a2",
   "metadata": {},
   "outputs": [
    {
     "data": {
      "text/plain": [
       "237"
      ]
     },
     "execution_count": 309,
     "metadata": {},
     "output_type": "execute_result"
    }
   ],
   "source": [
    "dummy_train.loc['zubb'].sum()"
   ]
  },
  {
   "cell_type": "code",
   "execution_count": 310,
   "id": "04d3c35d",
   "metadata": {},
   "outputs": [
    {
     "data": {
      "text/plain": [
       "0"
      ]
     },
     "execution_count": 310,
     "metadata": {},
     "output_type": "execute_result"
    }
   ],
   "source": [
    "dummy_train.loc['zubb','Planes: Fire Rescue (2 Discs) (includes Digital Copy) (blu-Ray/dvd)']"
   ]
  },
  {
   "cell_type": "markdown",
   "id": "6df07519",
   "metadata": {},
   "source": [
    "It's verified that the places where ratings are given are zeroed in dummy_train df."
   ]
  },
  {
   "cell_type": "code",
   "execution_count": 74,
   "id": "3db40c3d",
   "metadata": {},
   "outputs": [
    {
     "data": {
      "text/plain": [
       "(18052, 238)"
      ]
     },
     "execution_count": 74,
     "metadata": {},
     "output_type": "execute_result"
    }
   ],
   "source": [
    "dummy_train.shape"
   ]
  },
  {
   "cell_type": "code",
   "execution_count": 75,
   "id": "7db1a4b6",
   "metadata": {},
   "outputs": [
    {
     "data": {
      "text/html": [
       "<div>\n",
       "<style scoped>\n",
       "    .dataframe tbody tr th:only-of-type {\n",
       "        vertical-align: middle;\n",
       "    }\n",
       "\n",
       "    .dataframe tbody tr th {\n",
       "        vertical-align: top;\n",
       "    }\n",
       "\n",
       "    .dataframe thead th {\n",
       "        text-align: right;\n",
       "    }\n",
       "</style>\n",
       "<table border=\"1\" class=\"dataframe\">\n",
       "  <thead>\n",
       "    <tr style=\"text-align: right;\">\n",
       "      <th>name</th>\n",
       "      <th>0.6 Cu. Ft. Letter A4 Size Waterproof 30 Min. Fire File Chest</th>\n",
       "      <th>100:Complete First Season (blu-Ray)</th>\n",
       "      <th>2017-2018 Brownline174 Duraflex 14-Month Planner 8 1/2 X 11 Black</th>\n",
       "      <th>2x Ultra Era with Oxi Booster, 50fl oz</th>\n",
       "      <th>42 Dual Drop Leaf Table with 2 Madrid Chairs\"</th>\n",
       "      <th>4C Grated Parmesan Cheese 100% Natural 8oz Shaker</th>\n",
       "      <th>5302050 15/16 FCT/HOSE ADAPTOR</th>\n",
       "      <th>Africa's Best No-Lye Dual Conditioning Relaxer System Super</th>\n",
       "      <th>Alberto VO5 Salon Series Smooth Plus Sleek Shampoo</th>\n",
       "      <th>Alex Cross (dvdvideo)</th>\n",
       "      <th>...</th>\n",
       "      <th>Vicks Vaporub, Regular, 3.53oz</th>\n",
       "      <th>Voortman Sugar Free Fudge Chocolate Chip Cookies</th>\n",
       "      <th>Wagan Smartac 80watt Inverter With Usb</th>\n",
       "      <th>Walkers Stem Ginger Shortbread</th>\n",
       "      <th>Way Basics 3-Shelf Eco Narrow Bookcase Storage Shelf, Espresso - Formaldehyde Free - Lifetime Guarantee</th>\n",
       "      <th>Wedding Wishes Wedding Guest Book</th>\n",
       "      <th>Weleda Everon Lip Balm</th>\n",
       "      <th>Windex Original Glass Cleaner Refill 67.6oz (2 Liter)</th>\n",
       "      <th>Yes To Carrots Nourishing Body Wash</th>\n",
       "      <th>Yes To Grapefruit Rejuvenating Body Wash</th>\n",
       "    </tr>\n",
       "    <tr>\n",
       "      <th>reviews_username</th>\n",
       "      <th></th>\n",
       "      <th></th>\n",
       "      <th></th>\n",
       "      <th></th>\n",
       "      <th></th>\n",
       "      <th></th>\n",
       "      <th></th>\n",
       "      <th></th>\n",
       "      <th></th>\n",
       "      <th></th>\n",
       "      <th></th>\n",
       "      <th></th>\n",
       "      <th></th>\n",
       "      <th></th>\n",
       "      <th></th>\n",
       "      <th></th>\n",
       "      <th></th>\n",
       "      <th></th>\n",
       "      <th></th>\n",
       "      <th></th>\n",
       "      <th></th>\n",
       "    </tr>\n",
       "  </thead>\n",
       "  <tbody>\n",
       "    <tr>\n",
       "      <th>00dog3</th>\n",
       "      <td>1</td>\n",
       "      <td>1</td>\n",
       "      <td>1</td>\n",
       "      <td>1</td>\n",
       "      <td>1</td>\n",
       "      <td>1</td>\n",
       "      <td>1</td>\n",
       "      <td>1</td>\n",
       "      <td>1</td>\n",
       "      <td>1</td>\n",
       "      <td>...</td>\n",
       "      <td>1</td>\n",
       "      <td>1</td>\n",
       "      <td>1</td>\n",
       "      <td>1</td>\n",
       "      <td>1</td>\n",
       "      <td>1</td>\n",
       "      <td>1</td>\n",
       "      <td>1</td>\n",
       "      <td>1</td>\n",
       "      <td>1</td>\n",
       "    </tr>\n",
       "    <tr>\n",
       "      <th>00sab00</th>\n",
       "      <td>1</td>\n",
       "      <td>1</td>\n",
       "      <td>1</td>\n",
       "      <td>1</td>\n",
       "      <td>1</td>\n",
       "      <td>1</td>\n",
       "      <td>1</td>\n",
       "      <td>1</td>\n",
       "      <td>1</td>\n",
       "      <td>1</td>\n",
       "      <td>...</td>\n",
       "      <td>1</td>\n",
       "      <td>1</td>\n",
       "      <td>1</td>\n",
       "      <td>1</td>\n",
       "      <td>1</td>\n",
       "      <td>1</td>\n",
       "      <td>1</td>\n",
       "      <td>1</td>\n",
       "      <td>1</td>\n",
       "      <td>1</td>\n",
       "    </tr>\n",
       "    <tr>\n",
       "      <th>01impala</th>\n",
       "      <td>1</td>\n",
       "      <td>1</td>\n",
       "      <td>1</td>\n",
       "      <td>1</td>\n",
       "      <td>1</td>\n",
       "      <td>1</td>\n",
       "      <td>1</td>\n",
       "      <td>1</td>\n",
       "      <td>1</td>\n",
       "      <td>1</td>\n",
       "      <td>...</td>\n",
       "      <td>1</td>\n",
       "      <td>1</td>\n",
       "      <td>1</td>\n",
       "      <td>1</td>\n",
       "      <td>1</td>\n",
       "      <td>1</td>\n",
       "      <td>1</td>\n",
       "      <td>1</td>\n",
       "      <td>1</td>\n",
       "      <td>1</td>\n",
       "    </tr>\n",
       "    <tr>\n",
       "      <th>02dakota</th>\n",
       "      <td>1</td>\n",
       "      <td>1</td>\n",
       "      <td>1</td>\n",
       "      <td>1</td>\n",
       "      <td>1</td>\n",
       "      <td>1</td>\n",
       "      <td>1</td>\n",
       "      <td>1</td>\n",
       "      <td>1</td>\n",
       "      <td>1</td>\n",
       "      <td>...</td>\n",
       "      <td>1</td>\n",
       "      <td>1</td>\n",
       "      <td>1</td>\n",
       "      <td>1</td>\n",
       "      <td>1</td>\n",
       "      <td>1</td>\n",
       "      <td>1</td>\n",
       "      <td>1</td>\n",
       "      <td>1</td>\n",
       "      <td>1</td>\n",
       "    </tr>\n",
       "    <tr>\n",
       "      <th>0325home</th>\n",
       "      <td>1</td>\n",
       "      <td>1</td>\n",
       "      <td>1</td>\n",
       "      <td>1</td>\n",
       "      <td>1</td>\n",
       "      <td>1</td>\n",
       "      <td>1</td>\n",
       "      <td>1</td>\n",
       "      <td>1</td>\n",
       "      <td>1</td>\n",
       "      <td>...</td>\n",
       "      <td>1</td>\n",
       "      <td>1</td>\n",
       "      <td>1</td>\n",
       "      <td>1</td>\n",
       "      <td>1</td>\n",
       "      <td>1</td>\n",
       "      <td>1</td>\n",
       "      <td>1</td>\n",
       "      <td>1</td>\n",
       "      <td>1</td>\n",
       "    </tr>\n",
       "  </tbody>\n",
       "</table>\n",
       "<p>5 rows × 238 columns</p>\n",
       "</div>"
      ],
      "text/plain": [
       "name              0.6 Cu. Ft. Letter A4 Size Waterproof 30 Min. Fire File Chest  \\\n",
       "reviews_username                                                                  \n",
       "00dog3                                                                        1   \n",
       "00sab00                                                                       1   \n",
       "01impala                                                                      1   \n",
       "02dakota                                                                      1   \n",
       "0325home                                                                      1   \n",
       "\n",
       "name              100:Complete First Season (blu-Ray)  \\\n",
       "reviews_username                                        \n",
       "00dog3                                              1   \n",
       "00sab00                                             1   \n",
       "01impala                                            1   \n",
       "02dakota                                            1   \n",
       "0325home                                            1   \n",
       "\n",
       "name              2017-2018 Brownline174 Duraflex 14-Month Planner 8 1/2 X 11 Black  \\\n",
       "reviews_username                                                                      \n",
       "00dog3                                                                            1   \n",
       "00sab00                                                                           1   \n",
       "01impala                                                                          1   \n",
       "02dakota                                                                          1   \n",
       "0325home                                                                          1   \n",
       "\n",
       "name              2x Ultra Era with Oxi Booster, 50fl oz  \\\n",
       "reviews_username                                           \n",
       "00dog3                                                 1   \n",
       "00sab00                                                1   \n",
       "01impala                                               1   \n",
       "02dakota                                               1   \n",
       "0325home                                               1   \n",
       "\n",
       "name              42 Dual Drop Leaf Table with 2 Madrid Chairs\"  \\\n",
       "reviews_username                                                  \n",
       "00dog3                                                        1   \n",
       "00sab00                                                       1   \n",
       "01impala                                                      1   \n",
       "02dakota                                                      1   \n",
       "0325home                                                      1   \n",
       "\n",
       "name              4C Grated Parmesan Cheese 100% Natural 8oz Shaker  \\\n",
       "reviews_username                                                      \n",
       "00dog3                                                            1   \n",
       "00sab00                                                           1   \n",
       "01impala                                                          1   \n",
       "02dakota                                                          1   \n",
       "0325home                                                          1   \n",
       "\n",
       "name              5302050 15/16 FCT/HOSE ADAPTOR  \\\n",
       "reviews_username                                   \n",
       "00dog3                                         1   \n",
       "00sab00                                        1   \n",
       "01impala                                       1   \n",
       "02dakota                                       1   \n",
       "0325home                                       1   \n",
       "\n",
       "name              Africa's Best No-Lye Dual Conditioning Relaxer System Super  \\\n",
       "reviews_username                                                                \n",
       "00dog3                                                                      1   \n",
       "00sab00                                                                     1   \n",
       "01impala                                                                    1   \n",
       "02dakota                                                                    1   \n",
       "0325home                                                                    1   \n",
       "\n",
       "name              Alberto VO5 Salon Series Smooth Plus Sleek Shampoo  \\\n",
       "reviews_username                                                       \n",
       "00dog3                                                             1   \n",
       "00sab00                                                            1   \n",
       "01impala                                                           1   \n",
       "02dakota                                                           1   \n",
       "0325home                                                           1   \n",
       "\n",
       "name              Alex Cross (dvdvideo)  ...  Vicks Vaporub, Regular, 3.53oz  \\\n",
       "reviews_username                         ...                                   \n",
       "00dog3                                1  ...                               1   \n",
       "00sab00                               1  ...                               1   \n",
       "01impala                              1  ...                               1   \n",
       "02dakota                              1  ...                               1   \n",
       "0325home                              1  ...                               1   \n",
       "\n",
       "name              Voortman Sugar Free Fudge Chocolate Chip Cookies  \\\n",
       "reviews_username                                                     \n",
       "00dog3                                                           1   \n",
       "00sab00                                                          1   \n",
       "01impala                                                         1   \n",
       "02dakota                                                         1   \n",
       "0325home                                                         1   \n",
       "\n",
       "name              Wagan Smartac 80watt Inverter With Usb  \\\n",
       "reviews_username                                           \n",
       "00dog3                                                 1   \n",
       "00sab00                                                1   \n",
       "01impala                                               1   \n",
       "02dakota                                               1   \n",
       "0325home                                               1   \n",
       "\n",
       "name              Walkers Stem Ginger Shortbread  \\\n",
       "reviews_username                                   \n",
       "00dog3                                         1   \n",
       "00sab00                                        1   \n",
       "01impala                                       1   \n",
       "02dakota                                       1   \n",
       "0325home                                       1   \n",
       "\n",
       "name              Way Basics 3-Shelf Eco Narrow Bookcase Storage Shelf, Espresso - Formaldehyde Free - Lifetime Guarantee  \\\n",
       "reviews_username                                                                                                            \n",
       "00dog3                                                                                                                  1   \n",
       "00sab00                                                                                                                 1   \n",
       "01impala                                                                                                                1   \n",
       "02dakota                                                                                                                1   \n",
       "0325home                                                                                                                1   \n",
       "\n",
       "name              Wedding Wishes Wedding Guest Book  Weleda Everon Lip Balm  \\\n",
       "reviews_username                                                              \n",
       "00dog3                                            1                       1   \n",
       "00sab00                                           1                       1   \n",
       "01impala                                          1                       1   \n",
       "02dakota                                          1                       1   \n",
       "0325home                                          1                       1   \n",
       "\n",
       "name              Windex Original Glass Cleaner Refill 67.6oz (2 Liter)  \\\n",
       "reviews_username                                                          \n",
       "00dog3                                                                1   \n",
       "00sab00                                                               1   \n",
       "01impala                                                              1   \n",
       "02dakota                                                              1   \n",
       "0325home                                                              1   \n",
       "\n",
       "name              Yes To Carrots Nourishing Body Wash  \\\n",
       "reviews_username                                        \n",
       "00dog3                                              1   \n",
       "00sab00                                             1   \n",
       "01impala                                            1   \n",
       "02dakota                                            1   \n",
       "0325home                                            1   \n",
       "\n",
       "name              Yes To Grapefruit Rejuvenating Body Wash  \n",
       "reviews_username                                            \n",
       "00dog3                                                   1  \n",
       "00sab00                                                  1  \n",
       "01impala                                                 1  \n",
       "02dakota                                                 1  \n",
       "0325home                                                 1  \n",
       "\n",
       "[5 rows x 238 columns]"
      ]
     },
     "execution_count": 75,
     "metadata": {},
     "output_type": "execute_result"
    }
   ],
   "source": [
    "dummy_train.head()"
   ]
  },
  {
   "cell_type": "markdown",
   "id": "de2ca324",
   "metadata": {},
   "source": [
    "#### Filtering the rating only for the movies not rated by the user for recommendation"
   ]
  },
  {
   "cell_type": "code",
   "execution_count": 304,
   "id": "19fcf0c8",
   "metadata": {},
   "outputs": [
    {
     "data": {
      "text/html": [
       "<div>\n",
       "<style scoped>\n",
       "    .dataframe tbody tr th:only-of-type {\n",
       "        vertical-align: middle;\n",
       "    }\n",
       "\n",
       "    .dataframe tbody tr th {\n",
       "        vertical-align: top;\n",
       "    }\n",
       "\n",
       "    .dataframe thead th {\n",
       "        text-align: right;\n",
       "    }\n",
       "</style>\n",
       "<table border=\"1\" class=\"dataframe\">\n",
       "  <thead>\n",
       "    <tr style=\"text-align: right;\">\n",
       "      <th>name</th>\n",
       "      <th>0.6 Cu. Ft. Letter A4 Size Waterproof 30 Min. Fire File Chest</th>\n",
       "      <th>100:Complete First Season (blu-Ray)</th>\n",
       "      <th>2017-2018 Brownline174 Duraflex 14-Month Planner 8 1/2 X 11 Black</th>\n",
       "      <th>2x Ultra Era with Oxi Booster, 50fl oz</th>\n",
       "      <th>42 Dual Drop Leaf Table with 2 Madrid Chairs\"</th>\n",
       "      <th>4C Grated Parmesan Cheese 100% Natural 8oz Shaker</th>\n",
       "      <th>5302050 15/16 FCT/HOSE ADAPTOR</th>\n",
       "      <th>Africa's Best No-Lye Dual Conditioning Relaxer System Super</th>\n",
       "      <th>Alberto VO5 Salon Series Smooth Plus Sleek Shampoo</th>\n",
       "      <th>Alex Cross (dvdvideo)</th>\n",
       "      <th>...</th>\n",
       "      <th>Vicks Vaporub, Regular, 3.53oz</th>\n",
       "      <th>Voortman Sugar Free Fudge Chocolate Chip Cookies</th>\n",
       "      <th>Wagan Smartac 80watt Inverter With Usb</th>\n",
       "      <th>Walkers Stem Ginger Shortbread</th>\n",
       "      <th>Way Basics 3-Shelf Eco Narrow Bookcase Storage Shelf, Espresso - Formaldehyde Free - Lifetime Guarantee</th>\n",
       "      <th>Wedding Wishes Wedding Guest Book</th>\n",
       "      <th>Weleda Everon Lip Balm</th>\n",
       "      <th>Windex Original Glass Cleaner Refill 67.6oz (2 Liter)</th>\n",
       "      <th>Yes To Carrots Nourishing Body Wash</th>\n",
       "      <th>Yes To Grapefruit Rejuvenating Body Wash</th>\n",
       "    </tr>\n",
       "    <tr>\n",
       "      <th>reviews_username</th>\n",
       "      <th></th>\n",
       "      <th></th>\n",
       "      <th></th>\n",
       "      <th></th>\n",
       "      <th></th>\n",
       "      <th></th>\n",
       "      <th></th>\n",
       "      <th></th>\n",
       "      <th></th>\n",
       "      <th></th>\n",
       "      <th></th>\n",
       "      <th></th>\n",
       "      <th></th>\n",
       "      <th></th>\n",
       "      <th></th>\n",
       "      <th></th>\n",
       "      <th></th>\n",
       "      <th></th>\n",
       "      <th></th>\n",
       "      <th></th>\n",
       "      <th></th>\n",
       "    </tr>\n",
       "  </thead>\n",
       "  <tbody>\n",
       "    <tr>\n",
       "      <th>00dog3</th>\n",
       "      <td>0.0</td>\n",
       "      <td>0.000000</td>\n",
       "      <td>0.0</td>\n",
       "      <td>0.0</td>\n",
       "      <td>0.0</td>\n",
       "      <td>0.0</td>\n",
       "      <td>0.0</td>\n",
       "      <td>0.0</td>\n",
       "      <td>0.0</td>\n",
       "      <td>0.091855</td>\n",
       "      <td>...</td>\n",
       "      <td>0.000000</td>\n",
       "      <td>0.0</td>\n",
       "      <td>0.000000</td>\n",
       "      <td>0.0</td>\n",
       "      <td>0.000000</td>\n",
       "      <td>0.0</td>\n",
       "      <td>0.0</td>\n",
       "      <td>0.000000</td>\n",
       "      <td>0.000000</td>\n",
       "      <td>0.000000</td>\n",
       "    </tr>\n",
       "    <tr>\n",
       "      <th>00sab00</th>\n",
       "      <td>0.0</td>\n",
       "      <td>0.011049</td>\n",
       "      <td>0.0</td>\n",
       "      <td>0.0</td>\n",
       "      <td>0.0</td>\n",
       "      <td>0.0</td>\n",
       "      <td>0.0</td>\n",
       "      <td>0.0</td>\n",
       "      <td>0.0</td>\n",
       "      <td>0.036498</td>\n",
       "      <td>...</td>\n",
       "      <td>0.000000</td>\n",
       "      <td>0.0</td>\n",
       "      <td>0.107237</td>\n",
       "      <td>0.0</td>\n",
       "      <td>0.034198</td>\n",
       "      <td>0.0</td>\n",
       "      <td>0.0</td>\n",
       "      <td>0.013890</td>\n",
       "      <td>0.016365</td>\n",
       "      <td>0.020766</td>\n",
       "    </tr>\n",
       "    <tr>\n",
       "      <th>01impala</th>\n",
       "      <td>0.0</td>\n",
       "      <td>0.067709</td>\n",
       "      <td>0.0</td>\n",
       "      <td>0.0</td>\n",
       "      <td>0.0</td>\n",
       "      <td>0.0</td>\n",
       "      <td>0.0</td>\n",
       "      <td>0.0</td>\n",
       "      <td>0.0</td>\n",
       "      <td>0.026601</td>\n",
       "      <td>...</td>\n",
       "      <td>0.003800</td>\n",
       "      <td>0.0</td>\n",
       "      <td>0.000000</td>\n",
       "      <td>0.0</td>\n",
       "      <td>0.024165</td>\n",
       "      <td>0.0</td>\n",
       "      <td>0.0</td>\n",
       "      <td>0.039748</td>\n",
       "      <td>0.000000</td>\n",
       "      <td>0.013043</td>\n",
       "    </tr>\n",
       "    <tr>\n",
       "      <th>02dakota</th>\n",
       "      <td>0.0</td>\n",
       "      <td>0.112848</td>\n",
       "      <td>0.0</td>\n",
       "      <td>0.0</td>\n",
       "      <td>0.0</td>\n",
       "      <td>0.0</td>\n",
       "      <td>0.0</td>\n",
       "      <td>0.0</td>\n",
       "      <td>0.0</td>\n",
       "      <td>0.044335</td>\n",
       "      <td>...</td>\n",
       "      <td>0.006333</td>\n",
       "      <td>0.0</td>\n",
       "      <td>0.000000</td>\n",
       "      <td>0.0</td>\n",
       "      <td>0.040274</td>\n",
       "      <td>0.0</td>\n",
       "      <td>0.0</td>\n",
       "      <td>0.066247</td>\n",
       "      <td>0.000000</td>\n",
       "      <td>0.021739</td>\n",
       "    </tr>\n",
       "    <tr>\n",
       "      <th>0325home</th>\n",
       "      <td>0.0</td>\n",
       "      <td>0.007910</td>\n",
       "      <td>0.0</td>\n",
       "      <td>0.0</td>\n",
       "      <td>0.0</td>\n",
       "      <td>0.0</td>\n",
       "      <td>0.0</td>\n",
       "      <td>0.0</td>\n",
       "      <td>0.0</td>\n",
       "      <td>0.012621</td>\n",
       "      <td>...</td>\n",
       "      <td>0.014783</td>\n",
       "      <td>0.0</td>\n",
       "      <td>0.000000</td>\n",
       "      <td>0.0</td>\n",
       "      <td>0.026115</td>\n",
       "      <td>0.0</td>\n",
       "      <td>0.0</td>\n",
       "      <td>0.014850</td>\n",
       "      <td>0.000000</td>\n",
       "      <td>0.000000</td>\n",
       "    </tr>\n",
       "  </tbody>\n",
       "</table>\n",
       "<p>5 rows × 238 columns</p>\n",
       "</div>"
      ],
      "text/plain": [
       "name              0.6 Cu. Ft. Letter A4 Size Waterproof 30 Min. Fire File Chest  \\\n",
       "reviews_username                                                                  \n",
       "00dog3                                                                      0.0   \n",
       "00sab00                                                                     0.0   \n",
       "01impala                                                                    0.0   \n",
       "02dakota                                                                    0.0   \n",
       "0325home                                                                    0.0   \n",
       "\n",
       "name              100:Complete First Season (blu-Ray)  \\\n",
       "reviews_username                                        \n",
       "00dog3                                       0.000000   \n",
       "00sab00                                      0.011049   \n",
       "01impala                                     0.067709   \n",
       "02dakota                                     0.112848   \n",
       "0325home                                     0.007910   \n",
       "\n",
       "name              2017-2018 Brownline174 Duraflex 14-Month Planner 8 1/2 X 11 Black  \\\n",
       "reviews_username                                                                      \n",
       "00dog3                                                                          0.0   \n",
       "00sab00                                                                         0.0   \n",
       "01impala                                                                        0.0   \n",
       "02dakota                                                                        0.0   \n",
       "0325home                                                                        0.0   \n",
       "\n",
       "name              2x Ultra Era with Oxi Booster, 50fl oz  \\\n",
       "reviews_username                                           \n",
       "00dog3                                               0.0   \n",
       "00sab00                                              0.0   \n",
       "01impala                                             0.0   \n",
       "02dakota                                             0.0   \n",
       "0325home                                             0.0   \n",
       "\n",
       "name              42 Dual Drop Leaf Table with 2 Madrid Chairs\"  \\\n",
       "reviews_username                                                  \n",
       "00dog3                                                      0.0   \n",
       "00sab00                                                     0.0   \n",
       "01impala                                                    0.0   \n",
       "02dakota                                                    0.0   \n",
       "0325home                                                    0.0   \n",
       "\n",
       "name              4C Grated Parmesan Cheese 100% Natural 8oz Shaker  \\\n",
       "reviews_username                                                      \n",
       "00dog3                                                          0.0   \n",
       "00sab00                                                         0.0   \n",
       "01impala                                                        0.0   \n",
       "02dakota                                                        0.0   \n",
       "0325home                                                        0.0   \n",
       "\n",
       "name              5302050 15/16 FCT/HOSE ADAPTOR  \\\n",
       "reviews_username                                   \n",
       "00dog3                                       0.0   \n",
       "00sab00                                      0.0   \n",
       "01impala                                     0.0   \n",
       "02dakota                                     0.0   \n",
       "0325home                                     0.0   \n",
       "\n",
       "name              Africa's Best No-Lye Dual Conditioning Relaxer System Super  \\\n",
       "reviews_username                                                                \n",
       "00dog3                                                                    0.0   \n",
       "00sab00                                                                   0.0   \n",
       "01impala                                                                  0.0   \n",
       "02dakota                                                                  0.0   \n",
       "0325home                                                                  0.0   \n",
       "\n",
       "name              Alberto VO5 Salon Series Smooth Plus Sleek Shampoo  \\\n",
       "reviews_username                                                       \n",
       "00dog3                                                           0.0   \n",
       "00sab00                                                          0.0   \n",
       "01impala                                                         0.0   \n",
       "02dakota                                                         0.0   \n",
       "0325home                                                         0.0   \n",
       "\n",
       "name              Alex Cross (dvdvideo)  ...  Vicks Vaporub, Regular, 3.53oz  \\\n",
       "reviews_username                         ...                                   \n",
       "00dog3                         0.091855  ...                        0.000000   \n",
       "00sab00                        0.036498  ...                        0.000000   \n",
       "01impala                       0.026601  ...                        0.003800   \n",
       "02dakota                       0.044335  ...                        0.006333   \n",
       "0325home                       0.012621  ...                        0.014783   \n",
       "\n",
       "name              Voortman Sugar Free Fudge Chocolate Chip Cookies  \\\n",
       "reviews_username                                                     \n",
       "00dog3                                                         0.0   \n",
       "00sab00                                                        0.0   \n",
       "01impala                                                       0.0   \n",
       "02dakota                                                       0.0   \n",
       "0325home                                                       0.0   \n",
       "\n",
       "name              Wagan Smartac 80watt Inverter With Usb  \\\n",
       "reviews_username                                           \n",
       "00dog3                                          0.000000   \n",
       "00sab00                                         0.107237   \n",
       "01impala                                        0.000000   \n",
       "02dakota                                        0.000000   \n",
       "0325home                                        0.000000   \n",
       "\n",
       "name              Walkers Stem Ginger Shortbread  \\\n",
       "reviews_username                                   \n",
       "00dog3                                       0.0   \n",
       "00sab00                                      0.0   \n",
       "01impala                                     0.0   \n",
       "02dakota                                     0.0   \n",
       "0325home                                     0.0   \n",
       "\n",
       "name              Way Basics 3-Shelf Eco Narrow Bookcase Storage Shelf, Espresso - Formaldehyde Free - Lifetime Guarantee  \\\n",
       "reviews_username                                                                                                            \n",
       "00dog3                                                                                                           0.000000   \n",
       "00sab00                                                                                                          0.034198   \n",
       "01impala                                                                                                         0.024165   \n",
       "02dakota                                                                                                         0.040274   \n",
       "0325home                                                                                                         0.026115   \n",
       "\n",
       "name              Wedding Wishes Wedding Guest Book  Weleda Everon Lip Balm  \\\n",
       "reviews_username                                                              \n",
       "00dog3                                          0.0                     0.0   \n",
       "00sab00                                         0.0                     0.0   \n",
       "01impala                                        0.0                     0.0   \n",
       "02dakota                                        0.0                     0.0   \n",
       "0325home                                        0.0                     0.0   \n",
       "\n",
       "name              Windex Original Glass Cleaner Refill 67.6oz (2 Liter)  \\\n",
       "reviews_username                                                          \n",
       "00dog3                                                         0.000000   \n",
       "00sab00                                                        0.013890   \n",
       "01impala                                                       0.039748   \n",
       "02dakota                                                       0.066247   \n",
       "0325home                                                       0.014850   \n",
       "\n",
       "name              Yes To Carrots Nourishing Body Wash  \\\n",
       "reviews_username                                        \n",
       "00dog3                                       0.000000   \n",
       "00sab00                                      0.016365   \n",
       "01impala                                     0.000000   \n",
       "02dakota                                     0.000000   \n",
       "0325home                                     0.000000   \n",
       "\n",
       "name              Yes To Grapefruit Rejuvenating Body Wash  \n",
       "reviews_username                                            \n",
       "00dog3                                            0.000000  \n",
       "00sab00                                           0.020766  \n",
       "01impala                                          0.013043  \n",
       "02dakota                                          0.021739  \n",
       "0325home                                          0.000000  \n",
       "\n",
       "[5 rows x 238 columns]"
      ]
     },
     "execution_count": 304,
     "metadata": {},
     "output_type": "execute_result"
    }
   ],
   "source": [
    "item_final_rating = np.multiply(item_predicted_ratings,dummy_train)\n",
    "item_final_rating.head()"
   ]
  },
  {
   "cell_type": "code",
   "execution_count": 316,
   "id": "529802f8",
   "metadata": {},
   "outputs": [
    {
     "data": {
      "text/plain": [
       "0.0"
      ]
     },
     "execution_count": 316,
     "metadata": {},
     "output_type": "execute_result"
    }
   ],
   "source": [
    "item_final_rating.loc['zubb','Planes: Fire Rescue (2 Discs) (includes Digital Copy) (blu-Ray/dvd)']"
   ]
  },
  {
   "cell_type": "code",
   "execution_count": 317,
   "id": "d9c7b252",
   "metadata": {},
   "outputs": [
    {
     "data": {
      "text/plain": [
       "['model/item_final_rating']"
      ]
     },
     "execution_count": 317,
     "metadata": {},
     "output_type": "execute_result"
    }
   ],
   "source": [
    "joblib.dump(item_final_rating, 'model/item_final_rating') "
   ]
  },
  {
   "cell_type": "markdown",
   "id": "a72b6ee9",
   "metadata": {},
   "source": [
    "### Finding the top 20 recommendation for the *user*"
   ]
  },
  {
   "cell_type": "code",
   "execution_count": 77,
   "id": "3cdc2354",
   "metadata": {},
   "outputs": [
    {
     "data": {
      "text/plain": [
       "name\n",
       "Godzilla 3d Includes Digital Copy Ultraviolet 3d/2d Blu-Ray/dvd    0.167426\n",
       "Various - Country's Greatest Gospel:Gold Ed (cd)                   0.154824\n",
       "Cococare 100% Natural Castor Oil                                   0.154824\n",
       "My Big Fat Greek Wedding 2 (blu-Ray + Dvd + Digital)               0.144794\n",
       "Mike Dave Need Wedding Dates (dvd + Digital)                       0.141702\n",
       "Ceiling Fan With Light White 14.2 X 29.9 X 9.2 - Hunter Fan        0.109477\n",
       "The Resident Evil Collection 5 Discs (blu-Ray)                     0.105429\n",
       "Tostitos Bite Size Tortilla Chips                                  0.094971\n",
       "Various - Red Hot Blue:Tribute To Cole Porter (cd)                 0.087582\n",
       "Chester's Cheese Flavored Puffcorn Snacks                          0.083075\n",
       "100:Complete First Season (blu-Ray)                                0.079310\n",
       "Home Health Hairever Shampoo                                       0.075347\n",
       "Cheetos Crunchy Flamin' Hot Cheese Flavored Snacks                 0.066178\n",
       "There's Something About Mary (dvd)                                 0.063223\n",
       "Jason Aldean - They Don't Know                                     0.059279\n",
       "Jolly Time Select Premium Yellow Pop Corn                          0.058096\n",
       "Windex Original Glass Cleaner Refill 67.6oz (2 Liter)              0.057903\n",
       "Red (special Edition) (dvdvideo)                                   0.055968\n",
       "The Honest Company Laundry Detergent                               0.054467\n",
       "Nexxus Exxtra Gel Style Creation Sculptor                          0.054451\n",
       "Name: zubb, dtype: float64"
      ]
     },
     "execution_count": 77,
     "metadata": {},
     "output_type": "execute_result"
    }
   ],
   "source": [
    "d = item_final_rating.loc['zubb'].sort_values(ascending=False)[0:20]\n",
    "d"
   ]
  },
  {
   "cell_type": "code",
   "execution_count": 78,
   "id": "ba4e5ee5",
   "metadata": {},
   "outputs": [
    {
     "name": "stdout",
     "output_type": "stream",
     "text": [
      "(20628, 3)\n"
     ]
    },
    {
     "data": {
      "text/plain": [
       "Index(['name', 'reviews_username', 'reviews_rating'], dtype='object')"
      ]
     },
     "execution_count": 78,
     "metadata": {},
     "output_type": "execute_result"
    }
   ],
   "source": [
    "print(train.shape)\n",
    "train.columns"
   ]
  },
  {
   "cell_type": "code",
   "execution_count": 79,
   "id": "9869a785",
   "metadata": {},
   "outputs": [
    {
     "name": "stdout",
     "output_type": "stream",
     "text": [
      "(8826, 3)\n"
     ]
    },
    {
     "data": {
      "text/html": [
       "<div>\n",
       "<style scoped>\n",
       "    .dataframe tbody tr th:only-of-type {\n",
       "        vertical-align: middle;\n",
       "    }\n",
       "\n",
       "    .dataframe tbody tr th {\n",
       "        vertical-align: top;\n",
       "    }\n",
       "\n",
       "    .dataframe thead th {\n",
       "        text-align: right;\n",
       "    }\n",
       "</style>\n",
       "<table border=\"1\" class=\"dataframe\">\n",
       "  <thead>\n",
       "    <tr style=\"text-align: right;\">\n",
       "      <th></th>\n",
       "      <th>name</th>\n",
       "      <th>reviews_username</th>\n",
       "      <th>reviews_rating</th>\n",
       "    </tr>\n",
       "  </thead>\n",
       "  <tbody>\n",
       "    <tr>\n",
       "      <th>16057</th>\n",
       "      <td>Burt's Bees Lip Shimmer, Raisin</td>\n",
       "      <td>beverly</td>\n",
       "      <td>5</td>\n",
       "    </tr>\n",
       "    <tr>\n",
       "      <th>29522</th>\n",
       "      <td>L'oreal Paris Elvive Extraordinary Clay Rebalancing Conditioner - 12.6 Fl Oz</td>\n",
       "      <td>rainey4pres</td>\n",
       "      <td>4</td>\n",
       "    </tr>\n",
       "    <tr>\n",
       "      <th>13809</th>\n",
       "      <td>Clorox Disinfecting Wipes Value Pack Scented 150 Ct Total</td>\n",
       "      <td>symzy</td>\n",
       "      <td>5</td>\n",
       "    </tr>\n",
       "    <tr>\n",
       "      <th>25025</th>\n",
       "      <td>Godzilla 3d Includes Digital Copy Ultraviolet 3d/2d Blu-Ray/dvd</td>\n",
       "      <td>thunderbunny2009</td>\n",
       "      <td>5</td>\n",
       "    </tr>\n",
       "  </tbody>\n",
       "</table>\n",
       "</div>"
      ],
      "text/plain": [
       "                                                                               name  \\\n",
       "16057                                               Burt's Bees Lip Shimmer, Raisin   \n",
       "29522  L'oreal Paris Elvive Extraordinary Clay Rebalancing Conditioner - 12.6 Fl Oz   \n",
       "13809                     Clorox Disinfecting Wipes Value Pack Scented 150 Ct Total   \n",
       "25025               Godzilla 3d Includes Digital Copy Ultraviolet 3d/2d Blu-Ray/dvd   \n",
       "\n",
       "       reviews_username  reviews_rating  \n",
       "16057           beverly               5  \n",
       "29522       rainey4pres               4  \n",
       "13809             symzy               5  \n",
       "25025  thunderbunny2009               5  "
      ]
     },
     "execution_count": 79,
     "metadata": {},
     "output_type": "execute_result"
    }
   ],
   "source": [
    "# Evaluation - Item Item\n",
    "\n",
    "#Evaluation will we same as you have seen above for the prediction. The only difference being, you will evaluate for the movie already rated by the user insead of predicting it for the movie not rated by the user. \n",
    "\n",
    "test.columns\n",
    "\n",
    "common =  test[test.name.isin(train.name)]\n",
    "print(common.shape)\n",
    "common.head(4)"
   ]
  },
  {
   "cell_type": "code",
   "execution_count": 80,
   "id": "b9e9773f",
   "metadata": {},
   "outputs": [],
   "source": [
    "common_item_based_matrix = common.pivot_table(index='reviews_username', columns='name', values='reviews_rating').T"
   ]
  },
  {
   "cell_type": "code",
   "execution_count": 81,
   "id": "90458879",
   "metadata": {},
   "outputs": [
    {
     "data": {
      "text/plain": [
       "(178, 8270)"
      ]
     },
     "execution_count": 81,
     "metadata": {},
     "output_type": "execute_result"
    }
   ],
   "source": [
    "common_item_based_matrix.shape"
   ]
  },
  {
   "cell_type": "code",
   "execution_count": 82,
   "id": "827b2093",
   "metadata": {},
   "outputs": [],
   "source": [
    "item_correlation_df = pd.DataFrame(item_correlation)"
   ]
  },
  {
   "cell_type": "code",
   "execution_count": 83,
   "id": "8afc852b",
   "metadata": {},
   "outputs": [
    {
     "data": {
      "text/html": [
       "<div>\n",
       "<style scoped>\n",
       "    .dataframe tbody tr th:only-of-type {\n",
       "        vertical-align: middle;\n",
       "    }\n",
       "\n",
       "    .dataframe tbody tr th {\n",
       "        vertical-align: top;\n",
       "    }\n",
       "\n",
       "    .dataframe thead th {\n",
       "        text-align: right;\n",
       "    }\n",
       "</style>\n",
       "<table border=\"1\" class=\"dataframe\">\n",
       "  <thead>\n",
       "    <tr style=\"text-align: right;\">\n",
       "      <th></th>\n",
       "      <th>0</th>\n",
       "      <th>1</th>\n",
       "      <th>2</th>\n",
       "      <th>3</th>\n",
       "      <th>4</th>\n",
       "      <th>5</th>\n",
       "      <th>6</th>\n",
       "      <th>7</th>\n",
       "      <th>8</th>\n",
       "      <th>9</th>\n",
       "      <th>...</th>\n",
       "      <th>228</th>\n",
       "      <th>229</th>\n",
       "      <th>230</th>\n",
       "      <th>231</th>\n",
       "      <th>232</th>\n",
       "      <th>233</th>\n",
       "      <th>234</th>\n",
       "      <th>235</th>\n",
       "      <th>236</th>\n",
       "      <th>237</th>\n",
       "    </tr>\n",
       "  </thead>\n",
       "  <tbody>\n",
       "    <tr>\n",
       "      <th>0</th>\n",
       "      <td>1.0</td>\n",
       "      <td>0.0</td>\n",
       "      <td>0.0</td>\n",
       "      <td>0.0</td>\n",
       "      <td>0.0</td>\n",
       "      <td>0.0</td>\n",
       "      <td>0.0</td>\n",
       "      <td>0.0</td>\n",
       "      <td>0.0</td>\n",
       "      <td>0.0</td>\n",
       "      <td>...</td>\n",
       "      <td>0.0</td>\n",
       "      <td>0.0</td>\n",
       "      <td>0.0</td>\n",
       "      <td>0.0</td>\n",
       "      <td>0.0</td>\n",
       "      <td>0.0</td>\n",
       "      <td>0.0</td>\n",
       "      <td>0.0</td>\n",
       "      <td>0.0</td>\n",
       "      <td>0.0</td>\n",
       "    </tr>\n",
       "  </tbody>\n",
       "</table>\n",
       "<p>1 rows × 238 columns</p>\n",
       "</div>"
      ],
      "text/plain": [
       "   0    1    2    3    4    5    6    7    8    9    ...  228  229  230  231  \\\n",
       "0  1.0  0.0  0.0  0.0  0.0  0.0  0.0  0.0  0.0  0.0  ...  0.0  0.0  0.0  0.0   \n",
       "\n",
       "   232  233  234  235  236  237  \n",
       "0  0.0  0.0  0.0  0.0  0.0  0.0  \n",
       "\n",
       "[1 rows x 238 columns]"
      ]
     },
     "execution_count": 83,
     "metadata": {},
     "output_type": "execute_result"
    }
   ],
   "source": [
    "item_correlation_df.head(1)"
   ]
  },
  {
   "cell_type": "code",
   "execution_count": 84,
   "id": "519c4427",
   "metadata": {},
   "outputs": [
    {
     "data": {
      "text/plain": [
       "Index(['0.6 Cu. Ft. Letter A4 Size Waterproof 30 Min. Fire File Chest',\n",
       "       '100:Complete First Season (blu-Ray)',\n",
       "       '2017-2018 Brownline174 Duraflex 14-Month Planner 8 1/2 X 11 Black',\n",
       "       '2x Ultra Era with Oxi Booster, 50fl oz',\n",
       "       '42 Dual Drop Leaf Table with 2 Madrid Chairs\"',\n",
       "       '4C Grated Parmesan Cheese 100% Natural 8oz Shaker',\n",
       "       '5302050 15/16 FCT/HOSE ADAPTOR',\n",
       "       'Africa's Best No-Lye Dual Conditioning Relaxer System Super',\n",
       "       'Alberto VO5 Salon Series Smooth Plus Sleek Shampoo',\n",
       "       'Alex Cross (dvdvideo)',\n",
       "       ...\n",
       "       'Vicks Vaporub, Regular, 3.53oz',\n",
       "       'Voortman Sugar Free Fudge Chocolate Chip Cookies',\n",
       "       'Wagan Smartac 80watt Inverter With Usb',\n",
       "       'Walkers Stem Ginger Shortbread',\n",
       "       'Way Basics 3-Shelf Eco Narrow Bookcase Storage Shelf, Espresso - Formaldehyde Free - Lifetime Guarantee',\n",
       "       'Wedding Wishes Wedding Guest Book', 'Weleda Everon Lip Balm',\n",
       "       'Windex Original Glass Cleaner Refill 67.6oz (2 Liter)',\n",
       "       'Yes To Carrots Nourishing Body Wash',\n",
       "       'Yes To Grapefruit Rejuvenating Body Wash'],\n",
       "      dtype='object', name='name', length=238)"
      ]
     },
     "execution_count": 84,
     "metadata": {},
     "output_type": "execute_result"
    }
   ],
   "source": [
    "df_pivot.index"
   ]
  },
  {
   "cell_type": "code",
   "execution_count": 85,
   "id": "2ccfe506",
   "metadata": {},
   "outputs": [
    {
     "data": {
      "text/html": [
       "<div>\n",
       "<style scoped>\n",
       "    .dataframe tbody tr th:only-of-type {\n",
       "        vertical-align: middle;\n",
       "    }\n",
       "\n",
       "    .dataframe tbody tr th {\n",
       "        vertical-align: top;\n",
       "    }\n",
       "\n",
       "    .dataframe thead th {\n",
       "        text-align: right;\n",
       "    }\n",
       "</style>\n",
       "<table border=\"1\" class=\"dataframe\">\n",
       "  <thead>\n",
       "    <tr style=\"text-align: right;\">\n",
       "      <th></th>\n",
       "      <th>0</th>\n",
       "      <th>1</th>\n",
       "      <th>2</th>\n",
       "      <th>3</th>\n",
       "      <th>4</th>\n",
       "      <th>5</th>\n",
       "      <th>6</th>\n",
       "      <th>7</th>\n",
       "      <th>8</th>\n",
       "      <th>9</th>\n",
       "      <th>...</th>\n",
       "      <th>228</th>\n",
       "      <th>229</th>\n",
       "      <th>230</th>\n",
       "      <th>231</th>\n",
       "      <th>232</th>\n",
       "      <th>233</th>\n",
       "      <th>234</th>\n",
       "      <th>235</th>\n",
       "      <th>236</th>\n",
       "      <th>237</th>\n",
       "    </tr>\n",
       "    <tr>\n",
       "      <th>name</th>\n",
       "      <th></th>\n",
       "      <th></th>\n",
       "      <th></th>\n",
       "      <th></th>\n",
       "      <th></th>\n",
       "      <th></th>\n",
       "      <th></th>\n",
       "      <th></th>\n",
       "      <th></th>\n",
       "      <th></th>\n",
       "      <th></th>\n",
       "      <th></th>\n",
       "      <th></th>\n",
       "      <th></th>\n",
       "      <th></th>\n",
       "      <th></th>\n",
       "      <th></th>\n",
       "      <th></th>\n",
       "      <th></th>\n",
       "      <th></th>\n",
       "      <th></th>\n",
       "    </tr>\n",
       "  </thead>\n",
       "  <tbody>\n",
       "    <tr>\n",
       "      <th>0.6 Cu. Ft. Letter A4 Size Waterproof 30 Min. Fire File Chest</th>\n",
       "      <td>1.0</td>\n",
       "      <td>0.0</td>\n",
       "      <td>0.0</td>\n",
       "      <td>0.0</td>\n",
       "      <td>0.0</td>\n",
       "      <td>0.0</td>\n",
       "      <td>0.0</td>\n",
       "      <td>0.0</td>\n",
       "      <td>0.0</td>\n",
       "      <td>0.0</td>\n",
       "      <td>...</td>\n",
       "      <td>0.0</td>\n",
       "      <td>0.0</td>\n",
       "      <td>0.0</td>\n",
       "      <td>0.0</td>\n",
       "      <td>0.0</td>\n",
       "      <td>0.0</td>\n",
       "      <td>0.0</td>\n",
       "      <td>0.000000</td>\n",
       "      <td>0.000000</td>\n",
       "      <td>0.0</td>\n",
       "    </tr>\n",
       "    <tr>\n",
       "      <th>100:Complete First Season (blu-Ray)</th>\n",
       "      <td>0.0</td>\n",
       "      <td>1.0</td>\n",
       "      <td>0.0</td>\n",
       "      <td>0.0</td>\n",
       "      <td>0.0</td>\n",
       "      <td>0.0</td>\n",
       "      <td>0.0</td>\n",
       "      <td>0.0</td>\n",
       "      <td>0.0</td>\n",
       "      <td>0.0</td>\n",
       "      <td>...</td>\n",
       "      <td>0.0</td>\n",
       "      <td>0.0</td>\n",
       "      <td>0.0</td>\n",
       "      <td>0.0</td>\n",
       "      <td>0.0</td>\n",
       "      <td>0.0</td>\n",
       "      <td>0.0</td>\n",
       "      <td>0.002607</td>\n",
       "      <td>0.000000</td>\n",
       "      <td>0.0</td>\n",
       "    </tr>\n",
       "    <tr>\n",
       "      <th>2017-2018 Brownline174 Duraflex 14-Month Planner 8 1/2 X 11 Black</th>\n",
       "      <td>0.0</td>\n",
       "      <td>0.0</td>\n",
       "      <td>1.0</td>\n",
       "      <td>0.0</td>\n",
       "      <td>0.0</td>\n",
       "      <td>0.0</td>\n",
       "      <td>0.0</td>\n",
       "      <td>0.0</td>\n",
       "      <td>0.0</td>\n",
       "      <td>0.0</td>\n",
       "      <td>...</td>\n",
       "      <td>0.0</td>\n",
       "      <td>0.0</td>\n",
       "      <td>0.0</td>\n",
       "      <td>0.0</td>\n",
       "      <td>0.0</td>\n",
       "      <td>0.0</td>\n",
       "      <td>0.0</td>\n",
       "      <td>0.000000</td>\n",
       "      <td>0.000000</td>\n",
       "      <td>0.0</td>\n",
       "    </tr>\n",
       "    <tr>\n",
       "      <th>2x Ultra Era with Oxi Booster, 50fl oz</th>\n",
       "      <td>0.0</td>\n",
       "      <td>0.0</td>\n",
       "      <td>0.0</td>\n",
       "      <td>1.0</td>\n",
       "      <td>0.0</td>\n",
       "      <td>0.0</td>\n",
       "      <td>0.0</td>\n",
       "      <td>0.0</td>\n",
       "      <td>0.0</td>\n",
       "      <td>0.0</td>\n",
       "      <td>...</td>\n",
       "      <td>0.0</td>\n",
       "      <td>0.0</td>\n",
       "      <td>0.0</td>\n",
       "      <td>0.0</td>\n",
       "      <td>0.0</td>\n",
       "      <td>0.0</td>\n",
       "      <td>0.0</td>\n",
       "      <td>0.000000</td>\n",
       "      <td>0.000000</td>\n",
       "      <td>0.0</td>\n",
       "    </tr>\n",
       "    <tr>\n",
       "      <th>42 Dual Drop Leaf Table with 2 Madrid Chairs\"</th>\n",
       "      <td>0.0</td>\n",
       "      <td>0.0</td>\n",
       "      <td>0.0</td>\n",
       "      <td>0.0</td>\n",
       "      <td>1.0</td>\n",
       "      <td>0.0</td>\n",
       "      <td>0.0</td>\n",
       "      <td>0.0</td>\n",
       "      <td>0.0</td>\n",
       "      <td>0.0</td>\n",
       "      <td>...</td>\n",
       "      <td>0.0</td>\n",
       "      <td>0.0</td>\n",
       "      <td>0.0</td>\n",
       "      <td>0.0</td>\n",
       "      <td>0.0</td>\n",
       "      <td>0.0</td>\n",
       "      <td>0.0</td>\n",
       "      <td>0.000000</td>\n",
       "      <td>0.149873</td>\n",
       "      <td>0.0</td>\n",
       "    </tr>\n",
       "  </tbody>\n",
       "</table>\n",
       "<p>5 rows × 238 columns</p>\n",
       "</div>"
      ],
      "text/plain": [
       "                                                                   0    1    \\\n",
       "name                                                                          \n",
       "0.6 Cu. Ft. Letter A4 Size Waterproof 30 Min. Fire File Chest      1.0  0.0   \n",
       "100:Complete First Season (blu-Ray)                                0.0  1.0   \n",
       "2017-2018 Brownline174 Duraflex 14-Month Planner 8 1/2 X 11 Black  0.0  0.0   \n",
       "2x Ultra Era with Oxi Booster, 50fl oz                             0.0  0.0   \n",
       "42 Dual Drop Leaf Table with 2 Madrid Chairs\"                      0.0  0.0   \n",
       "\n",
       "                                                                   2    3    \\\n",
       "name                                                                          \n",
       "0.6 Cu. Ft. Letter A4 Size Waterproof 30 Min. Fire File Chest      0.0  0.0   \n",
       "100:Complete First Season (blu-Ray)                                0.0  0.0   \n",
       "2017-2018 Brownline174 Duraflex 14-Month Planner 8 1/2 X 11 Black  1.0  0.0   \n",
       "2x Ultra Era with Oxi Booster, 50fl oz                             0.0  1.0   \n",
       "42 Dual Drop Leaf Table with 2 Madrid Chairs\"                      0.0  0.0   \n",
       "\n",
       "                                                                   4    5    \\\n",
       "name                                                                          \n",
       "0.6 Cu. Ft. Letter A4 Size Waterproof 30 Min. Fire File Chest      0.0  0.0   \n",
       "100:Complete First Season (blu-Ray)                                0.0  0.0   \n",
       "2017-2018 Brownline174 Duraflex 14-Month Planner 8 1/2 X 11 Black  0.0  0.0   \n",
       "2x Ultra Era with Oxi Booster, 50fl oz                             0.0  0.0   \n",
       "42 Dual Drop Leaf Table with 2 Madrid Chairs\"                      1.0  0.0   \n",
       "\n",
       "                                                                   6    7    \\\n",
       "name                                                                          \n",
       "0.6 Cu. Ft. Letter A4 Size Waterproof 30 Min. Fire File Chest      0.0  0.0   \n",
       "100:Complete First Season (blu-Ray)                                0.0  0.0   \n",
       "2017-2018 Brownline174 Duraflex 14-Month Planner 8 1/2 X 11 Black  0.0  0.0   \n",
       "2x Ultra Era with Oxi Booster, 50fl oz                             0.0  0.0   \n",
       "42 Dual Drop Leaf Table with 2 Madrid Chairs\"                      0.0  0.0   \n",
       "\n",
       "                                                                   8    9    \\\n",
       "name                                                                          \n",
       "0.6 Cu. Ft. Letter A4 Size Waterproof 30 Min. Fire File Chest      0.0  0.0   \n",
       "100:Complete First Season (blu-Ray)                                0.0  0.0   \n",
       "2017-2018 Brownline174 Duraflex 14-Month Planner 8 1/2 X 11 Black  0.0  0.0   \n",
       "2x Ultra Era with Oxi Booster, 50fl oz                             0.0  0.0   \n",
       "42 Dual Drop Leaf Table with 2 Madrid Chairs\"                      0.0  0.0   \n",
       "\n",
       "                                                                   ...  228  \\\n",
       "name                                                               ...        \n",
       "0.6 Cu. Ft. Letter A4 Size Waterproof 30 Min. Fire File Chest      ...  0.0   \n",
       "100:Complete First Season (blu-Ray)                                ...  0.0   \n",
       "2017-2018 Brownline174 Duraflex 14-Month Planner 8 1/2 X 11 Black  ...  0.0   \n",
       "2x Ultra Era with Oxi Booster, 50fl oz                             ...  0.0   \n",
       "42 Dual Drop Leaf Table with 2 Madrid Chairs\"                      ...  0.0   \n",
       "\n",
       "                                                                   229  230  \\\n",
       "name                                                                          \n",
       "0.6 Cu. Ft. Letter A4 Size Waterproof 30 Min. Fire File Chest      0.0  0.0   \n",
       "100:Complete First Season (blu-Ray)                                0.0  0.0   \n",
       "2017-2018 Brownline174 Duraflex 14-Month Planner 8 1/2 X 11 Black  0.0  0.0   \n",
       "2x Ultra Era with Oxi Booster, 50fl oz                             0.0  0.0   \n",
       "42 Dual Drop Leaf Table with 2 Madrid Chairs\"                      0.0  0.0   \n",
       "\n",
       "                                                                   231  232  \\\n",
       "name                                                                          \n",
       "0.6 Cu. Ft. Letter A4 Size Waterproof 30 Min. Fire File Chest      0.0  0.0   \n",
       "100:Complete First Season (blu-Ray)                                0.0  0.0   \n",
       "2017-2018 Brownline174 Duraflex 14-Month Planner 8 1/2 X 11 Black  0.0  0.0   \n",
       "2x Ultra Era with Oxi Booster, 50fl oz                             0.0  0.0   \n",
       "42 Dual Drop Leaf Table with 2 Madrid Chairs\"                      0.0  0.0   \n",
       "\n",
       "                                                                   233  234  \\\n",
       "name                                                                          \n",
       "0.6 Cu. Ft. Letter A4 Size Waterproof 30 Min. Fire File Chest      0.0  0.0   \n",
       "100:Complete First Season (blu-Ray)                                0.0  0.0   \n",
       "2017-2018 Brownline174 Duraflex 14-Month Planner 8 1/2 X 11 Black  0.0  0.0   \n",
       "2x Ultra Era with Oxi Booster, 50fl oz                             0.0  0.0   \n",
       "42 Dual Drop Leaf Table with 2 Madrid Chairs\"                      0.0  0.0   \n",
       "\n",
       "                                                                        235  \\\n",
       "name                                                                          \n",
       "0.6 Cu. Ft. Letter A4 Size Waterproof 30 Min. Fire File Chest      0.000000   \n",
       "100:Complete First Season (blu-Ray)                                0.002607   \n",
       "2017-2018 Brownline174 Duraflex 14-Month Planner 8 1/2 X 11 Black  0.000000   \n",
       "2x Ultra Era with Oxi Booster, 50fl oz                             0.000000   \n",
       "42 Dual Drop Leaf Table with 2 Madrid Chairs\"                      0.000000   \n",
       "\n",
       "                                                                        236  \\\n",
       "name                                                                          \n",
       "0.6 Cu. Ft. Letter A4 Size Waterproof 30 Min. Fire File Chest      0.000000   \n",
       "100:Complete First Season (blu-Ray)                                0.000000   \n",
       "2017-2018 Brownline174 Duraflex 14-Month Planner 8 1/2 X 11 Black  0.000000   \n",
       "2x Ultra Era with Oxi Booster, 50fl oz                             0.000000   \n",
       "42 Dual Drop Leaf Table with 2 Madrid Chairs\"                      0.149873   \n",
       "\n",
       "                                                                   237  \n",
       "name                                                                    \n",
       "0.6 Cu. Ft. Letter A4 Size Waterproof 30 Min. Fire File Chest      0.0  \n",
       "100:Complete First Season (blu-Ray)                                0.0  \n",
       "2017-2018 Brownline174 Duraflex 14-Month Planner 8 1/2 X 11 Black  0.0  \n",
       "2x Ultra Era with Oxi Booster, 50fl oz                             0.0  \n",
       "42 Dual Drop Leaf Table with 2 Madrid Chairs\"                      0.0  \n",
       "\n",
       "[5 rows x 238 columns]"
      ]
     },
     "execution_count": 85,
     "metadata": {},
     "output_type": "execute_result"
    }
   ],
   "source": [
    "item_correlation_df['name'] = df_pivot.index\n",
    "item_correlation_df.set_index('name',inplace=True)\n",
    "item_correlation_df.head()"
   ]
  },
  {
   "cell_type": "code",
   "execution_count": 86,
   "id": "7a7aaad4",
   "metadata": {},
   "outputs": [],
   "source": [
    "list_name = common.name.tolist()"
   ]
  },
  {
   "cell_type": "code",
   "execution_count": 87,
   "id": "c33b74bd",
   "metadata": {},
   "outputs": [],
   "source": [
    "item_correlation_df.columns = df_pivot.index.tolist()\n",
    "\n",
    "item_correlation_df_1 =  item_correlation_df[item_correlation_df.index.isin(list_name)]"
   ]
  },
  {
   "cell_type": "code",
   "execution_count": 88,
   "id": "4710ab6f",
   "metadata": {},
   "outputs": [],
   "source": [
    "item_correlation_df_2 = item_correlation_df_1.T[item_correlation_df_1.T.index.isin(list_name)]\n",
    "\n",
    "item_correlation_df_3 = item_correlation_df_2.T"
   ]
  },
  {
   "cell_type": "code",
   "execution_count": 89,
   "id": "7da0f333",
   "metadata": {},
   "outputs": [
    {
     "data": {
      "text/html": [
       "<div>\n",
       "<style scoped>\n",
       "    .dataframe tbody tr th:only-of-type {\n",
       "        vertical-align: middle;\n",
       "    }\n",
       "\n",
       "    .dataframe tbody tr th {\n",
       "        vertical-align: top;\n",
       "    }\n",
       "\n",
       "    .dataframe thead th {\n",
       "        text-align: right;\n",
       "    }\n",
       "</style>\n",
       "<table border=\"1\" class=\"dataframe\">\n",
       "  <thead>\n",
       "    <tr style=\"text-align: right;\">\n",
       "      <th></th>\n",
       "      <th>0.6 Cu. Ft. Letter A4 Size Waterproof 30 Min. Fire File Chest</th>\n",
       "      <th>100:Complete First Season (blu-Ray)</th>\n",
       "      <th>2017-2018 Brownline174 Duraflex 14-Month Planner 8 1/2 X 11 Black</th>\n",
       "      <th>2x Ultra Era with Oxi Booster, 50fl oz</th>\n",
       "      <th>4C Grated Parmesan Cheese 100% Natural 8oz Shaker</th>\n",
       "      <th>Alex Cross (dvdvideo)</th>\n",
       "      <th>All,bran Complete Wheat Flakes, 18 Oz.</th>\n",
       "      <th>Annie's Homegrown Gluten Free Double Chocolate Chip Granola Bars</th>\n",
       "      <th>Arrid Extra Dry Anti-Perspirant Deodorant Spray Regular</th>\n",
       "      <th>Aussie Aussome Volume Shampoo, 13.5 Oz</th>\n",
       "      <th>...</th>\n",
       "      <th>Various Artists - Choo Choo Soul (cd)</th>\n",
       "      <th>Vaseline Intensive Care Healthy Hands Stronger Nails</th>\n",
       "      <th>Vaseline Intensive Care Lip Therapy Cocoa Butter</th>\n",
       "      <th>Vicks Vaporub, Regular, 3.53oz</th>\n",
       "      <th>Wagan Smartac 80watt Inverter With Usb</th>\n",
       "      <th>Way Basics 3-Shelf Eco Narrow Bookcase Storage Shelf, Espresso - Formaldehyde Free - Lifetime Guarantee</th>\n",
       "      <th>Weleda Everon Lip Balm</th>\n",
       "      <th>Windex Original Glass Cleaner Refill 67.6oz (2 Liter)</th>\n",
       "      <th>Yes To Carrots Nourishing Body Wash</th>\n",
       "      <th>Yes To Grapefruit Rejuvenating Body Wash</th>\n",
       "    </tr>\n",
       "    <tr>\n",
       "      <th>name</th>\n",
       "      <th></th>\n",
       "      <th></th>\n",
       "      <th></th>\n",
       "      <th></th>\n",
       "      <th></th>\n",
       "      <th></th>\n",
       "      <th></th>\n",
       "      <th></th>\n",
       "      <th></th>\n",
       "      <th></th>\n",
       "      <th></th>\n",
       "      <th></th>\n",
       "      <th></th>\n",
       "      <th></th>\n",
       "      <th></th>\n",
       "      <th></th>\n",
       "      <th></th>\n",
       "      <th></th>\n",
       "      <th></th>\n",
       "      <th></th>\n",
       "      <th></th>\n",
       "    </tr>\n",
       "  </thead>\n",
       "  <tbody>\n",
       "    <tr>\n",
       "      <th>0.6 Cu. Ft. Letter A4 Size Waterproof 30 Min. Fire File Chest</th>\n",
       "      <td>1.0</td>\n",
       "      <td>0.0</td>\n",
       "      <td>0.0</td>\n",
       "      <td>0.0</td>\n",
       "      <td>0.0</td>\n",
       "      <td>0.0</td>\n",
       "      <td>0.0</td>\n",
       "      <td>0.0</td>\n",
       "      <td>0.0</td>\n",
       "      <td>0.0</td>\n",
       "      <td>...</td>\n",
       "      <td>0.0</td>\n",
       "      <td>0.0</td>\n",
       "      <td>0.0</td>\n",
       "      <td>0.0</td>\n",
       "      <td>0.0</td>\n",
       "      <td>0.0</td>\n",
       "      <td>0.0</td>\n",
       "      <td>0.000000</td>\n",
       "      <td>0.0</td>\n",
       "      <td>0.0</td>\n",
       "    </tr>\n",
       "    <tr>\n",
       "      <th>100:Complete First Season (blu-Ray)</th>\n",
       "      <td>0.0</td>\n",
       "      <td>1.0</td>\n",
       "      <td>0.0</td>\n",
       "      <td>0.0</td>\n",
       "      <td>0.0</td>\n",
       "      <td>0.0</td>\n",
       "      <td>0.0</td>\n",
       "      <td>0.0</td>\n",
       "      <td>0.0</td>\n",
       "      <td>0.0</td>\n",
       "      <td>...</td>\n",
       "      <td>0.0</td>\n",
       "      <td>0.0</td>\n",
       "      <td>0.0</td>\n",
       "      <td>0.0</td>\n",
       "      <td>0.0</td>\n",
       "      <td>0.0</td>\n",
       "      <td>0.0</td>\n",
       "      <td>0.002607</td>\n",
       "      <td>0.0</td>\n",
       "      <td>0.0</td>\n",
       "    </tr>\n",
       "    <tr>\n",
       "      <th>2017-2018 Brownline174 Duraflex 14-Month Planner 8 1/2 X 11 Black</th>\n",
       "      <td>0.0</td>\n",
       "      <td>0.0</td>\n",
       "      <td>1.0</td>\n",
       "      <td>0.0</td>\n",
       "      <td>0.0</td>\n",
       "      <td>0.0</td>\n",
       "      <td>0.0</td>\n",
       "      <td>0.0</td>\n",
       "      <td>0.0</td>\n",
       "      <td>0.0</td>\n",
       "      <td>...</td>\n",
       "      <td>0.0</td>\n",
       "      <td>0.0</td>\n",
       "      <td>0.0</td>\n",
       "      <td>0.0</td>\n",
       "      <td>0.0</td>\n",
       "      <td>0.0</td>\n",
       "      <td>0.0</td>\n",
       "      <td>0.000000</td>\n",
       "      <td>0.0</td>\n",
       "      <td>0.0</td>\n",
       "    </tr>\n",
       "    <tr>\n",
       "      <th>2x Ultra Era with Oxi Booster, 50fl oz</th>\n",
       "      <td>0.0</td>\n",
       "      <td>0.0</td>\n",
       "      <td>0.0</td>\n",
       "      <td>1.0</td>\n",
       "      <td>0.0</td>\n",
       "      <td>0.0</td>\n",
       "      <td>0.0</td>\n",
       "      <td>0.0</td>\n",
       "      <td>0.0</td>\n",
       "      <td>0.0</td>\n",
       "      <td>...</td>\n",
       "      <td>0.0</td>\n",
       "      <td>0.0</td>\n",
       "      <td>0.0</td>\n",
       "      <td>0.0</td>\n",
       "      <td>0.0</td>\n",
       "      <td>0.0</td>\n",
       "      <td>0.0</td>\n",
       "      <td>0.000000</td>\n",
       "      <td>0.0</td>\n",
       "      <td>0.0</td>\n",
       "    </tr>\n",
       "    <tr>\n",
       "      <th>4C Grated Parmesan Cheese 100% Natural 8oz Shaker</th>\n",
       "      <td>0.0</td>\n",
       "      <td>0.0</td>\n",
       "      <td>0.0</td>\n",
       "      <td>0.0</td>\n",
       "      <td>1.0</td>\n",
       "      <td>0.0</td>\n",
       "      <td>0.0</td>\n",
       "      <td>0.0</td>\n",
       "      <td>0.0</td>\n",
       "      <td>0.0</td>\n",
       "      <td>...</td>\n",
       "      <td>0.0</td>\n",
       "      <td>0.0</td>\n",
       "      <td>0.0</td>\n",
       "      <td>0.0</td>\n",
       "      <td>0.0</td>\n",
       "      <td>0.0</td>\n",
       "      <td>0.0</td>\n",
       "      <td>0.000000</td>\n",
       "      <td>0.0</td>\n",
       "      <td>0.0</td>\n",
       "    </tr>\n",
       "  </tbody>\n",
       "</table>\n",
       "<p>5 rows × 178 columns</p>\n",
       "</div>"
      ],
      "text/plain": [
       "                                                                   0.6 Cu. Ft. Letter A4 Size Waterproof 30 Min. Fire File Chest  \\\n",
       "name                                                                                                                               \n",
       "0.6 Cu. Ft. Letter A4 Size Waterproof 30 Min. Fire File Chest                                                                1.0   \n",
       "100:Complete First Season (blu-Ray)                                                                                          0.0   \n",
       "2017-2018 Brownline174 Duraflex 14-Month Planner 8 1/2 X 11 Black                                                            0.0   \n",
       "2x Ultra Era with Oxi Booster, 50fl oz                                                                                       0.0   \n",
       "4C Grated Parmesan Cheese 100% Natural 8oz Shaker                                                                            0.0   \n",
       "\n",
       "                                                                   100:Complete First Season (blu-Ray)  \\\n",
       "name                                                                                                     \n",
       "0.6 Cu. Ft. Letter A4 Size Waterproof 30 Min. Fire File Chest                                      0.0   \n",
       "100:Complete First Season (blu-Ray)                                                                1.0   \n",
       "2017-2018 Brownline174 Duraflex 14-Month Planner 8 1/2 X 11 Black                                  0.0   \n",
       "2x Ultra Era with Oxi Booster, 50fl oz                                                             0.0   \n",
       "4C Grated Parmesan Cheese 100% Natural 8oz Shaker                                                  0.0   \n",
       "\n",
       "                                                                   2017-2018 Brownline174 Duraflex 14-Month Planner 8 1/2 X 11 Black  \\\n",
       "name                                                                                                                                   \n",
       "0.6 Cu. Ft. Letter A4 Size Waterproof 30 Min. Fire File Chest                                                                    0.0   \n",
       "100:Complete First Season (blu-Ray)                                                                                              0.0   \n",
       "2017-2018 Brownline174 Duraflex 14-Month Planner 8 1/2 X 11 Black                                                                1.0   \n",
       "2x Ultra Era with Oxi Booster, 50fl oz                                                                                           0.0   \n",
       "4C Grated Parmesan Cheese 100% Natural 8oz Shaker                                                                                0.0   \n",
       "\n",
       "                                                                   2x Ultra Era with Oxi Booster, 50fl oz  \\\n",
       "name                                                                                                        \n",
       "0.6 Cu. Ft. Letter A4 Size Waterproof 30 Min. Fire File Chest                                         0.0   \n",
       "100:Complete First Season (blu-Ray)                                                                   0.0   \n",
       "2017-2018 Brownline174 Duraflex 14-Month Planner 8 1/2 X 11 Black                                     0.0   \n",
       "2x Ultra Era with Oxi Booster, 50fl oz                                                                1.0   \n",
       "4C Grated Parmesan Cheese 100% Natural 8oz Shaker                                                     0.0   \n",
       "\n",
       "                                                                   4C Grated Parmesan Cheese 100% Natural 8oz Shaker  \\\n",
       "name                                                                                                                   \n",
       "0.6 Cu. Ft. Letter A4 Size Waterproof 30 Min. Fire File Chest                                                    0.0   \n",
       "100:Complete First Season (blu-Ray)                                                                              0.0   \n",
       "2017-2018 Brownline174 Duraflex 14-Month Planner 8 1/2 X 11 Black                                                0.0   \n",
       "2x Ultra Era with Oxi Booster, 50fl oz                                                                           0.0   \n",
       "4C Grated Parmesan Cheese 100% Natural 8oz Shaker                                                                1.0   \n",
       "\n",
       "                                                                   Alex Cross (dvdvideo)  \\\n",
       "name                                                                                       \n",
       "0.6 Cu. Ft. Letter A4 Size Waterproof 30 Min. Fire File Chest                        0.0   \n",
       "100:Complete First Season (blu-Ray)                                                  0.0   \n",
       "2017-2018 Brownline174 Duraflex 14-Month Planner 8 1/2 X 11 Black                    0.0   \n",
       "2x Ultra Era with Oxi Booster, 50fl oz                                               0.0   \n",
       "4C Grated Parmesan Cheese 100% Natural 8oz Shaker                                    0.0   \n",
       "\n",
       "                                                                   All,bran Complete Wheat Flakes, 18 Oz.  \\\n",
       "name                                                                                                        \n",
       "0.6 Cu. Ft. Letter A4 Size Waterproof 30 Min. Fire File Chest                                         0.0   \n",
       "100:Complete First Season (blu-Ray)                                                                   0.0   \n",
       "2017-2018 Brownline174 Duraflex 14-Month Planner 8 1/2 X 11 Black                                     0.0   \n",
       "2x Ultra Era with Oxi Booster, 50fl oz                                                                0.0   \n",
       "4C Grated Parmesan Cheese 100% Natural 8oz Shaker                                                     0.0   \n",
       "\n",
       "                                                                   Annie's Homegrown Gluten Free Double Chocolate Chip Granola Bars  \\\n",
       "name                                                                                                                                  \n",
       "0.6 Cu. Ft. Letter A4 Size Waterproof 30 Min. Fire File Chest                                                                   0.0   \n",
       "100:Complete First Season (blu-Ray)                                                                                             0.0   \n",
       "2017-2018 Brownline174 Duraflex 14-Month Planner 8 1/2 X 11 Black                                                               0.0   \n",
       "2x Ultra Era with Oxi Booster, 50fl oz                                                                                          0.0   \n",
       "4C Grated Parmesan Cheese 100% Natural 8oz Shaker                                                                               0.0   \n",
       "\n",
       "                                                                   Arrid Extra Dry Anti-Perspirant Deodorant Spray Regular  \\\n",
       "name                                                                                                                         \n",
       "0.6 Cu. Ft. Letter A4 Size Waterproof 30 Min. Fire File Chest                                                          0.0   \n",
       "100:Complete First Season (blu-Ray)                                                                                    0.0   \n",
       "2017-2018 Brownline174 Duraflex 14-Month Planner 8 1/2 X 11 Black                                                      0.0   \n",
       "2x Ultra Era with Oxi Booster, 50fl oz                                                                                 0.0   \n",
       "4C Grated Parmesan Cheese 100% Natural 8oz Shaker                                                                      0.0   \n",
       "\n",
       "                                                                   Aussie Aussome Volume Shampoo, 13.5 Oz  \\\n",
       "name                                                                                                        \n",
       "0.6 Cu. Ft. Letter A4 Size Waterproof 30 Min. Fire File Chest                                         0.0   \n",
       "100:Complete First Season (blu-Ray)                                                                   0.0   \n",
       "2017-2018 Brownline174 Duraflex 14-Month Planner 8 1/2 X 11 Black                                     0.0   \n",
       "2x Ultra Era with Oxi Booster, 50fl oz                                                                0.0   \n",
       "4C Grated Parmesan Cheese 100% Natural 8oz Shaker                                                     0.0   \n",
       "\n",
       "                                                                   ...  \\\n",
       "name                                                               ...   \n",
       "0.6 Cu. Ft. Letter A4 Size Waterproof 30 Min. Fire File Chest      ...   \n",
       "100:Complete First Season (blu-Ray)                                ...   \n",
       "2017-2018 Brownline174 Duraflex 14-Month Planner 8 1/2 X 11 Black  ...   \n",
       "2x Ultra Era with Oxi Booster, 50fl oz                             ...   \n",
       "4C Grated Parmesan Cheese 100% Natural 8oz Shaker                  ...   \n",
       "\n",
       "                                                                   Various Artists - Choo Choo Soul (cd)  \\\n",
       "name                                                                                                       \n",
       "0.6 Cu. Ft. Letter A4 Size Waterproof 30 Min. Fire File Chest                                        0.0   \n",
       "100:Complete First Season (blu-Ray)                                                                  0.0   \n",
       "2017-2018 Brownline174 Duraflex 14-Month Planner 8 1/2 X 11 Black                                    0.0   \n",
       "2x Ultra Era with Oxi Booster, 50fl oz                                                               0.0   \n",
       "4C Grated Parmesan Cheese 100% Natural 8oz Shaker                                                    0.0   \n",
       "\n",
       "                                                                   Vaseline Intensive Care Healthy Hands Stronger Nails  \\\n",
       "name                                                                                                                      \n",
       "0.6 Cu. Ft. Letter A4 Size Waterproof 30 Min. Fire File Chest                                                       0.0   \n",
       "100:Complete First Season (blu-Ray)                                                                                 0.0   \n",
       "2017-2018 Brownline174 Duraflex 14-Month Planner 8 1/2 X 11 Black                                                   0.0   \n",
       "2x Ultra Era with Oxi Booster, 50fl oz                                                                              0.0   \n",
       "4C Grated Parmesan Cheese 100% Natural 8oz Shaker                                                                   0.0   \n",
       "\n",
       "                                                                   Vaseline Intensive Care Lip Therapy Cocoa Butter  \\\n",
       "name                                                                                                                  \n",
       "0.6 Cu. Ft. Letter A4 Size Waterproof 30 Min. Fire File Chest                                                   0.0   \n",
       "100:Complete First Season (blu-Ray)                                                                             0.0   \n",
       "2017-2018 Brownline174 Duraflex 14-Month Planner 8 1/2 X 11 Black                                               0.0   \n",
       "2x Ultra Era with Oxi Booster, 50fl oz                                                                          0.0   \n",
       "4C Grated Parmesan Cheese 100% Natural 8oz Shaker                                                               0.0   \n",
       "\n",
       "                                                                   Vicks Vaporub, Regular, 3.53oz  \\\n",
       "name                                                                                                \n",
       "0.6 Cu. Ft. Letter A4 Size Waterproof 30 Min. Fire File Chest                                 0.0   \n",
       "100:Complete First Season (blu-Ray)                                                           0.0   \n",
       "2017-2018 Brownline174 Duraflex 14-Month Planner 8 1/2 X 11 Black                             0.0   \n",
       "2x Ultra Era with Oxi Booster, 50fl oz                                                        0.0   \n",
       "4C Grated Parmesan Cheese 100% Natural 8oz Shaker                                             0.0   \n",
       "\n",
       "                                                                   Wagan Smartac 80watt Inverter With Usb  \\\n",
       "name                                                                                                        \n",
       "0.6 Cu. Ft. Letter A4 Size Waterproof 30 Min. Fire File Chest                                         0.0   \n",
       "100:Complete First Season (blu-Ray)                                                                   0.0   \n",
       "2017-2018 Brownline174 Duraflex 14-Month Planner 8 1/2 X 11 Black                                     0.0   \n",
       "2x Ultra Era with Oxi Booster, 50fl oz                                                                0.0   \n",
       "4C Grated Parmesan Cheese 100% Natural 8oz Shaker                                                     0.0   \n",
       "\n",
       "                                                                   Way Basics 3-Shelf Eco Narrow Bookcase Storage Shelf, Espresso - Formaldehyde Free - Lifetime Guarantee  \\\n",
       "name                                                                                                                                                                         \n",
       "0.6 Cu. Ft. Letter A4 Size Waterproof 30 Min. Fire File Chest                                                                                                          0.0   \n",
       "100:Complete First Season (blu-Ray)                                                                                                                                    0.0   \n",
       "2017-2018 Brownline174 Duraflex 14-Month Planner 8 1/2 X 11 Black                                                                                                      0.0   \n",
       "2x Ultra Era with Oxi Booster, 50fl oz                                                                                                                                 0.0   \n",
       "4C Grated Parmesan Cheese 100% Natural 8oz Shaker                                                                                                                      0.0   \n",
       "\n",
       "                                                                   Weleda Everon Lip Balm  \\\n",
       "name                                                                                        \n",
       "0.6 Cu. Ft. Letter A4 Size Waterproof 30 Min. Fire File Chest                         0.0   \n",
       "100:Complete First Season (blu-Ray)                                                   0.0   \n",
       "2017-2018 Brownline174 Duraflex 14-Month Planner 8 1/2 X 11 Black                     0.0   \n",
       "2x Ultra Era with Oxi Booster, 50fl oz                                                0.0   \n",
       "4C Grated Parmesan Cheese 100% Natural 8oz Shaker                                     0.0   \n",
       "\n",
       "                                                                   Windex Original Glass Cleaner Refill 67.6oz (2 Liter)  \\\n",
       "name                                                                                                                       \n",
       "0.6 Cu. Ft. Letter A4 Size Waterproof 30 Min. Fire File Chest                                                   0.000000   \n",
       "100:Complete First Season (blu-Ray)                                                                             0.002607   \n",
       "2017-2018 Brownline174 Duraflex 14-Month Planner 8 1/2 X 11 Black                                               0.000000   \n",
       "2x Ultra Era with Oxi Booster, 50fl oz                                                                          0.000000   \n",
       "4C Grated Parmesan Cheese 100% Natural 8oz Shaker                                                               0.000000   \n",
       "\n",
       "                                                                   Yes To Carrots Nourishing Body Wash  \\\n",
       "name                                                                                                     \n",
       "0.6 Cu. Ft. Letter A4 Size Waterproof 30 Min. Fire File Chest                                      0.0   \n",
       "100:Complete First Season (blu-Ray)                                                                0.0   \n",
       "2017-2018 Brownline174 Duraflex 14-Month Planner 8 1/2 X 11 Black                                  0.0   \n",
       "2x Ultra Era with Oxi Booster, 50fl oz                                                             0.0   \n",
       "4C Grated Parmesan Cheese 100% Natural 8oz Shaker                                                  0.0   \n",
       "\n",
       "                                                                   Yes To Grapefruit Rejuvenating Body Wash  \n",
       "name                                                                                                         \n",
       "0.6 Cu. Ft. Letter A4 Size Waterproof 30 Min. Fire File Chest                                           0.0  \n",
       "100:Complete First Season (blu-Ray)                                                                     0.0  \n",
       "2017-2018 Brownline174 Duraflex 14-Month Planner 8 1/2 X 11 Black                                       0.0  \n",
       "2x Ultra Era with Oxi Booster, 50fl oz                                                                  0.0  \n",
       "4C Grated Parmesan Cheese 100% Natural 8oz Shaker                                                       0.0  \n",
       "\n",
       "[5 rows x 178 columns]"
      ]
     },
     "execution_count": 89,
     "metadata": {},
     "output_type": "execute_result"
    }
   ],
   "source": [
    "item_correlation_df_3.head()"
   ]
  },
  {
   "cell_type": "code",
   "execution_count": 90,
   "id": "1c452371",
   "metadata": {},
   "outputs": [
    {
     "data": {
      "text/plain": [
       "(178, 178)"
      ]
     },
     "execution_count": 90,
     "metadata": {},
     "output_type": "execute_result"
    }
   ],
   "source": [
    "item_correlation_df_3.shape"
   ]
  },
  {
   "cell_type": "code",
   "execution_count": 91,
   "id": "b29ffaf8",
   "metadata": {},
   "outputs": [
    {
     "name": "stdout",
     "output_type": "stream",
     "text": [
      "(178, 8270)\n"
     ]
    },
    {
     "data": {
      "text/plain": [
       "array([[0.        , 0.        , 0.        , ..., 0.        , 0.        ,\n",
       "        0.        ],\n",
       "       [0.01227543, 0.09027832, 0.01841473, ..., 0.00791008, 0.00791008,\n",
       "        0.01841473],\n",
       "       [0.        , 0.        , 0.        , ..., 0.        , 0.        ,\n",
       "        0.        ],\n",
       "       ...,\n",
       "       [0.00559053, 0.05299777, 0.02315028, ..., 0.01485008, 0.01485008,\n",
       "        0.02315028],\n",
       "       [0.        , 0.        , 0.02727498, ..., 0.        , 0.        ,\n",
       "        0.02727498],\n",
       "       [0.        , 0.01739131, 0.03461068, ..., 0.        , 0.        ,\n",
       "        0.03461068]])"
      ]
     },
     "execution_count": 91,
     "metadata": {},
     "output_type": "execute_result"
    }
   ],
   "source": [
    "item_correlation_df_3[item_correlation_df_3<0]=0\n",
    "\n",
    "common_item_predicted_ratings = np.dot(item_correlation_df_3, common_item_based_matrix.fillna(0))\n",
    "print(common_item_predicted_ratings.shape)\n",
    "common_item_predicted_ratings"
   ]
  },
  {
   "cell_type": "code",
   "execution_count": 92,
   "id": "1d9f4fa9",
   "metadata": {},
   "outputs": [
    {
     "data": {
      "text/plain": [
       "(178, 8270)"
      ]
     },
     "execution_count": 92,
     "metadata": {},
     "output_type": "execute_result"
    }
   ],
   "source": [
    "common_item_predicted_ratings.shape"
   ]
  },
  {
   "cell_type": "code",
   "execution_count": 93,
   "id": "e5f40cde",
   "metadata": {},
   "outputs": [],
   "source": [
    "dummy_test = common.copy()\n",
    "dummy_test = dummy_test.pivot_table(index='reviews_username', columns='name', values='reviews_rating').T.fillna(0)"
   ]
  },
  {
   "cell_type": "code",
   "execution_count": 94,
   "id": "60872048",
   "metadata": {},
   "outputs": [
    {
     "data": {
      "text/plain": [
       "name\n",
       "0.6 Cu. Ft. Letter A4 Size Waterproof 30 Min. Fire File Chest                                              0.0\n",
       "100:Complete First Season (blu-Ray)                                                                        0.0\n",
       "2017-2018 Brownline174 Duraflex 14-Month Planner 8 1/2 X 11 Black                                          0.0\n",
       "2x Ultra Era with Oxi Booster, 50fl oz                                                                     0.0\n",
       "4C Grated Parmesan Cheese 100% Natural 8oz Shaker                                                          0.0\n",
       "                                                                                                          ... \n",
       "Way Basics 3-Shelf Eco Narrow Bookcase Storage Shelf, Espresso - Formaldehyde Free - Lifetime Guarantee    0.0\n",
       "Weleda Everon Lip Balm                                                                                     0.0\n",
       "Windex Original Glass Cleaner Refill 67.6oz (2 Liter)                                                      0.0\n",
       "Yes To Carrots Nourishing Body Wash                                                                        0.0\n",
       "Yes To Grapefruit Rejuvenating Body Wash                                                                   0.0\n",
       "Name: beverly, Length: 178, dtype: float64"
      ]
     },
     "execution_count": 94,
     "metadata": {},
     "output_type": "execute_result"
    }
   ],
   "source": [
    "dummy_test.T.loc['beverly']"
   ]
  },
  {
   "cell_type": "code",
   "execution_count": 95,
   "id": "414828e9",
   "metadata": {},
   "outputs": [],
   "source": [
    "dummy_test[dummy_test>0] = 1"
   ]
  },
  {
   "cell_type": "code",
   "execution_count": 96,
   "id": "9d3020df",
   "metadata": {},
   "outputs": [
    {
     "data": {
      "text/plain": [
       "(178, 8270)"
      ]
     },
     "execution_count": 96,
     "metadata": {},
     "output_type": "execute_result"
    }
   ],
   "source": [
    "dummy_test.shape"
   ]
  },
  {
   "cell_type": "code",
   "execution_count": 97,
   "id": "3bd573c8",
   "metadata": {},
   "outputs": [],
   "source": [
    "common_item_predicted_ratings = np.multiply(common_item_predicted_ratings,dummy_test)"
   ]
  },
  {
   "cell_type": "code",
   "execution_count": 98,
   "id": "3992d316",
   "metadata": {},
   "outputs": [],
   "source": [
    "common_ = common.pivot_table(index='reviews_username', columns='name', values='reviews_rating').T"
   ]
  },
  {
   "cell_type": "code",
   "execution_count": 99,
   "id": "27a5dcad",
   "metadata": {},
   "outputs": [
    {
     "data": {
      "text/plain": [
       "(178, 8270)"
      ]
     },
     "execution_count": 99,
     "metadata": {},
     "output_type": "execute_result"
    }
   ],
   "source": [
    "common_.shape"
   ]
  },
  {
   "cell_type": "code",
   "execution_count": 100,
   "id": "a38e937e",
   "metadata": {},
   "outputs": [
    {
     "data": {
      "text/plain": [
       "(178, 8270)"
      ]
     },
     "execution_count": 100,
     "metadata": {},
     "output_type": "execute_result"
    }
   ],
   "source": [
    "common_item_predicted_ratings.shape"
   ]
  },
  {
   "cell_type": "code",
   "execution_count": 101,
   "id": "6818b3fe",
   "metadata": {},
   "outputs": [
    {
     "name": "stdout",
     "output_type": "stream",
     "text": [
      "MinMaxScaler(feature_range=(1, 5))\n",
      "[[nan nan nan ... nan nan nan]\n",
      " [nan nan nan ... nan nan nan]\n",
      " [nan nan nan ... nan nan nan]\n",
      " ...\n",
      " [nan nan nan ... nan nan nan]\n",
      " [nan nan nan ... nan nan nan]\n",
      " [nan nan nan ... nan nan nan]]\n"
     ]
    }
   ],
   "source": [
    "from sklearn.preprocessing import MinMaxScaler\n",
    "from numpy import *\n",
    "\n",
    "X  = common_item_predicted_ratings.copy() \n",
    "X = X[X>0]\n",
    "\n",
    "scaler = MinMaxScaler(feature_range=(1, 5))\n",
    "print(scaler.fit(X))\n",
    "y = (scaler.transform(X))\n",
    "\n",
    "print(y)"
   ]
  },
  {
   "cell_type": "code",
   "execution_count": 102,
   "id": "1febbc1b",
   "metadata": {},
   "outputs": [],
   "source": [
    "# Finding total non-NaN value\n",
    "total_non_nan = np.count_nonzero(~np.isnan(y))"
   ]
  },
  {
   "cell_type": "code",
   "execution_count": 103,
   "id": "8b3f8d69",
   "metadata": {},
   "outputs": [
    {
     "data": {
      "text/plain": [
       "8642"
      ]
     },
     "execution_count": 103,
     "metadata": {},
     "output_type": "execute_result"
    }
   ],
   "source": [
    "total_non_nan"
   ]
  },
  {
   "cell_type": "code",
   "execution_count": 104,
   "id": "7bceb992",
   "metadata": {},
   "outputs": [
    {
     "name": "stdout",
     "output_type": "stream",
     "text": [
      "3.5685641410549307\n"
     ]
    }
   ],
   "source": [
    "rmse = (sum(sum((common_ - y )**2))/total_non_nan)**0.5\n",
    "print(rmse)"
   ]
  },
  {
   "cell_type": "code",
   "execution_count": null,
   "id": "da266fca",
   "metadata": {},
   "outputs": [],
   "source": []
  },
  {
   "cell_type": "markdown",
   "id": "c70c0dbe",
   "metadata": {},
   "source": [
    "## Sentiment classification"
   ]
  },
  {
   "cell_type": "markdown",
   "id": "fd7c8412",
   "metadata": {},
   "source": [
    "### Preprocessing and cleaning the text data"
   ]
  },
  {
   "cell_type": "code",
   "execution_count": 105,
   "id": "5b0ef318",
   "metadata": {},
   "outputs": [
    {
     "data": {
      "text/html": [
       "<div>\n",
       "<style scoped>\n",
       "    .dataframe tbody tr th:only-of-type {\n",
       "        vertical-align: middle;\n",
       "    }\n",
       "\n",
       "    .dataframe tbody tr th {\n",
       "        vertical-align: top;\n",
       "    }\n",
       "\n",
       "    .dataframe thead th {\n",
       "        text-align: right;\n",
       "    }\n",
       "</style>\n",
       "<table border=\"1\" class=\"dataframe\">\n",
       "  <thead>\n",
       "    <tr style=\"text-align: right;\">\n",
       "      <th></th>\n",
       "      <th>reviews_rating</th>\n",
       "      <th>reviews_text</th>\n",
       "      <th>reviews_title</th>\n",
       "    </tr>\n",
       "  </thead>\n",
       "  <tbody>\n",
       "    <tr>\n",
       "      <th>0</th>\n",
       "      <td>5</td>\n",
       "      <td>i love this album. it's very good. more to the hip hop side than her current pop sound.. SO HYPE! i listen to this everyday at the gym! i give it 5star rating all the way. her metaphors are just crazy.</td>\n",
       "      <td>Just Awesome</td>\n",
       "    </tr>\n",
       "    <tr>\n",
       "      <th>1</th>\n",
       "      <td>5</td>\n",
       "      <td>Good flavor. This review was collected as part of a promotion.</td>\n",
       "      <td>Good</td>\n",
       "    </tr>\n",
       "    <tr>\n",
       "      <th>2</th>\n",
       "      <td>5</td>\n",
       "      <td>Good flavor.</td>\n",
       "      <td>Good</td>\n",
       "    </tr>\n",
       "    <tr>\n",
       "      <th>3</th>\n",
       "      <td>1</td>\n",
       "      <td>I read through the reviews on here before looking in to buying one of the couples lubricants, and was ultimately disappointed that it didn't even live up to the reviews I had read. For starters, neither my boyfriend nor I could notice any sort of enhanced or 'captivating' sensation. What we did notice, however, was the messy consistency that was reminiscent of a more liquid-y vaseline. It was difficult to clean up, and was not a pleasant, especially since it lacked the 'captivating' sensation we had both been expecting. I'm disappointed that I paid as much as I did for a lube that I won't use again, when I could just use their normal personal lubricant for 1) less money and 2) less mess.</td>\n",
       "      <td>Disappointed</td>\n",
       "    </tr>\n",
       "    <tr>\n",
       "      <th>4</th>\n",
       "      <td>1</td>\n",
       "      <td>My husband bought this gel for us. The gel caused irritation and it felt like it was burning my skin. I wouldn't recommend this gel.</td>\n",
       "      <td>Irritation</td>\n",
       "    </tr>\n",
       "    <tr>\n",
       "      <th>...</th>\n",
       "      <td>...</td>\n",
       "      <td>...</td>\n",
       "      <td>...</td>\n",
       "    </tr>\n",
       "    <tr>\n",
       "      <th>29995</th>\n",
       "      <td>5</td>\n",
       "      <td>I got this conditioner with Influenster to try it and im loving it so far, i have oily hair so i use it only in the ends of my hair and feels amazing, so soft and no mess!! This review was collected as part of a promotion.</td>\n",
       "      <td>Softness!!</td>\n",
       "    </tr>\n",
       "    <tr>\n",
       "      <th>29996</th>\n",
       "      <td>5</td>\n",
       "      <td>I love it , I received this for review purposes from influenster and it leaves my hair feeling fresh and smelling great</td>\n",
       "      <td>I love it</td>\n",
       "    </tr>\n",
       "    <tr>\n",
       "      <th>29997</th>\n",
       "      <td>5</td>\n",
       "      <td>First of all I love the smell of this product. After you wash your hair it is so smooth and easy to brush! I did receive this product from influenster for testing purposes but all opinions ARE my own! This review was collected as part of a promotion.</td>\n",
       "      <td>Hair is so smooth after use</td>\n",
       "    </tr>\n",
       "    <tr>\n",
       "      <th>29998</th>\n",
       "      <td>5</td>\n",
       "      <td>I received this through Influenster and will never go back to anything else! I normally don't use conditioner because my hair is so oily and fine. This does not make my hair feel heavy, and it doesn't get oily during the day! It really is fantastic and plan on buying it in the future! This review was collected as part of a promotion.</td>\n",
       "      <td>Perfect for my oily hair!</td>\n",
       "    </tr>\n",
       "    <tr>\n",
       "      <th>29999</th>\n",
       "      <td>5</td>\n",
       "      <td>I received this product complimentary from influenster and it has really saved my hair. This product really gives the extra boost of health and strength to bring hair back to life. It hasn't helped my hair in so many ways. This review was collected as part of a promotion.</td>\n",
       "      <td>Conditioned into healthy</td>\n",
       "    </tr>\n",
       "  </tbody>\n",
       "</table>\n",
       "<p>29469 rows × 3 columns</p>\n",
       "</div>"
      ],
      "text/plain": [
       "       reviews_rating  \\\n",
       "0                   5   \n",
       "1                   5   \n",
       "2                   5   \n",
       "3                   1   \n",
       "4                   1   \n",
       "...               ...   \n",
       "29995               5   \n",
       "29996               5   \n",
       "29997               5   \n",
       "29998               5   \n",
       "29999               5   \n",
       "\n",
       "                                                                                                                                                                                                                                                                                                                                                                                                                                                                                                                                                                                                                                                                                                                   reviews_text  \\\n",
       "0                                                                                                                                                                                                                                                                                                                                                                                                                                                                                                                     i love this album. it's very good. more to the hip hop side than her current pop sound.. SO HYPE! i listen to this everyday at the gym! i give it 5star rating all the way. her metaphors are just crazy.   \n",
       "1                                                                                                                                                                                                                                                                                                                                                                                                                                                                                                                                                                                                                                                                Good flavor. This review was collected as part of a promotion.   \n",
       "2                                                                                                                                                                                                                                                                                                                                                                                                                                                                                                                                                                                                                                                                                                                  Good flavor.   \n",
       "3      I read through the reviews on here before looking in to buying one of the couples lubricants, and was ultimately disappointed that it didn't even live up to the reviews I had read. For starters, neither my boyfriend nor I could notice any sort of enhanced or 'captivating' sensation. What we did notice, however, was the messy consistency that was reminiscent of a more liquid-y vaseline. It was difficult to clean up, and was not a pleasant, especially since it lacked the 'captivating' sensation we had both been expecting. I'm disappointed that I paid as much as I did for a lube that I won't use again, when I could just use their normal personal lubricant for 1) less money and 2) less mess.   \n",
       "4                                                                                                                                                                                                                                                                                                                                                                                                                                                                                                                                                                                          My husband bought this gel for us. The gel caused irritation and it felt like it was burning my skin. I wouldn't recommend this gel.   \n",
       "...                                                                                                                                                                                                                                                                                                                                                                                                                                                                                                                                                                                                                                                                                                                         ...   \n",
       "29995                                                                                                                                                                                                                                                                                                                                                                                                                                                                                            I got this conditioner with Influenster to try it and im loving it so far, i have oily hair so i use it only in the ends of my hair and feels amazing, so soft and no mess!! This review was collected as part of a promotion.   \n",
       "29996                                                                                                                                                                                                                                                                                                                                                                                                                                                                                                                                                                                                   I love it , I received this for review purposes from influenster and it leaves my hair feeling fresh and smelling great   \n",
       "29997                                                                                                                                                                                                                                                                                                                                                                                                                                                                First of all I love the smell of this product. After you wash your hair it is so smooth and easy to brush! I did receive this product from influenster for testing purposes but all opinions ARE my own! This review was collected as part of a promotion.   \n",
       "29998                                                                                                                                                                                                                                                                                                                                                                           I received this through Influenster and will never go back to anything else! I normally don't use conditioner because my hair is so oily and fine. This does not make my hair feel heavy, and it doesn't get oily during the day! It really is fantastic and plan on buying it in the future! This review was collected as part of a promotion.   \n",
       "29999                                                                                                                                                                                                                                                                                                                                                                                                                                          I received this product complimentary from influenster and it has really saved my hair. This product really gives the extra boost of health and strength to bring hair back to life. It hasn't helped my hair in so many ways. This review was collected as part of a promotion.   \n",
       "\n",
       "                     reviews_title  \n",
       "0                     Just Awesome  \n",
       "1                             Good  \n",
       "2                             Good  \n",
       "3                     Disappointed  \n",
       "4                       Irritation  \n",
       "...                            ...  \n",
       "29995                   Softness!!  \n",
       "29996                    I love it  \n",
       "29997  Hair is so smooth after use  \n",
       "29998    Perfect for my oily hair!  \n",
       "29999     Conditioned into healthy  \n",
       "\n",
       "[29469 rows x 3 columns]"
      ]
     },
     "execution_count": 105,
     "metadata": {},
     "output_type": "execute_result"
    }
   ],
   "source": [
    "ratings[['reviews_rating','reviews_text', 'reviews_title']]"
   ]
  },
  {
   "cell_type": "markdown",
   "id": "fe9d66a0",
   "metadata": {},
   "source": [
    "Changing the decontracted statements to their original base and also performing some basic preproecssing on the reviews text and then performing tokenization and lemmatization on the text - "
   ]
  },
  {
   "cell_type": "code",
   "execution_count": 106,
   "id": "7dc341ff",
   "metadata": {},
   "outputs": [],
   "source": [
    "def decontracted(phrase):\n",
    "    # specific\n",
    "    phrase = re.sub(r\"won't\", \"will not\", phrase)\n",
    "    phrase = re.sub(r\"can\\'t\", \"can not\", phrase)\n",
    "\n",
    "    # general\n",
    "    phrase = re.sub(r\"n\\'t\", \" not\", phrase)\n",
    "    phrase = re.sub(r\"\\'re\", \" are\", phrase)\n",
    "    phrase = re.sub(r\"\\'s\", \" is\", phrase)\n",
    "    phrase = re.sub(r\"\\'d\", \" would\", phrase)\n",
    "    phrase = re.sub(r\"\\'ll\", \" will\", phrase)\n",
    "    phrase = re.sub(r\"\\'t\", \" not\", phrase)\n",
    "    phrase = re.sub(r\"\\'ve\", \" have\", phrase)\n",
    "    phrase = re.sub(r\"\\'m\", \" am\", phrase)\n",
    "    return phrase"
   ]
  },
  {
   "cell_type": "code",
   "execution_count": 107,
   "id": "7e6e7ac3",
   "metadata": {},
   "outputs": [],
   "source": [
    "stemmer = PorterStemmer()\n",
    "wordnet_lemmatizer = WordNetLemmatizer()\n",
    "spell = Speller(lang='en')\n",
    "\n",
    "def preprocess(document, stem=True):\n",
    "    'changes document to lower case and removes stopwords'\n",
    "\n",
    "    # Decontract the text i.e I'm to I am etc\n",
    "    document = decontracted(document)\n",
    "    \n",
    "    # change sentence to lower case\n",
    "    document = document.lower()\n",
    "\n",
    "    # tokenize into words\n",
    "    words = word_tokenize(document)\n",
    "    \n",
    "    pat = '[a-zA-Z]*.*[0-9]+.*[a-zA-Z]*'\n",
    "    pat1 = '^[a-zA-Z]'\n",
    "    \n",
    "    # Removing some unnecessary elements like ',', '.' etc \n",
    "    words = [d for d in words if (not re.match(pat,d)) and (re.match(pat1,d))]\n",
    "    \n",
    "    words = [spell(word) for word in words]\n",
    "    \n",
    "    # remove stop words\n",
    "    words = [word for word in words if word not in stopwords.words(\"english\")]\n",
    "\n",
    "    # Choose stemming or lemmatization\n",
    "    \n",
    "    if(stem):\n",
    "        words = [stemmer.stem(word) for word in words]\n",
    "    else:\n",
    "        words = [wordnet_lemmatizer.lemmatize(word) for word in words]\n",
    "    \n",
    "  \n",
    "    # Removing some unnecessary elements like ',', '.' etc \n",
    "    words = [d for d in words if (not re.match(pat,d)) and (re.match(pat1,d))]\n",
    "\n",
    "    \n",
    "    # join words to make sentence\n",
    "    document = \" \".join(words)\n",
    "    \n",
    "    return document"
   ]
  },
  {
   "cell_type": "code",
   "execution_count": 108,
   "id": "6607e10f",
   "metadata": {},
   "outputs": [],
   "source": [
    "ratings['reviews_text'] = ratings['reviews_text'].apply(lambda x:preprocess(x, False))"
   ]
  },
  {
   "cell_type": "code",
   "execution_count": 109,
   "id": "1b8cd900",
   "metadata": {},
   "outputs": [],
   "source": [
    "ratings['reviews_title'] = ratings['reviews_title'].apply(lambda x:preprocess(x, False))"
   ]
  },
  {
   "cell_type": "code",
   "execution_count": 110,
   "id": "9177b522",
   "metadata": {},
   "outputs": [
    {
     "data": {
      "text/plain": [
       "0                                                                                                                                                                                                                                                                                   love album good hip hop side current pop sound hype listen everyday gym give rating way metaphor crazy\n",
       "1                                                                                                                                                                                                                                                                                                                                              good flavor review collected part promotion\n",
       "2                                                                                                                                                                                                                                                                                                                                                                              good flavor\n",
       "3    read review looking buying one couple lubricant ultimately disappointed even live review read starter neither boyfriend could notice sort enhanced sensation notice however messy consistency reminiscent liquid-y baseline difficult clean pleasant especially since lacked sensation expecting disappointed paid much tube use could use normal personal lubricant le money le mess\n",
       "4                                                                                                                                                                                                                                                                                                    husband bought gel u gel caused irritation felt like burning skin would recommend gel\n",
       "Name: reviews_text, dtype: object"
      ]
     },
     "execution_count": 110,
     "metadata": {},
     "output_type": "execute_result"
    }
   ],
   "source": [
    "ratings['reviews_text'][:5]"
   ]
  },
  {
   "cell_type": "code",
   "execution_count": 111,
   "id": "ddfdf85f",
   "metadata": {},
   "outputs": [
    {
     "data": {
      "text/plain": [
       "0         awesome\n",
       "1            good\n",
       "2            good\n",
       "3    disappointed\n",
       "4      irritation\n",
       "Name: reviews_title, dtype: object"
      ]
     },
     "execution_count": 111,
     "metadata": {},
     "output_type": "execute_result"
    }
   ],
   "source": [
    "ratings['reviews_title'][:5]"
   ]
  },
  {
   "cell_type": "code",
   "execution_count": 112,
   "id": "55c5596d",
   "metadata": {},
   "outputs": [],
   "source": [
    "ratings['rev_text'] = ratings['reviews_text'] + ratings['reviews_title']"
   ]
  },
  {
   "cell_type": "markdown",
   "id": "45d7e4b1",
   "metadata": {},
   "source": [
    "### Now after preprocessing, we are using Count vectorizer to get the bag of words representation of all the text in the title and the reviews text"
   ]
  },
  {
   "cell_type": "code",
   "execution_count": 113,
   "id": "70d31755",
   "metadata": {},
   "outputs": [],
   "source": [
    "vectorizer = TfidfVectorizer()\n",
    "reviews_tfidf = vectorizer.fit_transform(ratings['rev_text'])"
   ]
  },
  {
   "cell_type": "code",
   "execution_count": 330,
   "id": "7f887437",
   "metadata": {},
   "outputs": [
    {
     "data": {
      "text/plain": [
       "['model/reviews_tfidf']"
      ]
     },
     "execution_count": 330,
     "metadata": {},
     "output_type": "execute_result"
    }
   ],
   "source": [
    "joblib.dump(reviews_tfidf, 'model/reviews_tfidf') "
   ]
  },
  {
   "cell_type": "code",
   "execution_count": 328,
   "id": "8bae4ebc",
   "metadata": {},
   "outputs": [
    {
     "data": {
      "text/plain": [
       "array([[0., 0., 0., ..., 0., 0., 0.],\n",
       "       [0., 0., 0., ..., 0., 0., 0.],\n",
       "       [0., 0., 0., ..., 0., 0., 0.],\n",
       "       ...,\n",
       "       [0., 0., 0., ..., 0., 0., 0.],\n",
       "       [0., 0., 0., ..., 0., 0., 0.],\n",
       "       [0., 0., 0., ..., 0., 0., 0.]])"
      ]
     },
     "execution_count": 328,
     "metadata": {},
     "output_type": "execute_result"
    }
   ],
   "source": [
    "reviews_tfidf.toarray()"
   ]
  },
  {
   "cell_type": "code",
   "execution_count": 114,
   "id": "0ab72e26",
   "metadata": {},
   "outputs": [
    {
     "name": "stdout",
     "output_type": "stream",
     "text": [
      "(29469, 25160)\n"
     ]
    },
    {
     "data": {
      "text/plain": [
       "['aaa',\n",
       " 'aaaaaa',\n",
       " 'aaaaaaaaaaaaaaaaagreat',\n",
       " 'aaaaahhhhhhbest',\n",
       " 'aaahhhhh',\n",
       " 'aaammmaaazing',\n",
       " 'aaron',\n",
       " 'ab',\n",
       " 'abandon',\n",
       " 'abandoned',\n",
       " 'abbey',\n",
       " 'abbr',\n",
       " 'abbrev',\n",
       " 'abcbest',\n",
       " 'abd',\n",
       " 'abdominal',\n",
       " 'abgood',\n",
       " 'ability',\n",
       " 'abilitybased',\n",
       " 'able',\n",
       " 'ablebetter',\n",
       " 'ablehair',\n",
       " 'abortion',\n",
       " 'above',\n",
       " 'abrasive',\n",
       " 'abrasiveclear',\n",
       " 'abrasiveness',\n",
       " 'abroad',\n",
       " 'abruptly',\n",
       " 'absence',\n",
       " 'absmag',\n",
       " 'absobency',\n",
       " 'absolute',\n",
       " 'absolutely',\n",
       " 'absorb',\n",
       " 'absorbed',\n",
       " 'absorbing',\n",
       " 'absorbs',\n",
       " 'abt',\n",
       " 'abundance',\n",
       " 'abundant',\n",
       " 'abused',\n",
       " 'abusegoire',\n",
       " 'ac',\n",
       " 'academic',\n",
       " 'academy',\n",
       " 'acapulco',\n",
       " 'acc',\n",
       " 'accent',\n",
       " 'accentuate',\n",
       " 'accentuates',\n",
       " 'accentuating',\n",
       " 'accept',\n",
       " 'acceptable',\n",
       " 'acceptablegreat',\n",
       " 'acceptableinteresting',\n",
       " 'acceptancegood',\n",
       " 'accepted',\n",
       " 'accepteddigital',\n",
       " 'accepting',\n",
       " 'access',\n",
       " 'accessed',\n",
       " 'accessible',\n",
       " 'accessibleexcellent',\n",
       " 'accessiblelove',\n",
       " 'accessibleneeded',\n",
       " 'accessmake',\n",
       " 'accessory',\n",
       " 'accident',\n",
       " 'accidental',\n",
       " 'accidentally',\n",
       " 'accidentgreat',\n",
       " 'accidentproduct',\n",
       " 'accommodate',\n",
       " 'accommodates',\n",
       " 'accommodation',\n",
       " 'accompaniment',\n",
       " 'accompany',\n",
       " 'accompanying',\n",
       " 'accomplish',\n",
       " 'accomplished',\n",
       " 'accomplishment',\n",
       " 'according',\n",
       " 'accordingly',\n",
       " 'account',\n",
       " 'accountability',\n",
       " 'accountant',\n",
       " 'accounting',\n",
       " 'accreditation',\n",
       " 'accumulate',\n",
       " 'accumulated',\n",
       " 'accumulates',\n",
       " 'accurate',\n",
       " 'accurategreat',\n",
       " 'accurately',\n",
       " 'accused',\n",
       " 'accuses',\n",
       " 'accusing',\n",
       " 'accustomed',\n",
       " 'acetate',\n",
       " 'achieve',\n",
       " 'achieved',\n",
       " 'achievegreat',\n",
       " 'achievement',\n",
       " 'achieving',\n",
       " 'acid',\n",
       " 'acidgreat',\n",
       " 'acidity',\n",
       " 'acknowledge',\n",
       " 'acknowledging',\n",
       " 'acne',\n",
       " 'acnecreamy',\n",
       " 'acnehome',\n",
       " 'acnepretty',\n",
       " 'aco',\n",
       " 'acquainted',\n",
       " 'acquired',\n",
       " 'acquiringlacquer',\n",
       " 'acquisition',\n",
       " 'acre',\n",
       " 'across',\n",
       " 'acrylic',\n",
       " 'acrylicgood',\n",
       " 'act',\n",
       " 'acted',\n",
       " 'actexcellent',\n",
       " 'actgood',\n",
       " 'acting',\n",
       " 'actingaction',\n",
       " 'actingand',\n",
       " 'actingbad',\n",
       " 'actinggodzilla',\n",
       " 'actinggood',\n",
       " 'actinggreat',\n",
       " 'actingslow',\n",
       " 'action',\n",
       " 'actionable',\n",
       " 'actionaction',\n",
       " 'actionalec',\n",
       " 'actionanother',\n",
       " 'actionawesome',\n",
       " 'actionbad',\n",
       " 'actionbest',\n",
       " 'actionbetter',\n",
       " 'actionchanged',\n",
       " 'actioncool',\n",
       " 'actiondope',\n",
       " 'actioneasy',\n",
       " 'actionenjoyable',\n",
       " 'actionepic',\n",
       " 'actionexcellent',\n",
       " 'actionfast',\n",
       " 'actionfunny',\n",
       " 'actiongetting',\n",
       " 'actiongift',\n",
       " 'actiongodzilla',\n",
       " 'actiongoire',\n",
       " 'actiongood',\n",
       " 'actiongreat',\n",
       " 'actionlove',\n",
       " 'actionmovie',\n",
       " 'actionmovies',\n",
       " 'actionmuch',\n",
       " 'actionred',\n",
       " 'actionresident',\n",
       " 'activate',\n",
       " 'activated',\n",
       " 'activatedbest',\n",
       " 'activates',\n",
       " 'activating',\n",
       " 'active',\n",
       " 'actively',\n",
       " 'activist',\n",
       " 'activity',\n",
       " 'activitykid',\n",
       " 'activitylove',\n",
       " 'actor',\n",
       " 'actorawesome',\n",
       " 'actorexcellent',\n",
       " 'actorfantastic',\n",
       " 'actorfrom',\n",
       " 'actorfun',\n",
       " 'actorfunniest',\n",
       " 'actorgood',\n",
       " 'actorgreat',\n",
       " 'actorjohnny',\n",
       " 'actorlove',\n",
       " 'actormike',\n",
       " 'actornon',\n",
       " 'actorreally',\n",
       " 'actors',\n",
       " 'actorsurprisingly',\n",
       " 'actress',\n",
       " 'actresses',\n",
       " 'actresseslot',\n",
       " 'actressesmodern',\n",
       " 'actressfirst',\n",
       " 'actressgreat',\n",
       " 'actresslove',\n",
       " 'actresspretty',\n",
       " 'actressred',\n",
       " 'actual',\n",
       " 'actuality',\n",
       " 'actually',\n",
       " 'actuallychecked',\n",
       " 'ad',\n",
       " 'adam',\n",
       " 'adaptation',\n",
       " 'adaptationoh',\n",
       " 'adapted',\n",
       " 'adapter',\n",
       " 'adapting',\n",
       " 'adaption',\n",
       " 'adaptionget',\n",
       " 'adapts',\n",
       " 'adcreative',\n",
       " 'add',\n",
       " 'added',\n",
       " 'addedbest',\n",
       " 'addedgreat',\n",
       " 'addgreat',\n",
       " 'addict',\n",
       " 'addicted',\n",
       " 'addictedaddiction',\n",
       " 'addictedpuffcorn',\n",
       " 'addictingp',\n",
       " 'addiction',\n",
       " 'addictiongood',\n",
       " 'addictive',\n",
       " 'addictiveaddictive',\n",
       " 'addictivehex',\n",
       " 'addictiveyum',\n",
       " 'adding',\n",
       " 'addition',\n",
       " 'additional',\n",
       " 'additionally',\n",
       " 'additionmatch',\n",
       " 'additionperfect',\n",
       " 'additive',\n",
       " 'additiveyum',\n",
       " 'address',\n",
       " 'addressed',\n",
       " 'addway',\n",
       " 'addwonderful',\n",
       " 'adequate',\n",
       " 'adequately',\n",
       " 'adhere',\n",
       " 'adhering',\n",
       " 'adhesion',\n",
       " 'adhesive',\n",
       " 'adjacent',\n",
       " 'adjust',\n",
       " 'adjustable',\n",
       " 'adjusted',\n",
       " 'adjusting',\n",
       " 'adjustment',\n",
       " 'adjustmentbig',\n",
       " 'adjusts',\n",
       " 'admin',\n",
       " 'administration',\n",
       " 'administrative',\n",
       " 'administrator',\n",
       " 'administrators',\n",
       " 'admirable',\n",
       " 'admire',\n",
       " 'admireddecent',\n",
       " 'admires',\n",
       " 'admission',\n",
       " 'admissionok',\n",
       " 'admissionpretty',\n",
       " 'admit',\n",
       " 'admits',\n",
       " 'admitted',\n",
       " 'admittedly',\n",
       " 'adolescent',\n",
       " 'adopted',\n",
       " 'adorable',\n",
       " 'adrenaline',\n",
       " 'adrian',\n",
       " 'adult',\n",
       " 'adultbrought',\n",
       " 'adultdisney',\n",
       " 'adultentertaining',\n",
       " 'adultexcellent',\n",
       " 'adultfive',\n",
       " 'adultfun',\n",
       " 'adultgood',\n",
       " 'adultgreat',\n",
       " 'adulthigh',\n",
       " 'adultliked',\n",
       " 'adultmike',\n",
       " 'adultmuch',\n",
       " 'adults',\n",
       " 'advance',\n",
       " 'advanceallergic',\n",
       " 'advanced',\n",
       " 'advancedepends',\n",
       " 'advancegreat',\n",
       " 'advancement',\n",
       " 'advantage',\n",
       " 'adventure',\n",
       " 'adventureawesome',\n",
       " 'adventurefunny',\n",
       " 'adventuregreat',\n",
       " 'adventurenice',\n",
       " 'adventureplane',\n",
       " 'adverse',\n",
       " 'advert',\n",
       " 'advertise',\n",
       " 'advertised',\n",
       " 'advertisedbest',\n",
       " 'advertisedcar',\n",
       " 'advertisedcococare',\n",
       " 'advertisedfive',\n",
       " 'advertisedtruth',\n",
       " 'advertisement',\n",
       " 'advertising',\n",
       " 'advice',\n",
       " 'advise',\n",
       " 'advised',\n",
       " 'advocate',\n",
       " 'ae',\n",
       " 'aerial',\n",
       " 'aerosol',\n",
       " 'aesthetic',\n",
       " 'aesthetically',\n",
       " 'aesthetician',\n",
       " 'af',\n",
       " 'affair',\n",
       " 'affect',\n",
       " 'affected',\n",
       " 'affectgreat',\n",
       " 'affection',\n",
       " 'affective',\n",
       " 'affixed',\n",
       " 'afford',\n",
       " 'affordability',\n",
       " 'affordable',\n",
       " 'affordablecheese',\n",
       " 'affordablechester',\n",
       " 'affordableexcellent',\n",
       " 'affordablegreat',\n",
       " 'affordablelove',\n",
       " 'affordableperfect',\n",
       " 'affordableusing',\n",
       " 'afghanistan',\n",
       " 'aficionado',\n",
       " 'afield',\n",
       " 'aforementioned',\n",
       " 'aforesaid',\n",
       " 'afraid',\n",
       " 'africa',\n",
       " 'african',\n",
       " 'afro',\n",
       " 'after',\n",
       " 'afterlife',\n",
       " 'aftermath',\n",
       " 'afternoon',\n",
       " 'afternoondark',\n",
       " 'afternoonfinally',\n",
       " 'afternoongodzilla',\n",
       " 'aftershave',\n",
       " 'aftertaste',\n",
       " 'aftertastegreat',\n",
       " 'afterthought',\n",
       " 'afterward',\n",
       " 'afterwardawesome',\n",
       " 'afterwards',\n",
       " 'afterwardsabsolutely',\n",
       " 'afterwardsfeel',\n",
       " 'afterwardsgreat',\n",
       " 'ag',\n",
       " 'again',\n",
       " 'age',\n",
       " 'ageawesome',\n",
       " 'aged',\n",
       " 'agedefy',\n",
       " 'agedelightful',\n",
       " 'ageexcellent',\n",
       " 'agefun',\n",
       " 'agefunny',\n",
       " 'agegood',\n",
       " 'agegreat',\n",
       " 'ageing',\n",
       " 'agekid',\n",
       " 'agelove',\n",
       " 'agelovely',\n",
       " 'agency',\n",
       " 'agenda',\n",
       " 'agent',\n",
       " 'agentgood',\n",
       " 'agentwant',\n",
       " 'ageok',\n",
       " 'ageplane',\n",
       " 'ageproduct',\n",
       " 'aggravated',\n",
       " 'aggregation',\n",
       " 'aggressive',\n",
       " 'aggressively',\n",
       " 'aging',\n",
       " 'agitated',\n",
       " 'ago',\n",
       " 'agobetter',\n",
       " 'agogentle',\n",
       " 'agogodzilla',\n",
       " 'agogood',\n",
       " 'agogreat',\n",
       " 'agoking',\n",
       " 'agonizing',\n",
       " 'agony',\n",
       " 'agoslow',\n",
       " 'agoused',\n",
       " 'agree',\n",
       " 'agreed',\n",
       " 'agreegood',\n",
       " 'agreeing',\n",
       " 'agreement',\n",
       " 'agrees',\n",
       " 'ah',\n",
       " 'ahead',\n",
       " 'aheadgreat',\n",
       " 'ahhhhhhh',\n",
       " 'ahhhhhhhh',\n",
       " 'ai',\n",
       " 'aid',\n",
       " 'aide',\n",
       " 'ailment',\n",
       " 'aim',\n",
       " 'aimed',\n",
       " 'aimeffective',\n",
       " 'aint',\n",
       " 'air',\n",
       " 'airactiv',\n",
       " 'airborne',\n",
       " 'airbrushed',\n",
       " 'airbus',\n",
       " 'aircraft',\n",
       " 'aired',\n",
       " 'airflow',\n",
       " 'airforce',\n",
       " 'airfreshest',\n",
       " 'airgreat',\n",
       " 'airing',\n",
       " 'airline',\n",
       " 'airliner',\n",
       " 'airlock',\n",
       " 'airplane',\n",
       " 'airplaneawesome',\n",
       " 'airplaneentertaining',\n",
       " 'airplanegreat',\n",
       " 'airport',\n",
       " 'airsequel',\n",
       " 'airspun',\n",
       " 'airway',\n",
       " 'aisle',\n",
       " 'ajax',\n",
       " 'aka',\n",
       " 'akin',\n",
       " 'al',\n",
       " 'ala',\n",
       " 'alabama',\n",
       " 'alabaster',\n",
       " 'alahappened',\n",
       " 'alan',\n",
       " 'alarm',\n",
       " 'alarminexpensive',\n",
       " 'alarms',\n",
       " 'alaska',\n",
       " 'alba',\n",
       " 'albacore',\n",
       " 'albeit',\n",
       " 'alberto',\n",
       " 'albertsons',\n",
       " 'album',\n",
       " 'albumclassic',\n",
       " 'albumclean',\n",
       " 'albumgood',\n",
       " 'albumgreat',\n",
       " 'albumlove',\n",
       " 'alcohol',\n",
       " 'alcoholic',\n",
       " 'aldeanlove',\n",
       " 'ale',\n",
       " 'alediet',\n",
       " 'alegreat',\n",
       " 'alert',\n",
       " 'alerted',\n",
       " 'alerting',\n",
       " 'alex',\n",
       " 'alexander',\n",
       " 'alexis',\n",
       " 'alf',\n",
       " 'alfred',\n",
       " 'algae',\n",
       " 'alias',\n",
       " 'alice',\n",
       " 'alicecheap',\n",
       " 'alien',\n",
       " 'alienamazing',\n",
       " 'align',\n",
       " 'alignment',\n",
       " 'alignmentappropriate',\n",
       " 'alignmentgreat',\n",
       " 'aligns',\n",
       " 'alike',\n",
       " 'alikechip',\n",
       " 'alikegodzilla',\n",
       " 'alikegrandson',\n",
       " 'alikegreat',\n",
       " 'alikelegendary',\n",
       " 'alikeoutstanding',\n",
       " 'alive',\n",
       " 'alkyl',\n",
       " 'all',\n",
       " 'alleges',\n",
       " 'allen',\n",
       " 'allergic',\n",
       " 'allergiccareful',\n",
       " 'allergies',\n",
       " 'allergy',\n",
       " 'allergycooky',\n",
       " 'allergyproduct',\n",
       " 'allergystatic',\n",
       " 'alleviate',\n",
       " 'alley',\n",
       " 'alleygreat',\n",
       " 'alleyson',\n",
       " 'allow',\n",
       " 'allowed',\n",
       " 'allowing',\n",
       " 'allows',\n",
       " 'allowsawesome',\n",
       " 'allstar',\n",
       " 'alltime',\n",
       " 'allude',\n",
       " 'ally',\n",
       " 'alma',\n",
       " 'almond',\n",
       " 'almost',\n",
       " 'almostwaste',\n",
       " 'alone',\n",
       " 'alonebetter',\n",
       " 'alonebring',\n",
       " 'alonechill',\n",
       " 'alonecute',\n",
       " 'aloneexciting',\n",
       " 'alonefun',\n",
       " 'alonegodzilla',\n",
       " 'alonegreat',\n",
       " 'alonehate',\n",
       " 'alonenew',\n",
       " 'alonerose',\n",
       " 'alonetasty',\n",
       " 'along',\n",
       " 'alongfun',\n",
       " 'alonggreat',\n",
       " 'alonglove',\n",
       " 'alongmixed',\n",
       " 'alongside',\n",
       " 'alot',\n",
       " 'alotchunk',\n",
       " 'alotexcellent',\n",
       " 'alotfun',\n",
       " 'alotgood',\n",
       " 'alothusband',\n",
       " 'alotlike',\n",
       " 'alotlove',\n",
       " 'alotproduct',\n",
       " 'alpha',\n",
       " 'alpine',\n",
       " 'already',\n",
       " 'alreadyanother',\n",
       " 'alreadybest',\n",
       " 'alreadycho',\n",
       " 'alreadyexcellent',\n",
       " 'alreadygood',\n",
       " 'alreadygreat',\n",
       " 'alreadykeep',\n",
       " 'alreadylove',\n",
       " 'alreadyloved',\n",
       " 'alreadymeh',\n",
       " 'alreadysharp',\n",
       " 'alright',\n",
       " 'alrightbad',\n",
       " 'alrightbest',\n",
       " 'alrightok',\n",
       " 'alrightokay',\n",
       " 'also',\n",
       " 'alsoawesome',\n",
       " 'alsobest',\n",
       " 'alsobetter',\n",
       " 'alsoca',\n",
       " 'alsochloro',\n",
       " 'alsocute',\n",
       " 'alsodummy',\n",
       " 'alsoentertaining',\n",
       " 'alsofinally',\n",
       " 'alsofun',\n",
       " 'alsofunny',\n",
       " 'alsogood',\n",
       " 'alsogreat',\n",
       " 'alsokid',\n",
       " 'alsolove',\n",
       " 'alsoproduct',\n",
       " 'alsosevere',\n",
       " 'alsosysop',\n",
       " 'alsouse',\n",
       " 'alsowonderful',\n",
       " 'alter',\n",
       " 'alteration',\n",
       " 'altering',\n",
       " 'alternate',\n",
       " 'alternating',\n",
       " 'alternative',\n",
       " 'alternativegreat',\n",
       " 'alternativepower',\n",
       " 'alternativeproduct',\n",
       " 'alters',\n",
       " 'although',\n",
       " 'altitude',\n",
       " 'alto',\n",
       " 'altogether',\n",
       " 'altogetherbest',\n",
       " 'altogetherextra',\n",
       " 'altogetherfinally',\n",
       " 'always',\n",
       " 'alwaysawesome',\n",
       " 'alwaysdummy',\n",
       " 'alwaysfive',\n",
       " 'alwaysgood',\n",
       " 'alwaysgreat',\n",
       " 'alwayshot',\n",
       " 'alwayskind',\n",
       " 'alwayslove',\n",
       " 'alwaysmusselman',\n",
       " 'alwaysneed',\n",
       " 'alwaysstay',\n",
       " 'alzheimer',\n",
       " 'am',\n",
       " 'ama',\n",
       " 'amanda',\n",
       " 'amazeballs',\n",
       " 'amazed',\n",
       " 'amazedbetter',\n",
       " 'amazing',\n",
       " 'amazinga',\n",
       " 'amazingamazing',\n",
       " 'amazingbad',\n",
       " 'amazingbeautiful',\n",
       " 'amazingbest',\n",
       " 'amazingchloro',\n",
       " 'amazingdelicious',\n",
       " 'amazingdummy',\n",
       " 'amazingeverything',\n",
       " 'amazingexcellent',\n",
       " 'amazingfantastic',\n",
       " 'amazingfeel',\n",
       " 'amazingfun',\n",
       " 'amazingfunniest',\n",
       " 'amazingfunny',\n",
       " 'amazingggg',\n",
       " 'amazinggodzilla',\n",
       " 'amazinggood',\n",
       " 'amazinggreat',\n",
       " 'amazinghilarious',\n",
       " 'amazinglove',\n",
       " 'amazingly',\n",
       " 'amazingmerit',\n",
       " 'amazingmust',\n",
       " 'amazingnessorganizing',\n",
       " 'amazingnesssay',\n",
       " 'amazingproduct',\n",
       " 'amazingrage',\n",
       " 'amazingreally',\n",
       " 'amazingreference',\n",
       " 'amazingrun',\n",
       " 'amazingsay',\n",
       " 'amazingshocking',\n",
       " 'amazingtyler',\n",
       " 'amazingwatch',\n",
       " 'amazingwonderful',\n",
       " 'amazingyou',\n",
       " 'amazon',\n",
       " 'amazonalways',\n",
       " 'amazonca',\n",
       " 'amazonfalse',\n",
       " 'amazongreat',\n",
       " 'amazonlove',\n",
       " 'ambassador',\n",
       " 'amber',\n",
       " 'amc',\n",
       " 'amd',\n",
       " 'amercanized',\n",
       " 'america',\n",
       " 'american',\n",
       " 'americancultural',\n",
       " 'americanice',\n",
       " 'americanized',\n",
       " 'americanproduct',\n",
       " 'ami',\n",
       " 'amid',\n",
       " 'amidst',\n",
       " 'amino',\n",
       " 'ammonia',\n",
       " 'ammonium',\n",
       " 'amon',\n",
       " 'among',\n",
       " 'amongst',\n",
       " 'amount',\n",
       " 'amountfar',\n",
       " 'amountstacking',\n",
       " 'amour',\n",
       " 'amp',\n",
       " 'ample',\n",
       " 'amplified',\n",
       " 'amplify',\n",
       " 'amt',\n",
       " 'amused',\n",
       " 'amusedpretty',\n",
       " 'amusement',\n",
       " 'amusing',\n",
       " 'amy',\n",
       " 'an',\n",
       " 'analyze',\n",
       " 'anaphylactic',\n",
       " 'ancestor',\n",
       " 'anchor',\n",
       " 'anchoralways',\n",
       " 'anchoranchor',\n",
       " 'anchorbest',\n",
       " 'anchorchip',\n",
       " 'anchorgood',\n",
       " 'anchorgreat',\n",
       " 'anchorlove',\n",
       " 'anchorsmall',\n",
       " 'ancient',\n",
       " 'and',\n",
       " 'andcharacters',\n",
       " 'anderson',\n",
       " 'andfast',\n",
       " 'andonopolus',\n",
       " 'andrew',\n",
       " 'androidwhole',\n",
       " 'andy',\n",
       " 'anecdotal',\n",
       " 'angel',\n",
       " 'angelique',\n",
       " 'angered',\n",
       " 'angle',\n",
       " 'angled',\n",
       " 'angling',\n",
       " 'angry',\n",
       " 'angst',\n",
       " 'angstlive',\n",
       " 'angular',\n",
       " 'anhingd',\n",
       " 'animal',\n",
       " 'animalda',\n",
       " 'animated',\n",
       " 'animation',\n",
       " 'animationfun',\n",
       " 'animationgreat',\n",
       " 'animationok',\n",
       " 'anime',\n",
       " 'ankle',\n",
       " 'anna',\n",
       " 'anniversary',\n",
       " 'announce',\n",
       " 'announced',\n",
       " 'announcement',\n",
       " 'announces',\n",
       " 'annoy',\n",
       " 'annoyed',\n",
       " 'annoying',\n",
       " 'annoys',\n",
       " 'annual',\n",
       " 'annually',\n",
       " 'anonymous',\n",
       " 'anorexia',\n",
       " 'another',\n",
       " 'anotherfilm',\n",
       " 'anothergodzilla',\n",
       " 'anothergreat',\n",
       " 'answer',\n",
       " 'answering',\n",
       " 'answers',\n",
       " 'ant',\n",
       " 'antagonist',\n",
       " 'ante',\n",
       " 'anthem',\n",
       " 'anthony',\n",
       " 'anthracite',\n",
       " 'anti',\n",
       " 'antiaging',\n",
       " 'antibacterial',\n",
       " 'antic',\n",
       " 'anticipated',\n",
       " 'anticipatedretired',\n",
       " 'anticipatedsurprisingly',\n",
       " 'anticipating',\n",
       " 'anticipation',\n",
       " 'antioxidant',\n",
       " 'antiperspirant',\n",
       " 'antique',\n",
       " 'antisemitic',\n",
       " 'antithesis',\n",
       " 'antonio',\n",
       " 'anxiety',\n",
       " 'anxious',\n",
       " 'anybody',\n",
       " 'anybodygood',\n",
       " 'anybodylove',\n",
       " 'anybodysuperb',\n",
       " 'anymore',\n",
       " 'anymorebad',\n",
       " 'anymorebring',\n",
       " 'anymoreindex',\n",
       " 'anymorelast',\n",
       " 'anymoreleaf',\n",
       " 'anymorelove',\n",
       " 'anymorenice',\n",
       " 'anymorereally',\n",
       " 'anymoreuse',\n",
       " 'anymorewonderful',\n",
       " 'anyone',\n",
       " 'anyoneanother',\n",
       " 'anyoneawesome',\n",
       " 'anyonebig',\n",
       " 'anyoneconvenient',\n",
       " 'anyoneevil',\n",
       " 'anyoneexcellent',\n",
       " 'anyonegood',\n",
       " 'anyonegreat',\n",
       " 'anyonegreatest',\n",
       " 'anyonehair',\n",
       " 'anyonehilarious',\n",
       " 'anyoneish',\n",
       " 'anyonejoining',\n",
       " 'anyonelove',\n",
       " 'anyonelovely',\n",
       " 'anyonenasty',\n",
       " 'anyoneomigosh',\n",
       " 'anyoneprice',\n",
       " 'anyoneproduct',\n",
       " 'anyonereally',\n",
       " 'anyonesimply',\n",
       " 'anyoneson',\n",
       " 'anyonestrong',\n",
       " 'anyonethank',\n",
       " 'anyonework',\n",
       " 'anyonewow',\n",
       " 'anything',\n",
       " 'anythingamazing',\n",
       " 'anythingawesome',\n",
       " 'anythingbisquick',\n",
       " 'anythingchloro',\n",
       " 'anythinglove',\n",
       " 'anythingnice',\n",
       " 'anythingshine',\n",
       " 'anytime',\n",
       " 'anytimechester',\n",
       " 'anytimeexcellent',\n",
       " 'anytimegodzilla',\n",
       " 'anytimeoutstanding',\n",
       " 'anytimeproduct',\n",
       " 'anytimesolid',\n",
       " 'anytimetasty',\n",
       " 'anyway',\n",
       " 'anywayreplaced',\n",
       " 'anyways',\n",
       " 'anywayseen',\n",
       " 'anywhere',\n",
       " 'anywhereawesome',\n",
       " 'anywhereblack',\n",
       " 'anywhereconvenient',\n",
       " 'anywhereexcellent',\n",
       " 'anywheregreat',\n",
       " 'anywherelove',\n",
       " 'anywhereplease',\n",
       " 'ap',\n",
       " 'apart',\n",
       " 'apartbeautiful',\n",
       " 'apartgood',\n",
       " 'apartment',\n",
       " 'apartmuch',\n",
       " 'apartnever',\n",
       " 'apartsmell',\n",
       " 'apex',\n",
       " 'apocalypse',\n",
       " 'apocalypseinteresting',\n",
       " 'apocalyptic',\n",
       " 'apollo',\n",
       " 'apologized',\n",
       " 'app',\n",
       " 'appalled',\n",
       " 'apparent',\n",
       " 'apparently',\n",
       " 'appeal',\n",
       " 'appealcheese',\n",
       " 'appealing',\n",
       " 'appealingmatching',\n",
       " 'appealprofession',\n",
       " 'appear',\n",
       " 'appearance',\n",
       " 'appearancegood',\n",
       " 'appearancelove',\n",
       " 'appearancemostly',\n",
       " 'appearanceokay',\n",
       " 'appearanceoutstanding',\n",
       " 'appearanceproduct',\n",
       " 'appeared',\n",
       " 'appearedworst',\n",
       " 'appearing',\n",
       " 'appears',\n",
       " 'appearsclassy',\n",
       " 'appendix',\n",
       " 'appetitelove',\n",
       " 'appgreat',\n",
       " 'applause',\n",
       " 'apple',\n",
       " 'applesauce',\n",
       " 'applesaucemuselmans',\n",
       " 'appliance',\n",
       " 'appliancelove',\n",
       " 'application',\n",
       " 'applicationeasy',\n",
       " 'applicationgood',\n",
       " 'applicationlast',\n",
       " 'applicationlove',\n",
       " 'applicationlovely',\n",
       " 'applicationloving',\n",
       " 'applicationnew',\n",
       " 'applicationproduct',\n",
       " 'applicationsuggestion',\n",
       " 'applicationterrific',\n",
       " 'applied',\n",
       " 'appliedcake',\n",
       " 'applies',\n",
       " 'apply',\n",
       " 'applygreat',\n",
       " 'applying',\n",
       " 'applyinglove',\n",
       " 'applyingordered',\n",
       " 'applyingperfect',\n",
       " 'applyone',\n",
       " 'applysimple',\n",
       " 'appointment',\n",
       " 'appreciate',\n",
       " 'appreciateclassic',\n",
       " 'appreciatecute',\n",
       " 'appreciated',\n",
       " 'appreciatedeffective',\n",
       " 'appreciatedgo',\n",
       " 'appreciatedgreat',\n",
       " 'appreciatednew',\n",
       " 'appreciatemaking',\n",
       " 'appreciates',\n",
       " 'appreciative',\n",
       " 'appreciativenothing',\n",
       " 'apprehension',\n",
       " 'approach',\n",
       " 'approached',\n",
       " 'appropriate',\n",
       " 'appropriatejuvenile',\n",
       " 'appropriatelove',\n",
       " 'appropriately',\n",
       " 'appropriatesatisfied',\n",
       " 'approval',\n",
       " 'approve',\n",
       " 'approved',\n",
       " 'approvedgood',\n",
       " 'approx',\n",
       " 'approximately',\n",
       " 'apps',\n",
       " 'apr',\n",
       " 'apricot',\n",
       " 'april',\n",
       " 'aprilexcellent',\n",
       " 'apron',\n",
       " 'apt',\n",
       " 'aptfar',\n",
       " 'aptly',\n",
       " 'aq',\n",
       " 'aqua',\n",
       " 'aquaphor',\n",
       " 'ar',\n",
       " 'arabia',\n",
       " 'arbor',\n",
       " 'arc',\n",
       " 'arch',\n",
       " 'archaeologist',\n",
       " 'arched',\n",
       " 'architect',\n",
       " 'archiveperfect',\n",
       " 'archivingok',\n",
       " 'are',\n",
       " 'area',\n",
       " 'areabest',\n",
       " 'areachloro',\n",
       " 'areaconvenient',\n",
       " ...]"
      ]
     },
     "execution_count": 114,
     "metadata": {},
     "output_type": "execute_result"
    }
   ],
   "source": [
    "print(reviews_tfidf.shape)\n",
    "vectorizer.get_feature_names()"
   ]
  },
  {
   "cell_type": "code",
   "execution_count": 115,
   "id": "ad4e19c9",
   "metadata": {},
   "outputs": [],
   "source": [
    "ratings['sentiment'] = ratings['user_sentiment'].apply(lambda x:1 if x=='Negative' else 0)"
   ]
  },
  {
   "cell_type": "code",
   "execution_count": 116,
   "id": "08b79e85",
   "metadata": {},
   "outputs": [
    {
     "data": {
      "text/plain": [
       "Positive    26163\n",
       "Negative     3306\n",
       "Name: user_sentiment, dtype: int64"
      ]
     },
     "execution_count": 116,
     "metadata": {},
     "output_type": "execute_result"
    }
   ],
   "source": [
    "ratings['user_sentiment'].value_counts()"
   ]
  },
  {
   "cell_type": "code",
   "execution_count": 117,
   "id": "fa67f5ab",
   "metadata": {},
   "outputs": [],
   "source": [
    "X = reviews_tfidf\n",
    "Y = ratings['sentiment']"
   ]
  },
  {
   "cell_type": "code",
   "execution_count": 118,
   "id": "b1759060",
   "metadata": {},
   "outputs": [
    {
     "data": {
      "text/plain": [
       "(29469, 25160)"
      ]
     },
     "execution_count": 118,
     "metadata": {},
     "output_type": "execute_result"
    }
   ],
   "source": [
    "X.shape"
   ]
  },
  {
   "cell_type": "code",
   "execution_count": 119,
   "id": "0047557b",
   "metadata": {},
   "outputs": [],
   "source": [
    "X_train, X_test, y_train, y_test=train_test_split(X,Y,test_size=0.2, random_state=42)"
   ]
  },
  {
   "cell_type": "code",
   "execution_count": 120,
   "id": "bd2ba2cc",
   "metadata": {},
   "outputs": [
    {
     "data": {
      "text/plain": [
       "(23575, 25160)"
      ]
     },
     "execution_count": 120,
     "metadata": {},
     "output_type": "execute_result"
    }
   ],
   "source": [
    "X_train.shape"
   ]
  },
  {
   "cell_type": "code",
   "execution_count": 146,
   "id": "a2034338",
   "metadata": {},
   "outputs": [
    {
     "data": {
      "text/plain": [
       "(23575,)"
      ]
     },
     "execution_count": 146,
     "metadata": {},
     "output_type": "execute_result"
    }
   ],
   "source": [
    "y_train.shape"
   ]
  },
  {
   "cell_type": "code",
   "execution_count": 147,
   "id": "9bb082a4",
   "metadata": {},
   "outputs": [
    {
     "data": {
      "text/plain": [
       "0    20919\n",
       "1     2656\n",
       "Name: sentiment, dtype: int64"
      ]
     },
     "execution_count": 147,
     "metadata": {},
     "output_type": "execute_result"
    }
   ],
   "source": [
    "y_train.value_counts()"
   ]
  },
  {
   "cell_type": "code",
   "execution_count": 122,
   "id": "ba5b6d2e",
   "metadata": {},
   "outputs": [
    {
     "data": {
      "text/plain": [
       "LogisticRegression(class_weight={0: 0.2, 1: 0.8})"
      ]
     },
     "execution_count": 122,
     "metadata": {},
     "output_type": "execute_result"
    }
   ],
   "source": [
    "lm = LogisticRegression(class_weight={0:0.2,1:0.8})\n",
    "lm.fit(X_train, y_train) "
   ]
  },
  {
   "cell_type": "code",
   "execution_count": 123,
   "id": "67d60f29",
   "metadata": {},
   "outputs": [],
   "source": [
    "y_pred = lm.predict(X_test)"
   ]
  },
  {
   "cell_type": "code",
   "execution_count": 124,
   "id": "7a0d51c2",
   "metadata": {},
   "outputs": [],
   "source": [
    "def print_metrics(y_test, y_pred):\n",
    "    con_mat = confusion_matrix(y_test, y_pred)\n",
    "    print(con_mat)\n",
    "\n",
    "    accuracy = (con_mat[0][0] + con_mat[1][1])/(con_mat[0][0] + con_mat[1][1] +con_mat[0][1] + con_mat[1][0])\n",
    "    print(\"accuracy :\",accuracy)\n",
    "\n",
    "    specificity = con_mat[0][0]/(con_mat[0][0]+con_mat[0][1])\n",
    "    print(\"specificity: \", specificity)\n",
    "    sensitivity = con_mat[1][1]/(con_mat[1][1]+con_mat[1][0])\n",
    "    print(\"sensitivity : \", sensitivity)"
   ]
  },
  {
   "cell_type": "code",
   "execution_count": 125,
   "id": "4ff44ab6",
   "metadata": {},
   "outputs": [
    {
     "name": "stdout",
     "output_type": "stream",
     "text": [
      "[[4903  341]\n",
      " [ 224  426]]\n",
      "accuracy : 0.9041398031896845\n",
      "specificity:  0.9349733028222731\n",
      "sensitivity :  0.6553846153846153\n"
     ]
    }
   ],
   "source": [
    "print_metrics(y_test, y_pred)"
   ]
  },
  {
   "cell_type": "markdown",
   "id": "521f4b37",
   "metadata": {},
   "source": [
    "Logistic classifier has an accuracy of around 90%. let's look at RandomClassifier - "
   ]
  },
  {
   "cell_type": "code",
   "execution_count": 126,
   "id": "2b3c0429",
   "metadata": {},
   "outputs": [],
   "source": [
    "# Create the parameter grid based on the results of random search \n",
    "param_grid = {\n",
    "    'max_depth': [4,8,10],\n",
    "    'min_samples_leaf': range(100, 400, 200),\n",
    "    'min_samples_split': range(200, 500, 200),\n",
    "    'n_estimators': [100,200, 300], \n",
    "    'max_features': [5, 10],\n",
    "    'class_weight': [{0:0.1,1:0.9},{0:0.2,1:0.8}]\n",
    "}\n",
    "# Create a based model\n",
    "rf = RandomForestClassifier()\n",
    "# Instantiate the grid search model\n",
    "grid_search = GridSearchCV(estimator = rf, param_grid = param_grid, \n",
    "                          cv = 3, n_jobs = -1,verbose = 1)"
   ]
  },
  {
   "cell_type": "code",
   "execution_count": 127,
   "id": "70f2491a",
   "metadata": {},
   "outputs": [
    {
     "name": "stdout",
     "output_type": "stream",
     "text": [
      "Fitting 3 folds for each of 144 candidates, totalling 432 fits\n"
     ]
    },
    {
     "data": {
      "text/plain": [
       "GridSearchCV(cv=3, estimator=RandomForestClassifier(), n_jobs=-1,\n",
       "             param_grid={'class_weight': [{0: 0.1, 1: 0.9}, {0: 0.2, 1: 0.8}],\n",
       "                         'max_depth': [4, 8, 10], 'max_features': [5, 10],\n",
       "                         'min_samples_leaf': range(100, 400, 200),\n",
       "                         'min_samples_split': range(200, 500, 200),\n",
       "                         'n_estimators': [100, 200, 300]},\n",
       "             verbose=1)"
      ]
     },
     "execution_count": 127,
     "metadata": {},
     "output_type": "execute_result"
    }
   ],
   "source": [
    "# Fit the grid search to the data\n",
    "grid_search.fit(X_train, y_train)"
   ]
  },
  {
   "cell_type": "code",
   "execution_count": 128,
   "id": "385065bb",
   "metadata": {},
   "outputs": [
    {
     "name": "stdout",
     "output_type": "stream",
     "text": [
      "We can get accuracy of 0.8873382852714617 using {'class_weight': {0: 0.2, 1: 0.8}, 'max_depth': 4, 'max_features': 5, 'min_samples_leaf': 100, 'min_samples_split': 200, 'n_estimators': 100}\n"
     ]
    }
   ],
   "source": [
    "# printing the optimal accuracy score and hyperparameters\n",
    "print('We can get accuracy of',grid_search.best_score_,'using',grid_search.best_params_)"
   ]
  },
  {
   "cell_type": "code",
   "execution_count": 129,
   "id": "b08f2511",
   "metadata": {},
   "outputs": [],
   "source": [
    "rfc = RandomForestClassifier()"
   ]
  },
  {
   "cell_type": "code",
   "execution_count": 130,
   "id": "913b5175",
   "metadata": {},
   "outputs": [
    {
     "data": {
      "text/plain": [
       "RandomForestClassifier()"
      ]
     },
     "execution_count": 130,
     "metadata": {},
     "output_type": "execute_result"
    }
   ],
   "source": [
    "# fit\n",
    "rfc.fit(X_train,y_train)"
   ]
  },
  {
   "cell_type": "code",
   "execution_count": 131,
   "id": "b32e8ab3",
   "metadata": {},
   "outputs": [],
   "source": [
    "# predict\n",
    "predictions = rfc.predict(X_test)"
   ]
  },
  {
   "cell_type": "code",
   "execution_count": 132,
   "id": "2edebd26",
   "metadata": {},
   "outputs": [
    {
     "name": "stdout",
     "output_type": "stream",
     "text": [
      "[[5235    9]\n",
      " [ 524  126]]\n",
      "accuracy : 0.9095690532745164\n",
      "specificity:  0.9982837528604119\n",
      "sensitivity :  0.19384615384615383\n"
     ]
    }
   ],
   "source": [
    "print_metrics(y_test, predictions)"
   ]
  },
  {
   "cell_type": "code",
   "execution_count": null,
   "id": "5ac3d579",
   "metadata": {},
   "outputs": [],
   "source": []
  },
  {
   "cell_type": "markdown",
   "id": "852bd9d4",
   "metadata": {},
   "source": [
    "XGBoost classifier - "
   ]
  },
  {
   "cell_type": "markdown",
   "id": "a8de5e1e",
   "metadata": {},
   "source": [
    "#### So we need to do some hyperparmeter tuning to improve sensitivity that is identifying the negative reviews correctlt"
   ]
  },
  {
   "cell_type": "code",
   "execution_count": 133,
   "id": "072f7b2b",
   "metadata": {},
   "outputs": [],
   "source": [
    "# hyperparameter tuning with XGBoost\n",
    "\n",
    "# creating a KFold object \n",
    "folds = 5\n",
    "\n",
    "# specify range of hyperparameters\n",
    "param_grid = {'scale_pos_weight':[i for i in range(20)]}          \n",
    "\n",
    "\n",
    "# specify model\n",
    "xgb_model = XGBClassifier()\n",
    "\n",
    "# set up GridSearchCV()\n",
    "model_cv = GridSearchCV(estimator = xgb_model, \n",
    "                        param_grid = param_grid, \n",
    "                        scoring= 'roc_auc', \n",
    "                        cv = folds, \n",
    "                        verbose = 1,\n",
    "                        return_train_score=True)      \n",
    "\n"
   ]
  },
  {
   "cell_type": "code",
   "execution_count": 134,
   "id": "65c21428",
   "metadata": {},
   "outputs": [
    {
     "name": "stdout",
     "output_type": "stream",
     "text": [
      "Fitting 5 folds for each of 20 candidates, totalling 100 fits\n",
      "[13:44:46] WARNING: ../src/learner.cc:1115: Starting in XGBoost 1.3.0, the default evaluation metric used with the objective 'binary:logistic' was changed from 'error' to 'logloss'. Explicitly set eval_metric if you'd like to restore the old behavior.\n"
     ]
    },
    {
     "name": "stderr",
     "output_type": "stream",
     "text": [
      "/home/bhakil01/anaconda3/lib/python3.8/site-packages/xgboost/sklearn.py:1224: UserWarning: The use of label encoder in XGBClassifier is deprecated and will be removed in a future release. To remove this warning, do the following: 1) Pass option use_label_encoder=False when constructing XGBClassifier object; and 2) Encode your labels (y) as integers starting with 0, i.e. 0, 1, 2, ..., [num_class - 1].\n",
      "  warnings.warn(label_encoder_deprecation_msg, UserWarning)\n",
      "/home/bhakil01/anaconda3/lib/python3.8/site-packages/xgboost/sklearn.py:1224: UserWarning: The use of label encoder in XGBClassifier is deprecated and will be removed in a future release. To remove this warning, do the following: 1) Pass option use_label_encoder=False when constructing XGBClassifier object; and 2) Encode your labels (y) as integers starting with 0, i.e. 0, 1, 2, ..., [num_class - 1].\n",
      "  warnings.warn(label_encoder_deprecation_msg, UserWarning)\n"
     ]
    },
    {
     "name": "stdout",
     "output_type": "stream",
     "text": [
      "[13:44:46] WARNING: ../src/learner.cc:1115: Starting in XGBoost 1.3.0, the default evaluation metric used with the objective 'binary:logistic' was changed from 'error' to 'logloss'. Explicitly set eval_metric if you'd like to restore the old behavior.\n"
     ]
    },
    {
     "name": "stderr",
     "output_type": "stream",
     "text": [
      "/home/bhakil01/anaconda3/lib/python3.8/site-packages/xgboost/sklearn.py:1224: UserWarning: The use of label encoder in XGBClassifier is deprecated and will be removed in a future release. To remove this warning, do the following: 1) Pass option use_label_encoder=False when constructing XGBClassifier object; and 2) Encode your labels (y) as integers starting with 0, i.e. 0, 1, 2, ..., [num_class - 1].\n",
      "  warnings.warn(label_encoder_deprecation_msg, UserWarning)\n"
     ]
    },
    {
     "name": "stdout",
     "output_type": "stream",
     "text": [
      "[13:44:47] WARNING: ../src/learner.cc:1115: Starting in XGBoost 1.3.0, the default evaluation metric used with the objective 'binary:logistic' was changed from 'error' to 'logloss'. Explicitly set eval_metric if you'd like to restore the old behavior.\n"
     ]
    },
    {
     "name": "stderr",
     "output_type": "stream",
     "text": [
      "/home/bhakil01/anaconda3/lib/python3.8/site-packages/xgboost/sklearn.py:1224: UserWarning: The use of label encoder in XGBClassifier is deprecated and will be removed in a future release. To remove this warning, do the following: 1) Pass option use_label_encoder=False when constructing XGBClassifier object; and 2) Encode your labels (y) as integers starting with 0, i.e. 0, 1, 2, ..., [num_class - 1].\n",
      "  warnings.warn(label_encoder_deprecation_msg, UserWarning)\n"
     ]
    },
    {
     "name": "stdout",
     "output_type": "stream",
     "text": [
      "[13:44:48] WARNING: ../src/learner.cc:1115: Starting in XGBoost 1.3.0, the default evaluation metric used with the objective 'binary:logistic' was changed from 'error' to 'logloss'. Explicitly set eval_metric if you'd like to restore the old behavior.\n"
     ]
    },
    {
     "name": "stderr",
     "output_type": "stream",
     "text": [
      "/home/bhakil01/anaconda3/lib/python3.8/site-packages/xgboost/sklearn.py:1224: UserWarning: The use of label encoder in XGBClassifier is deprecated and will be removed in a future release. To remove this warning, do the following: 1) Pass option use_label_encoder=False when constructing XGBClassifier object; and 2) Encode your labels (y) as integers starting with 0, i.e. 0, 1, 2, ..., [num_class - 1].\n",
      "  warnings.warn(label_encoder_deprecation_msg, UserWarning)\n"
     ]
    },
    {
     "name": "stdout",
     "output_type": "stream",
     "text": [
      "[13:44:49] WARNING: ../src/learner.cc:1115: Starting in XGBoost 1.3.0, the default evaluation metric used with the objective 'binary:logistic' was changed from 'error' to 'logloss'. Explicitly set eval_metric if you'd like to restore the old behavior.\n"
     ]
    },
    {
     "name": "stderr",
     "output_type": "stream",
     "text": [
      "/home/bhakil01/anaconda3/lib/python3.8/site-packages/xgboost/sklearn.py:1224: UserWarning: The use of label encoder in XGBClassifier is deprecated and will be removed in a future release. To remove this warning, do the following: 1) Pass option use_label_encoder=False when constructing XGBClassifier object; and 2) Encode your labels (y) as integers starting with 0, i.e. 0, 1, 2, ..., [num_class - 1].\n",
      "  warnings.warn(label_encoder_deprecation_msg, UserWarning)\n"
     ]
    },
    {
     "name": "stdout",
     "output_type": "stream",
     "text": [
      "[13:44:49] WARNING: ../src/learner.cc:1115: Starting in XGBoost 1.3.0, the default evaluation metric used with the objective 'binary:logistic' was changed from 'error' to 'logloss'. Explicitly set eval_metric if you'd like to restore the old behavior.\n"
     ]
    },
    {
     "name": "stderr",
     "output_type": "stream",
     "text": [
      "/home/bhakil01/anaconda3/lib/python3.8/site-packages/xgboost/sklearn.py:1224: UserWarning: The use of label encoder in XGBClassifier is deprecated and will be removed in a future release. To remove this warning, do the following: 1) Pass option use_label_encoder=False when constructing XGBClassifier object; and 2) Encode your labels (y) as integers starting with 0, i.e. 0, 1, 2, ..., [num_class - 1].\n",
      "  warnings.warn(label_encoder_deprecation_msg, UserWarning)\n"
     ]
    },
    {
     "name": "stdout",
     "output_type": "stream",
     "text": [
      "[13:44:53] WARNING: ../src/learner.cc:1115: Starting in XGBoost 1.3.0, the default evaluation metric used with the objective 'binary:logistic' was changed from 'error' to 'logloss'. Explicitly set eval_metric if you'd like to restore the old behavior.\n"
     ]
    },
    {
     "name": "stderr",
     "output_type": "stream",
     "text": [
      "/home/bhakil01/anaconda3/lib/python3.8/site-packages/xgboost/sklearn.py:1224: UserWarning: The use of label encoder in XGBClassifier is deprecated and will be removed in a future release. To remove this warning, do the following: 1) Pass option use_label_encoder=False when constructing XGBClassifier object; and 2) Encode your labels (y) as integers starting with 0, i.e. 0, 1, 2, ..., [num_class - 1].\n",
      "  warnings.warn(label_encoder_deprecation_msg, UserWarning)\n"
     ]
    },
    {
     "name": "stdout",
     "output_type": "stream",
     "text": [
      "[13:44:57] WARNING: ../src/learner.cc:1115: Starting in XGBoost 1.3.0, the default evaluation metric used with the objective 'binary:logistic' was changed from 'error' to 'logloss'. Explicitly set eval_metric if you'd like to restore the old behavior.\n"
     ]
    },
    {
     "name": "stderr",
     "output_type": "stream",
     "text": [
      "/home/bhakil01/anaconda3/lib/python3.8/site-packages/xgboost/sklearn.py:1224: UserWarning: The use of label encoder in XGBClassifier is deprecated and will be removed in a future release. To remove this warning, do the following: 1) Pass option use_label_encoder=False when constructing XGBClassifier object; and 2) Encode your labels (y) as integers starting with 0, i.e. 0, 1, 2, ..., [num_class - 1].\n",
      "  warnings.warn(label_encoder_deprecation_msg, UserWarning)\n"
     ]
    },
    {
     "name": "stdout",
     "output_type": "stream",
     "text": [
      "[13:45:01] WARNING: ../src/learner.cc:1115: Starting in XGBoost 1.3.0, the default evaluation metric used with the objective 'binary:logistic' was changed from 'error' to 'logloss'. Explicitly set eval_metric if you'd like to restore the old behavior.\n"
     ]
    },
    {
     "name": "stderr",
     "output_type": "stream",
     "text": [
      "/home/bhakil01/anaconda3/lib/python3.8/site-packages/xgboost/sklearn.py:1224: UserWarning: The use of label encoder in XGBClassifier is deprecated and will be removed in a future release. To remove this warning, do the following: 1) Pass option use_label_encoder=False when constructing XGBClassifier object; and 2) Encode your labels (y) as integers starting with 0, i.e. 0, 1, 2, ..., [num_class - 1].\n",
      "  warnings.warn(label_encoder_deprecation_msg, UserWarning)\n"
     ]
    },
    {
     "name": "stdout",
     "output_type": "stream",
     "text": [
      "[13:45:05] WARNING: ../src/learner.cc:1115: Starting in XGBoost 1.3.0, the default evaluation metric used with the objective 'binary:logistic' was changed from 'error' to 'logloss'. Explicitly set eval_metric if you'd like to restore the old behavior.\n"
     ]
    },
    {
     "name": "stderr",
     "output_type": "stream",
     "text": [
      "/home/bhakil01/anaconda3/lib/python3.8/site-packages/xgboost/sklearn.py:1224: UserWarning: The use of label encoder in XGBClassifier is deprecated and will be removed in a future release. To remove this warning, do the following: 1) Pass option use_label_encoder=False when constructing XGBClassifier object; and 2) Encode your labels (y) as integers starting with 0, i.e. 0, 1, 2, ..., [num_class - 1].\n",
      "  warnings.warn(label_encoder_deprecation_msg, UserWarning)\n"
     ]
    },
    {
     "name": "stdout",
     "output_type": "stream",
     "text": [
      "[13:45:10] WARNING: ../src/learner.cc:1115: Starting in XGBoost 1.3.0, the default evaluation metric used with the objective 'binary:logistic' was changed from 'error' to 'logloss'. Explicitly set eval_metric if you'd like to restore the old behavior.\n"
     ]
    },
    {
     "name": "stderr",
     "output_type": "stream",
     "text": [
      "/home/bhakil01/anaconda3/lib/python3.8/site-packages/xgboost/sklearn.py:1224: UserWarning: The use of label encoder in XGBClassifier is deprecated and will be removed in a future release. To remove this warning, do the following: 1) Pass option use_label_encoder=False when constructing XGBClassifier object; and 2) Encode your labels (y) as integers starting with 0, i.e. 0, 1, 2, ..., [num_class - 1].\n",
      "  warnings.warn(label_encoder_deprecation_msg, UserWarning)\n"
     ]
    },
    {
     "name": "stdout",
     "output_type": "stream",
     "text": [
      "[13:45:21] WARNING: ../src/learner.cc:1115: Starting in XGBoost 1.3.0, the default evaluation metric used with the objective 'binary:logistic' was changed from 'error' to 'logloss'. Explicitly set eval_metric if you'd like to restore the old behavior.\n"
     ]
    },
    {
     "name": "stderr",
     "output_type": "stream",
     "text": [
      "/home/bhakil01/anaconda3/lib/python3.8/site-packages/xgboost/sklearn.py:1224: UserWarning: The use of label encoder in XGBClassifier is deprecated and will be removed in a future release. To remove this warning, do the following: 1) Pass option use_label_encoder=False when constructing XGBClassifier object; and 2) Encode your labels (y) as integers starting with 0, i.e. 0, 1, 2, ..., [num_class - 1].\n",
      "  warnings.warn(label_encoder_deprecation_msg, UserWarning)\n"
     ]
    },
    {
     "name": "stdout",
     "output_type": "stream",
     "text": [
      "[13:45:25] WARNING: ../src/learner.cc:1115: Starting in XGBoost 1.3.0, the default evaluation metric used with the objective 'binary:logistic' was changed from 'error' to 'logloss'. Explicitly set eval_metric if you'd like to restore the old behavior.\n"
     ]
    },
    {
     "name": "stderr",
     "output_type": "stream",
     "text": [
      "/home/bhakil01/anaconda3/lib/python3.8/site-packages/xgboost/sklearn.py:1224: UserWarning: The use of label encoder in XGBClassifier is deprecated and will be removed in a future release. To remove this warning, do the following: 1) Pass option use_label_encoder=False when constructing XGBClassifier object; and 2) Encode your labels (y) as integers starting with 0, i.e. 0, 1, 2, ..., [num_class - 1].\n",
      "  warnings.warn(label_encoder_deprecation_msg, UserWarning)\n"
     ]
    },
    {
     "name": "stdout",
     "output_type": "stream",
     "text": [
      "[13:45:29] WARNING: ../src/learner.cc:1115: Starting in XGBoost 1.3.0, the default evaluation metric used with the objective 'binary:logistic' was changed from 'error' to 'logloss'. Explicitly set eval_metric if you'd like to restore the old behavior.\n"
     ]
    },
    {
     "name": "stderr",
     "output_type": "stream",
     "text": [
      "/home/bhakil01/anaconda3/lib/python3.8/site-packages/xgboost/sklearn.py:1224: UserWarning: The use of label encoder in XGBClassifier is deprecated and will be removed in a future release. To remove this warning, do the following: 1) Pass option use_label_encoder=False when constructing XGBClassifier object; and 2) Encode your labels (y) as integers starting with 0, i.e. 0, 1, 2, ..., [num_class - 1].\n",
      "  warnings.warn(label_encoder_deprecation_msg, UserWarning)\n"
     ]
    },
    {
     "name": "stdout",
     "output_type": "stream",
     "text": [
      "[13:45:33] WARNING: ../src/learner.cc:1115: Starting in XGBoost 1.3.0, the default evaluation metric used with the objective 'binary:logistic' was changed from 'error' to 'logloss'. Explicitly set eval_metric if you'd like to restore the old behavior.\n"
     ]
    },
    {
     "name": "stderr",
     "output_type": "stream",
     "text": [
      "/home/bhakil01/anaconda3/lib/python3.8/site-packages/xgboost/sklearn.py:1224: UserWarning: The use of label encoder in XGBClassifier is deprecated and will be removed in a future release. To remove this warning, do the following: 1) Pass option use_label_encoder=False when constructing XGBClassifier object; and 2) Encode your labels (y) as integers starting with 0, i.e. 0, 1, 2, ..., [num_class - 1].\n",
      "  warnings.warn(label_encoder_deprecation_msg, UserWarning)\n"
     ]
    },
    {
     "name": "stdout",
     "output_type": "stream",
     "text": [
      "[13:45:37] WARNING: ../src/learner.cc:1115: Starting in XGBoost 1.3.0, the default evaluation metric used with the objective 'binary:logistic' was changed from 'error' to 'logloss'. Explicitly set eval_metric if you'd like to restore the old behavior.\n"
     ]
    },
    {
     "name": "stderr",
     "output_type": "stream",
     "text": [
      "/home/bhakil01/anaconda3/lib/python3.8/site-packages/xgboost/sklearn.py:1224: UserWarning: The use of label encoder in XGBClassifier is deprecated and will be removed in a future release. To remove this warning, do the following: 1) Pass option use_label_encoder=False when constructing XGBClassifier object; and 2) Encode your labels (y) as integers starting with 0, i.e. 0, 1, 2, ..., [num_class - 1].\n",
      "  warnings.warn(label_encoder_deprecation_msg, UserWarning)\n"
     ]
    },
    {
     "name": "stdout",
     "output_type": "stream",
     "text": [
      "[13:45:40] WARNING: ../src/learner.cc:1115: Starting in XGBoost 1.3.0, the default evaluation metric used with the objective 'binary:logistic' was changed from 'error' to 'logloss'. Explicitly set eval_metric if you'd like to restore the old behavior.\n"
     ]
    },
    {
     "name": "stderr",
     "output_type": "stream",
     "text": [
      "/home/bhakil01/anaconda3/lib/python3.8/site-packages/xgboost/sklearn.py:1224: UserWarning: The use of label encoder in XGBClassifier is deprecated and will be removed in a future release. To remove this warning, do the following: 1) Pass option use_label_encoder=False when constructing XGBClassifier object; and 2) Encode your labels (y) as integers starting with 0, i.e. 0, 1, 2, ..., [num_class - 1].\n",
      "  warnings.warn(label_encoder_deprecation_msg, UserWarning)\n"
     ]
    },
    {
     "name": "stdout",
     "output_type": "stream",
     "text": [
      "[13:45:44] WARNING: ../src/learner.cc:1115: Starting in XGBoost 1.3.0, the default evaluation metric used with the objective 'binary:logistic' was changed from 'error' to 'logloss'. Explicitly set eval_metric if you'd like to restore the old behavior.\n"
     ]
    },
    {
     "name": "stderr",
     "output_type": "stream",
     "text": [
      "/home/bhakil01/anaconda3/lib/python3.8/site-packages/xgboost/sklearn.py:1224: UserWarning: The use of label encoder in XGBClassifier is deprecated and will be removed in a future release. To remove this warning, do the following: 1) Pass option use_label_encoder=False when constructing XGBClassifier object; and 2) Encode your labels (y) as integers starting with 0, i.e. 0, 1, 2, ..., [num_class - 1].\n",
      "  warnings.warn(label_encoder_deprecation_msg, UserWarning)\n"
     ]
    },
    {
     "name": "stdout",
     "output_type": "stream",
     "text": [
      "[13:45:49] WARNING: ../src/learner.cc:1115: Starting in XGBoost 1.3.0, the default evaluation metric used with the objective 'binary:logistic' was changed from 'error' to 'logloss'. Explicitly set eval_metric if you'd like to restore the old behavior.\n"
     ]
    },
    {
     "name": "stderr",
     "output_type": "stream",
     "text": [
      "/home/bhakil01/anaconda3/lib/python3.8/site-packages/xgboost/sklearn.py:1224: UserWarning: The use of label encoder in XGBClassifier is deprecated and will be removed in a future release. To remove this warning, do the following: 1) Pass option use_label_encoder=False when constructing XGBClassifier object; and 2) Encode your labels (y) as integers starting with 0, i.e. 0, 1, 2, ..., [num_class - 1].\n",
      "  warnings.warn(label_encoder_deprecation_msg, UserWarning)\n"
     ]
    },
    {
     "name": "stdout",
     "output_type": "stream",
     "text": [
      "[13:45:53] WARNING: ../src/learner.cc:1115: Starting in XGBoost 1.3.0, the default evaluation metric used with the objective 'binary:logistic' was changed from 'error' to 'logloss'. Explicitly set eval_metric if you'd like to restore the old behavior.\n"
     ]
    },
    {
     "name": "stderr",
     "output_type": "stream",
     "text": [
      "/home/bhakil01/anaconda3/lib/python3.8/site-packages/xgboost/sklearn.py:1224: UserWarning: The use of label encoder in XGBClassifier is deprecated and will be removed in a future release. To remove this warning, do the following: 1) Pass option use_label_encoder=False when constructing XGBClassifier object; and 2) Encode your labels (y) as integers starting with 0, i.e. 0, 1, 2, ..., [num_class - 1].\n",
      "  warnings.warn(label_encoder_deprecation_msg, UserWarning)\n"
     ]
    },
    {
     "name": "stdout",
     "output_type": "stream",
     "text": [
      "[13:45:57] WARNING: ../src/learner.cc:1115: Starting in XGBoost 1.3.0, the default evaluation metric used with the objective 'binary:logistic' was changed from 'error' to 'logloss'. Explicitly set eval_metric if you'd like to restore the old behavior.\n"
     ]
    },
    {
     "name": "stderr",
     "output_type": "stream",
     "text": [
      "/home/bhakil01/anaconda3/lib/python3.8/site-packages/xgboost/sklearn.py:1224: UserWarning: The use of label encoder in XGBClassifier is deprecated and will be removed in a future release. To remove this warning, do the following: 1) Pass option use_label_encoder=False when constructing XGBClassifier object; and 2) Encode your labels (y) as integers starting with 0, i.e. 0, 1, 2, ..., [num_class - 1].\n",
      "  warnings.warn(label_encoder_deprecation_msg, UserWarning)\n"
     ]
    },
    {
     "name": "stdout",
     "output_type": "stream",
     "text": [
      "[13:46:01] WARNING: ../src/learner.cc:1115: Starting in XGBoost 1.3.0, the default evaluation metric used with the objective 'binary:logistic' was changed from 'error' to 'logloss'. Explicitly set eval_metric if you'd like to restore the old behavior.\n"
     ]
    },
    {
     "name": "stderr",
     "output_type": "stream",
     "text": [
      "/home/bhakil01/anaconda3/lib/python3.8/site-packages/xgboost/sklearn.py:1224: UserWarning: The use of label encoder in XGBClassifier is deprecated and will be removed in a future release. To remove this warning, do the following: 1) Pass option use_label_encoder=False when constructing XGBClassifier object; and 2) Encode your labels (y) as integers starting with 0, i.e. 0, 1, 2, ..., [num_class - 1].\n",
      "  warnings.warn(label_encoder_deprecation_msg, UserWarning)\n"
     ]
    },
    {
     "name": "stdout",
     "output_type": "stream",
     "text": [
      "[13:46:05] WARNING: ../src/learner.cc:1115: Starting in XGBoost 1.3.0, the default evaluation metric used with the objective 'binary:logistic' was changed from 'error' to 'logloss'. Explicitly set eval_metric if you'd like to restore the old behavior.\n"
     ]
    },
    {
     "name": "stderr",
     "output_type": "stream",
     "text": [
      "/home/bhakil01/anaconda3/lib/python3.8/site-packages/xgboost/sklearn.py:1224: UserWarning: The use of label encoder in XGBClassifier is deprecated and will be removed in a future release. To remove this warning, do the following: 1) Pass option use_label_encoder=False when constructing XGBClassifier object; and 2) Encode your labels (y) as integers starting with 0, i.e. 0, 1, 2, ..., [num_class - 1].\n",
      "  warnings.warn(label_encoder_deprecation_msg, UserWarning)\n"
     ]
    },
    {
     "name": "stdout",
     "output_type": "stream",
     "text": [
      "[13:46:09] WARNING: ../src/learner.cc:1115: Starting in XGBoost 1.3.0, the default evaluation metric used with the objective 'binary:logistic' was changed from 'error' to 'logloss'. Explicitly set eval_metric if you'd like to restore the old behavior.\n"
     ]
    },
    {
     "name": "stderr",
     "output_type": "stream",
     "text": [
      "/home/bhakil01/anaconda3/lib/python3.8/site-packages/xgboost/sklearn.py:1224: UserWarning: The use of label encoder in XGBClassifier is deprecated and will be removed in a future release. To remove this warning, do the following: 1) Pass option use_label_encoder=False when constructing XGBClassifier object; and 2) Encode your labels (y) as integers starting with 0, i.e. 0, 1, 2, ..., [num_class - 1].\n",
      "  warnings.warn(label_encoder_deprecation_msg, UserWarning)\n"
     ]
    },
    {
     "name": "stdout",
     "output_type": "stream",
     "text": [
      "[13:46:13] WARNING: ../src/learner.cc:1115: Starting in XGBoost 1.3.0, the default evaluation metric used with the objective 'binary:logistic' was changed from 'error' to 'logloss'. Explicitly set eval_metric if you'd like to restore the old behavior.\n"
     ]
    },
    {
     "name": "stderr",
     "output_type": "stream",
     "text": [
      "/home/bhakil01/anaconda3/lib/python3.8/site-packages/xgboost/sklearn.py:1224: UserWarning: The use of label encoder in XGBClassifier is deprecated and will be removed in a future release. To remove this warning, do the following: 1) Pass option use_label_encoder=False when constructing XGBClassifier object; and 2) Encode your labels (y) as integers starting with 0, i.e. 0, 1, 2, ..., [num_class - 1].\n",
      "  warnings.warn(label_encoder_deprecation_msg, UserWarning)\n"
     ]
    },
    {
     "name": "stdout",
     "output_type": "stream",
     "text": [
      "[13:46:17] WARNING: ../src/learner.cc:1115: Starting in XGBoost 1.3.0, the default evaluation metric used with the objective 'binary:logistic' was changed from 'error' to 'logloss'. Explicitly set eval_metric if you'd like to restore the old behavior.\n"
     ]
    },
    {
     "name": "stderr",
     "output_type": "stream",
     "text": [
      "/home/bhakil01/anaconda3/lib/python3.8/site-packages/xgboost/sklearn.py:1224: UserWarning: The use of label encoder in XGBClassifier is deprecated and will be removed in a future release. To remove this warning, do the following: 1) Pass option use_label_encoder=False when constructing XGBClassifier object; and 2) Encode your labels (y) as integers starting with 0, i.e. 0, 1, 2, ..., [num_class - 1].\n",
      "  warnings.warn(label_encoder_deprecation_msg, UserWarning)\n"
     ]
    },
    {
     "name": "stdout",
     "output_type": "stream",
     "text": [
      "[13:46:21] WARNING: ../src/learner.cc:1115: Starting in XGBoost 1.3.0, the default evaluation metric used with the objective 'binary:logistic' was changed from 'error' to 'logloss'. Explicitly set eval_metric if you'd like to restore the old behavior.\n"
     ]
    },
    {
     "name": "stderr",
     "output_type": "stream",
     "text": [
      "/home/bhakil01/anaconda3/lib/python3.8/site-packages/xgboost/sklearn.py:1224: UserWarning: The use of label encoder in XGBClassifier is deprecated and will be removed in a future release. To remove this warning, do the following: 1) Pass option use_label_encoder=False when constructing XGBClassifier object; and 2) Encode your labels (y) as integers starting with 0, i.e. 0, 1, 2, ..., [num_class - 1].\n",
      "  warnings.warn(label_encoder_deprecation_msg, UserWarning)\n"
     ]
    },
    {
     "name": "stdout",
     "output_type": "stream",
     "text": [
      "[13:46:25] WARNING: ../src/learner.cc:1115: Starting in XGBoost 1.3.0, the default evaluation metric used with the objective 'binary:logistic' was changed from 'error' to 'logloss'. Explicitly set eval_metric if you'd like to restore the old behavior.\n"
     ]
    },
    {
     "name": "stderr",
     "output_type": "stream",
     "text": [
      "/home/bhakil01/anaconda3/lib/python3.8/site-packages/xgboost/sklearn.py:1224: UserWarning: The use of label encoder in XGBClassifier is deprecated and will be removed in a future release. To remove this warning, do the following: 1) Pass option use_label_encoder=False when constructing XGBClassifier object; and 2) Encode your labels (y) as integers starting with 0, i.e. 0, 1, 2, ..., [num_class - 1].\n",
      "  warnings.warn(label_encoder_deprecation_msg, UserWarning)\n"
     ]
    },
    {
     "name": "stdout",
     "output_type": "stream",
     "text": [
      "[13:46:30] WARNING: ../src/learner.cc:1115: Starting in XGBoost 1.3.0, the default evaluation metric used with the objective 'binary:logistic' was changed from 'error' to 'logloss'. Explicitly set eval_metric if you'd like to restore the old behavior.\n"
     ]
    },
    {
     "name": "stderr",
     "output_type": "stream",
     "text": [
      "/home/bhakil01/anaconda3/lib/python3.8/site-packages/xgboost/sklearn.py:1224: UserWarning: The use of label encoder in XGBClassifier is deprecated and will be removed in a future release. To remove this warning, do the following: 1) Pass option use_label_encoder=False when constructing XGBClassifier object; and 2) Encode your labels (y) as integers starting with 0, i.e. 0, 1, 2, ..., [num_class - 1].\n",
      "  warnings.warn(label_encoder_deprecation_msg, UserWarning)\n"
     ]
    },
    {
     "name": "stdout",
     "output_type": "stream",
     "text": [
      "[13:46:34] WARNING: ../src/learner.cc:1115: Starting in XGBoost 1.3.0, the default evaluation metric used with the objective 'binary:logistic' was changed from 'error' to 'logloss'. Explicitly set eval_metric if you'd like to restore the old behavior.\n"
     ]
    },
    {
     "name": "stderr",
     "output_type": "stream",
     "text": [
      "/home/bhakil01/anaconda3/lib/python3.8/site-packages/xgboost/sklearn.py:1224: UserWarning: The use of label encoder in XGBClassifier is deprecated and will be removed in a future release. To remove this warning, do the following: 1) Pass option use_label_encoder=False when constructing XGBClassifier object; and 2) Encode your labels (y) as integers starting with 0, i.e. 0, 1, 2, ..., [num_class - 1].\n",
      "  warnings.warn(label_encoder_deprecation_msg, UserWarning)\n"
     ]
    },
    {
     "name": "stdout",
     "output_type": "stream",
     "text": [
      "[13:46:38] WARNING: ../src/learner.cc:1115: Starting in XGBoost 1.3.0, the default evaluation metric used with the objective 'binary:logistic' was changed from 'error' to 'logloss'. Explicitly set eval_metric if you'd like to restore the old behavior.\n"
     ]
    },
    {
     "name": "stderr",
     "output_type": "stream",
     "text": [
      "/home/bhakil01/anaconda3/lib/python3.8/site-packages/xgboost/sklearn.py:1224: UserWarning: The use of label encoder in XGBClassifier is deprecated and will be removed in a future release. To remove this warning, do the following: 1) Pass option use_label_encoder=False when constructing XGBClassifier object; and 2) Encode your labels (y) as integers starting with 0, i.e. 0, 1, 2, ..., [num_class - 1].\n",
      "  warnings.warn(label_encoder_deprecation_msg, UserWarning)\n"
     ]
    },
    {
     "name": "stdout",
     "output_type": "stream",
     "text": [
      "[13:46:43] WARNING: ../src/learner.cc:1115: Starting in XGBoost 1.3.0, the default evaluation metric used with the objective 'binary:logistic' was changed from 'error' to 'logloss'. Explicitly set eval_metric if you'd like to restore the old behavior.\n"
     ]
    },
    {
     "name": "stderr",
     "output_type": "stream",
     "text": [
      "/home/bhakil01/anaconda3/lib/python3.8/site-packages/xgboost/sklearn.py:1224: UserWarning: The use of label encoder in XGBClassifier is deprecated and will be removed in a future release. To remove this warning, do the following: 1) Pass option use_label_encoder=False when constructing XGBClassifier object; and 2) Encode your labels (y) as integers starting with 0, i.e. 0, 1, 2, ..., [num_class - 1].\n",
      "  warnings.warn(label_encoder_deprecation_msg, UserWarning)\n"
     ]
    },
    {
     "name": "stdout",
     "output_type": "stream",
     "text": [
      "[13:46:47] WARNING: ../src/learner.cc:1115: Starting in XGBoost 1.3.0, the default evaluation metric used with the objective 'binary:logistic' was changed from 'error' to 'logloss'. Explicitly set eval_metric if you'd like to restore the old behavior.\n"
     ]
    },
    {
     "name": "stderr",
     "output_type": "stream",
     "text": [
      "/home/bhakil01/anaconda3/lib/python3.8/site-packages/xgboost/sklearn.py:1224: UserWarning: The use of label encoder in XGBClassifier is deprecated and will be removed in a future release. To remove this warning, do the following: 1) Pass option use_label_encoder=False when constructing XGBClassifier object; and 2) Encode your labels (y) as integers starting with 0, i.e. 0, 1, 2, ..., [num_class - 1].\n",
      "  warnings.warn(label_encoder_deprecation_msg, UserWarning)\n"
     ]
    },
    {
     "name": "stdout",
     "output_type": "stream",
     "text": [
      "[13:46:51] WARNING: ../src/learner.cc:1115: Starting in XGBoost 1.3.0, the default evaluation metric used with the objective 'binary:logistic' was changed from 'error' to 'logloss'. Explicitly set eval_metric if you'd like to restore the old behavior.\n"
     ]
    },
    {
     "name": "stderr",
     "output_type": "stream",
     "text": [
      "/home/bhakil01/anaconda3/lib/python3.8/site-packages/xgboost/sklearn.py:1224: UserWarning: The use of label encoder in XGBClassifier is deprecated and will be removed in a future release. To remove this warning, do the following: 1) Pass option use_label_encoder=False when constructing XGBClassifier object; and 2) Encode your labels (y) as integers starting with 0, i.e. 0, 1, 2, ..., [num_class - 1].\n",
      "  warnings.warn(label_encoder_deprecation_msg, UserWarning)\n"
     ]
    },
    {
     "name": "stdout",
     "output_type": "stream",
     "text": [
      "[13:46:55] WARNING: ../src/learner.cc:1115: Starting in XGBoost 1.3.0, the default evaluation metric used with the objective 'binary:logistic' was changed from 'error' to 'logloss'. Explicitly set eval_metric if you'd like to restore the old behavior.\n"
     ]
    },
    {
     "name": "stderr",
     "output_type": "stream",
     "text": [
      "/home/bhakil01/anaconda3/lib/python3.8/site-packages/xgboost/sklearn.py:1224: UserWarning: The use of label encoder in XGBClassifier is deprecated and will be removed in a future release. To remove this warning, do the following: 1) Pass option use_label_encoder=False when constructing XGBClassifier object; and 2) Encode your labels (y) as integers starting with 0, i.e. 0, 1, 2, ..., [num_class - 1].\n",
      "  warnings.warn(label_encoder_deprecation_msg, UserWarning)\n"
     ]
    },
    {
     "name": "stdout",
     "output_type": "stream",
     "text": [
      "[13:47:00] WARNING: ../src/learner.cc:1115: Starting in XGBoost 1.3.0, the default evaluation metric used with the objective 'binary:logistic' was changed from 'error' to 'logloss'. Explicitly set eval_metric if you'd like to restore the old behavior.\n"
     ]
    },
    {
     "name": "stderr",
     "output_type": "stream",
     "text": [
      "/home/bhakil01/anaconda3/lib/python3.8/site-packages/xgboost/sklearn.py:1224: UserWarning: The use of label encoder in XGBClassifier is deprecated and will be removed in a future release. To remove this warning, do the following: 1) Pass option use_label_encoder=False when constructing XGBClassifier object; and 2) Encode your labels (y) as integers starting with 0, i.e. 0, 1, 2, ..., [num_class - 1].\n",
      "  warnings.warn(label_encoder_deprecation_msg, UserWarning)\n"
     ]
    },
    {
     "name": "stdout",
     "output_type": "stream",
     "text": [
      "[13:47:04] WARNING: ../src/learner.cc:1115: Starting in XGBoost 1.3.0, the default evaluation metric used with the objective 'binary:logistic' was changed from 'error' to 'logloss'. Explicitly set eval_metric if you'd like to restore the old behavior.\n"
     ]
    },
    {
     "name": "stderr",
     "output_type": "stream",
     "text": [
      "/home/bhakil01/anaconda3/lib/python3.8/site-packages/xgboost/sklearn.py:1224: UserWarning: The use of label encoder in XGBClassifier is deprecated and will be removed in a future release. To remove this warning, do the following: 1) Pass option use_label_encoder=False when constructing XGBClassifier object; and 2) Encode your labels (y) as integers starting with 0, i.e. 0, 1, 2, ..., [num_class - 1].\n",
      "  warnings.warn(label_encoder_deprecation_msg, UserWarning)\n"
     ]
    },
    {
     "name": "stdout",
     "output_type": "stream",
     "text": [
      "[13:47:08] WARNING: ../src/learner.cc:1115: Starting in XGBoost 1.3.0, the default evaluation metric used with the objective 'binary:logistic' was changed from 'error' to 'logloss'. Explicitly set eval_metric if you'd like to restore the old behavior.\n"
     ]
    },
    {
     "name": "stderr",
     "output_type": "stream",
     "text": [
      "/home/bhakil01/anaconda3/lib/python3.8/site-packages/xgboost/sklearn.py:1224: UserWarning: The use of label encoder in XGBClassifier is deprecated and will be removed in a future release. To remove this warning, do the following: 1) Pass option use_label_encoder=False when constructing XGBClassifier object; and 2) Encode your labels (y) as integers starting with 0, i.e. 0, 1, 2, ..., [num_class - 1].\n",
      "  warnings.warn(label_encoder_deprecation_msg, UserWarning)\n"
     ]
    },
    {
     "name": "stdout",
     "output_type": "stream",
     "text": [
      "[13:47:12] WARNING: ../src/learner.cc:1115: Starting in XGBoost 1.3.0, the default evaluation metric used with the objective 'binary:logistic' was changed from 'error' to 'logloss'. Explicitly set eval_metric if you'd like to restore the old behavior.\n"
     ]
    },
    {
     "name": "stderr",
     "output_type": "stream",
     "text": [
      "/home/bhakil01/anaconda3/lib/python3.8/site-packages/xgboost/sklearn.py:1224: UserWarning: The use of label encoder in XGBClassifier is deprecated and will be removed in a future release. To remove this warning, do the following: 1) Pass option use_label_encoder=False when constructing XGBClassifier object; and 2) Encode your labels (y) as integers starting with 0, i.e. 0, 1, 2, ..., [num_class - 1].\n",
      "  warnings.warn(label_encoder_deprecation_msg, UserWarning)\n"
     ]
    },
    {
     "name": "stdout",
     "output_type": "stream",
     "text": [
      "[13:47:16] WARNING: ../src/learner.cc:1115: Starting in XGBoost 1.3.0, the default evaluation metric used with the objective 'binary:logistic' was changed from 'error' to 'logloss'. Explicitly set eval_metric if you'd like to restore the old behavior.\n"
     ]
    },
    {
     "name": "stderr",
     "output_type": "stream",
     "text": [
      "/home/bhakil01/anaconda3/lib/python3.8/site-packages/xgboost/sklearn.py:1224: UserWarning: The use of label encoder in XGBClassifier is deprecated and will be removed in a future release. To remove this warning, do the following: 1) Pass option use_label_encoder=False when constructing XGBClassifier object; and 2) Encode your labels (y) as integers starting with 0, i.e. 0, 1, 2, ..., [num_class - 1].\n",
      "  warnings.warn(label_encoder_deprecation_msg, UserWarning)\n"
     ]
    },
    {
     "name": "stdout",
     "output_type": "stream",
     "text": [
      "[13:47:20] WARNING: ../src/learner.cc:1115: Starting in XGBoost 1.3.0, the default evaluation metric used with the objective 'binary:logistic' was changed from 'error' to 'logloss'. Explicitly set eval_metric if you'd like to restore the old behavior.\n"
     ]
    },
    {
     "name": "stderr",
     "output_type": "stream",
     "text": [
      "/home/bhakil01/anaconda3/lib/python3.8/site-packages/xgboost/sklearn.py:1224: UserWarning: The use of label encoder in XGBClassifier is deprecated and will be removed in a future release. To remove this warning, do the following: 1) Pass option use_label_encoder=False when constructing XGBClassifier object; and 2) Encode your labels (y) as integers starting with 0, i.e. 0, 1, 2, ..., [num_class - 1].\n",
      "  warnings.warn(label_encoder_deprecation_msg, UserWarning)\n"
     ]
    },
    {
     "name": "stdout",
     "output_type": "stream",
     "text": [
      "[13:47:24] WARNING: ../src/learner.cc:1115: Starting in XGBoost 1.3.0, the default evaluation metric used with the objective 'binary:logistic' was changed from 'error' to 'logloss'. Explicitly set eval_metric if you'd like to restore the old behavior.\n"
     ]
    },
    {
     "name": "stderr",
     "output_type": "stream",
     "text": [
      "/home/bhakil01/anaconda3/lib/python3.8/site-packages/xgboost/sklearn.py:1224: UserWarning: The use of label encoder in XGBClassifier is deprecated and will be removed in a future release. To remove this warning, do the following: 1) Pass option use_label_encoder=False when constructing XGBClassifier object; and 2) Encode your labels (y) as integers starting with 0, i.e. 0, 1, 2, ..., [num_class - 1].\n",
      "  warnings.warn(label_encoder_deprecation_msg, UserWarning)\n"
     ]
    },
    {
     "name": "stdout",
     "output_type": "stream",
     "text": [
      "[13:47:28] WARNING: ../src/learner.cc:1115: Starting in XGBoost 1.3.0, the default evaluation metric used with the objective 'binary:logistic' was changed from 'error' to 'logloss'. Explicitly set eval_metric if you'd like to restore the old behavior.\n"
     ]
    },
    {
     "name": "stderr",
     "output_type": "stream",
     "text": [
      "/home/bhakil01/anaconda3/lib/python3.8/site-packages/xgboost/sklearn.py:1224: UserWarning: The use of label encoder in XGBClassifier is deprecated and will be removed in a future release. To remove this warning, do the following: 1) Pass option use_label_encoder=False when constructing XGBClassifier object; and 2) Encode your labels (y) as integers starting with 0, i.e. 0, 1, 2, ..., [num_class - 1].\n",
      "  warnings.warn(label_encoder_deprecation_msg, UserWarning)\n"
     ]
    },
    {
     "name": "stdout",
     "output_type": "stream",
     "text": [
      "[13:47:32] WARNING: ../src/learner.cc:1115: Starting in XGBoost 1.3.0, the default evaluation metric used with the objective 'binary:logistic' was changed from 'error' to 'logloss'. Explicitly set eval_metric if you'd like to restore the old behavior.\n"
     ]
    },
    {
     "name": "stderr",
     "output_type": "stream",
     "text": [
      "/home/bhakil01/anaconda3/lib/python3.8/site-packages/xgboost/sklearn.py:1224: UserWarning: The use of label encoder in XGBClassifier is deprecated and will be removed in a future release. To remove this warning, do the following: 1) Pass option use_label_encoder=False when constructing XGBClassifier object; and 2) Encode your labels (y) as integers starting with 0, i.e. 0, 1, 2, ..., [num_class - 1].\n",
      "  warnings.warn(label_encoder_deprecation_msg, UserWarning)\n"
     ]
    },
    {
     "name": "stdout",
     "output_type": "stream",
     "text": [
      "[13:47:37] WARNING: ../src/learner.cc:1115: Starting in XGBoost 1.3.0, the default evaluation metric used with the objective 'binary:logistic' was changed from 'error' to 'logloss'. Explicitly set eval_metric if you'd like to restore the old behavior.\n"
     ]
    },
    {
     "name": "stderr",
     "output_type": "stream",
     "text": [
      "/home/bhakil01/anaconda3/lib/python3.8/site-packages/xgboost/sklearn.py:1224: UserWarning: The use of label encoder in XGBClassifier is deprecated and will be removed in a future release. To remove this warning, do the following: 1) Pass option use_label_encoder=False when constructing XGBClassifier object; and 2) Encode your labels (y) as integers starting with 0, i.e. 0, 1, 2, ..., [num_class - 1].\n",
      "  warnings.warn(label_encoder_deprecation_msg, UserWarning)\n"
     ]
    },
    {
     "name": "stdout",
     "output_type": "stream",
     "text": [
      "[13:47:41] WARNING: ../src/learner.cc:1115: Starting in XGBoost 1.3.0, the default evaluation metric used with the objective 'binary:logistic' was changed from 'error' to 'logloss'. Explicitly set eval_metric if you'd like to restore the old behavior.\n"
     ]
    },
    {
     "name": "stderr",
     "output_type": "stream",
     "text": [
      "/home/bhakil01/anaconda3/lib/python3.8/site-packages/xgboost/sklearn.py:1224: UserWarning: The use of label encoder in XGBClassifier is deprecated and will be removed in a future release. To remove this warning, do the following: 1) Pass option use_label_encoder=False when constructing XGBClassifier object; and 2) Encode your labels (y) as integers starting with 0, i.e. 0, 1, 2, ..., [num_class - 1].\n",
      "  warnings.warn(label_encoder_deprecation_msg, UserWarning)\n"
     ]
    },
    {
     "name": "stdout",
     "output_type": "stream",
     "text": [
      "[13:47:45] WARNING: ../src/learner.cc:1115: Starting in XGBoost 1.3.0, the default evaluation metric used with the objective 'binary:logistic' was changed from 'error' to 'logloss'. Explicitly set eval_metric if you'd like to restore the old behavior.\n"
     ]
    },
    {
     "name": "stderr",
     "output_type": "stream",
     "text": [
      "/home/bhakil01/anaconda3/lib/python3.8/site-packages/xgboost/sklearn.py:1224: UserWarning: The use of label encoder in XGBClassifier is deprecated and will be removed in a future release. To remove this warning, do the following: 1) Pass option use_label_encoder=False when constructing XGBClassifier object; and 2) Encode your labels (y) as integers starting with 0, i.e. 0, 1, 2, ..., [num_class - 1].\n",
      "  warnings.warn(label_encoder_deprecation_msg, UserWarning)\n"
     ]
    },
    {
     "name": "stdout",
     "output_type": "stream",
     "text": [
      "[13:47:49] WARNING: ../src/learner.cc:1115: Starting in XGBoost 1.3.0, the default evaluation metric used with the objective 'binary:logistic' was changed from 'error' to 'logloss'. Explicitly set eval_metric if you'd like to restore the old behavior.\n"
     ]
    },
    {
     "name": "stderr",
     "output_type": "stream",
     "text": [
      "/home/bhakil01/anaconda3/lib/python3.8/site-packages/xgboost/sklearn.py:1224: UserWarning: The use of label encoder in XGBClassifier is deprecated and will be removed in a future release. To remove this warning, do the following: 1) Pass option use_label_encoder=False when constructing XGBClassifier object; and 2) Encode your labels (y) as integers starting with 0, i.e. 0, 1, 2, ..., [num_class - 1].\n",
      "  warnings.warn(label_encoder_deprecation_msg, UserWarning)\n"
     ]
    },
    {
     "name": "stdout",
     "output_type": "stream",
     "text": [
      "[13:47:53] WARNING: ../src/learner.cc:1115: Starting in XGBoost 1.3.0, the default evaluation metric used with the objective 'binary:logistic' was changed from 'error' to 'logloss'. Explicitly set eval_metric if you'd like to restore the old behavior.\n"
     ]
    },
    {
     "name": "stderr",
     "output_type": "stream",
     "text": [
      "/home/bhakil01/anaconda3/lib/python3.8/site-packages/xgboost/sklearn.py:1224: UserWarning: The use of label encoder in XGBClassifier is deprecated and will be removed in a future release. To remove this warning, do the following: 1) Pass option use_label_encoder=False when constructing XGBClassifier object; and 2) Encode your labels (y) as integers starting with 0, i.e. 0, 1, 2, ..., [num_class - 1].\n",
      "  warnings.warn(label_encoder_deprecation_msg, UserWarning)\n"
     ]
    },
    {
     "name": "stdout",
     "output_type": "stream",
     "text": [
      "[13:47:57] WARNING: ../src/learner.cc:1115: Starting in XGBoost 1.3.0, the default evaluation metric used with the objective 'binary:logistic' was changed from 'error' to 'logloss'. Explicitly set eval_metric if you'd like to restore the old behavior.\n"
     ]
    },
    {
     "name": "stderr",
     "output_type": "stream",
     "text": [
      "/home/bhakil01/anaconda3/lib/python3.8/site-packages/xgboost/sklearn.py:1224: UserWarning: The use of label encoder in XGBClassifier is deprecated and will be removed in a future release. To remove this warning, do the following: 1) Pass option use_label_encoder=False when constructing XGBClassifier object; and 2) Encode your labels (y) as integers starting with 0, i.e. 0, 1, 2, ..., [num_class - 1].\n",
      "  warnings.warn(label_encoder_deprecation_msg, UserWarning)\n"
     ]
    },
    {
     "name": "stdout",
     "output_type": "stream",
     "text": [
      "[13:48:02] WARNING: ../src/learner.cc:1115: Starting in XGBoost 1.3.0, the default evaluation metric used with the objective 'binary:logistic' was changed from 'error' to 'logloss'. Explicitly set eval_metric if you'd like to restore the old behavior.\n"
     ]
    },
    {
     "name": "stderr",
     "output_type": "stream",
     "text": [
      "/home/bhakil01/anaconda3/lib/python3.8/site-packages/xgboost/sklearn.py:1224: UserWarning: The use of label encoder in XGBClassifier is deprecated and will be removed in a future release. To remove this warning, do the following: 1) Pass option use_label_encoder=False when constructing XGBClassifier object; and 2) Encode your labels (y) as integers starting with 0, i.e. 0, 1, 2, ..., [num_class - 1].\n",
      "  warnings.warn(label_encoder_deprecation_msg, UserWarning)\n"
     ]
    },
    {
     "name": "stdout",
     "output_type": "stream",
     "text": [
      "[13:48:06] WARNING: ../src/learner.cc:1115: Starting in XGBoost 1.3.0, the default evaluation metric used with the objective 'binary:logistic' was changed from 'error' to 'logloss'. Explicitly set eval_metric if you'd like to restore the old behavior.\n"
     ]
    },
    {
     "name": "stderr",
     "output_type": "stream",
     "text": [
      "/home/bhakil01/anaconda3/lib/python3.8/site-packages/xgboost/sklearn.py:1224: UserWarning: The use of label encoder in XGBClassifier is deprecated and will be removed in a future release. To remove this warning, do the following: 1) Pass option use_label_encoder=False when constructing XGBClassifier object; and 2) Encode your labels (y) as integers starting with 0, i.e. 0, 1, 2, ..., [num_class - 1].\n",
      "  warnings.warn(label_encoder_deprecation_msg, UserWarning)\n"
     ]
    },
    {
     "name": "stdout",
     "output_type": "stream",
     "text": [
      "[13:48:10] WARNING: ../src/learner.cc:1115: Starting in XGBoost 1.3.0, the default evaluation metric used with the objective 'binary:logistic' was changed from 'error' to 'logloss'. Explicitly set eval_metric if you'd like to restore the old behavior.\n"
     ]
    },
    {
     "name": "stderr",
     "output_type": "stream",
     "text": [
      "/home/bhakil01/anaconda3/lib/python3.8/site-packages/xgboost/sklearn.py:1224: UserWarning: The use of label encoder in XGBClassifier is deprecated and will be removed in a future release. To remove this warning, do the following: 1) Pass option use_label_encoder=False when constructing XGBClassifier object; and 2) Encode your labels (y) as integers starting with 0, i.e. 0, 1, 2, ..., [num_class - 1].\n",
      "  warnings.warn(label_encoder_deprecation_msg, UserWarning)\n"
     ]
    },
    {
     "name": "stdout",
     "output_type": "stream",
     "text": [
      "[13:48:14] WARNING: ../src/learner.cc:1115: Starting in XGBoost 1.3.0, the default evaluation metric used with the objective 'binary:logistic' was changed from 'error' to 'logloss'. Explicitly set eval_metric if you'd like to restore the old behavior.\n"
     ]
    },
    {
     "name": "stderr",
     "output_type": "stream",
     "text": [
      "/home/bhakil01/anaconda3/lib/python3.8/site-packages/xgboost/sklearn.py:1224: UserWarning: The use of label encoder in XGBClassifier is deprecated and will be removed in a future release. To remove this warning, do the following: 1) Pass option use_label_encoder=False when constructing XGBClassifier object; and 2) Encode your labels (y) as integers starting with 0, i.e. 0, 1, 2, ..., [num_class - 1].\n",
      "  warnings.warn(label_encoder_deprecation_msg, UserWarning)\n"
     ]
    },
    {
     "name": "stdout",
     "output_type": "stream",
     "text": [
      "[13:48:18] WARNING: ../src/learner.cc:1115: Starting in XGBoost 1.3.0, the default evaluation metric used with the objective 'binary:logistic' was changed from 'error' to 'logloss'. Explicitly set eval_metric if you'd like to restore the old behavior.\n"
     ]
    },
    {
     "name": "stderr",
     "output_type": "stream",
     "text": [
      "/home/bhakil01/anaconda3/lib/python3.8/site-packages/xgboost/sklearn.py:1224: UserWarning: The use of label encoder in XGBClassifier is deprecated and will be removed in a future release. To remove this warning, do the following: 1) Pass option use_label_encoder=False when constructing XGBClassifier object; and 2) Encode your labels (y) as integers starting with 0, i.e. 0, 1, 2, ..., [num_class - 1].\n",
      "  warnings.warn(label_encoder_deprecation_msg, UserWarning)\n"
     ]
    },
    {
     "name": "stdout",
     "output_type": "stream",
     "text": [
      "[13:48:22] WARNING: ../src/learner.cc:1115: Starting in XGBoost 1.3.0, the default evaluation metric used with the objective 'binary:logistic' was changed from 'error' to 'logloss'. Explicitly set eval_metric if you'd like to restore the old behavior.\n"
     ]
    },
    {
     "name": "stderr",
     "output_type": "stream",
     "text": [
      "/home/bhakil01/anaconda3/lib/python3.8/site-packages/xgboost/sklearn.py:1224: UserWarning: The use of label encoder in XGBClassifier is deprecated and will be removed in a future release. To remove this warning, do the following: 1) Pass option use_label_encoder=False when constructing XGBClassifier object; and 2) Encode your labels (y) as integers starting with 0, i.e. 0, 1, 2, ..., [num_class - 1].\n",
      "  warnings.warn(label_encoder_deprecation_msg, UserWarning)\n"
     ]
    },
    {
     "name": "stdout",
     "output_type": "stream",
     "text": [
      "[13:48:26] WARNING: ../src/learner.cc:1115: Starting in XGBoost 1.3.0, the default evaluation metric used with the objective 'binary:logistic' was changed from 'error' to 'logloss'. Explicitly set eval_metric if you'd like to restore the old behavior.\n"
     ]
    },
    {
     "name": "stderr",
     "output_type": "stream",
     "text": [
      "/home/bhakil01/anaconda3/lib/python3.8/site-packages/xgboost/sklearn.py:1224: UserWarning: The use of label encoder in XGBClassifier is deprecated and will be removed in a future release. To remove this warning, do the following: 1) Pass option use_label_encoder=False when constructing XGBClassifier object; and 2) Encode your labels (y) as integers starting with 0, i.e. 0, 1, 2, ..., [num_class - 1].\n",
      "  warnings.warn(label_encoder_deprecation_msg, UserWarning)\n"
     ]
    },
    {
     "name": "stdout",
     "output_type": "stream",
     "text": [
      "[13:48:31] WARNING: ../src/learner.cc:1115: Starting in XGBoost 1.3.0, the default evaluation metric used with the objective 'binary:logistic' was changed from 'error' to 'logloss'. Explicitly set eval_metric if you'd like to restore the old behavior.\n"
     ]
    },
    {
     "name": "stderr",
     "output_type": "stream",
     "text": [
      "/home/bhakil01/anaconda3/lib/python3.8/site-packages/xgboost/sklearn.py:1224: UserWarning: The use of label encoder in XGBClassifier is deprecated and will be removed in a future release. To remove this warning, do the following: 1) Pass option use_label_encoder=False when constructing XGBClassifier object; and 2) Encode your labels (y) as integers starting with 0, i.e. 0, 1, 2, ..., [num_class - 1].\n",
      "  warnings.warn(label_encoder_deprecation_msg, UserWarning)\n"
     ]
    },
    {
     "name": "stdout",
     "output_type": "stream",
     "text": [
      "[13:48:35] WARNING: ../src/learner.cc:1115: Starting in XGBoost 1.3.0, the default evaluation metric used with the objective 'binary:logistic' was changed from 'error' to 'logloss'. Explicitly set eval_metric if you'd like to restore the old behavior.\n"
     ]
    },
    {
     "name": "stderr",
     "output_type": "stream",
     "text": [
      "/home/bhakil01/anaconda3/lib/python3.8/site-packages/xgboost/sklearn.py:1224: UserWarning: The use of label encoder in XGBClassifier is deprecated and will be removed in a future release. To remove this warning, do the following: 1) Pass option use_label_encoder=False when constructing XGBClassifier object; and 2) Encode your labels (y) as integers starting with 0, i.e. 0, 1, 2, ..., [num_class - 1].\n",
      "  warnings.warn(label_encoder_deprecation_msg, UserWarning)\n"
     ]
    },
    {
     "name": "stdout",
     "output_type": "stream",
     "text": [
      "[13:48:39] WARNING: ../src/learner.cc:1115: Starting in XGBoost 1.3.0, the default evaluation metric used with the objective 'binary:logistic' was changed from 'error' to 'logloss'. Explicitly set eval_metric if you'd like to restore the old behavior.\n"
     ]
    },
    {
     "name": "stderr",
     "output_type": "stream",
     "text": [
      "/home/bhakil01/anaconda3/lib/python3.8/site-packages/xgboost/sklearn.py:1224: UserWarning: The use of label encoder in XGBClassifier is deprecated and will be removed in a future release. To remove this warning, do the following: 1) Pass option use_label_encoder=False when constructing XGBClassifier object; and 2) Encode your labels (y) as integers starting with 0, i.e. 0, 1, 2, ..., [num_class - 1].\n",
      "  warnings.warn(label_encoder_deprecation_msg, UserWarning)\n"
     ]
    },
    {
     "name": "stdout",
     "output_type": "stream",
     "text": [
      "[13:48:44] WARNING: ../src/learner.cc:1115: Starting in XGBoost 1.3.0, the default evaluation metric used with the objective 'binary:logistic' was changed from 'error' to 'logloss'. Explicitly set eval_metric if you'd like to restore the old behavior.\n"
     ]
    },
    {
     "name": "stderr",
     "output_type": "stream",
     "text": [
      "/home/bhakil01/anaconda3/lib/python3.8/site-packages/xgboost/sklearn.py:1224: UserWarning: The use of label encoder in XGBClassifier is deprecated and will be removed in a future release. To remove this warning, do the following: 1) Pass option use_label_encoder=False when constructing XGBClassifier object; and 2) Encode your labels (y) as integers starting with 0, i.e. 0, 1, 2, ..., [num_class - 1].\n",
      "  warnings.warn(label_encoder_deprecation_msg, UserWarning)\n"
     ]
    },
    {
     "name": "stdout",
     "output_type": "stream",
     "text": [
      "[13:48:48] WARNING: ../src/learner.cc:1115: Starting in XGBoost 1.3.0, the default evaluation metric used with the objective 'binary:logistic' was changed from 'error' to 'logloss'. Explicitly set eval_metric if you'd like to restore the old behavior.\n"
     ]
    },
    {
     "name": "stderr",
     "output_type": "stream",
     "text": [
      "/home/bhakil01/anaconda3/lib/python3.8/site-packages/xgboost/sklearn.py:1224: UserWarning: The use of label encoder in XGBClassifier is deprecated and will be removed in a future release. To remove this warning, do the following: 1) Pass option use_label_encoder=False when constructing XGBClassifier object; and 2) Encode your labels (y) as integers starting with 0, i.e. 0, 1, 2, ..., [num_class - 1].\n",
      "  warnings.warn(label_encoder_deprecation_msg, UserWarning)\n"
     ]
    },
    {
     "name": "stdout",
     "output_type": "stream",
     "text": [
      "[13:48:53] WARNING: ../src/learner.cc:1115: Starting in XGBoost 1.3.0, the default evaluation metric used with the objective 'binary:logistic' was changed from 'error' to 'logloss'. Explicitly set eval_metric if you'd like to restore the old behavior.\n"
     ]
    },
    {
     "name": "stderr",
     "output_type": "stream",
     "text": [
      "/home/bhakil01/anaconda3/lib/python3.8/site-packages/xgboost/sklearn.py:1224: UserWarning: The use of label encoder in XGBClassifier is deprecated and will be removed in a future release. To remove this warning, do the following: 1) Pass option use_label_encoder=False when constructing XGBClassifier object; and 2) Encode your labels (y) as integers starting with 0, i.e. 0, 1, 2, ..., [num_class - 1].\n",
      "  warnings.warn(label_encoder_deprecation_msg, UserWarning)\n"
     ]
    },
    {
     "name": "stdout",
     "output_type": "stream",
     "text": [
      "[13:48:57] WARNING: ../src/learner.cc:1115: Starting in XGBoost 1.3.0, the default evaluation metric used with the objective 'binary:logistic' was changed from 'error' to 'logloss'. Explicitly set eval_metric if you'd like to restore the old behavior.\n"
     ]
    },
    {
     "name": "stderr",
     "output_type": "stream",
     "text": [
      "/home/bhakil01/anaconda3/lib/python3.8/site-packages/xgboost/sklearn.py:1224: UserWarning: The use of label encoder in XGBClassifier is deprecated and will be removed in a future release. To remove this warning, do the following: 1) Pass option use_label_encoder=False when constructing XGBClassifier object; and 2) Encode your labels (y) as integers starting with 0, i.e. 0, 1, 2, ..., [num_class - 1].\n",
      "  warnings.warn(label_encoder_deprecation_msg, UserWarning)\n"
     ]
    },
    {
     "name": "stdout",
     "output_type": "stream",
     "text": [
      "[13:49:01] WARNING: ../src/learner.cc:1115: Starting in XGBoost 1.3.0, the default evaluation metric used with the objective 'binary:logistic' was changed from 'error' to 'logloss'. Explicitly set eval_metric if you'd like to restore the old behavior.\n"
     ]
    },
    {
     "name": "stderr",
     "output_type": "stream",
     "text": [
      "/home/bhakil01/anaconda3/lib/python3.8/site-packages/xgboost/sklearn.py:1224: UserWarning: The use of label encoder in XGBClassifier is deprecated and will be removed in a future release. To remove this warning, do the following: 1) Pass option use_label_encoder=False when constructing XGBClassifier object; and 2) Encode your labels (y) as integers starting with 0, i.e. 0, 1, 2, ..., [num_class - 1].\n",
      "  warnings.warn(label_encoder_deprecation_msg, UserWarning)\n"
     ]
    },
    {
     "name": "stdout",
     "output_type": "stream",
     "text": [
      "[13:49:06] WARNING: ../src/learner.cc:1115: Starting in XGBoost 1.3.0, the default evaluation metric used with the objective 'binary:logistic' was changed from 'error' to 'logloss'. Explicitly set eval_metric if you'd like to restore the old behavior.\n"
     ]
    },
    {
     "name": "stderr",
     "output_type": "stream",
     "text": [
      "/home/bhakil01/anaconda3/lib/python3.8/site-packages/xgboost/sklearn.py:1224: UserWarning: The use of label encoder in XGBClassifier is deprecated and will be removed in a future release. To remove this warning, do the following: 1) Pass option use_label_encoder=False when constructing XGBClassifier object; and 2) Encode your labels (y) as integers starting with 0, i.e. 0, 1, 2, ..., [num_class - 1].\n",
      "  warnings.warn(label_encoder_deprecation_msg, UserWarning)\n"
     ]
    },
    {
     "name": "stdout",
     "output_type": "stream",
     "text": [
      "[13:49:10] WARNING: ../src/learner.cc:1115: Starting in XGBoost 1.3.0, the default evaluation metric used with the objective 'binary:logistic' was changed from 'error' to 'logloss'. Explicitly set eval_metric if you'd like to restore the old behavior.\n"
     ]
    },
    {
     "name": "stderr",
     "output_type": "stream",
     "text": [
      "/home/bhakil01/anaconda3/lib/python3.8/site-packages/xgboost/sklearn.py:1224: UserWarning: The use of label encoder in XGBClassifier is deprecated and will be removed in a future release. To remove this warning, do the following: 1) Pass option use_label_encoder=False when constructing XGBClassifier object; and 2) Encode your labels (y) as integers starting with 0, i.e. 0, 1, 2, ..., [num_class - 1].\n",
      "  warnings.warn(label_encoder_deprecation_msg, UserWarning)\n"
     ]
    },
    {
     "name": "stdout",
     "output_type": "stream",
     "text": [
      "[13:49:14] WARNING: ../src/learner.cc:1115: Starting in XGBoost 1.3.0, the default evaluation metric used with the objective 'binary:logistic' was changed from 'error' to 'logloss'. Explicitly set eval_metric if you'd like to restore the old behavior.\n"
     ]
    },
    {
     "name": "stderr",
     "output_type": "stream",
     "text": [
      "/home/bhakil01/anaconda3/lib/python3.8/site-packages/xgboost/sklearn.py:1224: UserWarning: The use of label encoder in XGBClassifier is deprecated and will be removed in a future release. To remove this warning, do the following: 1) Pass option use_label_encoder=False when constructing XGBClassifier object; and 2) Encode your labels (y) as integers starting with 0, i.e. 0, 1, 2, ..., [num_class - 1].\n",
      "  warnings.warn(label_encoder_deprecation_msg, UserWarning)\n"
     ]
    },
    {
     "name": "stdout",
     "output_type": "stream",
     "text": [
      "[13:49:18] WARNING: ../src/learner.cc:1115: Starting in XGBoost 1.3.0, the default evaluation metric used with the objective 'binary:logistic' was changed from 'error' to 'logloss'. Explicitly set eval_metric if you'd like to restore the old behavior.\n"
     ]
    },
    {
     "name": "stderr",
     "output_type": "stream",
     "text": [
      "/home/bhakil01/anaconda3/lib/python3.8/site-packages/xgboost/sklearn.py:1224: UserWarning: The use of label encoder in XGBClassifier is deprecated and will be removed in a future release. To remove this warning, do the following: 1) Pass option use_label_encoder=False when constructing XGBClassifier object; and 2) Encode your labels (y) as integers starting with 0, i.e. 0, 1, 2, ..., [num_class - 1].\n",
      "  warnings.warn(label_encoder_deprecation_msg, UserWarning)\n"
     ]
    },
    {
     "name": "stdout",
     "output_type": "stream",
     "text": [
      "[13:49:23] WARNING: ../src/learner.cc:1115: Starting in XGBoost 1.3.0, the default evaluation metric used with the objective 'binary:logistic' was changed from 'error' to 'logloss'. Explicitly set eval_metric if you'd like to restore the old behavior.\n"
     ]
    },
    {
     "name": "stderr",
     "output_type": "stream",
     "text": [
      "/home/bhakil01/anaconda3/lib/python3.8/site-packages/xgboost/sklearn.py:1224: UserWarning: The use of label encoder in XGBClassifier is deprecated and will be removed in a future release. To remove this warning, do the following: 1) Pass option use_label_encoder=False when constructing XGBClassifier object; and 2) Encode your labels (y) as integers starting with 0, i.e. 0, 1, 2, ..., [num_class - 1].\n",
      "  warnings.warn(label_encoder_deprecation_msg, UserWarning)\n"
     ]
    },
    {
     "name": "stdout",
     "output_type": "stream",
     "text": [
      "[13:49:27] WARNING: ../src/learner.cc:1115: Starting in XGBoost 1.3.0, the default evaluation metric used with the objective 'binary:logistic' was changed from 'error' to 'logloss'. Explicitly set eval_metric if you'd like to restore the old behavior.\n"
     ]
    },
    {
     "name": "stderr",
     "output_type": "stream",
     "text": [
      "/home/bhakil01/anaconda3/lib/python3.8/site-packages/xgboost/sklearn.py:1224: UserWarning: The use of label encoder in XGBClassifier is deprecated and will be removed in a future release. To remove this warning, do the following: 1) Pass option use_label_encoder=False when constructing XGBClassifier object; and 2) Encode your labels (y) as integers starting with 0, i.e. 0, 1, 2, ..., [num_class - 1].\n",
      "  warnings.warn(label_encoder_deprecation_msg, UserWarning)\n"
     ]
    },
    {
     "name": "stdout",
     "output_type": "stream",
     "text": [
      "[13:49:31] WARNING: ../src/learner.cc:1115: Starting in XGBoost 1.3.0, the default evaluation metric used with the objective 'binary:logistic' was changed from 'error' to 'logloss'. Explicitly set eval_metric if you'd like to restore the old behavior.\n"
     ]
    },
    {
     "name": "stderr",
     "output_type": "stream",
     "text": [
      "/home/bhakil01/anaconda3/lib/python3.8/site-packages/xgboost/sklearn.py:1224: UserWarning: The use of label encoder in XGBClassifier is deprecated and will be removed in a future release. To remove this warning, do the following: 1) Pass option use_label_encoder=False when constructing XGBClassifier object; and 2) Encode your labels (y) as integers starting with 0, i.e. 0, 1, 2, ..., [num_class - 1].\n",
      "  warnings.warn(label_encoder_deprecation_msg, UserWarning)\n"
     ]
    },
    {
     "name": "stdout",
     "output_type": "stream",
     "text": [
      "[13:49:35] WARNING: ../src/learner.cc:1115: Starting in XGBoost 1.3.0, the default evaluation metric used with the objective 'binary:logistic' was changed from 'error' to 'logloss'. Explicitly set eval_metric if you'd like to restore the old behavior.\n"
     ]
    },
    {
     "name": "stderr",
     "output_type": "stream",
     "text": [
      "/home/bhakil01/anaconda3/lib/python3.8/site-packages/xgboost/sklearn.py:1224: UserWarning: The use of label encoder in XGBClassifier is deprecated and will be removed in a future release. To remove this warning, do the following: 1) Pass option use_label_encoder=False when constructing XGBClassifier object; and 2) Encode your labels (y) as integers starting with 0, i.e. 0, 1, 2, ..., [num_class - 1].\n",
      "  warnings.warn(label_encoder_deprecation_msg, UserWarning)\n"
     ]
    },
    {
     "name": "stdout",
     "output_type": "stream",
     "text": [
      "[13:49:39] WARNING: ../src/learner.cc:1115: Starting in XGBoost 1.3.0, the default evaluation metric used with the objective 'binary:logistic' was changed from 'error' to 'logloss'. Explicitly set eval_metric if you'd like to restore the old behavior.\n"
     ]
    },
    {
     "name": "stderr",
     "output_type": "stream",
     "text": [
      "/home/bhakil01/anaconda3/lib/python3.8/site-packages/xgboost/sklearn.py:1224: UserWarning: The use of label encoder in XGBClassifier is deprecated and will be removed in a future release. To remove this warning, do the following: 1) Pass option use_label_encoder=False when constructing XGBClassifier object; and 2) Encode your labels (y) as integers starting with 0, i.e. 0, 1, 2, ..., [num_class - 1].\n",
      "  warnings.warn(label_encoder_deprecation_msg, UserWarning)\n"
     ]
    },
    {
     "name": "stdout",
     "output_type": "stream",
     "text": [
      "[13:49:43] WARNING: ../src/learner.cc:1115: Starting in XGBoost 1.3.0, the default evaluation metric used with the objective 'binary:logistic' was changed from 'error' to 'logloss'. Explicitly set eval_metric if you'd like to restore the old behavior.\n"
     ]
    },
    {
     "name": "stderr",
     "output_type": "stream",
     "text": [
      "/home/bhakil01/anaconda3/lib/python3.8/site-packages/xgboost/sklearn.py:1224: UserWarning: The use of label encoder in XGBClassifier is deprecated and will be removed in a future release. To remove this warning, do the following: 1) Pass option use_label_encoder=False when constructing XGBClassifier object; and 2) Encode your labels (y) as integers starting with 0, i.e. 0, 1, 2, ..., [num_class - 1].\n",
      "  warnings.warn(label_encoder_deprecation_msg, UserWarning)\n"
     ]
    },
    {
     "name": "stdout",
     "output_type": "stream",
     "text": [
      "[13:49:47] WARNING: ../src/learner.cc:1115: Starting in XGBoost 1.3.0, the default evaluation metric used with the objective 'binary:logistic' was changed from 'error' to 'logloss'. Explicitly set eval_metric if you'd like to restore the old behavior.\n"
     ]
    },
    {
     "name": "stderr",
     "output_type": "stream",
     "text": [
      "/home/bhakil01/anaconda3/lib/python3.8/site-packages/xgboost/sklearn.py:1224: UserWarning: The use of label encoder in XGBClassifier is deprecated and will be removed in a future release. To remove this warning, do the following: 1) Pass option use_label_encoder=False when constructing XGBClassifier object; and 2) Encode your labels (y) as integers starting with 0, i.e. 0, 1, 2, ..., [num_class - 1].\n",
      "  warnings.warn(label_encoder_deprecation_msg, UserWarning)\n"
     ]
    },
    {
     "name": "stdout",
     "output_type": "stream",
     "text": [
      "[13:49:52] WARNING: ../src/learner.cc:1115: Starting in XGBoost 1.3.0, the default evaluation metric used with the objective 'binary:logistic' was changed from 'error' to 'logloss'. Explicitly set eval_metric if you'd like to restore the old behavior.\n"
     ]
    },
    {
     "name": "stderr",
     "output_type": "stream",
     "text": [
      "/home/bhakil01/anaconda3/lib/python3.8/site-packages/xgboost/sklearn.py:1224: UserWarning: The use of label encoder in XGBClassifier is deprecated and will be removed in a future release. To remove this warning, do the following: 1) Pass option use_label_encoder=False when constructing XGBClassifier object; and 2) Encode your labels (y) as integers starting with 0, i.e. 0, 1, 2, ..., [num_class - 1].\n",
      "  warnings.warn(label_encoder_deprecation_msg, UserWarning)\n"
     ]
    },
    {
     "name": "stdout",
     "output_type": "stream",
     "text": [
      "[13:49:56] WARNING: ../src/learner.cc:1115: Starting in XGBoost 1.3.0, the default evaluation metric used with the objective 'binary:logistic' was changed from 'error' to 'logloss'. Explicitly set eval_metric if you'd like to restore the old behavior.\n"
     ]
    },
    {
     "name": "stderr",
     "output_type": "stream",
     "text": [
      "/home/bhakil01/anaconda3/lib/python3.8/site-packages/xgboost/sklearn.py:1224: UserWarning: The use of label encoder in XGBClassifier is deprecated and will be removed in a future release. To remove this warning, do the following: 1) Pass option use_label_encoder=False when constructing XGBClassifier object; and 2) Encode your labels (y) as integers starting with 0, i.e. 0, 1, 2, ..., [num_class - 1].\n",
      "  warnings.warn(label_encoder_deprecation_msg, UserWarning)\n"
     ]
    },
    {
     "name": "stdout",
     "output_type": "stream",
     "text": [
      "[13:50:00] WARNING: ../src/learner.cc:1115: Starting in XGBoost 1.3.0, the default evaluation metric used with the objective 'binary:logistic' was changed from 'error' to 'logloss'. Explicitly set eval_metric if you'd like to restore the old behavior.\n"
     ]
    },
    {
     "name": "stderr",
     "output_type": "stream",
     "text": [
      "/home/bhakil01/anaconda3/lib/python3.8/site-packages/xgboost/sklearn.py:1224: UserWarning: The use of label encoder in XGBClassifier is deprecated and will be removed in a future release. To remove this warning, do the following: 1) Pass option use_label_encoder=False when constructing XGBClassifier object; and 2) Encode your labels (y) as integers starting with 0, i.e. 0, 1, 2, ..., [num_class - 1].\n",
      "  warnings.warn(label_encoder_deprecation_msg, UserWarning)\n"
     ]
    },
    {
     "name": "stdout",
     "output_type": "stream",
     "text": [
      "[13:50:04] WARNING: ../src/learner.cc:1115: Starting in XGBoost 1.3.0, the default evaluation metric used with the objective 'binary:logistic' was changed from 'error' to 'logloss'. Explicitly set eval_metric if you'd like to restore the old behavior.\n"
     ]
    },
    {
     "name": "stderr",
     "output_type": "stream",
     "text": [
      "/home/bhakil01/anaconda3/lib/python3.8/site-packages/xgboost/sklearn.py:1224: UserWarning: The use of label encoder in XGBClassifier is deprecated and will be removed in a future release. To remove this warning, do the following: 1) Pass option use_label_encoder=False when constructing XGBClassifier object; and 2) Encode your labels (y) as integers starting with 0, i.e. 0, 1, 2, ..., [num_class - 1].\n",
      "  warnings.warn(label_encoder_deprecation_msg, UserWarning)\n"
     ]
    },
    {
     "name": "stdout",
     "output_type": "stream",
     "text": [
      "[13:50:09] WARNING: ../src/learner.cc:1115: Starting in XGBoost 1.3.0, the default evaluation metric used with the objective 'binary:logistic' was changed from 'error' to 'logloss'. Explicitly set eval_metric if you'd like to restore the old behavior.\n"
     ]
    },
    {
     "name": "stderr",
     "output_type": "stream",
     "text": [
      "/home/bhakil01/anaconda3/lib/python3.8/site-packages/xgboost/sklearn.py:1224: UserWarning: The use of label encoder in XGBClassifier is deprecated and will be removed in a future release. To remove this warning, do the following: 1) Pass option use_label_encoder=False when constructing XGBClassifier object; and 2) Encode your labels (y) as integers starting with 0, i.e. 0, 1, 2, ..., [num_class - 1].\n",
      "  warnings.warn(label_encoder_deprecation_msg, UserWarning)\n"
     ]
    },
    {
     "name": "stdout",
     "output_type": "stream",
     "text": [
      "[13:50:13] WARNING: ../src/learner.cc:1115: Starting in XGBoost 1.3.0, the default evaluation metric used with the objective 'binary:logistic' was changed from 'error' to 'logloss'. Explicitly set eval_metric if you'd like to restore the old behavior.\n"
     ]
    },
    {
     "name": "stderr",
     "output_type": "stream",
     "text": [
      "/home/bhakil01/anaconda3/lib/python3.8/site-packages/xgboost/sklearn.py:1224: UserWarning: The use of label encoder in XGBClassifier is deprecated and will be removed in a future release. To remove this warning, do the following: 1) Pass option use_label_encoder=False when constructing XGBClassifier object; and 2) Encode your labels (y) as integers starting with 0, i.e. 0, 1, 2, ..., [num_class - 1].\n",
      "  warnings.warn(label_encoder_deprecation_msg, UserWarning)\n"
     ]
    },
    {
     "name": "stdout",
     "output_type": "stream",
     "text": [
      "[13:50:17] WARNING: ../src/learner.cc:1115: Starting in XGBoost 1.3.0, the default evaluation metric used with the objective 'binary:logistic' was changed from 'error' to 'logloss'. Explicitly set eval_metric if you'd like to restore the old behavior.\n"
     ]
    },
    {
     "name": "stderr",
     "output_type": "stream",
     "text": [
      "/home/bhakil01/anaconda3/lib/python3.8/site-packages/xgboost/sklearn.py:1224: UserWarning: The use of label encoder in XGBClassifier is deprecated and will be removed in a future release. To remove this warning, do the following: 1) Pass option use_label_encoder=False when constructing XGBClassifier object; and 2) Encode your labels (y) as integers starting with 0, i.e. 0, 1, 2, ..., [num_class - 1].\n",
      "  warnings.warn(label_encoder_deprecation_msg, UserWarning)\n"
     ]
    },
    {
     "name": "stdout",
     "output_type": "stream",
     "text": [
      "[13:50:21] WARNING: ../src/learner.cc:1115: Starting in XGBoost 1.3.0, the default evaluation metric used with the objective 'binary:logistic' was changed from 'error' to 'logloss'. Explicitly set eval_metric if you'd like to restore the old behavior.\n"
     ]
    },
    {
     "name": "stderr",
     "output_type": "stream",
     "text": [
      "/home/bhakil01/anaconda3/lib/python3.8/site-packages/xgboost/sklearn.py:1224: UserWarning: The use of label encoder in XGBClassifier is deprecated and will be removed in a future release. To remove this warning, do the following: 1) Pass option use_label_encoder=False when constructing XGBClassifier object; and 2) Encode your labels (y) as integers starting with 0, i.e. 0, 1, 2, ..., [num_class - 1].\n",
      "  warnings.warn(label_encoder_deprecation_msg, UserWarning)\n"
     ]
    },
    {
     "name": "stdout",
     "output_type": "stream",
     "text": [
      "[13:50:25] WARNING: ../src/learner.cc:1115: Starting in XGBoost 1.3.0, the default evaluation metric used with the objective 'binary:logistic' was changed from 'error' to 'logloss'. Explicitly set eval_metric if you'd like to restore the old behavior.\n"
     ]
    },
    {
     "name": "stderr",
     "output_type": "stream",
     "text": [
      "/home/bhakil01/anaconda3/lib/python3.8/site-packages/xgboost/sklearn.py:1224: UserWarning: The use of label encoder in XGBClassifier is deprecated and will be removed in a future release. To remove this warning, do the following: 1) Pass option use_label_encoder=False when constructing XGBClassifier object; and 2) Encode your labels (y) as integers starting with 0, i.e. 0, 1, 2, ..., [num_class - 1].\n",
      "  warnings.warn(label_encoder_deprecation_msg, UserWarning)\n"
     ]
    },
    {
     "name": "stdout",
     "output_type": "stream",
     "text": [
      "[13:50:29] WARNING: ../src/learner.cc:1115: Starting in XGBoost 1.3.0, the default evaluation metric used with the objective 'binary:logistic' was changed from 'error' to 'logloss'. Explicitly set eval_metric if you'd like to restore the old behavior.\n"
     ]
    },
    {
     "name": "stderr",
     "output_type": "stream",
     "text": [
      "/home/bhakil01/anaconda3/lib/python3.8/site-packages/xgboost/sklearn.py:1224: UserWarning: The use of label encoder in XGBClassifier is deprecated and will be removed in a future release. To remove this warning, do the following: 1) Pass option use_label_encoder=False when constructing XGBClassifier object; and 2) Encode your labels (y) as integers starting with 0, i.e. 0, 1, 2, ..., [num_class - 1].\n",
      "  warnings.warn(label_encoder_deprecation_msg, UserWarning)\n"
     ]
    },
    {
     "name": "stdout",
     "output_type": "stream",
     "text": [
      "[13:50:33] WARNING: ../src/learner.cc:1115: Starting in XGBoost 1.3.0, the default evaluation metric used with the objective 'binary:logistic' was changed from 'error' to 'logloss'. Explicitly set eval_metric if you'd like to restore the old behavior.\n"
     ]
    },
    {
     "name": "stderr",
     "output_type": "stream",
     "text": [
      "/home/bhakil01/anaconda3/lib/python3.8/site-packages/xgboost/sklearn.py:1224: UserWarning: The use of label encoder in XGBClassifier is deprecated and will be removed in a future release. To remove this warning, do the following: 1) Pass option use_label_encoder=False when constructing XGBClassifier object; and 2) Encode your labels (y) as integers starting with 0, i.e. 0, 1, 2, ..., [num_class - 1].\n",
      "  warnings.warn(label_encoder_deprecation_msg, UserWarning)\n"
     ]
    },
    {
     "name": "stdout",
     "output_type": "stream",
     "text": [
      "[13:50:37] WARNING: ../src/learner.cc:1115: Starting in XGBoost 1.3.0, the default evaluation metric used with the objective 'binary:logistic' was changed from 'error' to 'logloss'. Explicitly set eval_metric if you'd like to restore the old behavior.\n"
     ]
    },
    {
     "name": "stderr",
     "output_type": "stream",
     "text": [
      "/home/bhakil01/anaconda3/lib/python3.8/site-packages/xgboost/sklearn.py:1224: UserWarning: The use of label encoder in XGBClassifier is deprecated and will be removed in a future release. To remove this warning, do the following: 1) Pass option use_label_encoder=False when constructing XGBClassifier object; and 2) Encode your labels (y) as integers starting with 0, i.e. 0, 1, 2, ..., [num_class - 1].\n",
      "  warnings.warn(label_encoder_deprecation_msg, UserWarning)\n"
     ]
    },
    {
     "name": "stdout",
     "output_type": "stream",
     "text": [
      "[13:50:43] WARNING: ../src/learner.cc:1115: Starting in XGBoost 1.3.0, the default evaluation metric used with the objective 'binary:logistic' was changed from 'error' to 'logloss'. Explicitly set eval_metric if you'd like to restore the old behavior.\n"
     ]
    },
    {
     "name": "stderr",
     "output_type": "stream",
     "text": [
      "/home/bhakil01/anaconda3/lib/python3.8/site-packages/xgboost/sklearn.py:1224: UserWarning: The use of label encoder in XGBClassifier is deprecated and will be removed in a future release. To remove this warning, do the following: 1) Pass option use_label_encoder=False when constructing XGBClassifier object; and 2) Encode your labels (y) as integers starting with 0, i.e. 0, 1, 2, ..., [num_class - 1].\n",
      "  warnings.warn(label_encoder_deprecation_msg, UserWarning)\n"
     ]
    },
    {
     "name": "stdout",
     "output_type": "stream",
     "text": [
      "[13:50:47] WARNING: ../src/learner.cc:1115: Starting in XGBoost 1.3.0, the default evaluation metric used with the objective 'binary:logistic' was changed from 'error' to 'logloss'. Explicitly set eval_metric if you'd like to restore the old behavior.\n"
     ]
    },
    {
     "name": "stderr",
     "output_type": "stream",
     "text": [
      "/home/bhakil01/anaconda3/lib/python3.8/site-packages/xgboost/sklearn.py:1224: UserWarning: The use of label encoder in XGBClassifier is deprecated and will be removed in a future release. To remove this warning, do the following: 1) Pass option use_label_encoder=False when constructing XGBClassifier object; and 2) Encode your labels (y) as integers starting with 0, i.e. 0, 1, 2, ..., [num_class - 1].\n",
      "  warnings.warn(label_encoder_deprecation_msg, UserWarning)\n"
     ]
    },
    {
     "name": "stdout",
     "output_type": "stream",
     "text": [
      "[13:50:51] WARNING: ../src/learner.cc:1115: Starting in XGBoost 1.3.0, the default evaluation metric used with the objective 'binary:logistic' was changed from 'error' to 'logloss'. Explicitly set eval_metric if you'd like to restore the old behavior.\n"
     ]
    },
    {
     "name": "stderr",
     "output_type": "stream",
     "text": [
      "/home/bhakil01/anaconda3/lib/python3.8/site-packages/xgboost/sklearn.py:1224: UserWarning: The use of label encoder in XGBClassifier is deprecated and will be removed in a future release. To remove this warning, do the following: 1) Pass option use_label_encoder=False when constructing XGBClassifier object; and 2) Encode your labels (y) as integers starting with 0, i.e. 0, 1, 2, ..., [num_class - 1].\n",
      "  warnings.warn(label_encoder_deprecation_msg, UserWarning)\n"
     ]
    },
    {
     "name": "stdout",
     "output_type": "stream",
     "text": [
      "[13:50:55] WARNING: ../src/learner.cc:1115: Starting in XGBoost 1.3.0, the default evaluation metric used with the objective 'binary:logistic' was changed from 'error' to 'logloss'. Explicitly set eval_metric if you'd like to restore the old behavior.\n"
     ]
    },
    {
     "name": "stderr",
     "output_type": "stream",
     "text": [
      "/home/bhakil01/anaconda3/lib/python3.8/site-packages/xgboost/sklearn.py:1224: UserWarning: The use of label encoder in XGBClassifier is deprecated and will be removed in a future release. To remove this warning, do the following: 1) Pass option use_label_encoder=False when constructing XGBClassifier object; and 2) Encode your labels (y) as integers starting with 0, i.e. 0, 1, 2, ..., [num_class - 1].\n",
      "  warnings.warn(label_encoder_deprecation_msg, UserWarning)\n"
     ]
    },
    {
     "name": "stdout",
     "output_type": "stream",
     "text": [
      "[13:51:00] WARNING: ../src/learner.cc:1115: Starting in XGBoost 1.3.0, the default evaluation metric used with the objective 'binary:logistic' was changed from 'error' to 'logloss'. Explicitly set eval_metric if you'd like to restore the old behavior.\n"
     ]
    },
    {
     "name": "stderr",
     "output_type": "stream",
     "text": [
      "/home/bhakil01/anaconda3/lib/python3.8/site-packages/xgboost/sklearn.py:1224: UserWarning: The use of label encoder in XGBClassifier is deprecated and will be removed in a future release. To remove this warning, do the following: 1) Pass option use_label_encoder=False when constructing XGBClassifier object; and 2) Encode your labels (y) as integers starting with 0, i.e. 0, 1, 2, ..., [num_class - 1].\n",
      "  warnings.warn(label_encoder_deprecation_msg, UserWarning)\n"
     ]
    },
    {
     "name": "stdout",
     "output_type": "stream",
     "text": [
      "[13:51:04] WARNING: ../src/learner.cc:1115: Starting in XGBoost 1.3.0, the default evaluation metric used with the objective 'binary:logistic' was changed from 'error' to 'logloss'. Explicitly set eval_metric if you'd like to restore the old behavior.\n"
     ]
    },
    {
     "name": "stderr",
     "output_type": "stream",
     "text": [
      "/home/bhakil01/anaconda3/lib/python3.8/site-packages/xgboost/sklearn.py:1224: UserWarning: The use of label encoder in XGBClassifier is deprecated and will be removed in a future release. To remove this warning, do the following: 1) Pass option use_label_encoder=False when constructing XGBClassifier object; and 2) Encode your labels (y) as integers starting with 0, i.e. 0, 1, 2, ..., [num_class - 1].\n",
      "  warnings.warn(label_encoder_deprecation_msg, UserWarning)\n"
     ]
    },
    {
     "name": "stdout",
     "output_type": "stream",
     "text": [
      "[13:51:08] WARNING: ../src/learner.cc:1115: Starting in XGBoost 1.3.0, the default evaluation metric used with the objective 'binary:logistic' was changed from 'error' to 'logloss'. Explicitly set eval_metric if you'd like to restore the old behavior.\n"
     ]
    },
    {
     "name": "stderr",
     "output_type": "stream",
     "text": [
      "/home/bhakil01/anaconda3/lib/python3.8/site-packages/xgboost/sklearn.py:1224: UserWarning: The use of label encoder in XGBClassifier is deprecated and will be removed in a future release. To remove this warning, do the following: 1) Pass option use_label_encoder=False when constructing XGBClassifier object; and 2) Encode your labels (y) as integers starting with 0, i.e. 0, 1, 2, ..., [num_class - 1].\n",
      "  warnings.warn(label_encoder_deprecation_msg, UserWarning)\n"
     ]
    },
    {
     "name": "stdout",
     "output_type": "stream",
     "text": [
      "[13:51:12] WARNING: ../src/learner.cc:1115: Starting in XGBoost 1.3.0, the default evaluation metric used with the objective 'binary:logistic' was changed from 'error' to 'logloss'. Explicitly set eval_metric if you'd like to restore the old behavior.\n"
     ]
    },
    {
     "name": "stderr",
     "output_type": "stream",
     "text": [
      "/home/bhakil01/anaconda3/lib/python3.8/site-packages/xgboost/sklearn.py:1224: UserWarning: The use of label encoder in XGBClassifier is deprecated and will be removed in a future release. To remove this warning, do the following: 1) Pass option use_label_encoder=False when constructing XGBClassifier object; and 2) Encode your labels (y) as integers starting with 0, i.e. 0, 1, 2, ..., [num_class - 1].\n",
      "  warnings.warn(label_encoder_deprecation_msg, UserWarning)\n"
     ]
    },
    {
     "name": "stdout",
     "output_type": "stream",
     "text": [
      "[13:51:16] WARNING: ../src/learner.cc:1115: Starting in XGBoost 1.3.0, the default evaluation metric used with the objective 'binary:logistic' was changed from 'error' to 'logloss'. Explicitly set eval_metric if you'd like to restore the old behavior.\n"
     ]
    },
    {
     "name": "stderr",
     "output_type": "stream",
     "text": [
      "/home/bhakil01/anaconda3/lib/python3.8/site-packages/xgboost/sklearn.py:1224: UserWarning: The use of label encoder in XGBClassifier is deprecated and will be removed in a future release. To remove this warning, do the following: 1) Pass option use_label_encoder=False when constructing XGBClassifier object; and 2) Encode your labels (y) as integers starting with 0, i.e. 0, 1, 2, ..., [num_class - 1].\n",
      "  warnings.warn(label_encoder_deprecation_msg, UserWarning)\n"
     ]
    },
    {
     "name": "stdout",
     "output_type": "stream",
     "text": [
      "[13:51:20] WARNING: ../src/learner.cc:1115: Starting in XGBoost 1.3.0, the default evaluation metric used with the objective 'binary:logistic' was changed from 'error' to 'logloss'. Explicitly set eval_metric if you'd like to restore the old behavior.\n"
     ]
    },
    {
     "name": "stderr",
     "output_type": "stream",
     "text": [
      "/home/bhakil01/anaconda3/lib/python3.8/site-packages/xgboost/sklearn.py:1224: UserWarning: The use of label encoder in XGBClassifier is deprecated and will be removed in a future release. To remove this warning, do the following: 1) Pass option use_label_encoder=False when constructing XGBClassifier object; and 2) Encode your labels (y) as integers starting with 0, i.e. 0, 1, 2, ..., [num_class - 1].\n",
      "  warnings.warn(label_encoder_deprecation_msg, UserWarning)\n"
     ]
    },
    {
     "name": "stdout",
     "output_type": "stream",
     "text": [
      "[13:51:24] WARNING: ../src/learner.cc:1115: Starting in XGBoost 1.3.0, the default evaluation metric used with the objective 'binary:logistic' was changed from 'error' to 'logloss'. Explicitly set eval_metric if you'd like to restore the old behavior.\n"
     ]
    },
    {
     "name": "stderr",
     "output_type": "stream",
     "text": [
      "/home/bhakil01/anaconda3/lib/python3.8/site-packages/xgboost/sklearn.py:1224: UserWarning: The use of label encoder in XGBClassifier is deprecated and will be removed in a future release. To remove this warning, do the following: 1) Pass option use_label_encoder=False when constructing XGBClassifier object; and 2) Encode your labels (y) as integers starting with 0, i.e. 0, 1, 2, ..., [num_class - 1].\n",
      "  warnings.warn(label_encoder_deprecation_msg, UserWarning)\n"
     ]
    },
    {
     "name": "stdout",
     "output_type": "stream",
     "text": [
      "[13:51:29] WARNING: ../src/learner.cc:1115: Starting in XGBoost 1.3.0, the default evaluation metric used with the objective 'binary:logistic' was changed from 'error' to 'logloss'. Explicitly set eval_metric if you'd like to restore the old behavior.\n"
     ]
    },
    {
     "name": "stderr",
     "output_type": "stream",
     "text": [
      "/home/bhakil01/anaconda3/lib/python3.8/site-packages/xgboost/sklearn.py:1224: UserWarning: The use of label encoder in XGBClassifier is deprecated and will be removed in a future release. To remove this warning, do the following: 1) Pass option use_label_encoder=False when constructing XGBClassifier object; and 2) Encode your labels (y) as integers starting with 0, i.e. 0, 1, 2, ..., [num_class - 1].\n",
      "  warnings.warn(label_encoder_deprecation_msg, UserWarning)\n"
     ]
    },
    {
     "name": "stdout",
     "output_type": "stream",
     "text": [
      "[13:51:33] WARNING: ../src/learner.cc:1115: Starting in XGBoost 1.3.0, the default evaluation metric used with the objective 'binary:logistic' was changed from 'error' to 'logloss'. Explicitly set eval_metric if you'd like to restore the old behavior.\n"
     ]
    },
    {
     "data": {
      "text/plain": [
       "GridSearchCV(cv=5,\n",
       "             estimator=XGBClassifier(base_score=None, booster=None,\n",
       "                                     colsample_bylevel=None,\n",
       "                                     colsample_bynode=None,\n",
       "                                     colsample_bytree=None,\n",
       "                                     enable_categorical=False, gamma=None,\n",
       "                                     gpu_id=None, importance_type=None,\n",
       "                                     interaction_constraints=None,\n",
       "                                     learning_rate=None, max_delta_step=None,\n",
       "                                     max_depth=None, min_child_weight=None,\n",
       "                                     missing=nan, monotone_constraints=None,\n",
       "                                     n_estimators=100, n_jobs=None,\n",
       "                                     num_parallel_tree=None, predictor=None,\n",
       "                                     random_state=None, reg_alpha=None,\n",
       "                                     reg_lambda=None, scale_pos_weight=None,\n",
       "                                     subsample=None, tree_method=None,\n",
       "                                     validate_parameters=None, verbosity=None),\n",
       "             param_grid={'scale_pos_weight': [0, 1, 2, 3, 4, 5, 6, 7, 8, 9, 10,\n",
       "                                              11, 12, 13, 14, 15, 16, 17, 18,\n",
       "                                              19]},\n",
       "             return_train_score=True, scoring='roc_auc', verbose=1)"
      ]
     },
     "execution_count": 134,
     "metadata": {},
     "output_type": "execute_result"
    }
   ],
   "source": [
    "model_cv.fit(X_train, y_train)"
   ]
  },
  {
   "cell_type": "code",
   "execution_count": 137,
   "id": "fe83b655",
   "metadata": {},
   "outputs": [
    {
     "name": "stdout",
     "output_type": "stream",
     "text": [
      "We can get accuracy of 0.9249668016867931 using {'scale_pos_weight': 2}\n"
     ]
    }
   ],
   "source": [
    "# printing the optimal accuracy score and hyperparameters\n",
    "print('We can get accuracy of',model_cv.best_score_,'using',model_cv.best_params_)"
   ]
  },
  {
   "cell_type": "code",
   "execution_count": 138,
   "id": "1766cba6",
   "metadata": {},
   "outputs": [
    {
     "name": "stderr",
     "output_type": "stream",
     "text": [
      "/home/bhakil01/anaconda3/lib/python3.8/site-packages/xgboost/sklearn.py:1224: UserWarning: The use of label encoder in XGBClassifier is deprecated and will be removed in a future release. To remove this warning, do the following: 1) Pass option use_label_encoder=False when constructing XGBClassifier object; and 2) Encode your labels (y) as integers starting with 0, i.e. 0, 1, 2, ..., [num_class - 1].\n",
      "  warnings.warn(label_encoder_deprecation_msg, UserWarning)\n"
     ]
    },
    {
     "name": "stdout",
     "output_type": "stream",
     "text": [
      "[14:23:08] WARNING: ../src/learner.cc:1115: Starting in XGBoost 1.3.0, the default evaluation metric used with the objective 'binary:logistic' was changed from 'error' to 'logloss'. Explicitly set eval_metric if you'd like to restore the old behavior.\n",
      "AUC: 92.74%\n",
      "[0 0 1 ... 0 0 0]\n",
      "[[4978  266]\n",
      " [ 217  433]]\n",
      "accuracy : 0.9180522565320665\n",
      "specificity:  0.9492753623188406\n",
      "sensitivity :  0.6661538461538462\n"
     ]
    }
   ],
   "source": [
    "# fit model on training data with default hyperparameters\n",
    "model = XGBClassifier(scale_pos_weight=2)\n",
    "model.fit(X_train, y_train)\n",
    "\n",
    "\n",
    "# make predictions for test data\n",
    "# use predict_proba since we need probabilities to compute auc\n",
    "y_pred_proba = model.predict_proba(X_test)\n",
    "\n",
    "from sklearn import metrics\n",
    "# evaluate predictions\n",
    "roc = metrics.roc_auc_score(y_test, y_pred_proba[:, 1])\n",
    "print(\"AUC: %.2f%%\" % (roc * 100.0))\n",
    "\n",
    "y_pred = model.predict(X_test)\n",
    "print(y_pred)\n",
    "\n",
    "print_metrics(y_test, y_pred)"
   ]
  },
  {
   "cell_type": "markdown",
   "id": "c25603c0",
   "metadata": {},
   "source": [
    "Let's save the XGBoost model (as that's our final chosen model)-"
   ]
  },
  {
   "cell_type": "code",
   "execution_count": 315,
   "id": "5b292b10",
   "metadata": {},
   "outputs": [
    {
     "data": {
      "text/plain": [
       "['model/xgboost_model.pkl']"
      ]
     },
     "execution_count": 315,
     "metadata": {},
     "output_type": "execute_result"
    }
   ],
   "source": [
    "joblib.dump(model, 'model/xgboost_model.pkl') "
   ]
  },
  {
   "cell_type": "markdown",
   "id": "3e959b9c",
   "metadata": {},
   "source": [
    "So there are three models which we have tried. Let's look at their accuracies and other metrics for comparison : \n",
    "\n",
    "1. Logistic regression : accuracy = 90%, specificity =93.4% , sensitivity=65.5%\n",
    "\n",
    "2. Random Forest classifier : accuracy = 90.9%, specificity =99.8% , sensitivity=19.3% \n",
    "\n",
    "3. XGBoost Classifier : accuracy = 91.8%, specificity =94.9% , sensitivity=66.6% , AUC=92.7%\n",
    "\n",
    "From the above numbers we can see that random forest classifier is overfitting the data and has a very low sensitivity while logistic regression and XGBoost classifier are doing quite well. XGBoost classifier has a higher accuracy, sensitivity and specificity as compared to the logistic regression classifier. Hence, we are going ahead with the XGBoost classifier for this particular usecase. "
   ]
  },
  {
   "cell_type": "markdown",
   "id": "975c79d0",
   "metadata": {},
   "source": [
    "Actual input dataset"
   ]
  },
  {
   "cell_type": "code",
   "execution_count": 144,
   "id": "c336f763",
   "metadata": {},
   "outputs": [
    {
     "data": {
      "text/plain": [
       "(29469, 12)"
      ]
     },
     "execution_count": 144,
     "metadata": {},
     "output_type": "execute_result"
    }
   ],
   "source": [
    "ratings.shape"
   ]
  },
  {
   "cell_type": "markdown",
   "id": "c962771e",
   "metadata": {},
   "source": [
    "TFIDF vector of all input rows"
   ]
  },
  {
   "cell_type": "code",
   "execution_count": 318,
   "id": "cbb06af6",
   "metadata": {},
   "outputs": [
    {
     "data": {
      "text/plain": [
       "<29469x25160 sparse matrix of type '<class 'numpy.float64'>'\n",
       "\twith 479889 stored elements in Compressed Sparse Row format>"
      ]
     },
     "execution_count": 318,
     "metadata": {},
     "output_type": "execute_result"
    }
   ],
   "source": [
    "reviews_tfidf"
   ]
  },
  {
   "cell_type": "markdown",
   "id": "ed1c6dcc",
   "metadata": {},
   "source": [
    "train input to the recommendation system - "
   ]
  },
  {
   "cell_type": "code",
   "execution_count": 148,
   "id": "050894e8",
   "metadata": {},
   "outputs": [
    {
     "data": {
      "text/plain": [
       "(20628, 3)"
      ]
     },
     "execution_count": 148,
     "metadata": {},
     "output_type": "execute_result"
    }
   ],
   "source": [
    "train.shape"
   ]
  },
  {
   "cell_type": "code",
   "execution_count": 150,
   "id": "ec22a813",
   "metadata": {},
   "outputs": [
    {
     "data": {
      "text/html": [
       "<div>\n",
       "<style scoped>\n",
       "    .dataframe tbody tr th:only-of-type {\n",
       "        vertical-align: middle;\n",
       "    }\n",
       "\n",
       "    .dataframe tbody tr th {\n",
       "        vertical-align: top;\n",
       "    }\n",
       "\n",
       "    .dataframe thead th {\n",
       "        text-align: right;\n",
       "    }\n",
       "</style>\n",
       "<table border=\"1\" class=\"dataframe\">\n",
       "  <thead>\n",
       "    <tr style=\"text-align: right;\">\n",
       "      <th></th>\n",
       "      <th>name</th>\n",
       "      <th>reviews_username</th>\n",
       "      <th>reviews_rating</th>\n",
       "    </tr>\n",
       "  </thead>\n",
       "  <tbody>\n",
       "    <tr>\n",
       "      <th>28155</th>\n",
       "      <td>Planes: Fire Rescue (2 Discs) (includes Digital Copy) (blu-Ray/dvd)</td>\n",
       "      <td>cdf2good1</td>\n",
       "      <td>5</td>\n",
       "    </tr>\n",
       "    <tr>\n",
       "      <th>26017</th>\n",
       "      <td>Godzilla 3d Includes Digital Copy Ultraviolet 3d/2d Blu-Ray/dvd</td>\n",
       "      <td>lxn19</td>\n",
       "      <td>5</td>\n",
       "    </tr>\n",
       "    <tr>\n",
       "      <th>8980</th>\n",
       "      <td>Clorox Disinfecting Wipes Value Pack Scented 150 Ct Total</td>\n",
       "      <td>afwifey2003</td>\n",
       "      <td>5</td>\n",
       "    </tr>\n",
       "    <tr>\n",
       "      <th>8141</th>\n",
       "      <td>Clorox Disinfecting Wipes Value Pack Scented 150 Ct Total</td>\n",
       "      <td>monica13</td>\n",
       "      <td>5</td>\n",
       "    </tr>\n",
       "    <tr>\n",
       "      <th>13493</th>\n",
       "      <td>Clorox Disinfecting Wipes Value Pack Scented 150 Ct Total</td>\n",
       "      <td>lizzerly</td>\n",
       "      <td>5</td>\n",
       "    </tr>\n",
       "  </tbody>\n",
       "</table>\n",
       "</div>"
      ],
      "text/plain": [
       "                                                                      name  \\\n",
       "28155  Planes: Fire Rescue (2 Discs) (includes Digital Copy) (blu-Ray/dvd)   \n",
       "26017      Godzilla 3d Includes Digital Copy Ultraviolet 3d/2d Blu-Ray/dvd   \n",
       "8980             Clorox Disinfecting Wipes Value Pack Scented 150 Ct Total   \n",
       "8141             Clorox Disinfecting Wipes Value Pack Scented 150 Ct Total   \n",
       "13493            Clorox Disinfecting Wipes Value Pack Scented 150 Ct Total   \n",
       "\n",
       "      reviews_username  reviews_rating  \n",
       "28155        cdf2good1               5  \n",
       "26017            lxn19               5  \n",
       "8980       afwifey2003               5  \n",
       "8141          monica13               5  \n",
       "13493         lizzerly               5  "
      ]
     },
     "execution_count": 150,
     "metadata": {},
     "output_type": "execute_result"
    }
   ],
   "source": [
    "train.head()"
   ]
  },
  {
   "cell_type": "code",
   "execution_count": 151,
   "id": "f52cb972",
   "metadata": {},
   "outputs": [
    {
     "data": {
      "text/plain": [
       "Int64Index([28155, 26017,  8980,  8141, 13493,     0, 20650, 22987, 24817,\n",
       "            29231,\n",
       "            ...\n",
       "              605, 21571, 22143,    28,   828,  3774, 15180, 27948, 27059,\n",
       "            21559],\n",
       "           dtype='int64', length=20628)"
      ]
     },
     "execution_count": 151,
     "metadata": {},
     "output_type": "execute_result"
    }
   ],
   "source": [
    "train.index"
   ]
  },
  {
   "cell_type": "code",
   "execution_count": 322,
   "id": "406f6201",
   "metadata": {},
   "outputs": [
    {
     "data": {
      "text/plain": [
       "['Planes: Fire Rescue (2 Discs) (includes Digital Copy) (blu-Ray/dvd)',\n",
       " 'The Resident Evil Collection 5 Discs (blu-Ray)',\n",
       " 'Mike Dave Need Wedding Dates (dvd + Digital)',\n",
       " 'My Big Fat Greek Wedding 2 (blu-Ray + Dvd + Digital)',\n",
       " \"Various - Country's Greatest Gospel:Gold Ed (cd)\",\n",
       " 'Cococare 100% Natural Castor Oil',\n",
       " \"Chester's Cheese Flavored Puffcorn Snacks\",\n",
       " 'Red (special Edition) (dvdvideo)',\n",
       " '100:Complete First Season (blu-Ray)',\n",
       " \"There's Something About Mary (dvd)\",\n",
       " \"Chips Deluxe Soft 'n Chewy Cookies\",\n",
       " 'Lynk Professional174 Pull Out Cutting Board Bakeware Sliding Cabinet Organizer',\n",
       " 'Sea Gull Lighting Six Light Bath Sconce/vanity - Brushed Nickel',\n",
       " \"Meguiar's Ultimate Quik Detailer 22-Oz.\",\n",
       " 'Ceiling Fan With Light White 14.2 X 29.9 X 9.2 - Hunter Fan',\n",
       " \"Stargate (ws) (ultimate Edition) (director's Cut) (dvdvideo)\",\n",
       " 'Dark Shadows (includes Digital Copy) (ultraviolet) (dvdvideo)',\n",
       " 'Vaseline Intensive Care Healthy Hands Stronger Nails',\n",
       " 'D-Con Mice Bait Station - 3ct',\n",
       " 'Tostitos Bite Size Tortilla Chips']"
      ]
     },
     "execution_count": 322,
     "metadata": {},
     "output_type": "execute_result"
    }
   ],
   "source": [
    "d = item_final_rating.loc['jumbalaya4793'].sort_values(ascending=False)[0:20]\n",
    "top_20_products = d.index.tolist()\n",
    "top_20_products"
   ]
  },
  {
   "cell_type": "code",
   "execution_count": 323,
   "id": "2ee10cba",
   "metadata": {},
   "outputs": [],
   "source": [
    "reviews_dict = {}\n",
    "for i in top_20_products:\n",
    "    idx_prod= train[train['name'] == i].index.tolist()\n",
    "    #idx_prod = sort(idx_prod).tolist()\n",
    "    reviews_vector = [reviews_tfidf[i] for i in idx_prod] \n",
    "    if(i not in reviews_dict):\n",
    "        reviews_dict[i] = reviews_vector\n",
    "    else:\n",
    "        reviews_dict[i].append(reviews_vector)"
   ]
  },
  {
   "cell_type": "markdown",
   "id": "fee9b34d",
   "metadata": {},
   "source": [
    "Now, we have a dictionary which is keyed with the top 20 reocmmended products to the user. Now we need to pass them through out model to get the sentiment predicted - "
   ]
  },
  {
   "cell_type": "code",
   "execution_count": 324,
   "id": "6e7c1144",
   "metadata": {},
   "outputs": [],
   "source": [
    "from functools import reduce\n",
    "\n",
    "sentiment_dict = {}\n",
    "\n",
    "for key,value in reviews_dict.items():\n",
    "    sentiment = [int(model.predict(i)) for i in value]\n",
    "    pos_sent = 100-((reduce(lambda x,y:x+y,sentiment)/len(sentiment))*100)\n",
    "    sentiment_dict[key] = pos_sent"
   ]
  },
  {
   "cell_type": "code",
   "execution_count": 325,
   "id": "91a000ef",
   "metadata": {},
   "outputs": [
    {
     "data": {
      "text/plain": [
       "[\"Various - Country's Greatest Gospel:Gold Ed (cd)\",\n",
       " 'Cococare 100% Natural Castor Oil',\n",
       " \"Chips Deluxe Soft 'n Chewy Cookies\",\n",
       " 'Lynk Professional174 Pull Out Cutting Board Bakeware Sliding Cabinet Organizer',\n",
       " \"Meguiar's Ultimate Quik Detailer 22-Oz.\"]"
      ]
     },
     "execution_count": 325,
     "metadata": {},
     "output_type": "execute_result"
    }
   ],
   "source": [
    "top_5 = [key for key,value in sorted(sentiment_dict.items(), key = lambda x:x[1], reverse=True)[:5]]\n",
    "top_5"
   ]
  },
  {
   "cell_type": "code",
   "execution_count": 284,
   "id": "6bcb92cb",
   "metadata": {},
   "outputs": [
    {
     "data": {
      "text/plain": [
       "['cdf2good1',\n",
       " 'lxn19',\n",
       " 'afwifey2003',\n",
       " 'monica13',\n",
       " 'lizzerly',\n",
       " 'joshua',\n",
       " 'tyl3rm',\n",
       " 'carbon3986',\n",
       " 'kelemental',\n",
       " 'kass12',\n",
       " 'torils',\n",
       " 'mrbassman',\n",
       " 'buckster',\n",
       " 'blackeyeddq',\n",
       " 'cisco',\n",
       " 'citymoon25',\n",
       " 'patches',\n",
       " 'mamasly',\n",
       " 'missmo',\n",
       " 'brianm44',\n",
       " 'daisymae19',\n",
       " 'jake the no-longer-cluttered',\n",
       " 'jak14',\n",
       " 'erika303',\n",
       " 'kchey',\n",
       " 'hollystaff',\n",
       " 'rsmith',\n",
       " 'juliog55',\n",
       " 'dragon5worn',\n",
       " 'carlitta',\n",
       " 'jessixoxo89',\n",
       " 'becca',\n",
       " 'jumbalaya4793',\n",
       " 'tania13',\n",
       " 'david',\n",
       " 'dora',\n",
       " 'udoindesert',\n",
       " 'bymeg',\n",
       " 'onderhalis',\n",
       " 'ernie',\n",
       " 'clean1',\n",
       " 'donnamomma',\n",
       " 'loralyn',\n",
       " 'rysmommy18',\n",
       " 'tetzlaffanne',\n",
       " 'samporena19',\n",
       " 'chowdoodle',\n",
       " 'dee0581',\n",
       " 'mommalissa24',\n",
       " 'mystix13',\n",
       " 'meeze',\n",
       " 'elle',\n",
       " 'mellomommy',\n",
       " 'annoymous',\n",
       " 'frequent',\n",
       " 'happylife4me',\n",
       " 'byhappy reviewer',\n",
       " 'leigh',\n",
       " 'barra2',\n",
       " 'faline',\n",
       " 'zpalma',\n",
       " 'pattiam',\n",
       " 'lebozo',\n",
       " 'plogue1',\n",
       " 'nviers',\n",
       " 'boysmom',\n",
       " 'cookie',\n",
       " 'femestapo',\n",
       " 'hongt321',\n",
       " 'kappaman2',\n",
       " 'bybarry tegeler',\n",
       " 'arcadian',\n",
       " 'pistol',\n",
       " 'bigboss00',\n",
       " 'dinosaurunicorn5654321',\n",
       " 'jordanhsr',\n",
       " 'ksuwyldcat',\n",
       " 'nlchap',\n",
       " 'mykaralove',\n",
       " 'yourmom',\n",
       " 'reedenise',\n",
       " 'junior',\n",
       " 'captncare',\n",
       " 'alexis',\n",
       " 'angjas',\n",
       " 'pervianmom',\n",
       " 'dunerunner007',\n",
       " 'lidflipper',\n",
       " 'megananna3',\n",
       " 'melissa81',\n",
       " 'lynnette',\n",
       " 'romeo',\n",
       " 'helen77',\n",
       " 'momto2men',\n",
       " 'sadie',\n",
       " 'mofan',\n",
       " 'jdiesel2014',\n",
       " 'lynnk',\n",
       " 'christal',\n",
       " 'cdguerrero',\n",
       " 'holly',\n",
       " 'jalldred',\n",
       " 'tweetyanne',\n",
       " 'cahira',\n",
       " 'bahharsmom',\n",
       " 'rvhurley',\n",
       " 'suzi',\n",
       " 'rwh',\n",
       " 'jennyhk10',\n",
       " 'ajandjen',\n",
       " 'watson28',\n",
       " 'dave',\n",
       " 'curlyd',\n",
       " 'gin96',\n",
       " 'dcpraise',\n",
       " 'pcl27',\n",
       " 'excited',\n",
       " 'ssharp51209',\n",
       " 'granny',\n",
       " 'bybayareakirk',\n",
       " 'disney346',\n",
       " 'selenesiboney',\n",
       " 'lena316',\n",
       " 'coshopper',\n",
       " 'zookeeper',\n",
       " 'bdg1',\n",
       " 'mals43',\n",
       " 'cindyt',\n",
       " 'hazard5679',\n",
       " 'tallmama83',\n",
       " 'ccalder',\n",
       " 'jb1200',\n",
       " 'clarec',\n",
       " 'trishco',\n",
       " 'renee',\n",
       " 'laura',\n",
       " 'jbnfmly',\n",
       " 'jm0796',\n",
       " 'djphatweb1',\n",
       " 'jojoluvzearth',\n",
       " 'tmartin00',\n",
       " \"i'd rather be at the beach\",\n",
       " 'momwith3boys',\n",
       " 'lisasmith1',\n",
       " 'jerue',\n",
       " 'rjw1',\n",
       " 'mel99',\n",
       " 'kt',\n",
       " 'rock2384',\n",
       " 'chem4225',\n",
       " 'aj1135',\n",
       " 'shayyy',\n",
       " 'korrythatsme',\n",
       " 'panch80',\n",
       " 'smdobb',\n",
       " 'delvintweezy',\n",
       " 'hilda113',\n",
       " 'mcfly',\n",
       " 'nicolle',\n",
       " 'shopsalot505',\n",
       " 'director1',\n",
       " 'micky123',\n",
       " 'rosagoldie12',\n",
       " 'rojo27',\n",
       " 'bluedevils99',\n",
       " 'chrispy21',\n",
       " 'bigfoote260',\n",
       " 'jmamea',\n",
       " 'frankyboy',\n",
       " 'bbtre80',\n",
       " 'najie',\n",
       " 'xnrcr3',\n",
       " 'mts1',\n",
       " 'kemosobe',\n",
       " 'msd2u',\n",
       " 'dokm1',\n",
       " 'mskj',\n",
       " 'cooka05',\n",
       " 'bugbugsmom',\n",
       " 'dougr',\n",
       " 'stilesmg',\n",
       " 'jdwarren13',\n",
       " 'uggh1',\n",
       " 'stormy',\n",
       " 'pazmaniadevil',\n",
       " 'neurotically in order',\n",
       " 'mylifeinheels',\n",
       " 'wendy65',\n",
       " 'auntrobbie',\n",
       " 'kaa1276',\n",
       " 'zanzan73',\n",
       " 'kscowboy',\n",
       " 'afilii',\n",
       " 'ladi',\n",
       " 'couponmama',\n",
       " 'stephanie8810',\n",
       " 'bcg10713',\n",
       " 'jesse',\n",
       " 'butterpup',\n",
       " 'kitty kat',\n",
       " 'angels',\n",
       " 'daffie53',\n",
       " 'b8434',\n",
       " 'robby',\n",
       " 'purplestarre',\n",
       " 'tiff12',\n",
       " 'texasmama',\n",
       " 'godden55',\n",
       " 'sandi',\n",
       " 'bbsetser',\n",
       " 'mealsinmaine',\n",
       " 'spont',\n",
       " 'momof3',\n",
       " 'gb',\n",
       " 'civilchick',\n",
       " 'pineislandrunner',\n",
       " 'cleodmaster',\n",
       " 'montanamama',\n",
       " 'disappointedmom',\n",
       " 'mary',\n",
       " 'cindyrae',\n",
       " 'eddie',\n",
       " 'wizard',\n",
       " 'siuling',\n",
       " 'mommys06',\n",
       " 'mamaduke',\n",
       " 'dogbreath421',\n",
       " 'queeine',\n",
       " 'mrsss',\n",
       " 'ecyoung105',\n",
       " 'kendy',\n",
       " 'chasity',\n",
       " 'jimvil',\n",
       " 'georgew',\n",
       " 'tami',\n",
       " 'stioneysilence',\n",
       " 'jans',\n",
       " 'rnfrmc',\n",
       " 'stefanie2312',\n",
       " 'mxitup',\n",
       " 'kayg',\n",
       " 'writerstone',\n",
       " 'mplunk17',\n",
       " 'melissa1980h',\n",
       " 'palerider',\n",
       " 'heather83752',\n",
       " 'wildman',\n",
       " 'gw22',\n",
       " 'sara83',\n",
       " 'victoria burke',\n",
       " 'mj123',\n",
       " 'jessicadrury81',\n",
       " 'vickie',\n",
       " 'mo73',\n",
       " 'jenz',\n",
       " 'sunshan',\n",
       " 'mlkasbell',\n",
       " 'bpatel234',\n",
       " 'duenas10',\n",
       " 'mamashel',\n",
       " 'yayawomack',\n",
       " 'twpm',\n",
       " 'mgsfan',\n",
       " 'sterlingrose13',\n",
       " 'kathryn',\n",
       " 'dallas853',\n",
       " 'meluc',\n",
       " 'mhsswimmer',\n",
       " 'taylor',\n",
       " 'queena',\n",
       " 'jean',\n",
       " 'lola2014',\n",
       " 'jeanne',\n",
       " 'bigdogwood',\n",
       " 'mudge',\n",
       " 'tree14',\n",
       " 'laura52',\n",
       " 'jwhgsh',\n",
       " 'green413',\n",
       " 'norbey',\n",
       " 'jackie74',\n",
       " 'busymommessykids',\n",
       " 'nothanks',\n",
       " 'kate83',\n",
       " 'momoftheboys',\n",
       " 'bygwen',\n",
       " 'shina56',\n",
       " 'billie80',\n",
       " 'hunter',\n",
       " 'jamnet',\n",
       " 'bitstream',\n",
       " 'wonderralph',\n",
       " 'ela55',\n",
       " 'memmenn',\n",
       " 'aria',\n",
       " 'grandma9395',\n",
       " 'mike13131313',\n",
       " 'dede7',\n",
       " 'billpr',\n",
       " 'shoppingsue',\n",
       " 'chrissymc1972',\n",
       " 'hernan',\n",
       " 'gamer1969',\n",
       " 'mike',\n",
       " 'kerbear123',\n",
       " 'miatamumzi',\n",
       " 'neuroticbard',\n",
       " 'fredette',\n",
       " 'kristink',\n",
       " 'crissy84',\n",
       " 'cocoacrazy',\n",
       " 'guy 2',\n",
       " 'captian',\n",
       " 'lamb',\n",
       " 'jbroz23',\n",
       " 'leshab',\n",
       " 'giggles',\n",
       " 'nickynaomi',\n",
       " 'houndsy',\n",
       " 'galaxymann',\n",
       " 'wigs88',\n",
       " '7rick',\n",
       " 'fenman',\n",
       " 'laneyjo',\n",
       " 'amash1971',\n",
       " 'nursexochitl',\n",
       " 'drewmolly',\n",
       " 'nan233',\n",
       " 'mnl82',\n",
       " 'honeybeesue',\n",
       " 'krotz03',\n",
       " 'happynurse23',\n",
       " 'blondekathyh',\n",
       " 'sjackson',\n",
       " 'kathyb',\n",
       " 'anne3',\n",
       " 'arwen',\n",
       " 'memo',\n",
       " 'thequeen',\n",
       " 'kitkatallycat',\n",
       " 'tootsie23',\n",
       " 'laurel',\n",
       " 'santanuh',\n",
       " 'jonesy1',\n",
       " 'alatariel',\n",
       " 'doxilady',\n",
       " 'enkelix',\n",
       " 'katrick',\n",
       " 'amazing',\n",
       " 'theresah',\n",
       " 'lizlc',\n",
       " 'rachie0814',\n",
       " 'brandon',\n",
       " 'mike01',\n",
       " 'ms. many meds',\n",
       " 'doum',\n",
       " 'sis1965',\n",
       " 'anon',\n",
       " 'livinginbeauty',\n",
       " 'kel72',\n",
       " 'momaz',\n",
       " 'js13',\n",
       " 'savvy4six',\n",
       " 'nonjen',\n",
       " 'cloroxinva',\n",
       " 'dontdodat',\n",
       " 'prophilth',\n",
       " '143st',\n",
       " 'debbie37',\n",
       " 'sarahkay1',\n",
       " 'larvili',\n",
       " 'darleneb',\n",
       " 'chelle30',\n",
       " 'shear12',\n",
       " 'zaibo',\n",
       " 'karenh4',\n",
       " 'dps05',\n",
       " 'shimpmomof2',\n",
       " 'jenniferpratt03',\n",
       " 'geeisme',\n",
       " 'luckydee102',\n",
       " 'vicki',\n",
       " 'mekus31',\n",
       " 'casper822',\n",
       " 'cleaningmaster7',\n",
       " 'strutta',\n",
       " 'treesmith',\n",
       " 'oliove',\n",
       " 'catcat',\n",
       " 'steph2a2222',\n",
       " 'seasick',\n",
       " 'mnd711',\n",
       " 'meldawn42',\n",
       " 'jcurry',\n",
       " 'scottytohotty',\n",
       " 'tony',\n",
       " 'rachael626',\n",
       " 'shermonaa',\n",
       " 'sargeret',\n",
       " 'sandra1234',\n",
       " 'indygeek',\n",
       " 'barbara8758',\n",
       " 'bchinery',\n",
       " 'mandy12698',\n",
       " 'bigbill',\n",
       " 'mandalynn1978',\n",
       " 'pdank',\n",
       " 'heatherhuff',\n",
       " 'majiceyes',\n",
       " 'mamacitaof4',\n",
       " 'cmr484',\n",
       " 'brandy33',\n",
       " 'lostfan815',\n",
       " 'bailee',\n",
       " 'valentinebarrera',\n",
       " 'kla2002',\n",
       " 'iridescent',\n",
       " 'jennifers',\n",
       " 'cheche',\n",
       " 'ship',\n",
       " 'lori40',\n",
       " 'peaches59',\n",
       " 'jayl',\n",
       " 'mich2000',\n",
       " 'barcdd',\n",
       " 'tara85',\n",
       " 'brod1979',\n",
       " 'mdwood',\n",
       " 'juls3',\n",
       " 'timberwolf753',\n",
       " 'tsmalls',\n",
       " 'st3ph8nie79',\n",
       " 'jmz1',\n",
       " 'germfinder',\n",
       " 'brook',\n",
       " 'staceyrocks',\n",
       " 'typist',\n",
       " 'preciousmickeyfan',\n",
       " 'megshair',\n",
       " 'vette',\n",
       " 'chancesolo',\n",
       " 'mspirate',\n",
       " 'gill',\n",
       " 'teej',\n",
       " 'libby87',\n",
       " 'keebler',\n",
       " 'hogleg4us',\n",
       " 'rick',\n",
       " 'oregon',\n",
       " 'hutch69',\n",
       " 'tylermcd',\n",
       " 'cbetty3',\n",
       " 'ukaudiman',\n",
       " 'oldman',\n",
       " 'khaight',\n",
       " 'dg45boom',\n",
       " 'northeagle',\n",
       " 'monny1196',\n",
       " 'byagent provocateur',\n",
       " 'bhemp',\n",
       " 'loki33',\n",
       " 'ca619',\n",
       " 'littlesunshine',\n",
       " 'suzyq',\n",
       " 'reneeashie218',\n",
       " 'lovmypets',\n",
       " 'elway82',\n",
       " 'moviefan55',\n",
       " 'bethlenihan',\n",
       " 'thecleaner01',\n",
       " 'katme',\n",
       " 'stillfa11in',\n",
       " 'acurbrider',\n",
       " 'princessduncan8',\n",
       " 'jel08',\n",
       " 'jhl03',\n",
       " 'thous5',\n",
       " 'carpenter06',\n",
       " 'nursedenise',\n",
       " 'suzanne40',\n",
       " 'prjelly',\n",
       " 'danniegirl',\n",
       " 'sj95123',\n",
       " 'pickyshopper',\n",
       " 'bykate',\n",
       " 'inanoodlehead',\n",
       " 'kima79',\n",
       " 'byduncan',\n",
       " 'angel1',\n",
       " 'jennie_dc',\n",
       " 'grayram',\n",
       " 'sunnie26',\n",
       " 'lovincloroxx',\n",
       " 'smart45',\n",
       " 'ralphy',\n",
       " 'cole',\n",
       " 'mackdepp',\n",
       " 'greatoned',\n",
       " 'klew',\n",
       " 'jmcdaniel',\n",
       " 'johnathanlaw',\n",
       " 'vanilla',\n",
       " 'davepennsylvania',\n",
       " 'mills21',\n",
       " 'russ',\n",
       " 'jknghi',\n",
       " 'gapeach21',\n",
       " 'baldy',\n",
       " 'phoebster',\n",
       " 'tilda',\n",
       " 'cabotafart',\n",
       " 'ladyhsb',\n",
       " 'noel407',\n",
       " 'kavkiwi',\n",
       " 'aryalynn',\n",
       " 'mvrisolcruz',\n",
       " 'gemini',\n",
       " 'kik1202',\n",
       " 'peaches12',\n",
       " 'phyl1',\n",
       " 'jsuz1',\n",
       " 'firewifekile',\n",
       " 'tedd',\n",
       " 'bubs',\n",
       " 'lynnbunny',\n",
       " 'bonnieo',\n",
       " 'lpritchard',\n",
       " 'saramp',\n",
       " 'spartytx1994',\n",
       " 'mamamiishii',\n",
       " 'cindy',\n",
       " 'angel',\n",
       " 'mdl07',\n",
       " 'maximus',\n",
       " 'nancyems',\n",
       " 'frymaster',\n",
       " 'mymy',\n",
       " 'mija',\n",
       " 'anitam',\n",
       " 'hdh3',\n",
       " 'ladyboivin',\n",
       " 'carmie',\n",
       " 'shell',\n",
       " 'sawdog',\n",
       " 'hugget',\n",
       " 'lb17',\n",
       " 'ace24',\n",
       " 'bynearchaos',\n",
       " 'aktar',\n",
       " 'eliz3',\n",
       " 'voltagirl',\n",
       " 'rollinhillsfarm',\n",
       " 'tawr',\n",
       " 'jeff',\n",
       " 'clutch',\n",
       " 'nmal',\n",
       " 'mk101',\n",
       " 'netter',\n",
       " 'bigdog',\n",
       " 'cfogle',\n",
       " 'anonymous1',\n",
       " 'nickster5',\n",
       " 'bbmom',\n",
       " 'senia',\n",
       " 'inglockman',\n",
       " 'karlakaybee',\n",
       " 'gundamgreg',\n",
       " 'coffehead',\n",
       " 'goodslooker',\n",
       " 'charvey',\n",
       " 'review1',\n",
       " 'pacersfan',\n",
       " 'jessp77',\n",
       " 'kole',\n",
       " 'solstice53',\n",
       " 'esgrear',\n",
       " 'bmuf',\n",
       " 'jjjj',\n",
       " 'mchea',\n",
       " 'rileysmommy4',\n",
       " 'celeste',\n",
       " 'jen0922',\n",
       " 'whodoc17',\n",
       " 'stevieboy23',\n",
       " 'byseongmin lim',\n",
       " 'nancys',\n",
       " 'jerseygirl',\n",
       " 'thomas',\n",
       " 'bubsy',\n",
       " 'kate',\n",
       " 'bls27',\n",
       " 'roba',\n",
       " 'beepthecat',\n",
       " 'larry',\n",
       " 'nismospeeddemon',\n",
       " 'mandre86',\n",
       " 'tisha',\n",
       " 'fingertips1',\n",
       " 'starsxscars',\n",
       " 'judith',\n",
       " 'jgrayland',\n",
       " 'kmskms',\n",
       " 'smily',\n",
       " 'honeysuckle',\n",
       " 'meticulous20',\n",
       " 'bereft',\n",
       " 'kourt26',\n",
       " 'cate nicole',\n",
       " 'sweetwater1856',\n",
       " 'lenhomes',\n",
       " 'alex',\n",
       " '2forhokies',\n",
       " 'bym j.',\n",
       " 'mando',\n",
       " 'penguinz',\n",
       " 'maseawee',\n",
       " 'rachpharr',\n",
       " 'lizzie',\n",
       " 'evansmommy',\n",
       " 'straight4ward',\n",
       " 'donna101',\n",
       " 'mlehto',\n",
       " 'usedtobeabeachboy',\n",
       " 'murphyblair1031',\n",
       " 'mayley',\n",
       " 'supermom28',\n",
       " 'cyndi',\n",
       " 'modracer',\n",
       " 'picturesorelse',\n",
       " 'horatio99',\n",
       " 'nexxus customer',\n",
       " 'floridahumidity',\n",
       " 'bignick',\n",
       " 'darcy',\n",
       " 'abrildiez',\n",
       " 'cuevas305',\n",
       " 'shannon82',\n",
       " 'gberggie',\n",
       " 'gamerguy',\n",
       " 'lisambam',\n",
       " 'hughmungus',\n",
       " 'ncharles2011',\n",
       " 'babish',\n",
       " 'squeakone',\n",
       " 'tarpman',\n",
       " 'islandgirl',\n",
       " 'natty',\n",
       " 'mariandesigns',\n",
       " 'byjadu',\n",
       " 'redredrhine',\n",
       " 'ash23',\n",
       " 'loribarb',\n",
       " 'steph65',\n",
       " 'coolwizkid',\n",
       " 'mommasith',\n",
       " 'tjzmom',\n",
       " 'jjh852',\n",
       " 'secretary girl',\n",
       " 'kaminari',\n",
       " 'markh507',\n",
       " 'stephanie1219',\n",
       " 'whatupayiswhatuget',\n",
       " 'julie55987',\n",
       " 'hartttremmel',\n",
       " 'messiest',\n",
       " 'brdyr',\n",
       " 'rosie04',\n",
       " 'toes',\n",
       " 'droidguy',\n",
       " 'medicinemangt1',\n",
       " 'roboca',\n",
       " 'farmgirl',\n",
       " 'lpowers77',\n",
       " 'chattski',\n",
       " 'mahshelly1',\n",
       " 'dre4',\n",
       " 'katzm0m',\n",
       " 'unicorn351',\n",
       " 'dmommy',\n",
       " 'longswimmer',\n",
       " 'nordicjules',\n",
       " 'mat623',\n",
       " 'mkw1965',\n",
       " 'alboal',\n",
       " 'bymia',\n",
       " 'steviebl',\n",
       " 'l1v3l1f3',\n",
       " 'jufy',\n",
       " 'micki',\n",
       " 'avantgardenia',\n",
       " 'dawn59',\n",
       " 'rubynew',\n",
       " 'pbl1',\n",
       " 'kimmiejonesin',\n",
       " 'elizaraeb',\n",
       " 'serenes',\n",
       " 'indydar',\n",
       " 'rosielaughs08',\n",
       " 'pchkk',\n",
       " 'visilor',\n",
       " 'peteysmom',\n",
       " 'leelee1016',\n",
       " 'jlm75',\n",
       " 'hikotheimer',\n",
       " 'disappointed',\n",
       " '06stidriver',\n",
       " 'stacey',\n",
       " 'baby302',\n",
       " 'domanick',\n",
       " 'missl',\n",
       " 'tabitha attfield',\n",
       " 'jmhdz44',\n",
       " 'mrswells',\n",
       " 'blueax',\n",
       " 'heidicody',\n",
       " 'sophie123',\n",
       " 'ryan',\n",
       " '66cutie',\n",
       " 'ninenout2002',\n",
       " 'momofbestkids',\n",
       " 'bycaw',\n",
       " 'mizchiz18',\n",
       " 'd12g',\n",
       " 'moni',\n",
       " 'carol',\n",
       " 'bygypsy healer',\n",
       " 'linmom',\n",
       " 'falog',\n",
       " 'smurfzilla14',\n",
       " 'mrsw',\n",
       " 'elka',\n",
       " 'annie poo',\n",
       " 'kaynel',\n",
       " 'tvd984',\n",
       " 'marcies',\n",
       " 'asaump',\n",
       " 'kcl624',\n",
       " 'cook',\n",
       " 'bykenneth c. reed',\n",
       " 'ozzy33',\n",
       " 'customer143',\n",
       " 'helenamarie',\n",
       " 'abbs77',\n",
       " 'sparda626',\n",
       " 'sherdbachchi',\n",
       " 'leslie316',\n",
       " 'mario',\n",
       " 'jboogie212',\n",
       " 'stepherst',\n",
       " 'macgregor331',\n",
       " 'artfulhousewife',\n",
       " 'lina',\n",
       " 'multip',\n",
       " 'sadsadasd',\n",
       " 'jj',\n",
       " 'stolenheron',\n",
       " 'tracya',\n",
       " 'jwill14',\n",
       " 'randy',\n",
       " 'bachtone',\n",
       " 'carolinwonderland',\n",
       " 'bestgirl',\n",
       " 'jojo831',\n",
       " 'ctkc',\n",
       " 'acdd',\n",
       " 'satisfiedblackman',\n",
       " 'dale',\n",
       " 'willy',\n",
       " 'isabel6',\n",
       " 'delo60',\n",
       " 'billierose',\n",
       " 'jaesenior1',\n",
       " 'amar007',\n",
       " 'redandblack',\n",
       " 'angc',\n",
       " 'ald80',\n",
       " 'amandaf0711',\n",
       " 'greinig',\n",
       " 'allison123',\n",
       " 'spec',\n",
       " 'babygirl3',\n",
       " 'lizetth',\n",
       " 'newmomjan10',\n",
       " 'sliderman',\n",
       " 'gramma22',\n",
       " 'jessi12',\n",
       " 'mitcha18',\n",
       " 'nryooooo',\n",
       " 'sassysullivan',\n",
       " 'nikki2',\n",
       " 'thom',\n",
       " 'juliet',\n",
       " 'fanable',\n",
       " 'aaronlab',\n",
       " 'kyla416',\n",
       " 'zombiejess',\n",
       " 'lgrove',\n",
       " 'lolagurl',\n",
       " 'daveb',\n",
       " 'dopeysa',\n",
       " 'cleaningmom1',\n",
       " 'jenn35',\n",
       " 'matt',\n",
       " 'liz57',\n",
       " 'savantinsd',\n",
       " 'katluvsmakeup',\n",
       " 'madmike',\n",
       " 'mecullin',\n",
       " 'mchazelett',\n",
       " 'dijo',\n",
       " 'bs5150206',\n",
       " 'jonnycage',\n",
       " 'sherryc67',\n",
       " 'gio07',\n",
       " 'katshane09',\n",
       " 'maygab',\n",
       " 'lvgolf',\n",
       " 'kaliea56',\n",
       " 'moviebuffguy13',\n",
       " 'tina66',\n",
       " 'poeticwraith9',\n",
       " 'ah87',\n",
       " 'mirafone',\n",
       " 'lwoods',\n",
       " 'ahelke',\n",
       " 'rdwhit1',\n",
       " 'hfred23',\n",
       " 'kostoff',\n",
       " 'chelle103',\n",
       " 'gadams310',\n",
       " 'mel41',\n",
       " 'ashleyd352',\n",
       " 'ronda',\n",
       " 'nathan',\n",
       " 'hazel',\n",
       " 'mccormickjr',\n",
       " 'hennypen',\n",
       " 'cindy1953',\n",
       " 'ladydi520',\n",
       " 'angelhop',\n",
       " 'machupicchu',\n",
       " 'gpls',\n",
       " 'shejams',\n",
       " 'cookie0258',\n",
       " 'lumpkin',\n",
       " 'ehannah',\n",
       " 'chapiz96',\n",
       " 'brick',\n",
       " 'bambam',\n",
       " 'byanon',\n",
       " 'heehaw',\n",
       " 'ororomunroe',\n",
       " 'saddened',\n",
       " 'fall',\n",
       " 'joyray',\n",
       " 'buddah',\n",
       " 'yosh',\n",
       " 'melbmo',\n",
       " 'semiretired',\n",
       " 'smurrey',\n",
       " 'onceuponatime14',\n",
       " 'sueeff',\n",
       " 'mmpp',\n",
       " 'murbani',\n",
       " 'grimms',\n",
       " 'hubcap',\n",
       " 'vpimentel69',\n",
       " 'amberinco',\n",
       " 'joanngr22',\n",
       " 'bydulzon',\n",
       " 'violetc456',\n",
       " 'tbake',\n",
       " 'jpeace',\n",
       " 'alix p',\n",
       " 'byb. davis',\n",
       " 'raul',\n",
       " 'byam hecht',\n",
       " 'maretta',\n",
       " 'chels',\n",
       " 'hickie',\n",
       " 'dvdfan',\n",
       " 'naturalcurls',\n",
       " 'byearthmama',\n",
       " 'mamabearofone',\n",
       " 'explorber',\n",
       " 'svc',\n",
       " 'marktrimarc',\n",
       " 'aechking',\n",
       " 'sarah1321',\n",
       " 'mickey213',\n",
       " 'bybig sarge',\n",
       " 'tamcam66',\n",
       " 'welcome',\n",
       " 'omar2688',\n",
       " 'juliamour',\n",
       " 'student2015',\n",
       " 'kaec',\n",
       " 'dallasdude',\n",
       " 'harley',\n",
       " 'punk',\n",
       " 'mlerew',\n",
       " 'tp78',\n",
       " 'ki08',\n",
       " 'walshopper',\n",
       " 'letty75',\n",
       " 'sharonc',\n",
       " 'misskay',\n",
       " 'susiesu',\n",
       " 'catlady',\n",
       " 'rosie3345',\n",
       " 'byamazon customer',\n",
       " 'jebbica',\n",
       " 'baliles12',\n",
       " 'shosho',\n",
       " 'srdendy',\n",
       " 'royalchief',\n",
       " 'mrsprather16',\n",
       " 'immune77',\n",
       " 'erikuhhhh',\n",
       " 'sarahg',\n",
       " 'marebear',\n",
       " 'sydney2',\n",
       " 'mlr1',\n",
       " 'mamakeysh',\n",
       " 'ramon',\n",
       " 'lljj',\n",
       " 'waikayemm',\n",
       " '3boys2turtles5chicks',\n",
       " 'xray',\n",
       " 'mes510',\n",
       " 'jennswing',\n",
       " 'the road warrior',\n",
       " 'tech1138',\n",
       " 'erint',\n",
       " 'sharpvet',\n",
       " 'jend5',\n",
       " 'crazycricket',\n",
       " 'jnorthup08',\n",
       " 'pam36',\n",
       " 'sharona 81',\n",
       " 'rlal0511',\n",
       " 'raven1001',\n",
       " 'debc',\n",
       " 'momofcolin',\n",
       " 'jokergirrl',\n",
       " 'mirvic75',\n",
       " 'millhouse24',\n",
       " 'twotwo',\n",
       " 'nonickname',\n",
       " 'momo22222',\n",
       " 'scotsladdie',\n",
       " 'jh2333',\n",
       " 'arlene the office manager',\n",
       " 'babcia',\n",
       " 'mh the pta mom',\n",
       " 'juny',\n",
       " 'shppinglabrat',\n",
       " 'joemv',\n",
       " 'simplereview',\n",
       " 'busymom',\n",
       " 'bym.d.',\n",
       " 'anayajhene',\n",
       " 'lwstgreen',\n",
       " 'breana',\n",
       " 'gacouponmom',\n",
       " 'macacheese',\n",
       " 'nance',\n",
       " 'nikkih001',\n",
       " 'fanofmovie',\n",
       " 'matty',\n",
       " 'kitkatshu16',\n",
       " 'marsh49',\n",
       " 'lump',\n",
       " 'mars4566',\n",
       " 'stew5ca',\n",
       " 'sandy l',\n",
       " 'beargirl',\n",
       " 'renkev',\n",
       " 'angie0104',\n",
       " 'ishhh',\n",
       " 'frank785',\n",
       " 'gracie poo',\n",
       " 'kayla555',\n",
       " 'journey',\n",
       " 'sherrim',\n",
       " 'coffeedeb',\n",
       " 'pinkdiamondvw',\n",
       " 'jin23',\n",
       " 'tadpole',\n",
       " 'kyle',\n",
       " 'lvnv',\n",
       " 'cierra',\n",
       " 'jo276',\n",
       " 'russ55',\n",
       " 'hollyz143',\n",
       " 'steffisue',\n",
       " 'laurenp',\n",
       " 'harleychick',\n",
       " 'carlos',\n",
       " 'byhardcore gamer',\n",
       " ...]"
      ]
     },
     "execution_count": 284,
     "metadata": {},
     "output_type": "execute_result"
    }
   ],
   "source": [
    "users = list(train['reviews_username'].unique())\n",
    "users"
   ]
  },
  {
   "cell_type": "code",
   "execution_count": 313,
   "id": "446e1bc8",
   "metadata": {},
   "outputs": [],
   "source": [
    "# for j in users:\n",
    "#     d = item_final_rating.loc[j].sort_values(ascending=False)[0:20]\n",
    "#     top_20_products = d.index.tolist()\n",
    "    \n",
    "#     reviews_dict = {}\n",
    "#     for i in top_20_products:\n",
    "#         idx_prod= train[train['name'] == i].index.tolist()\n",
    "#         idx_prod = sort(idx_prod).tolist()\n",
    "#         reviews_vector = [reviews_tfidf[i] for i in idx_prod] \n",
    "#         if(i not in reviews_dict):\n",
    "#             reviews_dict[i] = reviews_vector\n",
    "#         else:\n",
    "#             reviews_dict[i].append(reviews_vector)\n",
    "    \n",
    "#     sentiment_dict = {}\n",
    "#     for key,value in reviews_dict.items():\n",
    "#         sentiment = [int(model.predict(i)) for i in value]\n",
    "#         pos_sent = 100-((reduce(lambda x,y:x+y,sentiment)/len(sentiment))*100)\n",
    "#         sentiment_dict[key] = pos_sent\n",
    "    \n",
    "#     top_5 = [key for key,value in sorted(sentiment_dict.items(), key = lambda x:x[1], reverse=True)[:5]]\n",
    "#     print(\"top 5 products for user \",j)\n",
    "#     print(top_5)\n",
    "#     print(\"\")\n",
    "    \n",
    "    "
   ]
  },
  {
   "cell_type": "code",
   "execution_count": null,
   "id": "cd17a069",
   "metadata": {},
   "outputs": [],
   "source": []
  },
  {
   "cell_type": "code",
   "execution_count": null,
   "id": "8305e446",
   "metadata": {},
   "outputs": [],
   "source": []
  }
 ],
 "metadata": {
  "kernelspec": {
   "display_name": "Python 3",
   "language": "python",
   "name": "python3"
  },
  "language_info": {
   "codemirror_mode": {
    "name": "ipython",
    "version": 3
   },
   "file_extension": ".py",
   "mimetype": "text/x-python",
   "name": "python",
   "nbconvert_exporter": "python",
   "pygments_lexer": "ipython3",
   "version": "3.8.8"
  }
 },
 "nbformat": 4,
 "nbformat_minor": 5
}
