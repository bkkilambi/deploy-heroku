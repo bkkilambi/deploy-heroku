{
 "cells": [
  {
   "cell_type": "code",
   "execution_count": 52,
   "id": "f01eee49",
   "metadata": {},
   "outputs": [],
   "source": [
    "#Import all libraries\n",
    "\n",
    "import pandas as pd\n",
    "import numpy as np\n",
    "import chardet\n",
    "import seaborn as sns\n",
    "import matplotlib.pyplot as plt\n",
    "import re\n",
    "from nltk.tokenize import word_tokenize\n",
    "from nltk.corpus import stopwords\n",
    "from sklearn.feature_extraction.text import CountVectorizer\n",
    "from nltk.stem.porter import PorterStemmer\n",
    "from nltk.stem import WordNetLemmatizer\n",
    "from autocorrect import Speller\n",
    "\n",
    "from sklearn.model_selection import train_test_split,RepeatedStratifiedKFold,StratifiedKFold, GridSearchCV\n",
    "from sklearn.ensemble import RandomForestClassifier\n",
    "from sklearn.feature_extraction.text import TfidfVectorizer\n",
    "from sklearn.metrics import accuracy_score, confusion_matrix, precision_recall_curve, classification_report, roc_auc_score\n",
    "\n",
    "from sklearn.pipeline import Pipeline\n",
    "from sklearn.decomposition import PCA\n",
    "from sklearn.preprocessing import StandardScaler\n",
    "from sklearn.pipeline import FeatureUnion\n",
    "from sklearn.base import BaseEstimator, TransformerMixin\n",
    "from sklearn.linear_model import LogisticRegression\n",
    "from sklearn.model_selection import cross_val_score\n",
    "from sklearn.ensemble import RandomForestClassifier\n",
    "from sklearn.ensemble import GradientBoostingClassifier\n",
    "\n",
    "from sklearn.metrics.pairwise import pairwise_distances\n",
    "\n",
    "import xgboost as xgb\n",
    "from xgboost import XGBClassifier\n",
    "from xgboost import plot_importance\n",
    "\n",
    "import joblib\n"
   ]
  },
  {
   "cell_type": "markdown",
   "id": "91d5323c",
   "metadata": {},
   "source": [
    "## Loading of data"
   ]
  },
  {
   "cell_type": "code",
   "execution_count": 53,
   "id": "cdcfffe4",
   "metadata": {},
   "outputs": [],
   "source": [
    "pd.set_option('display.max_colwidth', None)"
   ]
  },
  {
   "cell_type": "code",
   "execution_count": 54,
   "id": "aba22393",
   "metadata": {},
   "outputs": [],
   "source": [
    "ratings_orig = pd.read_csv('sample30.csv')\n",
    "#data_desc = pd.read_csv('Data+Attribute+Description.csv')"
   ]
  },
  {
   "cell_type": "markdown",
   "id": "03bb1ed8",
   "metadata": {},
   "source": [
    "## Data Cleaning"
   ]
  },
  {
   "cell_type": "code",
   "execution_count": 55,
   "id": "3727e0a8",
   "metadata": {},
   "outputs": [],
   "source": [
    "ratings = ratings_orig.copy()"
   ]
  },
  {
   "cell_type": "code",
   "execution_count": 56,
   "id": "beaa7911",
   "metadata": {},
   "outputs": [
    {
     "data": {
      "text/plain": [
       "(30000, 15)"
      ]
     },
     "execution_count": 56,
     "metadata": {},
     "output_type": "execute_result"
    }
   ],
   "source": [
    "ratings.shape"
   ]
  },
  {
   "cell_type": "code",
   "execution_count": 57,
   "id": "e32b595a",
   "metadata": {},
   "outputs": [
    {
     "data": {
      "text/html": [
       "<div>\n",
       "<style scoped>\n",
       "    .dataframe tbody tr th:only-of-type {\n",
       "        vertical-align: middle;\n",
       "    }\n",
       "\n",
       "    .dataframe tbody tr th {\n",
       "        vertical-align: top;\n",
       "    }\n",
       "\n",
       "    .dataframe thead th {\n",
       "        text-align: right;\n",
       "    }\n",
       "</style>\n",
       "<table border=\"1\" class=\"dataframe\">\n",
       "  <thead>\n",
       "    <tr style=\"text-align: right;\">\n",
       "      <th></th>\n",
       "      <th>id</th>\n",
       "      <th>brand</th>\n",
       "      <th>categories</th>\n",
       "      <th>manufacturer</th>\n",
       "      <th>name</th>\n",
       "      <th>reviews_date</th>\n",
       "      <th>reviews_didPurchase</th>\n",
       "      <th>reviews_doRecommend</th>\n",
       "      <th>reviews_rating</th>\n",
       "      <th>reviews_text</th>\n",
       "      <th>reviews_title</th>\n",
       "      <th>reviews_userCity</th>\n",
       "      <th>reviews_userProvince</th>\n",
       "      <th>reviews_username</th>\n",
       "      <th>user_sentiment</th>\n",
       "    </tr>\n",
       "  </thead>\n",
       "  <tbody>\n",
       "    <tr>\n",
       "      <th>0</th>\n",
       "      <td>AV13O1A8GV-KLJ3akUyj</td>\n",
       "      <td>Universal Music</td>\n",
       "      <td>Movies, Music &amp; Books,Music,R&amp;b,Movies &amp; TV,Movie Bundles &amp; Collections,CDs &amp; Vinyl,Rap &amp; Hip-Hop,Bass,Music on CD or Vinyl,Rap,Hip-Hop,Mainstream Rap,Pop Rap</td>\n",
       "      <td>Universal Music Group / Cash Money</td>\n",
       "      <td>Pink Friday: Roman Reloaded Re-Up (w/dvd)</td>\n",
       "      <td>2012-11-30T06:21:45.000Z</td>\n",
       "      <td>NaN</td>\n",
       "      <td>NaN</td>\n",
       "      <td>5</td>\n",
       "      <td>i love this album. it's very good. more to the hip hop side than her current pop sound.. SO HYPE! i listen to this everyday at the gym! i give it 5star rating all the way. her metaphors are just crazy.</td>\n",
       "      <td>Just Awesome</td>\n",
       "      <td>Los Angeles</td>\n",
       "      <td>NaN</td>\n",
       "      <td>joshua</td>\n",
       "      <td>Positive</td>\n",
       "    </tr>\n",
       "    <tr>\n",
       "      <th>1</th>\n",
       "      <td>AV14LG0R-jtxr-f38QfS</td>\n",
       "      <td>Lundberg</td>\n",
       "      <td>Food,Packaged Foods,Snacks,Crackers,Snacks, Cookies &amp; Chips,Rice Cakes,Cakes</td>\n",
       "      <td>Lundberg</td>\n",
       "      <td>Lundberg Organic Cinnamon Toast Rice Cakes</td>\n",
       "      <td>2017-07-09T00:00:00.000Z</td>\n",
       "      <td>True</td>\n",
       "      <td>NaN</td>\n",
       "      <td>5</td>\n",
       "      <td>Good flavor. This review was collected as part of a promotion.</td>\n",
       "      <td>Good</td>\n",
       "      <td>NaN</td>\n",
       "      <td>NaN</td>\n",
       "      <td>dorothy w</td>\n",
       "      <td>Positive</td>\n",
       "    </tr>\n",
       "    <tr>\n",
       "      <th>2</th>\n",
       "      <td>AV14LG0R-jtxr-f38QfS</td>\n",
       "      <td>Lundberg</td>\n",
       "      <td>Food,Packaged Foods,Snacks,Crackers,Snacks, Cookies &amp; Chips,Rice Cakes,Cakes</td>\n",
       "      <td>Lundberg</td>\n",
       "      <td>Lundberg Organic Cinnamon Toast Rice Cakes</td>\n",
       "      <td>2017-07-09T00:00:00.000Z</td>\n",
       "      <td>True</td>\n",
       "      <td>NaN</td>\n",
       "      <td>5</td>\n",
       "      <td>Good flavor.</td>\n",
       "      <td>Good</td>\n",
       "      <td>NaN</td>\n",
       "      <td>NaN</td>\n",
       "      <td>dorothy w</td>\n",
       "      <td>Positive</td>\n",
       "    </tr>\n",
       "  </tbody>\n",
       "</table>\n",
       "</div>"
      ],
      "text/plain": [
       "                     id            brand  \\\n",
       "0  AV13O1A8GV-KLJ3akUyj  Universal Music   \n",
       "1  AV14LG0R-jtxr-f38QfS         Lundberg   \n",
       "2  AV14LG0R-jtxr-f38QfS         Lundberg   \n",
       "\n",
       "                                                                                                                                                       categories  \\\n",
       "0  Movies, Music & Books,Music,R&b,Movies & TV,Movie Bundles & Collections,CDs & Vinyl,Rap & Hip-Hop,Bass,Music on CD or Vinyl,Rap,Hip-Hop,Mainstream Rap,Pop Rap   \n",
       "1                                                                                    Food,Packaged Foods,Snacks,Crackers,Snacks, Cookies & Chips,Rice Cakes,Cakes   \n",
       "2                                                                                    Food,Packaged Foods,Snacks,Crackers,Snacks, Cookies & Chips,Rice Cakes,Cakes   \n",
       "\n",
       "                         manufacturer  \\\n",
       "0  Universal Music Group / Cash Money   \n",
       "1                            Lundberg   \n",
       "2                            Lundberg   \n",
       "\n",
       "                                         name              reviews_date  \\\n",
       "0   Pink Friday: Roman Reloaded Re-Up (w/dvd)  2012-11-30T06:21:45.000Z   \n",
       "1  Lundberg Organic Cinnamon Toast Rice Cakes  2017-07-09T00:00:00.000Z   \n",
       "2  Lundberg Organic Cinnamon Toast Rice Cakes  2017-07-09T00:00:00.000Z   \n",
       "\n",
       "  reviews_didPurchase reviews_doRecommend  reviews_rating  \\\n",
       "0                 NaN                 NaN               5   \n",
       "1                True                 NaN               5   \n",
       "2                True                 NaN               5   \n",
       "\n",
       "                                                                                                                                                                                                reviews_text  \\\n",
       "0  i love this album. it's very good. more to the hip hop side than her current pop sound.. SO HYPE! i listen to this everyday at the gym! i give it 5star rating all the way. her metaphors are just crazy.   \n",
       "1                                                                                                                                             Good flavor. This review was collected as part of a promotion.   \n",
       "2                                                                                                                                                                                               Good flavor.   \n",
       "\n",
       "  reviews_title reviews_userCity reviews_userProvince reviews_username  \\\n",
       "0  Just Awesome      Los Angeles                  NaN           joshua   \n",
       "1          Good              NaN                  NaN        dorothy w   \n",
       "2          Good              NaN                  NaN        dorothy w   \n",
       "\n",
       "  user_sentiment  \n",
       "0       Positive  \n",
       "1       Positive  \n",
       "2       Positive  "
      ]
     },
     "execution_count": 57,
     "metadata": {},
     "output_type": "execute_result"
    }
   ],
   "source": [
    "ratings.head(3)"
   ]
  },
  {
   "cell_type": "code",
   "execution_count": 58,
   "id": "2cdfcf1a",
   "metadata": {},
   "outputs": [
    {
     "data": {
      "text/plain": [
       "(30000, 15)"
      ]
     },
     "execution_count": 58,
     "metadata": {},
     "output_type": "execute_result"
    }
   ],
   "source": [
    "ratings.shape"
   ]
  },
  {
   "cell_type": "code",
   "execution_count": 59,
   "id": "70d81d26",
   "metadata": {},
   "outputs": [
    {
     "data": {
      "text/plain": [
       "id                          0\n",
       "brand                       0\n",
       "categories                  0\n",
       "manufacturer              141\n",
       "name                        0\n",
       "reviews_date               46\n",
       "reviews_didPurchase     14068\n",
       "reviews_doRecommend      2570\n",
       "reviews_rating              0\n",
       "reviews_text                0\n",
       "reviews_title             190\n",
       "reviews_userCity        28071\n",
       "reviews_userProvince    29830\n",
       "reviews_username           63\n",
       "user_sentiment              1\n",
       "dtype: int64"
      ]
     },
     "execution_count": 59,
     "metadata": {},
     "output_type": "execute_result"
    }
   ],
   "source": [
    "ratings.isnull().sum()"
   ]
  },
  {
   "cell_type": "markdown",
   "id": "04d78226",
   "metadata": {},
   "source": [
    "reviews_userCity and reviews_userProvince have more than 93% null values. No amount of imputation would help here and we would not like to add any imaginary data. User city and province does not influence the sentiment classification nor the recommendation system so it is safe to remove them. "
   ]
  },
  {
   "cell_type": "code",
   "execution_count": 60,
   "id": "2204c28f",
   "metadata": {},
   "outputs": [],
   "source": [
    "ratings = ratings.drop(['reviews_userCity', 'reviews_userProvince'], axis=1)"
   ]
  },
  {
   "cell_type": "markdown",
   "id": "df66e8ac",
   "metadata": {},
   "source": [
    "Now, checking again for the null values - "
   ]
  },
  {
   "cell_type": "code",
   "execution_count": 61,
   "id": "c1f8d152",
   "metadata": {},
   "outputs": [
    {
     "data": {
      "text/plain": [
       "id                      0.00\n",
       "brand                   0.00\n",
       "categories              0.00\n",
       "manufacturer            0.47\n",
       "name                    0.00\n",
       "reviews_date            0.15\n",
       "reviews_didPurchase    46.89\n",
       "reviews_doRecommend     8.57\n",
       "reviews_rating          0.00\n",
       "reviews_text            0.00\n",
       "reviews_title           0.63\n",
       "reviews_username        0.21\n",
       "user_sentiment          0.00\n",
       "dtype: float64"
      ]
     },
     "execution_count": 61,
     "metadata": {},
     "output_type": "execute_result"
    }
   ],
   "source": [
    "round(((ratings.isnull().sum()/ratings.shape[0])*100),2)"
   ]
  },
  {
   "cell_type": "markdown",
   "id": "1f1cac84",
   "metadata": {},
   "source": [
    "Removing the column for reviews_didPurchase as well. The values cannot be imputed as there are close to 50% values which are null. "
   ]
  },
  {
   "cell_type": "code",
   "execution_count": 62,
   "id": "04394db4",
   "metadata": {},
   "outputs": [],
   "source": [
    "ratings = ratings.drop(['reviews_didPurchase'], axis=1)"
   ]
  },
  {
   "cell_type": "markdown",
   "id": "baceb6bc",
   "metadata": {},
   "source": [
    "Checking null values again - "
   ]
  },
  {
   "cell_type": "code",
   "execution_count": 63,
   "id": "b3f9a461",
   "metadata": {},
   "outputs": [
    {
     "data": {
      "text/plain": [
       "id                        0\n",
       "brand                     0\n",
       "categories                0\n",
       "manufacturer            141\n",
       "name                      0\n",
       "reviews_date             46\n",
       "reviews_doRecommend    2570\n",
       "reviews_rating            0\n",
       "reviews_text              0\n",
       "reviews_title           190\n",
       "reviews_username         63\n",
       "user_sentiment            1\n",
       "dtype: int64"
      ]
     },
     "execution_count": 63,
     "metadata": {},
     "output_type": "execute_result"
    }
   ],
   "source": [
    "ratings.isnull().sum(axis=0)"
   ]
  },
  {
   "cell_type": "code",
   "execution_count": 64,
   "id": "526548e4",
   "metadata": {},
   "outputs": [
    {
     "data": {
      "text/plain": [
       "id                     0.00\n",
       "brand                  0.00\n",
       "categories             0.00\n",
       "manufacturer           0.47\n",
       "name                   0.00\n",
       "reviews_date           0.15\n",
       "reviews_doRecommend    8.57\n",
       "reviews_rating         0.00\n",
       "reviews_text           0.00\n",
       "reviews_title          0.63\n",
       "reviews_username       0.21\n",
       "user_sentiment         0.00\n",
       "dtype: float64"
      ]
     },
     "execution_count": 64,
     "metadata": {},
     "output_type": "execute_result"
    }
   ],
   "source": [
    "round(((ratings.isnull().sum()/ratings.shape[0])*100),2)"
   ]
  },
  {
   "cell_type": "markdown",
   "id": "6ac501b9",
   "metadata": {},
   "source": [
    "There is one row for user_sentiment, which has a null value. Let's check that row - "
   ]
  },
  {
   "cell_type": "code",
   "execution_count": 65,
   "id": "2d723ccb",
   "metadata": {},
   "outputs": [
    {
     "data": {
      "text/plain": [
       "28354    my kids absolutely loved this film so much that we watched it twice. Having a digital copy means that every time we get in the car we get to watch it wherever we go. we even got to use our $5 reward coupon towards the purchase of this movie so we got an additional $5 off + we got to add the points towards our next rewards coupon we love the savings we get at Best Buy\n",
       "Name: reviews_text, dtype: object"
      ]
     },
     "execution_count": 65,
     "metadata": {},
     "output_type": "execute_result"
    }
   ],
   "source": [
    "ratings[ratings['user_sentiment'].isnull()]['reviews_text']"
   ]
  },
  {
   "cell_type": "markdown",
   "id": "4048bae1",
   "metadata": {},
   "source": [
    "It looks like the user likes the product and has recommended the product. The review text also shows that the user loved this product and has given it the highest rating. We can make the sentiment for this user as positive. It is safe to classify the review/sentiment as a positive one."
   ]
  },
  {
   "cell_type": "code",
   "execution_count": 66,
   "id": "f54d6510",
   "metadata": {},
   "outputs": [],
   "source": [
    "ratings.loc[ratings['user_sentiment'].isnull(),'user_sentiment'] = 'Positive'"
   ]
  },
  {
   "cell_type": "code",
   "execution_count": 67,
   "id": "82510fc3",
   "metadata": {},
   "outputs": [
    {
     "data": {
      "text/plain": [
       "id                        0\n",
       "brand                     0\n",
       "categories                0\n",
       "manufacturer            141\n",
       "name                      0\n",
       "reviews_date             46\n",
       "reviews_doRecommend    2570\n",
       "reviews_rating            0\n",
       "reviews_text              0\n",
       "reviews_title           190\n",
       "reviews_username         63\n",
       "user_sentiment            0\n",
       "dtype: int64"
      ]
     },
     "execution_count": 67,
     "metadata": {},
     "output_type": "execute_result"
    }
   ],
   "source": [
    "ratings.isnull().sum(axis=0)"
   ]
  },
  {
   "cell_type": "markdown",
   "id": "0c88d2a2",
   "metadata": {},
   "source": [
    "We can remove the column reviews_date as it is not important for the sentiment classfier or the recommendation system."
   ]
  },
  {
   "cell_type": "code",
   "execution_count": 68,
   "id": "21635062",
   "metadata": {},
   "outputs": [],
   "source": [
    "ratings = ratings.drop(['reviews_date'], axis=1)"
   ]
  },
  {
   "cell_type": "code",
   "execution_count": 69,
   "id": "b140db59",
   "metadata": {},
   "outputs": [
    {
     "data": {
      "text/plain": [
       "id                        0\n",
       "brand                     0\n",
       "categories                0\n",
       "manufacturer            141\n",
       "name                      0\n",
       "reviews_doRecommend    2570\n",
       "reviews_rating            0\n",
       "reviews_text              0\n",
       "reviews_title           190\n",
       "reviews_username         63\n",
       "user_sentiment            0\n",
       "dtype: int64"
      ]
     },
     "execution_count": 69,
     "metadata": {},
     "output_type": "execute_result"
    }
   ],
   "source": [
    "ratings.isnull().sum(axis=0)"
   ]
  },
  {
   "cell_type": "markdown",
   "id": "f5b91968",
   "metadata": {},
   "source": [
    "Let's look at the null values for manufacturer and its brands - "
   ]
  },
  {
   "cell_type": "code",
   "execution_count": 70,
   "id": "5e3fd470",
   "metadata": {},
   "outputs": [
    {
     "data": {
      "text/plain": [
       "Summit Entertainment    141\n",
       "Name: brand, dtype: int64"
      ]
     },
     "execution_count": 70,
     "metadata": {},
     "output_type": "execute_result"
    }
   ],
   "source": [
    "ratings[ratings['manufacturer'].isnull()]['brand'].value_counts()"
   ]
  },
  {
   "cell_type": "markdown",
   "id": "6ef80ae4",
   "metadata": {},
   "source": [
    "So for all 141 null values for manufacturer column, the brand is the same - Summit Entertainment. Let's check what is the manufacturer of Summit entertainment brand if there are more rows for the same - "
   ]
  },
  {
   "cell_type": "code",
   "execution_count": 71,
   "id": "c37f2ac9",
   "metadata": {},
   "outputs": [
    {
     "data": {
      "text/plain": [
       "Summit Entertainment    672\n",
       "Name: manufacturer, dtype: int64"
      ]
     },
     "execution_count": 71,
     "metadata": {},
     "output_type": "execute_result"
    }
   ],
   "source": [
    "ratings[ratings['brand'] == 'Summit Entertainment']['manufacturer'].value_counts()"
   ]
  },
  {
   "cell_type": "markdown",
   "id": "2d7b5968",
   "metadata": {},
   "source": [
    "So for all other Summit Entertainment brands, the manufacturer seems to be Summit Entertainment itself. It is unlikely that the brand is the same and the manufacturer is different. It is possible to have different brands under the same manufacturer but not the same brand under different manufacturers. So it is safe to fill in all the manufacturer null values to Summit Entertainment. "
   ]
  },
  {
   "cell_type": "code",
   "execution_count": 72,
   "id": "afdda9b6",
   "metadata": {},
   "outputs": [],
   "source": [
    "ratings.loc[ratings['manufacturer'].isnull(), 'manufacturer'] = 'Summit Entertainment'"
   ]
  },
  {
   "cell_type": "code",
   "execution_count": 73,
   "id": "b384646d",
   "metadata": {},
   "outputs": [
    {
     "data": {
      "text/plain": [
       "id                        0\n",
       "brand                     0\n",
       "categories                0\n",
       "manufacturer              0\n",
       "name                      0\n",
       "reviews_doRecommend    2570\n",
       "reviews_rating            0\n",
       "reviews_text              0\n",
       "reviews_title           190\n",
       "reviews_username         63\n",
       "user_sentiment            0\n",
       "dtype: int64"
      ]
     },
     "execution_count": 73,
     "metadata": {},
     "output_type": "execute_result"
    }
   ],
   "source": [
    "ratings.isnull().sum()"
   ]
  },
  {
   "cell_type": "markdown",
   "id": "082e09e9",
   "metadata": {},
   "source": [
    "Username column obviously cannot be removed as we need to make recommendations for them. But if we do not know which user made the review, we cannot impute it with some random name. So it is better to delete the rows that do not have a username. "
   ]
  },
  {
   "cell_type": "code",
   "execution_count": 74,
   "id": "94920ff7",
   "metadata": {},
   "outputs": [],
   "source": [
    "ratings = ratings[~ratings['reviews_username'].isnull()]"
   ]
  },
  {
   "cell_type": "code",
   "execution_count": 75,
   "id": "aea69fe1",
   "metadata": {},
   "outputs": [
    {
     "data": {
      "text/plain": [
       "id                        0\n",
       "brand                     0\n",
       "categories                0\n",
       "manufacturer              0\n",
       "name                      0\n",
       "reviews_doRecommend    2541\n",
       "reviews_rating            0\n",
       "reviews_text              0\n",
       "reviews_title           189\n",
       "reviews_username          0\n",
       "user_sentiment            0\n",
       "dtype: int64"
      ]
     },
     "execution_count": 75,
     "metadata": {},
     "output_type": "execute_result"
    }
   ],
   "source": [
    "ratings.isnull().sum()"
   ]
  },
  {
   "cell_type": "markdown",
   "id": "837cae46",
   "metadata": {},
   "source": [
    "There are 189 rows that do not have a review title. We cannot impute or fill it with some text nor is it safe to remove the column entirely as it could be useful in sentiment prediction. So better to delete the rows that have null title. "
   ]
  },
  {
   "cell_type": "code",
   "execution_count": 76,
   "id": "c2ff1bca",
   "metadata": {},
   "outputs": [],
   "source": [
    "ratings = ratings[~ratings['reviews_title'].isnull()]"
   ]
  },
  {
   "cell_type": "code",
   "execution_count": 77,
   "id": "3490b0eb",
   "metadata": {},
   "outputs": [
    {
     "data": {
      "text/plain": [
       "id                        0\n",
       "brand                     0\n",
       "categories                0\n",
       "manufacturer              0\n",
       "name                      0\n",
       "reviews_doRecommend    2376\n",
       "reviews_rating            0\n",
       "reviews_text              0\n",
       "reviews_title             0\n",
       "reviews_username          0\n",
       "user_sentiment            0\n",
       "dtype: int64"
      ]
     },
     "execution_count": 77,
     "metadata": {},
     "output_type": "execute_result"
    }
   ],
   "source": [
    "ratings.isnull().sum()"
   ]
  },
  {
   "cell_type": "code",
   "execution_count": 78,
   "id": "ff137d91",
   "metadata": {},
   "outputs": [
    {
     "data": {
      "text/plain": [
       "(29748, 11)"
      ]
     },
     "execution_count": 78,
     "metadata": {},
     "output_type": "execute_result"
    }
   ],
   "source": [
    "ratings.shape"
   ]
  },
  {
   "cell_type": "markdown",
   "id": "f51de62c",
   "metadata": {},
   "source": [
    "We can drop the column reviews_doRecommend since it gives similar information as reviews_text and reviews_rating columns. If the user likes the product and rates it high, he will recommend it and vice versa. So this can be dropped without much info loss."
   ]
  },
  {
   "cell_type": "code",
   "execution_count": 79,
   "id": "e8d7910d",
   "metadata": {},
   "outputs": [],
   "source": [
    "ratings = ratings.drop(['reviews_doRecommend'], axis=1)"
   ]
  },
  {
   "cell_type": "markdown",
   "id": "dccd4978",
   "metadata": {},
   "source": [
    "Let's check null values again - "
   ]
  },
  {
   "cell_type": "code",
   "execution_count": 80,
   "id": "d26d0597",
   "metadata": {},
   "outputs": [
    {
     "data": {
      "text/plain": [
       "id                  0\n",
       "brand               0\n",
       "categories          0\n",
       "manufacturer        0\n",
       "name                0\n",
       "reviews_rating      0\n",
       "reviews_text        0\n",
       "reviews_title       0\n",
       "reviews_username    0\n",
       "user_sentiment      0\n",
       "dtype: int64"
      ]
     },
     "execution_count": 80,
     "metadata": {},
     "output_type": "execute_result"
    }
   ],
   "source": [
    "ratings.isnull().sum()"
   ]
  },
  {
   "cell_type": "code",
   "execution_count": 81,
   "id": "2c43239f",
   "metadata": {},
   "outputs": [
    {
     "data": {
      "text/plain": [
       "(29748, 10)"
      ]
     },
     "execution_count": 81,
     "metadata": {},
     "output_type": "execute_result"
    }
   ],
   "source": [
    "ratings.shape"
   ]
  },
  {
   "cell_type": "markdown",
   "id": "3bb997c9",
   "metadata": {},
   "source": [
    "Let's see if there are any duplicate rows - "
   ]
  },
  {
   "cell_type": "code",
   "execution_count": 82,
   "id": "c91e488c",
   "metadata": {},
   "outputs": [
    {
     "data": {
      "text/plain": [
       "(279, 10)"
      ]
     },
     "execution_count": 82,
     "metadata": {},
     "output_type": "execute_result"
    }
   ],
   "source": [
    "ratings[ratings.duplicated()].shape"
   ]
  },
  {
   "cell_type": "markdown",
   "id": "d8c18ec0",
   "metadata": {},
   "source": [
    "So there are 279 data items that have duplicate entries. These should be removed - "
   ]
  },
  {
   "cell_type": "code",
   "execution_count": 83,
   "id": "11b1aa20",
   "metadata": {},
   "outputs": [],
   "source": [
    "ratings = ratings[~(ratings.duplicated())]"
   ]
  },
  {
   "cell_type": "code",
   "execution_count": 84,
   "id": "8459ec6d",
   "metadata": {},
   "outputs": [
    {
     "data": {
      "text/plain": [
       "(29469, 10)"
      ]
     },
     "execution_count": 84,
     "metadata": {},
     "output_type": "execute_result"
    }
   ],
   "source": [
    "ratings.shape"
   ]
  },
  {
   "cell_type": "code",
   "execution_count": 85,
   "id": "9433034b",
   "metadata": {},
   "outputs": [
    {
     "data": {
      "text/plain": [
       "id                  0\n",
       "brand               0\n",
       "categories          0\n",
       "manufacturer        0\n",
       "name                0\n",
       "reviews_rating      0\n",
       "reviews_text        0\n",
       "reviews_title       0\n",
       "reviews_username    0\n",
       "user_sentiment      0\n",
       "dtype: int64"
      ]
     },
     "execution_count": 85,
     "metadata": {},
     "output_type": "execute_result"
    }
   ],
   "source": [
    "ratings.isnull().sum()"
   ]
  },
  {
   "cell_type": "markdown",
   "id": "8aefe606",
   "metadata": {},
   "source": [
    "So now we have a clean dataset with no null values and duplicate rows. "
   ]
  },
  {
   "cell_type": "code",
   "execution_count": 86,
   "id": "f0b278e0",
   "metadata": {},
   "outputs": [
    {
     "data": {
      "text/plain": [
       "1.77"
      ]
     },
     "execution_count": 86,
     "metadata": {},
     "output_type": "execute_result"
    }
   ],
   "source": [
    "percent_loss = ((ratings_orig.shape[0]-ratings.shape[0])/ratings_orig.shape[0])*100\n",
    "percent_loss"
   ]
  },
  {
   "cell_type": "markdown",
   "id": "f06927a5",
   "metadata": {},
   "source": [
    "There's very little 1.7% data loss after cleaning which is good enough."
   ]
  },
  {
   "cell_type": "markdown",
   "id": "df325fc2",
   "metadata": {},
   "source": [
    "Let's check if all the columns are of the right datatype before proceeding further in data analysis - "
   ]
  },
  {
   "cell_type": "code",
   "execution_count": 87,
   "id": "c79d9eb8",
   "metadata": {},
   "outputs": [
    {
     "data": {
      "text/plain": [
       "id                  object\n",
       "brand               object\n",
       "categories          object\n",
       "manufacturer        object\n",
       "name                object\n",
       "reviews_rating       int64\n",
       "reviews_text        object\n",
       "reviews_title       object\n",
       "reviews_username    object\n",
       "user_sentiment      object\n",
       "dtype: object"
      ]
     },
     "execution_count": 87,
     "metadata": {},
     "output_type": "execute_result"
    }
   ],
   "source": [
    "ratings.dtypes"
   ]
  },
  {
   "cell_type": "markdown",
   "id": "9272d9e8",
   "metadata": {},
   "source": [
    "All except the ratings are strings/objects which is good. Also the rating is int type which is correct. "
   ]
  },
  {
   "cell_type": "markdown",
   "id": "b21c17c3",
   "metadata": {},
   "source": [
    "Let's also make sure there are no spelling mistakes in the brands/manufacturers - "
   ]
  },
  {
   "cell_type": "code",
   "execution_count": 88,
   "id": "0f2f3b0a",
   "metadata": {},
   "outputs": [
    {
     "data": {
      "text/plain": [
       "array(['Universal Music', 'Lundberg', 'K-Y', 'J.R. Watkins', 'AMBI',\n",
       "       \"Johnson's\", 'Olay', 'Windex', 'Heinz', 'KIND', 'Pantene',\n",
       "       'Aussie', 'Disney', 'CeraVe', 'Solo Foods', 'Finish',\n",
       "       'Jake And The Neverland Pirates', 'Pearhead', 'No Brand',\n",
       "       'Neutrogena', 'Meguiars', 'Banana Boat', 'Cetaphil', 'Suave',\n",
       "       'Bumble Bee', 'Citrus Magic', 'La Tortilla Factory',\n",
       "       'Target.com Use Only', 'Sea Gull Lighting', 'The Seaweed Bath Co.',\n",
       "       'Way Basics', 'Biokleen', 'Yes to Carrots', 'Alberto VO5',\n",
       "       'Warner Bros.', 'FOX', 'Progresso', \"Herr's\", 'Hawaiian Punch',\n",
       "       'Universal Home Video', 'Holmes', 'Sony Music', \"Nature's Path\",\n",
       "       'Lite Source', 'SLOAN VALVE COMPANY', 'Nearly Natural',\n",
       "       'Toy Story', 'MaraNatha', 'Chex', 'TRESemme', 'Wagan',\n",
       "       'Creme Of Nature', 'Arrid', 'Eagle Brand', 'Pinaud',\n",
       "       'Hortense B. Hewitt', 'Canada Dry', 'Baxter of California', 'Ragu',\n",
       "       'Sabra', 'Pendaflex', \"Newman's Own Organics\",\n",
       "       'The Honest Company', 'Plano', 'Hoover', 'Stander', 'Calvin Klein',\n",
       "       'iStarUSA', 'Happy Family', \"Udi's\", 'Sony Pictures', \"Annie's\",\n",
       "       'Super PoliGrip', 'Australian Gold', 'Summit Entertainment',\n",
       "       'Hormel', 'Tai Pei', 'Clorox', 'Avery', 'Chips Deluxe', 'Orajel',\n",
       "       \"Chester's\", 'D-Con', 'Lysol', 'COOLA', \"Burt's Bees\",\n",
       "       'SC Johnson', 'Simple Green', 'Wilton', \"Mrs. Meyer's\",\n",
       "       'Cuisinart', 'Iman', 'Pioneer', 'Stonyfield', 'Bounce',\n",
       "       \"L'Oreal Paris\", 'Just For Men', 'Yosemite Home Decor', 'Kraus',\n",
       "       'Mill Creek', 'All-Bran', 'Coty', 'Axe', 'Power Crunch',\n",
       "       'INC International Concepts', 'Smead', 'Nojo', 'Sizzix',\n",
       "       'Vaseline', 'Tostitos', 'Starbucks', 'UMGD', 'RC Cola',\n",
       "       'Head & Shoulders', 'Scotty', 'Kenroy Home', 'Nielsen',\n",
       "       'Dermalogica', 'South Shore', \"Africa's Best\", 'Tramontina',\n",
       "       \"Newman's Own\", 'Carson-Dellosa Publishing', 'Home Health',\n",
       "       'J.a. Henckels', 'Kikkoman', 'Kohler', 'Gain', 'Pleasant Hearth',\n",
       "       'Warner Manufacturing', 'Cal Lighting', 'Lynk', 'Trend Lab',\n",
       "       'Plum Organics', 'Touch of Color', 'JNH Lifestyles', 'Era',\n",
       "       'Reebok', 'Delta Faucet', 'Ogx', \"Physician's Formula\",\n",
       "       'Lionsgate Home Entertainment', 'Weleda', 'Fiskars', 'Teamson',\n",
       "       'Rizzy Home', 'JLA Home', 'Tree Hut', 'Cococare',\n",
       "       'Pacific Natural Foods', 'Honeywell', 'Jergens', \"Lay's\", 'Noosa',\n",
       "       \"STACY'S\", 'Nexxus', 'Hollywood Beauty', 'Southern Enterprises',\n",
       "       'Chips Ahoy', '4C Foods', 'Caress', 'Feit',\n",
       "       'UNIVERSAL HOME ENTERTAINMENT', 'Lush Decor', 'Yes to Grapefruit',\n",
       "       'Maybelline', 'Sony', 'Clear Scalp & Hair Therapy', 'Cheetos',\n",
       "       'Bisquick', 'Warner Home Video', 'Voortman', 'Tim Holtz',\n",
       "       'Lionsgate', 'Aveeno', 'LDR', \"Ben & Jerry's\", 'Jolly Time',\n",
       "       'ANCHOR BAY', 'Maaya Home', 'Warner Music Group', 'Care Free Curl',\n",
       "       'Spam', 'Cantu', 'Vicks', 'National Mfg.', 'Shea Moisture',\n",
       "       'Hunter Fan', 'Concept Housewares', 'Walkers', 'Barielle',\n",
       "       \"Musselman's\", 'Storkcraft', 'Queen Helene', 'Bodycology',\n",
       "       'Chobani', 'Bedtime Originals', 'Brownline', \"L'oreal Paris\"],\n",
       "      dtype=object)"
      ]
     },
     "execution_count": 88,
     "metadata": {},
     "output_type": "execute_result"
    }
   ],
   "source": [
    "ratings['brand'].unique()"
   ]
  },
  {
   "cell_type": "code",
   "execution_count": 89,
   "id": "bfde1db6",
   "metadata": {},
   "outputs": [
    {
     "data": {
      "text/plain": [
       "array(['Universal Music Group / Cash Money', 'Lundberg', 'K-Y',\n",
       "       'J.R. Watkins', 'FLEMING & CO', \"Johnson's\", 'P&G', 'Windex',\n",
       "       'Heinz North America', 'Kind Fruit & Nut Bars', 'Pantene',\n",
       "       'Aussie', 'Disney/Pixar', 'CeraVe', 'Solo', 'Reckitt Benckiser',\n",
       "       'Disney', 'Pearhead', '120', 'Johnson & Johnson SLC', 'Parts',\n",
       "       'Energizer Personal Care', 'Cetaphil', 'UNILEVER', 'Bumble Bee',\n",
       "       'Citrus Magic', 'La Tortilla Fac', 'Xenon', 'Sea Gull Lighting',\n",
       "       'The Seaweed Bath', 'Way Basics', 'Biokleen Cleaners',\n",
       "       'Yes To Inc.', 'High Ridge Brands Co.', 'TIME WARNER',\n",
       "       'MGM (Video & DVD)', 'Twentieth Century Fox',\n",
       "       'GENERAL MILLS SALES, INC.', \"Herr's\", 'Dr Pepper/Seven Up, Inc',\n",
       "       'Universal', 'UNIVERSAL HOME ENTERTAINMENT',\n",
       "       'Jarden Home Environment', 'Columbia', 'Pantene Pro-V Hair Care',\n",
       "       \"Nature's Path Foods, Inc.\", 'Lite-Source', 'William H Harvey',\n",
       "       'Nearly Natural', 'Disguise', 'Maranatha Natural Foods',\n",
       "       'Hbo Home Video', 'Tresemme', 'Wagan', 'Beautyge Brands USA, Inc.',\n",
       "       'Arrid', 'Eagle Family Foods, Inc.', 'Pinaud Clubman', 'Wmu',\n",
       "       'Baxter of California', 'Unilever',\n",
       "       'SABRE SECURITY EQUIPMENT CORPORATION', 'Esselte Corporation',\n",
       "       \"Newman's Own\", 'The Honest Company', 'South Bend', 'Hoover',\n",
       "       'Stander Inc', 'Calvin Klein', 'iStarUSA', 'NURTURE INC', \"Udi's\",\n",
       "       'SONY CORP', \"Annie's Homegrown\", 'Generic', 'Warner Home Video',\n",
       "       'AUSTRALIAN GOLD PRODUCTS LTD.', 'Summit Entertainment', 'Hormel',\n",
       "       'Discovery Foods', 'Clorox', 'Avery Dennison', 'Kellogg Sales Co',\n",
       "       'Orajel', 'Frito-Lay', 'COOLA', \"Burt's Bees\", 'S C JOHNSON WAX',\n",
       "       'Sunshine Makers', 'Wilton', 'SC JOHNSON', 'CUISINART', 'Avery',\n",
       "       'IMAN', 'Lundberg Family Farms', 'Stonyfield Farm, Inc.',\n",
       "       'Allure Home', 'Bounce', \"L'OREAL SA\", 'Combe Incorporated',\n",
       "       'Yosemite Home Decor', 'Kraus', 'Mill Creek', 'Kellogg Company',\n",
       "       'Coty brands', 'Axe', 'BNRG', 'International Concepts',\n",
       "       'SMEAD MANUFACTURING CO.', 'Little Bedding', 'Sizzix', 'Starbucks',\n",
       "       'Gaither Music Group', 'Cadbury Schweppes Americas Beverages',\n",
       "       '20th Century Fox', 'Procter & Gamble Company', 'Scotty',\n",
       "       'SBME SPECIAL MKTS.', 'Kenroy Home', 'Valmont', 'Dermalogica',\n",
       "       \"L'oreal Paris\", 'DISNEY/BUENA VISTA HOME VIDEO', 'South Shore',\n",
       "       'Cheatham Chemical Co.', 'Tramontina USA Inc.',\n",
       "       \"Newman's Own, Inc.\", 'Carson-Dellosa Publishing', 'Home Health',\n",
       "       'Lite Source', 'J.A. Henckels International', 'Olay',\n",
       "       'Kikkoman Sales Usa, Inc.', 'KOHLER', \"Burt's Bees, Inc.\",\n",
       "       'GHP Group, Inc.', 'CAL Lighting', 'Lynk', 'Trend Lab',\n",
       "       'Plum Organic', 'CREATIVE CONVERTING', 'PROVIDENT',\n",
       "       'JNH Lifestyles', 'Era liquid detergent', 'Reebok',\n",
       "       'Annies Homegrown', 'Delta', 'Vogue International',\n",
       "       'Physicians Formula', 'Lions Gate', 'Weleda', 'Fiskars Brands Inc',\n",
       "       'AmazonUs/CLOO7', 'Teamson', 'American Coffee Partnership',\n",
       "       'Rizzy Rugs', 'E&E Co. Ltd', 'Naterra International',\n",
       "       'Cococare Skin Care', 'Pacific Foods of Oregon, Inc.',\n",
       "       'Kaz USA, Inc.', 'KAO USA INC', \"Lay's\", 'Unfi', 'Honeywell',\n",
       "       \"Stacy's\", \"STACY'S PITA CHIPS\", 'Tostitos',\n",
       "       'Nexxus Beauty Products', 'Hollywood Beauty Imports',\n",
       "       'Southern Enterprises', 'Nabisco Biscuit Company', 'Caress',\n",
       "       'FeitElectric', 'Universal Studios Home Entertainment',\n",
       "       'Triangle Home Fashions', 'General Mills Sales, Inc.',\n",
       "       'Yes To, Inc', 'Maybelline New York', 'Pleasant Hearth',\n",
       "       'PHASE FOUR', 'Vaseline', 'Clear', 'Test',\n",
       "       'VOORTMAN COOKIES LIMITED', 'Tonic Studios', 'Aveeno Baby', 'LDR',\n",
       "       'American Pop Corn Co.', 'Starz', 'Boraam - DROPSHIP',\n",
       "       'Broken Bow', 'Softsheen-Carson', 'Hormel Foods Corporation',\n",
       "       'Smead', 'Cantu Shea Butter', 'Walt Disney', 'Walt Disney Records',\n",
       "       'Stanley Hardware', 'SheaMoisture', 'Arc Abrasives',\n",
       "       'Group5 Mktg/Concept Housewares', 'KeHE Distributors', 'Barielle',\n",
       "       'Knouse Foods Inc', '1200', 'Queen Helene Skin Cream, Lotion',\n",
       "       'Advanced Beauty', 'Chooka', 'Meguiars', 'Lambs and Ivy Inc',\n",
       "       'Capitol', 'Mrs. Meyers'], dtype=object)"
      ]
     },
     "execution_count": 89,
     "metadata": {},
     "output_type": "execute_result"
    }
   ],
   "source": [
    "ratings['manufacturer'].unique()"
   ]
  },
  {
   "cell_type": "code",
   "execution_count": 90,
   "id": "dda0b558",
   "metadata": {},
   "outputs": [
    {
     "data": {
      "text/plain": [
       "array(['Pink Friday: Roman Reloaded Re-Up (w/dvd)',\n",
       "       'Lundberg Organic Cinnamon Toast Rice Cakes',\n",
       "       'K-Y Love Sensuality Pleasure Gel',\n",
       "       'J.R. Watkins Hand Cream, Lemon Cream',\n",
       "       'Ambi Complexion Cleansing Bar',\n",
       "       \"Johnson's Baby Bubble Bath and Wash, 15oz\",\n",
       "       'Olay Regenerist Deep Hydration Regenerating Cream',\n",
       "       'Windex Original Glass Cleaner Refill 67.6oz (2 Liter)',\n",
       "       'Heinz Tomato Ketchup, 38oz',\n",
       "       'Kind Dark Chocolate Chunk Gluten Free Granola Bars - 5 Count',\n",
       "       'Pantene Color Preserve Volume Shampoo, 25.4oz',\n",
       "       'Aussie Aussome Volume Shampoo, 13.5 Oz',\n",
       "       \"Cars Toon: Mater's Tall Tales\", 'CeraVe SA Renewing Cream',\n",
       "       'Solo Foods Almond Paste',\n",
       "       'Finish Quantum Dishwasher Detergent, Lemon Sparkle Scent, 45 Count',\n",
       "       'Disney174 Jake And The Neverland Pirates 4 Piece Bedding Set - Toddler',\n",
       "       'Pearhead Id Bracelet Frame',\n",
       "       'Craft Punch Giga Scallop Circle 45 24687534 To 334',\n",
       "       'Neutrogena Wet Skin Sunscreen Spray Broad Spectrum SPF 50, 5oz',\n",
       "       \"Meguiar's Deep Crystal Car Wash 64-Oz.\",\n",
       "       'Banana Boat Sunless Summer Color Self Tanning Lotion, Light To Medium',\n",
       "       'Cetaphil Gentle Skin Cleanser, 2oz',\n",
       "       'Suave Professionals Hair Conditioner, Sleek',\n",
       "       'Bumble Bee Solid White Albacore In Water - 5 Oz',\n",
       "       'Citrus Magic Instant Spot & Stain Remover',\n",
       "       'La Tortilla Factory Hand Made Style Tortillas Flour',\n",
       "       \"Black Sister's Revenge (dvd)\",\n",
       "       'Sea Gull Lighting Six Light Bath Sconce/vanity - Brushed Nickel',\n",
       "       'The Seaweed Bath Co. Argan Conditioner, Smoothing Citrus',\n",
       "       'Way Basics 3-Shelf Eco Narrow Bookcase Storage Shelf, Espresso - Formaldehyde Free - Lifetime Guarantee',\n",
       "       'Bi-O-kleen Spray & Wipe All Purpose Cleaner',\n",
       "       'Yes To Carrots Nourishing Body Wash',\n",
       "       'Alberto VO5 Salon Series Smooth Plus Sleek Shampoo',\n",
       "       'Dark Shadows (includes Digital Copy) (ultraviolet) (dvdvideo)',\n",
       "       'Clambake (dvd)', 'Mike Dave Need Wedding Dates (dvd + Digital)',\n",
       "       'Sea Gull Lighting Ceiling Fan - White',\n",
       "       'Progresso Traditional Meatball & Rice Soup',\n",
       "       \"Herr's Baked Cheese Curls\",\n",
       "       'Hawaiian Punch Berry Limeade Blast Juice',\n",
       "       'My Big Fat Greek Wedding 2 (blu-Ray + Dvd + Digital)',\n",
       "       'King Ralph (dvd)',\n",
       "       'Holmes174 Personal Indoor Heater W/ Manual Controls White 1500w Hfh131-N',\n",
       "       'The Script - No Sound Without Silence (cd)',\n",
       "       'Pantene Pro-V Expert Collection Age Defy Conditioner',\n",
       "       \"Nature's Path Flax Plus Maple Pecan Crunch Cereal\",\n",
       "       'Lite Source Basic Ii 1-Lt Floor Lamp - Dark Bronze',\n",
       "       'Sloan Royal Urinal Flush Valve, 1.0 Gpf, Royal 186-1',\n",
       "       'Sunflower Swag With Metal Frame - Nearly Natural',\n",
       "       \"Toy Story Kids' Woody Accessory Kit\",\n",
       "       'Maranatha No Stir Raw Maple Almond Butter',\n",
       "       'Chex Muddy Buddies Brownie Supreme Snack Mix',\n",
       "       'Sopranos:Season 6 Part 1 (blu-Ray)',\n",
       "       'Tresemme Kertatin Smooth Infusing Conditioning',\n",
       "       'Wagan Smartac 80watt Inverter With Usb',\n",
       "       'Creme Of Nature Intensive Conditioning Treatment, 32',\n",
       "       'Arrid Extra Dry Anti-Perspirant Deodorant Spray Regular',\n",
       "       'Eagle Fat Free Sweetened Condensed Milk',\n",
       "       'Pinaud Clubman Styling Gel, Superhold',\n",
       "       'Wedding Wishes Wedding Guest Book',\n",
       "       'Diet Canada Dry Ginger Ale - 12pk/12 Fl Oz Cans',\n",
       "       'Baxter Of California Cream Pomade',\n",
       "       'Ragu Roasted Garlic Parmesan Pasta Sauce',\n",
       "       'Sabre 2 Pack Door And Window Alarm',\n",
       "       'Pendaflex174 Divide It Up File Folder, Multi Section, Letter, Assorted, 12/pack',\n",
       "       \"Newman's Own Organics Licorice Twist, Black 5oz\",\n",
       "       'The Honest Company Laundry Detergent',\n",
       "       'Plano Mini-Magnum 13-Compartment Tackle Box',\n",
       "       'Hoover174 Platinum Collection153 Lightweight Bagged Upright Vacuum With Canister - Uh30010com',\n",
       "       'Stander Pt Bedcane - Bed Handle',\n",
       "       'Calvin Klein Secret Obsession Eau De Parfum',\n",
       "       'Wallmount Server Cabinet (450mm, 9 RU)',\n",
       "       'Happy Tot Apple and Butternut Squash', \"Udi's Pepperoni Pizza\",\n",
       "       'The Resident Evil Collection 5 Discs (blu-Ray)',\n",
       "       \"Annie's Homegrown Gluten Free Double Chocolate Chip Granola Bars\",\n",
       "       'Super Poligrip Denture Adhesive Cream, Ultra Fresh - 2.4 Oz',\n",
       "       \"Nearly Natural 5.5' Bamboo W/decorative Planter\",\n",
       "       '100:Complete First Season (blu-Ray)',\n",
       "       'Australian Gold Exotic Blend Lotion, SPF 4',\n",
       "       'Red (special Edition) (dvdvideo)', 'Hormel Chili, No Beans',\n",
       "       'Tai Pei Sweet & Sour Chicken',\n",
       "       'Clorox Disinfecting Wipes Value Pack Scented 150 Ct Total',\n",
       "       'Avery174 Ready Index Contemporary Table Of Contents Divider, 1-8, Multi, Letter',\n",
       "       \"Chips Deluxe Soft 'n Chewy Cookies\",\n",
       "       'Orajel Maximum Strength Toothache Pain Relief Liquid',\n",
       "       \"Chester's Cheese Flavored Puffcorn Snacks\",\n",
       "       'D-Con Mice Bait Station - 3ct',\n",
       "       'Lysol Concentrate Deodorizing Cleaner, Original Scent',\n",
       "       'Coola Organic Sunscreen Classic Face Cucumber SPF 30',\n",
       "       \"Burt's Bees Lip Shimmer, Raisin\",\n",
       "       'SC Johnson One Step No Buff Wax',\n",
       "       'Simple Green All-Purpose Cleaner, 16oz',\n",
       "       'Wilton Black Dots Standard Baking Cups',\n",
       "       \"Mrs. Meyer's174 Lemon Verbena Laundry Scent Booster - 18oz\",\n",
       "       'Cuisinart174 Electric Juicer - Stainless Steel Cje-1000',\n",
       "       'Avery174 11-1/4 X 9-1/4 Index Maker Extra Wide Label Dividers With 5 Tab - Clear (5 Sets Per Pack)',\n",
       "       'Iman Second To None Stick Foundation, Clay 1',\n",
       "       'Romantic Drama: Greatest Classic Films Collection 2 Discs',\n",
       "       'Lundberg Wehani Rice, 25lb',\n",
       "       'Post Bound Jumbo Album - Burgundy (11x14)',\n",
       "       'Stonyfield Yobaby Peach & Pear Yogurt 4oz 6 Ct',\n",
       "       'Charcoal Stone Toothbrush Holder Gray',\n",
       "       'Bounce Dryer Sheets, Fresh Linen, 160 sheets',\n",
       "       \"L'oreal Paris Visible Lift Smooth Absolute, Natural Buff\",\n",
       "       'Just For Men Touch Of Gray Gray Hair Treatment, Black T-55',\n",
       "       'Pocket Watch Wall Clock Distressed Black - Yosemite Home Decor174',\n",
       "       'Kraus FVS-1007 Single Hole Vessel Bathroom Faucet from the Ramus Collection',\n",
       "       'Mill Creek Aloe Vera & Paba Lotion',\n",
       "       'All,bran Complete Wheat Flakes, 18 Oz.',\n",
       "       'Clorox Ultimate Care Premium Bleach',\n",
       "       'Coty Airspun Face Powder, Translucent Extra Coverage',\n",
       "       'Axe Dry Anti-Perspirant Deodorant Invisible Solid Phoenix',\n",
       "       'Power Crunch Protein Energy Bar Peanut Butter Creme Original',\n",
       "       '42 Dual Drop Leaf Table with 2 Madrid Chairs\"',\n",
       "       'Smead174 Recycled Letter Size Manila File Backs W/prong Fasteners, 2 Capacity, 100/box',\n",
       "       'Nearly Natural Pothos Ledge Plant (set On Foam) Silk Plant',\n",
       "       'Little Bedding By Nojo Jungle Dreams 2 Pack Sheet Set',\n",
       "       'Sizzix Framelits Dies 1by Tim Holtz Bird Crazy-Silver Asst Sizes',\n",
       "       'Vaseline Intensive Care Lip Therapy Cocoa Butter',\n",
       "       'Tostitos Simply Blue Corn Tortilla Chips',\n",
       "       'Starbucks153 Doubleshot Protein Coffee - 11 Fl Oz',\n",
       "       'Bill Glor Gaither - Church In The Wildwood (cd)', 'RC Cola, 12oz',\n",
       "       \"There's Something About Mary (dvd)\",\n",
       "       'Head & Shoulders Dandruff Shampoo Ocean Lift 2 In 1',\n",
       "       'Scotty Mini Double Ended Extender',\n",
       "       'Elvis Presley - Girl Happy (cd)',\n",
       "       'Kenroy Home Table Lamp - Chrome',\n",
       "       'Black Front Loading Frame Set (8.5x11) Set Of 12',\n",
       "       'Dermalogica Special Cleansing Gel, 8.4oz',\n",
       "       \"L'oreal Paris Colour Caresse Wet Shine Stain, Pink Resistance\",\n",
       "       'Doc Mcstuffins: Friendship Is The Best Medicine',\n",
       "       'Smead174 3-In-1 Supertab Section Folders, 1/3 Cut Top Tab, Letter, Assorted, 12/pack',\n",
       "       'Bilbao Nightstand Gray Oak - South Shore',\n",
       "       \"Africa's Best No-Lye Dual Conditioning Relaxer System Super\",\n",
       "       'Tramontina Ceramica 10 Piece Cookware Set - Red',\n",
       "       \"Newman's Own Balsamic Vinaigrette, 16.0oz\",\n",
       "       'Carson-Dellosa Publishing Photographic Learning Cards Boxed Set, Nouns/verbs/adjectives, Grades K-12',\n",
       "       'Home Health Hairever Shampoo',\n",
       "       'Lite Source Reiko 1 Light Table Lamp - Orange',\n",
       "       'J.a. Henckels International 4-Pc Everedge Plus Steak Knife Set',\n",
       "       'Olay Moisturizing Lotion For Sensitive Skin',\n",
       "       'Kikkoman Soy Sauce, 5fl oz',\n",
       "       'Kohler 10280-4 Fort Bath Spout With Sculpted Lift Rod and 1/2-in NPT Connection',\n",
       "       'Gain Original Scent Liquid Fabric Softener 129 Oz',\n",
       "       \"Burt's Bees Lip Shimmer, Watermelon\",\n",
       "       'Pleasant Hearth Diamond Fireplace Screen - Espresso',\n",
       "       'Scooby Doo And The Loch Ness Monster (blu-Ray)',\n",
       "       'Cal Lighting Led Dark Bronze Finish Metal Piano Lamp',\n",
       "       'Lynk Professional174 Pull Out Cutting Board Bakeware Sliding Cabinet Organizer',\n",
       "       'Trend Lab Park Nursing Cover - Paisley',\n",
       "       \"L'oreal Paris Advanced Hairstyle Boost It High Lift Creation Spray\",\n",
       "       'Plum Organics Just Prunes', 'Candy Pink Plastic Cups, 20 pk',\n",
       "       \"Various - Country's Greatest Gospel:Gold Ed (cd)\",\n",
       "       'JNH Lifestyles Goldstar 3 Person FAR Infrared Sauna',\n",
       "       '2x Ultra Era with Oxi Booster, 50fl oz',\n",
       "       'Reebok Classic Leather Running Shoes - White (Men)',\n",
       "       \"Annie's Homegrown Deluxe Elbows & Four Cheese Sauce\",\n",
       "       'Delta Single Handle Shower Faucet',\n",
       "       'Ogx Conditioner, Hydrating Teatree Mint',\n",
       "       'Physicians Formula Mineral Wear Talc-Free Mineral Correcting Powder, Creamy Natural',\n",
       "       'Equals (blu-Ray)', 'Weleda Everon Lip Balm',\n",
       "       'Fiskars174 Classic Stick Rotary Cutter (45 Mm)',\n",
       "       'Clorox Disinfecting Bathroom Cleaner',\n",
       "       \"Fantasy Fields Lil' Sports Fan Step Stool - Teamson\",\n",
       "       'Starbucks Iced Expresso Classics Vanilla Latte Coffee Beverage - 40oz',\n",
       "       'Head & Shoulders Classic Clean Conditioner',\n",
       "       'Blue Anchor Design Throw Pillow (18x18) - Rizzy Home',\n",
       "       'Kendall Comforter And Sheet Set (twin) Aqua - 7pc',\n",
       "       'Tree Hut Shea Body Butters, Coconut Lime, 7 oz',\n",
       "       'Cococare 100% Natural Castor Oil',\n",
       "       'Pacific Natural Foods Organic Beef Broth',\n",
       "       'Honeywell Heatbud Ceramic Heater Black',\n",
       "       'Jergens Extra Moisturizing Liquid Hand Wash, 7.5oz',\n",
       "       \"Lay's Salt & Vinegar Flavored Potato Chips\", 'Noosa Honey Yogurt',\n",
       "       '0.6 Cu. Ft. Letter A4 Size Waterproof 30 Min. Fire File Chest',\n",
       "       'If A Man Answers (dvd)',\n",
       "       'Pleasant Hearth 1,800 sq ft Wood Burning Stove with Blower, Medium, LWS-127201',\n",
       "       \"Stacy's Simply Naked Bagel Chips\",\n",
       "       \"Stacy's Garden Veggie Medley Pita Chips\",\n",
       "       'Tostitos Bite Size Tortilla Chips',\n",
       "       'Nexxus Exxtra Gel Style Creation Sculptor',\n",
       "       'Hollywood Beauty Olive Cholesterol',\n",
       "       'Southern Enterprises Archer Fold-Away Home Bar in Walnut',\n",
       "       'Chips Ahoy! Original Chocolate Chip - Cookies - Family Size 18.2oz',\n",
       "       '4C Grated Parmesan Cheese 100% Natural 8oz Shaker',\n",
       "       'Caress Moisturizing Body Bar Natural Silk, 4.75oz',\n",
       "       'Feit 60-Watt A19 Gu24 Base Led Light Bulb - Soft White',\n",
       "       'Heiress (dvd)', 'Mia Shower Curtain Green/brown - Lush Decor174',\n",
       "       'Progresso Traditional Chicken Tuscany Soup',\n",
       "       'Yes To Grapefruit Rejuvenating Body Wash',\n",
       "       'Progresso Light Vegetable & Noodle Soup',\n",
       "       'Maybelline Clean Express! Makeup Removing Lotion',\n",
       "       'Physicians Formula Powder Palette Mineral Glow Pearls, Translucent Pearl',\n",
       "       'Pleasant Hearth 7.5 Steel Grate, 30 5 Bar - Black',\n",
       "       'Switchmas (dvd)',\n",
       "       'Vaseline Intensive Care Healthy Hands Stronger Nails',\n",
       "       'Solo Foods Poppy Seed Cake and Pastry Filling',\n",
       "       'Alex Cross (dvdvideo)',\n",
       "       'Clear Scalp & Hair Therapy Total Care Nourishing Shampoo',\n",
       "       'Progresso Traditional Chicken Rice With Vegetables Soup',\n",
       "       \"Cheetos Crunchy Flamin' Hot Cheese Flavored Snacks\",\n",
       "       'Bisquick Original Pancake And Baking Mix - 40oz',\n",
       "       'Godzilla 3d Includes Digital Copy Ultraviolet 3d/2d Blu-Ray/dvd',\n",
       "       'Voortman Sugar Free Fudge Chocolate Chip Cookies',\n",
       "       'Finish Gelpacs Dishwasher Detergent, Orange Scent, 84ct',\n",
       "       'Tim Holtz Retractable Craft Pick-Red 6x.5',\n",
       "       'Ragu Traditional Pasta Sauce',\n",
       "       \"Stargate (ws) (ultimate Edition) (director's Cut) (dvdvideo)\",\n",
       "       'Iman Luxury Moisturizing Lipstick, Black Brandy 006',\n",
       "       'Aveeno Baby Continuous Protection Lotion Sunscreen with Broad Spectrum SPF 55, 4oz',\n",
       "       '5302050 15/16 FCT/HOSE ADAPTOR',\n",
       "       \"Ben & Jerry's Coffee, Coffee Buzzbuzzbuzz! Ice Cream, Pint\",\n",
       "       'Jolly Time Select Premium Yellow Pop Corn',\n",
       "       'Leslie Sansone:Belly Blasting Walk (dvd)',\n",
       "       'Boraam Sonoma Kitchen Cart With Wire Brush Gray - Maaya Home',\n",
       "       \"Jason Aldean - They Don't Know\",\n",
       "       'Ogx Anti-breakage Keratin Oil 3 Minute Miraculous Recovery',\n",
       "       \"Meguiar's Ultimate Quik Detailer 22-Oz.\",\n",
       "       'Care Free Curl Gold Instant Activator', 'Spam Single Classic',\n",
       "       'Smead174 2 1/4 Inch Accordion Expansion Wallet, Poly, Letter, Translucent Green',\n",
       "       'Cantu Coconut Milk Shine Hold Mist - 8oz',\n",
       "       'Vicks Vaporub, Regular, 3.53oz',\n",
       "       'Planes: Fire Rescue (2 Discs) (includes Digital Copy) (blu-Ray/dvd)',\n",
       "       'Various Artists - Choo Choo Soul (cd)',\n",
       "       'High-Dome Floor Door Stop',\n",
       "       'Shea Moisture Mango & Carrot Kids Extra-Nourishing Conditioner, 8fl Oz',\n",
       "       'Ceiling Fan With Light White 14.2 X 29.9 X 9.2 - Hunter Fan',\n",
       "       'Concept Housewares 36 Natural Wood ceiling mounted pot rack',\n",
       "       'Tostitos Original Restaurant Style Tortilla Chips',\n",
       "       'Walkers Stem Ginger Shortbread',\n",
       "       'Barielle Nail Rebuilding Protein',\n",
       "       'Musselman Apple Sauce, Cinnamon, 48oz',\n",
       "       'Storkcraft Tuscany Glider and Ottoman, Beige Cushions, Espresso Finish',\n",
       "       'Queen Helene Cocoa Butter Solid',\n",
       "       'Bodycology Nourishing Body Cream, Pretty In Paris',\n",
       "       'Sea Gull Lighting Holman One Light Wall/bath Sconce - Brushed Nickel',\n",
       "       'Chobani174 Strawberry On The Bottom Non-Fat Greek Yogurt - 5.3oz',\n",
       "       'Meguiars Interior Detailer Wipes 25ct',\n",
       "       'Bedtime Originals Pinkie Musical Mobile',\n",
       "       'Various - Red Hot Blue:Tribute To Cole Porter (cd)',\n",
       "       '2017-2018 Brownline174 Duraflex 14-Month Planner 8 1/2 X 11 Black',\n",
       "       \"Mrs. Meyer's Lemon Verbena Surface Scrub\",\n",
       "       \"L'or233al Paris Elvive Extraordinary Clay Rebalancing Conditioner - 12.6 Fl Oz\"],\n",
       "      dtype=object)"
      ]
     },
     "execution_count": 90,
     "metadata": {},
     "output_type": "execute_result"
    }
   ],
   "source": [
    "ratings['name'].unique()"
   ]
  },
  {
   "cell_type": "markdown",
   "id": "6d1f408b",
   "metadata": {},
   "source": [
    "There seems to be a product name - \"L'or233al Paris Elvive Extraordinary Clay Rebalancing Conditioner - 12.6 Fl Oz\"] which is basically a L'oreal product but not named correctly. Let's correct all products with this faulty name - "
   ]
  },
  {
   "cell_type": "code",
   "execution_count": 91,
   "id": "2f33f62d",
   "metadata": {},
   "outputs": [],
   "source": [
    "def extract(string):\n",
    "    pattern = \"^L'or[0-9]+al\"\n",
    "    if(re.search(pattern, string)):\n",
    "        return string\n",
    "    else:\n",
    "        return False"
   ]
  },
  {
   "cell_type": "code",
   "execution_count": 92,
   "id": "2adf52fb",
   "metadata": {},
   "outputs": [
    {
     "data": {
      "text/plain": [
       "28814    L'or233al Paris Elvive Extraordinary Clay Rebalancing Conditioner - 12.6 Fl Oz\n",
       "28815    L'or233al Paris Elvive Extraordinary Clay Rebalancing Conditioner - 12.6 Fl Oz\n",
       "28816    L'or233al Paris Elvive Extraordinary Clay Rebalancing Conditioner - 12.6 Fl Oz\n",
       "28817    L'or233al Paris Elvive Extraordinary Clay Rebalancing Conditioner - 12.6 Fl Oz\n",
       "28818    L'or233al Paris Elvive Extraordinary Clay Rebalancing Conditioner - 12.6 Fl Oz\n",
       "                                              ...                                      \n",
       "29995    L'or233al Paris Elvive Extraordinary Clay Rebalancing Conditioner - 12.6 Fl Oz\n",
       "29996    L'or233al Paris Elvive Extraordinary Clay Rebalancing Conditioner - 12.6 Fl Oz\n",
       "29997    L'or233al Paris Elvive Extraordinary Clay Rebalancing Conditioner - 12.6 Fl Oz\n",
       "29998    L'or233al Paris Elvive Extraordinary Clay Rebalancing Conditioner - 12.6 Fl Oz\n",
       "29999    L'or233al Paris Elvive Extraordinary Clay Rebalancing Conditioner - 12.6 Fl Oz\n",
       "Name: name, Length: 1118, dtype: object"
      ]
     },
     "execution_count": 92,
     "metadata": {},
     "output_type": "execute_result"
    }
   ],
   "source": [
    "ratings[ratings['name'] == ratings['name'].apply(lambda x:extract(x))]['name']"
   ]
  },
  {
   "cell_type": "markdown",
   "id": "a832a66b",
   "metadata": {},
   "source": [
    "So there are 1118 rows which are faulty. Let's correct them - "
   ]
  },
  {
   "cell_type": "code",
   "execution_count": 93,
   "id": "89be5611",
   "metadata": {},
   "outputs": [
    {
     "name": "stderr",
     "output_type": "stream",
     "text": [
      "<ipython-input-93-7f4b5f370bef>:1: FutureWarning: The default value of regex will change from True to False in a future version.\n",
      "  ratings.loc[ratings['name'] == ratings['name'].apply(lambda x:extract(x)),'name'] = ratings.loc[ratings['name'] == ratings['name'].apply(lambda x:extract(x)),'name'].str.replace('^L\\'or[0-9]+al', 'L\\'oreal')\n"
     ]
    }
   ],
   "source": [
    "ratings.loc[ratings['name'] == ratings['name'].apply(lambda x:extract(x)),'name'] = ratings.loc[ratings['name'] == ratings['name'].apply(lambda x:extract(x)),'name'].str.replace('^L\\'or[0-9]+al', 'L\\'oreal') "
   ]
  },
  {
   "cell_type": "markdown",
   "id": "e8200813",
   "metadata": {},
   "source": [
    "Now let's make sure the changes have been made - "
   ]
  },
  {
   "cell_type": "code",
   "execution_count": 94,
   "id": "aaff2475",
   "metadata": {},
   "outputs": [
    {
     "data": {
      "text/plain": [
       "Series([], Name: name, dtype: object)"
      ]
     },
     "execution_count": 94,
     "metadata": {},
     "output_type": "execute_result"
    }
   ],
   "source": [
    "ratings[ratings['name'] == ratings['name'].apply(lambda x:extract(x))]['name']"
   ]
  },
  {
   "cell_type": "code",
   "execution_count": 95,
   "id": "f3f8affd",
   "metadata": {},
   "outputs": [],
   "source": [
    "ratings = ratings.reset_index(drop=True)"
   ]
  },
  {
   "cell_type": "code",
   "execution_count": 96,
   "id": "2933ba98",
   "metadata": {},
   "outputs": [
    {
     "data": {
      "text/plain": [
       "RangeIndex(start=0, stop=29469, step=1)"
      ]
     },
     "execution_count": 96,
     "metadata": {},
     "output_type": "execute_result"
    }
   ],
   "source": [
    "ratings.index"
   ]
  },
  {
   "cell_type": "code",
   "execution_count": 97,
   "id": "99cee3c4",
   "metadata": {},
   "outputs": [
    {
     "data": {
      "text/html": [
       "<div>\n",
       "<style scoped>\n",
       "    .dataframe tbody tr th:only-of-type {\n",
       "        vertical-align: middle;\n",
       "    }\n",
       "\n",
       "    .dataframe tbody tr th {\n",
       "        vertical-align: top;\n",
       "    }\n",
       "\n",
       "    .dataframe thead th {\n",
       "        text-align: right;\n",
       "    }\n",
       "</style>\n",
       "<table border=\"1\" class=\"dataframe\">\n",
       "  <thead>\n",
       "    <tr style=\"text-align: right;\">\n",
       "      <th></th>\n",
       "      <th>id</th>\n",
       "      <th>brand</th>\n",
       "      <th>categories</th>\n",
       "      <th>manufacturer</th>\n",
       "      <th>name</th>\n",
       "      <th>reviews_rating</th>\n",
       "      <th>reviews_text</th>\n",
       "      <th>reviews_title</th>\n",
       "      <th>reviews_username</th>\n",
       "      <th>user_sentiment</th>\n",
       "    </tr>\n",
       "  </thead>\n",
       "  <tbody>\n",
       "    <tr>\n",
       "      <th>0</th>\n",
       "      <td>AV13O1A8GV-KLJ3akUyj</td>\n",
       "      <td>Universal Music</td>\n",
       "      <td>Movies, Music &amp; Books,Music,R&amp;b,Movies &amp; TV,Movie Bundles &amp; Collections,CDs &amp; Vinyl,Rap &amp; Hip-Hop,Bass,Music on CD or Vinyl,Rap,Hip-Hop,Mainstream Rap,Pop Rap</td>\n",
       "      <td>Universal Music Group / Cash Money</td>\n",
       "      <td>Pink Friday: Roman Reloaded Re-Up (w/dvd)</td>\n",
       "      <td>5</td>\n",
       "      <td>i love this album. it's very good. more to the hip hop side than her current pop sound.. SO HYPE! i listen to this everyday at the gym! i give it 5star rating all the way. her metaphors are just crazy.</td>\n",
       "      <td>Just Awesome</td>\n",
       "      <td>joshua</td>\n",
       "      <td>Positive</td>\n",
       "    </tr>\n",
       "    <tr>\n",
       "      <th>1</th>\n",
       "      <td>AV14LG0R-jtxr-f38QfS</td>\n",
       "      <td>Lundberg</td>\n",
       "      <td>Food,Packaged Foods,Snacks,Crackers,Snacks, Cookies &amp; Chips,Rice Cakes,Cakes</td>\n",
       "      <td>Lundberg</td>\n",
       "      <td>Lundberg Organic Cinnamon Toast Rice Cakes</td>\n",
       "      <td>5</td>\n",
       "      <td>Good flavor. This review was collected as part of a promotion.</td>\n",
       "      <td>Good</td>\n",
       "      <td>dorothy w</td>\n",
       "      <td>Positive</td>\n",
       "    </tr>\n",
       "    <tr>\n",
       "      <th>2</th>\n",
       "      <td>AV14LG0R-jtxr-f38QfS</td>\n",
       "      <td>Lundberg</td>\n",
       "      <td>Food,Packaged Foods,Snacks,Crackers,Snacks, Cookies &amp; Chips,Rice Cakes,Cakes</td>\n",
       "      <td>Lundberg</td>\n",
       "      <td>Lundberg Organic Cinnamon Toast Rice Cakes</td>\n",
       "      <td>5</td>\n",
       "      <td>Good flavor.</td>\n",
       "      <td>Good</td>\n",
       "      <td>dorothy w</td>\n",
       "      <td>Positive</td>\n",
       "    </tr>\n",
       "    <tr>\n",
       "      <th>3</th>\n",
       "      <td>AV16khLE-jtxr-f38VFn</td>\n",
       "      <td>K-Y</td>\n",
       "      <td>Personal Care,Medicine Cabinet,Lubricant/Spermicide,Health,Sexual Wellness,Lubricants</td>\n",
       "      <td>K-Y</td>\n",
       "      <td>K-Y Love Sensuality Pleasure Gel</td>\n",
       "      <td>1</td>\n",
       "      <td>I read through the reviews on here before looking in to buying one of the couples lubricants, and was ultimately disappointed that it didn't even live up to the reviews I had read. For starters, neither my boyfriend nor I could notice any sort of enhanced or 'captivating' sensation. What we did notice, however, was the messy consistency that was reminiscent of a more liquid-y vaseline. It was difficult to clean up, and was not a pleasant, especially since it lacked the 'captivating' sensation we had both been expecting. I'm disappointed that I paid as much as I did for a lube that I won't use again, when I could just use their normal personal lubricant for 1) less money and 2) less mess.</td>\n",
       "      <td>Disappointed</td>\n",
       "      <td>rebecca</td>\n",
       "      <td>Negative</td>\n",
       "    </tr>\n",
       "    <tr>\n",
       "      <th>4</th>\n",
       "      <td>AV16khLE-jtxr-f38VFn</td>\n",
       "      <td>K-Y</td>\n",
       "      <td>Personal Care,Medicine Cabinet,Lubricant/Spermicide,Health,Sexual Wellness,Lubricants</td>\n",
       "      <td>K-Y</td>\n",
       "      <td>K-Y Love Sensuality Pleasure Gel</td>\n",
       "      <td>1</td>\n",
       "      <td>My husband bought this gel for us. The gel caused irritation and it felt like it was burning my skin. I wouldn't recommend this gel.</td>\n",
       "      <td>Irritation</td>\n",
       "      <td>walker557</td>\n",
       "      <td>Negative</td>\n",
       "    </tr>\n",
       "  </tbody>\n",
       "</table>\n",
       "</div>"
      ],
      "text/plain": [
       "                     id            brand  \\\n",
       "0  AV13O1A8GV-KLJ3akUyj  Universal Music   \n",
       "1  AV14LG0R-jtxr-f38QfS         Lundberg   \n",
       "2  AV14LG0R-jtxr-f38QfS         Lundberg   \n",
       "3  AV16khLE-jtxr-f38VFn              K-Y   \n",
       "4  AV16khLE-jtxr-f38VFn              K-Y   \n",
       "\n",
       "                                                                                                                                                       categories  \\\n",
       "0  Movies, Music & Books,Music,R&b,Movies & TV,Movie Bundles & Collections,CDs & Vinyl,Rap & Hip-Hop,Bass,Music on CD or Vinyl,Rap,Hip-Hop,Mainstream Rap,Pop Rap   \n",
       "1                                                                                    Food,Packaged Foods,Snacks,Crackers,Snacks, Cookies & Chips,Rice Cakes,Cakes   \n",
       "2                                                                                    Food,Packaged Foods,Snacks,Crackers,Snacks, Cookies & Chips,Rice Cakes,Cakes   \n",
       "3                                                                           Personal Care,Medicine Cabinet,Lubricant/Spermicide,Health,Sexual Wellness,Lubricants   \n",
       "4                                                                           Personal Care,Medicine Cabinet,Lubricant/Spermicide,Health,Sexual Wellness,Lubricants   \n",
       "\n",
       "                         manufacturer  \\\n",
       "0  Universal Music Group / Cash Money   \n",
       "1                            Lundberg   \n",
       "2                            Lundberg   \n",
       "3                                 K-Y   \n",
       "4                                 K-Y   \n",
       "\n",
       "                                         name  reviews_rating  \\\n",
       "0   Pink Friday: Roman Reloaded Re-Up (w/dvd)               5   \n",
       "1  Lundberg Organic Cinnamon Toast Rice Cakes               5   \n",
       "2  Lundberg Organic Cinnamon Toast Rice Cakes               5   \n",
       "3            K-Y Love Sensuality Pleasure Gel               1   \n",
       "4            K-Y Love Sensuality Pleasure Gel               1   \n",
       "\n",
       "                                                                                                                                                                                                                                                                                                                                                                                                                                                                                                                                                                                                                                                                                                               reviews_text  \\\n",
       "0                                                                                                                                                                                                                                                                                                                                                                                                                                                                                                                 i love this album. it's very good. more to the hip hop side than her current pop sound.. SO HYPE! i listen to this everyday at the gym! i give it 5star rating all the way. her metaphors are just crazy.   \n",
       "1                                                                                                                                                                                                                                                                                                                                                                                                                                                                                                                                                                                                                                                            Good flavor. This review was collected as part of a promotion.   \n",
       "2                                                                                                                                                                                                                                                                                                                                                                                                                                                                                                                                                                                                                                                                                                              Good flavor.   \n",
       "3  I read through the reviews on here before looking in to buying one of the couples lubricants, and was ultimately disappointed that it didn't even live up to the reviews I had read. For starters, neither my boyfriend nor I could notice any sort of enhanced or 'captivating' sensation. What we did notice, however, was the messy consistency that was reminiscent of a more liquid-y vaseline. It was difficult to clean up, and was not a pleasant, especially since it lacked the 'captivating' sensation we had both been expecting. I'm disappointed that I paid as much as I did for a lube that I won't use again, when I could just use their normal personal lubricant for 1) less money and 2) less mess.   \n",
       "4                                                                                                                                                                                                                                                                                                                                                                                                                                                                                                                                                                                      My husband bought this gel for us. The gel caused irritation and it felt like it was burning my skin. I wouldn't recommend this gel.   \n",
       "\n",
       "  reviews_title reviews_username user_sentiment  \n",
       "0  Just Awesome           joshua       Positive  \n",
       "1          Good        dorothy w       Positive  \n",
       "2          Good        dorothy w       Positive  \n",
       "3  Disappointed          rebecca       Negative  \n",
       "4    Irritation        walker557       Negative  "
      ]
     },
     "execution_count": 97,
     "metadata": {},
     "output_type": "execute_result"
    }
   ],
   "source": [
    "ratings.head()"
   ]
  },
  {
   "cell_type": "markdown",
   "id": "3403350f",
   "metadata": {},
   "source": [
    "There is no faulty name anymore. "
   ]
  },
  {
   "cell_type": "markdown",
   "id": "6b7c8804",
   "metadata": {},
   "source": [
    "Now that the data is clean, spell corrected let's do some EDA"
   ]
  },
  {
   "cell_type": "markdown",
   "id": "d4464f9e",
   "metadata": {},
   "source": [
    "## Exploratory Data Analysis"
   ]
  },
  {
   "cell_type": "code",
   "execution_count": 98,
   "id": "9fae09ca",
   "metadata": {},
   "outputs": [
    {
     "data": {
      "text/plain": [
       "(29469, 10)"
      ]
     },
     "execution_count": 98,
     "metadata": {},
     "output_type": "execute_result"
    }
   ],
   "source": [
    "ratings.shape"
   ]
  },
  {
   "cell_type": "code",
   "execution_count": 99,
   "id": "8e26625d",
   "metadata": {},
   "outputs": [
    {
     "data": {
      "text/plain": [
       "Index(['id', 'brand', 'categories', 'manufacturer', 'name', 'reviews_rating',\n",
       "       'reviews_text', 'reviews_title', 'reviews_username', 'user_sentiment'],\n",
       "      dtype='object')"
      ]
     },
     "execution_count": 99,
     "metadata": {},
     "output_type": "execute_result"
    }
   ],
   "source": [
    "ratings.columns"
   ]
  },
  {
   "cell_type": "code",
   "execution_count": 100,
   "id": "181dccc2",
   "metadata": {},
   "outputs": [],
   "source": [
    "def data_info(x):\n",
    "    print(ratings[x].value_counts())\n",
    "    ratings[x].value_counts().plot(kind='bar')        "
   ]
  },
  {
   "cell_type": "code",
   "execution_count": null,
   "id": "cda0cf97",
   "metadata": {},
   "outputs": [
    {
     "name": "stdout",
     "output_type": "stream",
     "text": [
      "Stats for column : id\n",
      "AVpf3VOfilAPnD_xjpun    8396\n",
      "AVpfPaoqLJeJML435Xk9    3324\n",
      "AVpfJP1C1cnluZ0-e3Xy    2022\n",
      "AVpfRTh1ilAPnD_xYic2    1140\n",
      "AVpfW8y_LJeJML437ySW    1118\n",
      "                        ... \n",
      "AVpfRxSkilAPnD_xYrzm       1\n",
      "AVpfsQoeilAPnD_xgfx5       1\n",
      "AVpf7HOwilAPnD_xkl3L       1\n",
      "AVpfshNsLJeJML43CB8q       1\n",
      "AVpfa1joLJeJML4385hb       1\n",
      "Name: id, Length: 252, dtype: int64\n",
      "\n",
      "\n",
      "Stats for column : brand\n",
      "Clorox                   10419\n",
      "Warner Home Video         3324\n",
      "Disney                    1197\n",
      "L'oreal Paris             1118\n",
      "FOX                        887\n",
      "                         ...  \n",
      "Touch of Color               1\n",
      "Scotty                       1\n",
      "Newman's Own Organics        1\n",
      "Wilton                       1\n",
      "LDR                          1\n",
      "Name: brand, Length: 199, dtype: int64\n",
      "\n",
      "\n",
      "Stats for column : categories\n",
      "Household Essentials,Cleaning Supplies,Kitchen Cleaners,Cleaning Wipes,All-Purpose Cleaners,Health & Household,Household Supplies,Household Cleaning,Ways To Shop,Classroom Essentials,Featured Brands,Home And Storage & Org,Clorox,Glass Cleaners,Surface Care & Protection,Business & Industrial,Cleaning & Janitorial Supplies,Cleaners & Disinfectants,Cleaning Wipes & Pads,Cleaning Solutions,Housewares,Target Restock,Food & Grocery,Paper Goods,Wipes,All Purpose Cleaners    8396\n",
      "Movies, Music & Books,Movies,Action & Adventure,Movies & Music,Movies & TV Shows,Frys                                                                                                                                                                                                                                                                                                                                                                                                   3324\n",
      "Household Chemicals,Household Cleaners,Bath & Shower Cleaner,Household Essentials,Cleaning Supplies,Bathroom Cleaners,Prime Pantry,Bathroom,Featured Brands,Home And Storage & Org,Clorox,All-purpose Cleaners,Health & Household,Household Supplies,Household Cleaning,Target Restock,Food & Grocery                                                                                                                                                                                   2022\n",
      "Movies, Music & Books,Movies,Kids' & Family,Ways To Shop Entertainment,Movies & Tv On Blu-Ray,Movies & TV,Disney,Blu-ray,Children & Family,Movies & Music,Movies & TV Shows,Electronics, Tech Toys, Movies, Music,Blu-Rays,See ALL Blu-Ray,Frys                                                                                                                                                                                                                                         1140\n",
      "Beauty,Hair Care,Shampoo & Conditioner,Holiday Shop,Christmas,Featured Brands,Health & Beauty,L'oreal,Personal Care,Hair Treatments,Conditioner                                                                                                                                                                                                                                                                                                                                         1118\n",
      "                                                                                                                                                                                                                                                                                                                                                                                                                                                                                        ... \n",
      "Kitchen & Dining,Kitchen Storage & Organization,Drawers & Cabinet Organizers,Door Hardware,Home Hardware,Home Designs by Stanley,Office Products,Office Furniture & Lighting,Furniture Accessories,Doorstops,Door Accessories,Door Stops,Hardware                                                                                                                                                                                                                                          1\n",
      "Home Improvement,Bathroom Renovation,Bathroom Plumbing,Plumbing Parts and Repairs,All Plumbing Parts and Repair,Plumbing,Plumbing Parts and Repair,Toilet Parts and Repair,Toilet Flush Valves and Repair Parts,Commercial Urinals,Urinals,Toilet Flush Valves,Toilets,Flush Valves,Bathroom Fixtures                                                                                                                                                                                      1\n",
      "Food,Packaged Foods,Condiments, Dips, & Salad Dressings,Ketchup,Food & Beverage,Meal Solutions, Grains & Pasta,Condiments & Salad Dressing,Featured Brands,Grocery & Gourmet Food,Condiments & Salad Dressings,Grocery,Heinz,Food & Grocery,General Grocery,Marinades & Sauces                                                                                                                                                                                                             1\n",
      "Home,Home Decor,Lamps & Lighting,Floor Lamps                                                                                                                                                                                                                                                                                                                                                                                                                                               1\n",
      "Furniture,Kitchen & Dining Furniture,Bars & Bar Cabinets,Wine Racks,Home                                                                                                                                                                                                                                                                                                                                                                                                                   1\n",
      "Name: categories, Length: 252, dtype: int64\n",
      "\n",
      "\n",
      "Stats for column : manufacturer\n",
      "Clorox              8397\n",
      "Test                3324\n",
      "AmazonUs/CLOO7      2022\n",
      "L'oreal Paris       1164\n",
      "Walt Disney         1140\n",
      "                    ... \n",
      "Scotty                 1\n",
      "Avery                  1\n",
      "Stanley Hardware       1\n",
      "Herr's                 1\n",
      "Pearhead               1\n",
      "Name: manufacturer, Length: 213, dtype: int64\n",
      "\n",
      "\n",
      "Stats for column : name\n",
      "Clorox Disinfecting Wipes Value Pack Scented 150 Ct Total                                             8396\n",
      "Godzilla 3d Includes Digital Copy Ultraviolet 3d/2d Blu-Ray/dvd                                       3324\n",
      "Clorox Disinfecting Bathroom Cleaner                                                                  2022\n",
      "Planes: Fire Rescue (2 Discs) (includes Digital Copy) (blu-Ray/dvd)                                   1140\n",
      "L'oreal Paris Elvive Extraordinary Clay Rebalancing Conditioner - 12.6 Fl Oz                          1118\n",
      "                                                                                                      ... \n",
      "Progresso Traditional Chicken Rice With Vegetables Soup                                                  1\n",
      "Pacific Natural Foods Organic Beef Broth                                                                 1\n",
      "Sea Gull Lighting Ceiling Fan - White                                                                    1\n",
      "Fantasy Fields Lil' Sports Fan Step Stool - Teamson                                                      1\n",
      "Avery174 11-1/4 X 9-1/4 Index Maker Extra Wide Label Dividers With 5 Tab - Clear (5 Sets Per Pack)       1\n",
      "Name: name, Length: 252, dtype: int64\n",
      "\n",
      "\n",
      "Stats for column : reviews_rating\n",
      "5    20495\n",
      "4     5920\n",
      "1     1337\n",
      "3     1316\n",
      "2      401\n",
      "Name: reviews_rating, dtype: int64\n",
      "\n",
      "\n",
      "Stats for column : reviews_text\n",
      "Great                                                                                                                                                                      16\n",
      "Good                                                                                                                                                                       16\n",
      "good                                                                                                                                                                       12\n",
      "Great product                                                                                                                                                               9\n",
      "great product                                                                                                                                                               6\n",
      "                                                                                                                                                                           ..\n",
      "Story-line is funny while \"Mike and Dave\" keeps you laughing from start to finish. Very entertaining.                                                                       1\n",
      "After using this product for a little over two weeks, my hands and nails look and feel very healthy and smooth.                                                             1\n",
      "I don't like cheese, but I love Chester's Cheesy Puffcorn!                                                                                                                  1\n",
      "Great cleaning product. Use in kitchen, laundry room, bathrooms and especially to clean group when dog wets the floor This review was collected as part of a promotion.     1\n",
      "The best cleaning wipes on the market today! Use them everywhere! This review was collected as part of a promotion.                                                         1\n",
      "Name: reviews_text, Length: 27042, dtype: int64\n"
     ]
    },
    {
     "name": "stdout",
     "output_type": "stream",
     "text": [
      "\n",
      "\n",
      "Stats for column : reviews_title\n",
      "Great Product                        369\n",
      "Great movie                          361\n",
      "Clorox Wipes                         269\n",
      "Great                                216\n",
      "Great product                        205\n",
      "                                    ... \n",
      "My Messy Boys                          1\n",
      "great comeback for Godzilla            1\n",
      "Will use for the rest of my life!      1\n",
      "olay products                          1\n",
      "Fragrance Change                       1\n",
      "Name: reviews_title, Length: 18490, dtype: int64\n",
      "\n",
      "\n",
      "Stats for column : reviews_username\n",
      "byamazon customer    41\n",
      "mike                 41\n",
      "chris                31\n",
      "rick                 15\n",
      "sandy                15\n",
      "                     ..\n",
      "kerstenjay            1\n",
      "rosey07               1\n",
      "maxload               1\n",
      "flavafraz             1\n",
      "badboy4life           1\n",
      "Name: reviews_username, Length: 24788, dtype: int64\n",
      "\n",
      "\n",
      "Stats for column : user_sentiment\n",
      "Positive    26163\n",
      "Negative     3306\n",
      "Name: user_sentiment, dtype: int64\n",
      "\n",
      "\n"
     ]
    }
   ],
   "source": [
    "for col in ratings.columns:\n",
    "    print(\"Stats for column : \"+col )\n",
    "    data_info(col)\n",
    "    print(\"\\n\")"
   ]
  },
  {
   "cell_type": "markdown",
   "id": "396b665d",
   "metadata": {},
   "source": [
    "It can be seen from the above stats, that Clorox is the most reviewed (and probably most bought) brand with 10419 reviews. Since Colorox is more of a household essentials brand, that specific category is the topmost. Obviously even the top most reviewed manufacturer is also Clorox and the top most reviewed product is the Clorox Disinfecting wipes which belongs to the Clorox brand. "
   ]
  },
  {
   "cell_type": "markdown",
   "id": "00e67b52",
   "metadata": {},
   "source": [
    "Most of the ratings are 5 i.e out of 29469 records, 20495 records are rated 5 i.e ~70%. Most of the reviews are made by a user names - Mike. "
   ]
  },
  {
   "cell_type": "markdown",
   "id": "ee55e994",
   "metadata": {},
   "source": [
    "Coming to the most important aspect - the user sentiment. 26163 records have positive sentiment out of the 29469 total records which is almost 89%. So this is a skewed/imbalanced dataset. "
   ]
  },
  {
   "cell_type": "markdown",
   "id": "2af257f4",
   "metadata": {},
   "source": [
    "Let's look at the top most reviewed products, brands, manufacturers to understand how their rating is distributed - "
   ]
  },
  {
   "cell_type": "code",
   "execution_count": null,
   "id": "064bdee1",
   "metadata": {},
   "outputs": [],
   "source": [
    "top_5_products = ratings['name'].value_counts().sort_values(ascending=False)[:5]\n",
    "top_5_products"
   ]
  },
  {
   "cell_type": "code",
   "execution_count": null,
   "id": "7dd7be0e",
   "metadata": {},
   "outputs": [],
   "source": [
    "top_products_df = ratings[ratings['name'].isin(top_5_products.index.tolist())]\n",
    "top_products_df.head(1)"
   ]
  },
  {
   "cell_type": "code",
   "execution_count": null,
   "id": "4a5b6c7b",
   "metadata": {},
   "outputs": [],
   "source": [
    "plt.figure(figsize=(8,5))\n",
    "sns.boxplot(x='reviews_rating',y='name',data=top_products_df, palette='rainbow')\n",
    "plt.title(\"Distribution of ratings in products\")"
   ]
  },
  {
   "cell_type": "markdown",
   "id": "3e83fab0",
   "metadata": {},
   "source": [
    "So for the top 5 products, most of the ratings are between 4 and 5. i.e they are good products. "
   ]
  },
  {
   "cell_type": "markdown",
   "id": "a2c3ad31",
   "metadata": {},
   "source": [
    "Similarly let's get the distribution of ratings for top 5 most reviewed brands and manufacturers also - "
   ]
  },
  {
   "cell_type": "code",
   "execution_count": null,
   "id": "7bf887bc",
   "metadata": {},
   "outputs": [],
   "source": [
    "top_5_brands = ratings['name'].value_counts().sort_values(ascending=False)[:5]\n",
    "top_5_brands"
   ]
  },
  {
   "cell_type": "code",
   "execution_count": null,
   "id": "ff6b3994",
   "metadata": {},
   "outputs": [],
   "source": [
    "top_brands_df = ratings[ratings['name'].isin(top_5_products.index.tolist())]\n",
    "top_brands_df.head(1)"
   ]
  },
  {
   "cell_type": "code",
   "execution_count": null,
   "id": "8aebbe9c",
   "metadata": {},
   "outputs": [],
   "source": [
    "plt.figure(figsize=(8,5))\n",
    "sns.boxplot(x='reviews_rating',y='name',data=top_brands_df, palette='rainbow')\n",
    "plt.title(\"Distribution of ratings in products\")"
   ]
  },
  {
   "cell_type": "markdown",
   "id": "67a78d9b",
   "metadata": {},
   "source": [
    "It is the same behaviour as the products. "
   ]
  },
  {
   "cell_type": "markdown",
   "id": "528db274",
   "metadata": {},
   "source": [
    "Let's look at the user sentiment with these products and brands -"
   ]
  },
  {
   "cell_type": "code",
   "execution_count": null,
   "id": "3c05d653",
   "metadata": {},
   "outputs": [],
   "source": [
    "top_products_df.groupby('name')['user_sentiment'].value_counts().sort_values(ascending=False)"
   ]
  },
  {
   "cell_type": "markdown",
   "id": "d3f94dd0",
   "metadata": {},
   "source": [
    "So we can see that the Clorox disinfecting wipes which got the max reviews also has the max positive reviews meaning that's a good product. "
   ]
  },
  {
   "cell_type": "markdown",
   "id": "24d12292",
   "metadata": {},
   "source": [
    "Let's look at the unique number of products and users - "
   ]
  },
  {
   "cell_type": "code",
   "execution_count": null,
   "id": "656fe57e",
   "metadata": {},
   "outputs": [],
   "source": [
    "len(ratings['name'].unique())"
   ]
  },
  {
   "cell_type": "markdown",
   "id": "c710b651",
   "metadata": {},
   "source": [
    "There are 252 unique products"
   ]
  },
  {
   "cell_type": "code",
   "execution_count": null,
   "id": "051faef4",
   "metadata": {},
   "outputs": [],
   "source": [
    "len(ratings['reviews_username'].unique())"
   ]
  },
  {
   "cell_type": "markdown",
   "id": "dc9978a7",
   "metadata": {},
   "source": [
    "There are 24788 unique users. So if go with user-user recommendation system, the correlation matrix is going to be huge. in this case item-item similarity is better since the number of products are fewer. "
   ]
  },
  {
   "cell_type": "markdown",
   "id": "1935a72b",
   "metadata": {},
   "source": [
    "Let's look at the user who gave the max reviews to the products - "
   ]
  },
  {
   "cell_type": "code",
   "execution_count": null,
   "id": "85d5b7cc",
   "metadata": {},
   "outputs": [],
   "source": [
    "ratings['reviews_username'].value_counts().sort_values(ascending=False)"
   ]
  },
  {
   "cell_type": "markdown",
   "id": "cf8e98fb",
   "metadata": {},
   "source": [
    "Now after some EDA let's look at building the recommendation system."
   ]
  },
  {
   "cell_type": "markdown",
   "id": "2bc0ff99",
   "metadata": {},
   "source": [
    "## Recommendation System (item-item)"
   ]
  },
  {
   "cell_type": "markdown",
   "id": "3cc9130b",
   "metadata": {},
   "source": [
    "Dividing the dataset into train and test - "
   ]
  },
  {
   "cell_type": "code",
   "execution_count": null,
   "id": "7b5757e3",
   "metadata": {},
   "outputs": [],
   "source": [
    "# Let's just make a copy of ratings df so that we dont make any unnecessary changes in the final cleaned dataframe\n",
    "ratings_reco = ratings.copy()\n",
    "ratings_reco = ratings_reco[['name', 'reviews_username', 'reviews_rating']]\n",
    "ratings_reco.head()"
   ]
  },
  {
   "cell_type": "code",
   "execution_count": null,
   "id": "28b756b1",
   "metadata": {},
   "outputs": [],
   "source": [
    "ratings_reco.isnull().sum()"
   ]
  },
  {
   "cell_type": "code",
   "execution_count": null,
   "id": "2950c89b",
   "metadata": {},
   "outputs": [],
   "source": [
    "# Test and Train split of the dataset.\n",
    "train, test = train_test_split(ratings_reco, test_size=0.30, random_state=31)"
   ]
  },
  {
   "cell_type": "code",
   "execution_count": null,
   "id": "4a64fa1b",
   "metadata": {},
   "outputs": [],
   "source": [
    "print(train.shape)\n",
    "print(test.shape)"
   ]
  },
  {
   "cell_type": "code",
   "execution_count": null,
   "id": "0e4f1bec",
   "metadata": {},
   "outputs": [],
   "source": [
    "#joblib.dump(train, 'model/train')"
   ]
  },
  {
   "cell_type": "code",
   "execution_count": null,
   "id": "20685b65",
   "metadata": {},
   "outputs": [],
   "source": [
    "df_pivot = train.pivot_table(\n",
    "    index='reviews_username',\n",
    "    columns='name',\n",
    "    values='reviews_rating'\n",
    ").T\n",
    "df_pivot.head()"
   ]
  },
  {
   "cell_type": "code",
   "execution_count": null,
   "id": "0e748e26",
   "metadata": {},
   "outputs": [],
   "source": [
    "df_pivot.shape"
   ]
  },
  {
   "cell_type": "code",
   "execution_count": null,
   "id": "80421655",
   "metadata": {},
   "outputs": [],
   "source": [
    "# Item Similarity Matrix\n",
    "item_correlation = 1 - pairwise_distances(df_pivot.fillna(0), metric='cosine')\n",
    "item_correlation[np.isnan(item_correlation)] = 0\n",
    "print(item_correlation)"
   ]
  },
  {
   "cell_type": "code",
   "execution_count": null,
   "id": "4ea6bcf8",
   "metadata": {},
   "outputs": [],
   "source": [
    "item_correlation.shape"
   ]
  },
  {
   "cell_type": "markdown",
   "id": "717a67e9",
   "metadata": {},
   "source": [
    "Filtering the correlation only for which the value is greater than 0. (Positively correlated)"
   ]
  },
  {
   "cell_type": "code",
   "execution_count": null,
   "id": "59d12fbc",
   "metadata": {},
   "outputs": [],
   "source": [
    "item_correlation[item_correlation<0]=0\n",
    "item_correlation"
   ]
  },
  {
   "cell_type": "markdown",
   "id": "292e6fa3",
   "metadata": {},
   "source": [
    "### Prediction item-item"
   ]
  },
  {
   "cell_type": "code",
   "execution_count": null,
   "id": "3bd20dc5",
   "metadata": {},
   "outputs": [],
   "source": [
    "item_predicted_ratings = np.dot((df_pivot.fillna(0).T),item_correlation)\n",
    "item_predicted_ratings"
   ]
  },
  {
   "cell_type": "code",
   "execution_count": null,
   "id": "c5a50203",
   "metadata": {},
   "outputs": [],
   "source": [
    "item_predicted_ratings.shape"
   ]
  },
  {
   "cell_type": "code",
   "execution_count": null,
   "id": "f94eedf2",
   "metadata": {},
   "outputs": [],
   "source": [
    "dummy_train = (df_pivot.fillna(0)==0).astype(int)\n",
    "dummy_train = dummy_train.T\n",
    "dummy_train.shape"
   ]
  },
  {
   "cell_type": "code",
   "execution_count": null,
   "id": "97d971f3",
   "metadata": {},
   "outputs": [],
   "source": [
    "dummy_train"
   ]
  },
  {
   "cell_type": "code",
   "execution_count": null,
   "id": "5ab9c282",
   "metadata": {},
   "outputs": [],
   "source": [
    "df_pivot.T.loc['zubb'][df_pivot.T.loc['zubb']>1]"
   ]
  },
  {
   "cell_type": "code",
   "execution_count": null,
   "id": "78c9a8a2",
   "metadata": {},
   "outputs": [],
   "source": [
    "dummy_train.loc['zubb'].sum()"
   ]
  },
  {
   "cell_type": "code",
   "execution_count": null,
   "id": "4566d18f",
   "metadata": {},
   "outputs": [],
   "source": [
    "dummy_train.loc['zubb','Planes: Fire Rescue (2 Discs) (includes Digital Copy) (blu-Ray/dvd)']"
   ]
  },
  {
   "cell_type": "markdown",
   "id": "6df07519",
   "metadata": {},
   "source": [
    "It's verified that the places where ratings are given are zeroed in dummy_train df."
   ]
  },
  {
   "cell_type": "code",
   "execution_count": null,
   "id": "3db40c3d",
   "metadata": {},
   "outputs": [],
   "source": [
    "dummy_train.shape"
   ]
  },
  {
   "cell_type": "code",
   "execution_count": null,
   "id": "7db1a4b6",
   "metadata": {},
   "outputs": [],
   "source": [
    "dummy_train.head()"
   ]
  },
  {
   "cell_type": "markdown",
   "id": "de2ca324",
   "metadata": {},
   "source": [
    "#### Filtering the rating only for the movies not rated by the user for recommendation"
   ]
  },
  {
   "cell_type": "code",
   "execution_count": null,
   "id": "19fcf0c8",
   "metadata": {},
   "outputs": [],
   "source": [
    "item_final_rating = np.multiply(item_predicted_ratings,dummy_train)\n",
    "item_final_rating.head()"
   ]
  },
  {
   "cell_type": "code",
   "execution_count": null,
   "id": "ee6798e1",
   "metadata": {},
   "outputs": [],
   "source": [
    "item_final_rating.loc['zubb','Planes: Fire Rescue (2 Discs) (includes Digital Copy) (blu-Ray/dvd)']"
   ]
  },
  {
   "cell_type": "code",
   "execution_count": null,
   "id": "e4041b44",
   "metadata": {},
   "outputs": [],
   "source": [
    "joblib.dump(item_final_rating, 'model/item_final_rating') "
   ]
  },
  {
   "cell_type": "markdown",
   "id": "a72b6ee9",
   "metadata": {},
   "source": [
    "### Finding the top 20 recommendation for the *user*"
   ]
  },
  {
   "cell_type": "code",
   "execution_count": null,
   "id": "3cdc2354",
   "metadata": {},
   "outputs": [],
   "source": [
    "d = item_final_rating.loc['zubb'].sort_values(ascending=False)[0:20]\n",
    "d"
   ]
  },
  {
   "cell_type": "code",
   "execution_count": null,
   "id": "ba4e5ee5",
   "metadata": {},
   "outputs": [],
   "source": [
    "print(train.shape)\n",
    "train.columns"
   ]
  },
  {
   "cell_type": "code",
   "execution_count": null,
   "id": "9869a785",
   "metadata": {},
   "outputs": [],
   "source": [
    "# Evaluation - Item Item\n",
    "\n",
    "#Evaluation will we same as you have seen above for the prediction. The only difference being, you will evaluate for the movie already rated by the user insead of predicting it for the movie not rated by the user. \n",
    "\n",
    "test.columns\n",
    "\n",
    "common =  test[test.name.isin(train.name)]\n",
    "print(common.shape)\n",
    "common.head(4)"
   ]
  },
  {
   "cell_type": "code",
   "execution_count": null,
   "id": "b9e9773f",
   "metadata": {},
   "outputs": [],
   "source": [
    "common_item_based_matrix = common.pivot_table(index='reviews_username', columns='name', values='reviews_rating').T"
   ]
  },
  {
   "cell_type": "code",
   "execution_count": null,
   "id": "90458879",
   "metadata": {},
   "outputs": [],
   "source": [
    "common_item_based_matrix.shape"
   ]
  },
  {
   "cell_type": "code",
   "execution_count": null,
   "id": "827b2093",
   "metadata": {},
   "outputs": [],
   "source": [
    "item_correlation_df = pd.DataFrame(item_correlation)"
   ]
  },
  {
   "cell_type": "code",
   "execution_count": null,
   "id": "8afc852b",
   "metadata": {},
   "outputs": [],
   "source": [
    "item_correlation_df.head(1)"
   ]
  },
  {
   "cell_type": "code",
   "execution_count": null,
   "id": "519c4427",
   "metadata": {},
   "outputs": [],
   "source": [
    "df_pivot.index"
   ]
  },
  {
   "cell_type": "code",
   "execution_count": null,
   "id": "2ccfe506",
   "metadata": {},
   "outputs": [],
   "source": [
    "item_correlation_df['name'] = df_pivot.index\n",
    "item_correlation_df.set_index('name',inplace=True)\n",
    "item_correlation_df.head()"
   ]
  },
  {
   "cell_type": "code",
   "execution_count": null,
   "id": "7a7aaad4",
   "metadata": {},
   "outputs": [],
   "source": [
    "list_name = common.name.tolist()"
   ]
  },
  {
   "cell_type": "code",
   "execution_count": null,
   "id": "c33b74bd",
   "metadata": {},
   "outputs": [],
   "source": [
    "item_correlation_df.columns = df_pivot.index.tolist()\n",
    "\n",
    "item_correlation_df_1 =  item_correlation_df[item_correlation_df.index.isin(list_name)]"
   ]
  },
  {
   "cell_type": "code",
   "execution_count": null,
   "id": "4710ab6f",
   "metadata": {},
   "outputs": [],
   "source": [
    "item_correlation_df_2 = item_correlation_df_1.T[item_correlation_df_1.T.index.isin(list_name)]\n",
    "\n",
    "item_correlation_df_3 = item_correlation_df_2.T"
   ]
  },
  {
   "cell_type": "code",
   "execution_count": null,
   "id": "7da0f333",
   "metadata": {},
   "outputs": [],
   "source": [
    "item_correlation_df_3.head()"
   ]
  },
  {
   "cell_type": "code",
   "execution_count": null,
   "id": "1c452371",
   "metadata": {},
   "outputs": [],
   "source": [
    "item_correlation_df_3.shape"
   ]
  },
  {
   "cell_type": "code",
   "execution_count": null,
   "id": "b29ffaf8",
   "metadata": {},
   "outputs": [],
   "source": [
    "item_correlation_df_3[item_correlation_df_3<0]=0\n",
    "\n",
    "common_item_predicted_ratings = np.dot(item_correlation_df_3, common_item_based_matrix.fillna(0))\n",
    "print(common_item_predicted_ratings.shape)\n",
    "common_item_predicted_ratings"
   ]
  },
  {
   "cell_type": "code",
   "execution_count": null,
   "id": "1d9f4fa9",
   "metadata": {},
   "outputs": [],
   "source": [
    "common_item_predicted_ratings.shape"
   ]
  },
  {
   "cell_type": "code",
   "execution_count": null,
   "id": "e5f40cde",
   "metadata": {},
   "outputs": [],
   "source": [
    "dummy_test = common.copy()\n",
    "dummy_test = dummy_test.pivot_table(index='reviews_username', columns='name', values='reviews_rating').T.fillna(0)"
   ]
  },
  {
   "cell_type": "code",
   "execution_count": null,
   "id": "60872048",
   "metadata": {},
   "outputs": [],
   "source": [
    "dummy_test.T.loc['beverly']"
   ]
  },
  {
   "cell_type": "code",
   "execution_count": null,
   "id": "414828e9",
   "metadata": {},
   "outputs": [],
   "source": [
    "dummy_test[dummy_test>0] = 1"
   ]
  },
  {
   "cell_type": "code",
   "execution_count": null,
   "id": "9d3020df",
   "metadata": {},
   "outputs": [],
   "source": [
    "dummy_test.shape"
   ]
  },
  {
   "cell_type": "code",
   "execution_count": null,
   "id": "3bd573c8",
   "metadata": {},
   "outputs": [],
   "source": [
    "common_item_predicted_ratings = np.multiply(common_item_predicted_ratings,dummy_test)"
   ]
  },
  {
   "cell_type": "code",
   "execution_count": null,
   "id": "3992d316",
   "metadata": {},
   "outputs": [],
   "source": [
    "common_ = common.pivot_table(index='reviews_username', columns='name', values='reviews_rating').T"
   ]
  },
  {
   "cell_type": "code",
   "execution_count": null,
   "id": "27a5dcad",
   "metadata": {},
   "outputs": [],
   "source": [
    "common_.shape"
   ]
  },
  {
   "cell_type": "code",
   "execution_count": null,
   "id": "a38e937e",
   "metadata": {},
   "outputs": [],
   "source": [
    "common_item_predicted_ratings.shape"
   ]
  },
  {
   "cell_type": "code",
   "execution_count": null,
   "id": "6818b3fe",
   "metadata": {},
   "outputs": [],
   "source": [
    "from sklearn.preprocessing import MinMaxScaler\n",
    "from numpy import *\n",
    "\n",
    "X  = common_item_predicted_ratings.copy() \n",
    "X = X[X>0]\n",
    "\n",
    "scaler = MinMaxScaler(feature_range=(1, 5))\n",
    "print(scaler.fit(X))\n",
    "y = (scaler.transform(X))\n",
    "\n",
    "print(y)"
   ]
  },
  {
   "cell_type": "code",
   "execution_count": null,
   "id": "1febbc1b",
   "metadata": {},
   "outputs": [],
   "source": [
    "# Finding total non-NaN value\n",
    "total_non_nan = np.count_nonzero(~np.isnan(y))"
   ]
  },
  {
   "cell_type": "code",
   "execution_count": null,
   "id": "8b3f8d69",
   "metadata": {},
   "outputs": [],
   "source": [
    "total_non_nan"
   ]
  },
  {
   "cell_type": "code",
   "execution_count": null,
   "id": "7bceb992",
   "metadata": {},
   "outputs": [],
   "source": [
    "rmse = (sum(sum((common_ - y )**2))/total_non_nan)**0.5\n",
    "print(rmse)"
   ]
  },
  {
   "cell_type": "code",
   "execution_count": null,
   "id": "da266fca",
   "metadata": {},
   "outputs": [],
   "source": []
  },
  {
   "cell_type": "markdown",
   "id": "c70c0dbe",
   "metadata": {},
   "source": [
    "## Sentiment classification"
   ]
  },
  {
   "cell_type": "markdown",
   "id": "fd7c8412",
   "metadata": {},
   "source": [
    "### Preprocessing and cleaning the text data"
   ]
  },
  {
   "cell_type": "code",
   "execution_count": null,
   "id": "5b0ef318",
   "metadata": {},
   "outputs": [],
   "source": [
    "ratings[['reviews_rating','reviews_text', 'reviews_title']]"
   ]
  },
  {
   "cell_type": "markdown",
   "id": "fe9d66a0",
   "metadata": {},
   "source": [
    "Changing the decontracted statements to their original base and also performing some basic preproecssing on the reviews text and then performing tokenization and lemmatization on the text - "
   ]
  },
  {
   "cell_type": "code",
   "execution_count": null,
   "id": "7dc341ff",
   "metadata": {},
   "outputs": [],
   "source": [
    "def decontracted(phrase):\n",
    "    # specific\n",
    "    phrase = re.sub(r\"won't\", \"will not\", phrase)\n",
    "    phrase = re.sub(r\"can\\'t\", \"can not\", phrase)\n",
    "\n",
    "    # general\n",
    "    phrase = re.sub(r\"n\\'t\", \" not\", phrase)\n",
    "    phrase = re.sub(r\"\\'re\", \" are\", phrase)\n",
    "    phrase = re.sub(r\"\\'s\", \" is\", phrase)\n",
    "    phrase = re.sub(r\"\\'d\", \" would\", phrase)\n",
    "    phrase = re.sub(r\"\\'ll\", \" will\", phrase)\n",
    "    phrase = re.sub(r\"\\'t\", \" not\", phrase)\n",
    "    phrase = re.sub(r\"\\'ve\", \" have\", phrase)\n",
    "    phrase = re.sub(r\"\\'m\", \" am\", phrase)\n",
    "    return phrase"
   ]
  },
  {
   "cell_type": "code",
   "execution_count": null,
   "id": "7e6e7ac3",
   "metadata": {},
   "outputs": [],
   "source": [
    "stemmer = PorterStemmer()\n",
    "wordnet_lemmatizer = WordNetLemmatizer()\n",
    "spell = Speller(lang='en')\n",
    "\n",
    "def preprocess(document, stem=True):\n",
    "    'changes document to lower case and removes stopwords'\n",
    "\n",
    "    # Decontract the text i.e I'm to I am etc\n",
    "    document = decontracted(document)\n",
    "    \n",
    "    # change sentence to lower case\n",
    "    document = document.lower()\n",
    "\n",
    "    # tokenize into words\n",
    "    words = word_tokenize(document)\n",
    "    \n",
    "    pat = '[a-zA-Z]*.*[0-9]+.*[a-zA-Z]*'\n",
    "    pat1 = '^[a-zA-Z]'\n",
    "    \n",
    "    # Removing some unnecessary elements like ',', '.' etc \n",
    "    words = [d for d in words if (not re.match(pat,d)) and (re.match(pat1,d))]\n",
    "    \n",
    "    words = [spell(word) for word in words]\n",
    "    \n",
    "    # remove stop words\n",
    "    words = [word for word in words if word not in stopwords.words(\"english\")]\n",
    "\n",
    "    # Choose stemming or lemmatization\n",
    "    \n",
    "    if(stem):\n",
    "        words = [stemmer.stem(word) for word in words]\n",
    "    else:\n",
    "        words = [wordnet_lemmatizer.lemmatize(word) for word in words]\n",
    "    \n",
    "  \n",
    "    # Removing some unnecessary elements like ',', '.' etc \n",
    "    words = [d for d in words if (not re.match(pat,d)) and (re.match(pat1,d))]\n",
    "\n",
    "    \n",
    "    # join words to make sentence\n",
    "    document = \" \".join(words)\n",
    "    \n",
    "    return document"
   ]
  },
  {
   "cell_type": "code",
   "execution_count": null,
   "id": "6607e10f",
   "metadata": {},
   "outputs": [],
   "source": [
    "ratings['reviews_text'] = ratings['reviews_text'].apply(lambda x:preprocess(x, False))"
   ]
  },
  {
   "cell_type": "code",
   "execution_count": null,
   "id": "1b8cd900",
   "metadata": {},
   "outputs": [],
   "source": [
    "ratings['reviews_title'] = ratings['reviews_title'].apply(lambda x:preprocess(x, False))"
   ]
  },
  {
   "cell_type": "code",
   "execution_count": null,
   "id": "9177b522",
   "metadata": {},
   "outputs": [],
   "source": [
    "ratings['reviews_text'][:5]"
   ]
  },
  {
   "cell_type": "code",
   "execution_count": null,
   "id": "ddfdf85f",
   "metadata": {},
   "outputs": [],
   "source": [
    "ratings['reviews_title'][:5]"
   ]
  },
  {
   "cell_type": "code",
   "execution_count": null,
   "id": "55c5596d",
   "metadata": {},
   "outputs": [],
   "source": [
    "ratings['rev_text'] = ratings['reviews_text'] + ratings['reviews_title']"
   ]
  },
  {
   "cell_type": "markdown",
   "id": "45d7e4b1",
   "metadata": {},
   "source": [
    "### Now after preprocessing, we are using Count vectorizer to get the bag of words representation of all the text in the title and the reviews text"
   ]
  },
  {
   "cell_type": "code",
   "execution_count": null,
   "id": "70d31755",
   "metadata": {},
   "outputs": [],
   "source": [
    "vectorizer = TfidfVectorizer()\n",
    "reviews_tfidf = vectorizer.fit_transform(ratings['rev_text'])"
   ]
  },
  {
   "cell_type": "code",
   "execution_count": null,
   "id": "0c1d6830",
   "metadata": {},
   "outputs": [],
   "source": [
    "#joblib.dump(reviews_tfidf, 'model/reviews_tfidf') "
   ]
  },
  {
   "cell_type": "code",
   "execution_count": null,
   "id": "eb24cbe3",
   "metadata": {},
   "outputs": [],
   "source": [
    "reviews_tfidf.toarray()"
   ]
  },
  {
   "cell_type": "code",
   "execution_count": null,
   "id": "0ab72e26",
   "metadata": {},
   "outputs": [],
   "source": [
    "print(reviews_tfidf.shape)\n",
    "vectorizer.get_feature_names()"
   ]
  },
  {
   "cell_type": "code",
   "execution_count": null,
   "id": "ad4e19c9",
   "metadata": {},
   "outputs": [],
   "source": [
    "ratings['sentiment'] = ratings['user_sentiment'].apply(lambda x:1 if x=='Negative' else 0)"
   ]
  },
  {
   "cell_type": "code",
   "execution_count": null,
   "id": "08b79e85",
   "metadata": {},
   "outputs": [],
   "source": [
    "ratings['user_sentiment'].value_counts()"
   ]
  },
  {
   "cell_type": "code",
   "execution_count": null,
   "id": "fa67f5ab",
   "metadata": {},
   "outputs": [],
   "source": [
    "X = reviews_tfidf\n",
    "Y = ratings['sentiment']"
   ]
  },
  {
   "cell_type": "code",
   "execution_count": null,
   "id": "b1759060",
   "metadata": {},
   "outputs": [],
   "source": [
    "X.shape"
   ]
  },
  {
   "cell_type": "code",
   "execution_count": null,
   "id": "0047557b",
   "metadata": {},
   "outputs": [],
   "source": [
    "X_train, X_test, y_train, y_test=train_test_split(X,Y,test_size=0.2, random_state=42)"
   ]
  },
  {
   "cell_type": "code",
   "execution_count": null,
   "id": "bd2ba2cc",
   "metadata": {},
   "outputs": [],
   "source": [
    "X_train.shape"
   ]
  },
  {
   "cell_type": "code",
   "execution_count": null,
   "id": "a2034338",
   "metadata": {},
   "outputs": [],
   "source": [
    "y_train.shape"
   ]
  },
  {
   "cell_type": "code",
   "execution_count": null,
   "id": "0aea1a02",
   "metadata": {},
   "outputs": [],
   "source": [
    "y_train.value_counts()"
   ]
  },
  {
   "cell_type": "code",
   "execution_count": null,
   "id": "ba5b6d2e",
   "metadata": {},
   "outputs": [],
   "source": [
    "lm = LogisticRegression(class_weight={0:0.2,1:0.8})\n",
    "lm.fit(X_train, y_train) "
   ]
  },
  {
   "cell_type": "code",
   "execution_count": null,
   "id": "67d60f29",
   "metadata": {},
   "outputs": [],
   "source": [
    "y_pred = lm.predict(X_test)"
   ]
  },
  {
   "cell_type": "code",
   "execution_count": null,
   "id": "7a0d51c2",
   "metadata": {},
   "outputs": [],
   "source": [
    "def print_metrics(y_test, y_pred):\n",
    "    con_mat = confusion_matrix(y_test, y_pred)\n",
    "    print(con_mat)\n",
    "\n",
    "    accuracy = (con_mat[0][0] + con_mat[1][1])/(con_mat[0][0] + con_mat[1][1] +con_mat[0][1] + con_mat[1][0])\n",
    "    print(\"accuracy :\",accuracy)\n",
    "\n",
    "    specificity = con_mat[0][0]/(con_mat[0][0]+con_mat[0][1])\n",
    "    print(\"specificity: \", specificity)\n",
    "    sensitivity = con_mat[1][1]/(con_mat[1][1]+con_mat[1][0])\n",
    "    print(\"sensitivity : \", sensitivity)"
   ]
  },
  {
   "cell_type": "code",
   "execution_count": null,
   "id": "4ff44ab6",
   "metadata": {},
   "outputs": [],
   "source": [
    "print_metrics(y_test, y_pred)"
   ]
  },
  {
   "cell_type": "markdown",
   "id": "521f4b37",
   "metadata": {},
   "source": [
    "Logistic classifier has an accuracy of around 90%. let's look at RandomClassifier - "
   ]
  },
  {
   "cell_type": "code",
   "execution_count": null,
   "id": "2b3c0429",
   "metadata": {},
   "outputs": [],
   "source": [
    "# Create the parameter grid based on the results of random search \n",
    "param_grid = {\n",
    "    'max_depth': [4,8,10],\n",
    "    'min_samples_leaf': range(100, 400, 200),\n",
    "    'min_samples_split': range(200, 500, 200),\n",
    "    'n_estimators': [100,200, 300], \n",
    "    'max_features': [5, 10],\n",
    "    'class_weight': [{0:0.1,1:0.9},{0:0.2,1:0.8}]\n",
    "}\n",
    "# Create a based model\n",
    "rf = RandomForestClassifier()\n",
    "# Instantiate the grid search model\n",
    "grid_search = GridSearchCV(estimator = rf, param_grid = param_grid, \n",
    "                          cv = 3, n_jobs = -1,verbose = 1)"
   ]
  },
  {
   "cell_type": "code",
   "execution_count": null,
   "id": "70f2491a",
   "metadata": {},
   "outputs": [],
   "source": [
    "# Fit the grid search to the data\n",
    "grid_search.fit(X_train, y_train)"
   ]
  },
  {
   "cell_type": "code",
   "execution_count": null,
   "id": "385065bb",
   "metadata": {},
   "outputs": [],
   "source": [
    "# printing the optimal accuracy score and hyperparameters\n",
    "print('We can get accuracy of',grid_search.best_score_,'using',grid_search.best_params_)"
   ]
  },
  {
   "cell_type": "code",
   "execution_count": null,
   "id": "b08f2511",
   "metadata": {},
   "outputs": [],
   "source": [
    "rfc = RandomForestClassifier()"
   ]
  },
  {
   "cell_type": "code",
   "execution_count": null,
   "id": "913b5175",
   "metadata": {},
   "outputs": [],
   "source": [
    "# fit\n",
    "rfc.fit(X_train,y_train)"
   ]
  },
  {
   "cell_type": "code",
   "execution_count": null,
   "id": "b32e8ab3",
   "metadata": {},
   "outputs": [],
   "source": [
    "# predict\n",
    "predictions = rfc.predict(X_test)"
   ]
  },
  {
   "cell_type": "code",
   "execution_count": null,
   "id": "2edebd26",
   "metadata": {},
   "outputs": [],
   "source": [
    "print_metrics(y_test, predictions)"
   ]
  },
  {
   "cell_type": "code",
   "execution_count": null,
   "id": "5ac3d579",
   "metadata": {},
   "outputs": [],
   "source": []
  },
  {
   "cell_type": "markdown",
   "id": "852bd9d4",
   "metadata": {},
   "source": [
    "XGBoost classifier - "
   ]
  },
  {
   "cell_type": "markdown",
   "id": "a8de5e1e",
   "metadata": {},
   "source": [
    "#### So we need to do some hyperparmeter tuning to improve sensitivity that is identifying the negative reviews correctlt"
   ]
  },
  {
   "cell_type": "code",
   "execution_count": null,
   "id": "072f7b2b",
   "metadata": {},
   "outputs": [],
   "source": [
    "# hyperparameter tuning with XGBoost\n",
    "\n",
    "# creating a KFold object \n",
    "folds = 5\n",
    "\n",
    "# specify range of hyperparameters\n",
    "param_grid = {'scale_pos_weight':[i for i in range(20)]}          \n",
    "\n",
    "\n",
    "# specify model\n",
    "xgb_model = XGBClassifier()\n",
    "\n",
    "# set up GridSearchCV()\n",
    "model_cv = GridSearchCV(estimator = xgb_model, \n",
    "                        param_grid = param_grid, \n",
    "                        scoring= 'roc_auc', \n",
    "                        cv = folds, \n",
    "                        verbose = 1,\n",
    "                        return_train_score=True)      \n",
    "\n"
   ]
  },
  {
   "cell_type": "code",
   "execution_count": null,
   "id": "65c21428",
   "metadata": {},
   "outputs": [],
   "source": [
    "model_cv.fit(X_train, y_train)"
   ]
  },
  {
   "cell_type": "code",
   "execution_count": null,
   "id": "fe83b655",
   "metadata": {},
   "outputs": [],
   "source": [
    "# printing the optimal accuracy score and hyperparameters\n",
    "print('We can get accuracy of',model_cv.best_score_,'using',model_cv.best_params_)"
   ]
  },
  {
   "cell_type": "code",
   "execution_count": null,
   "id": "1766cba6",
   "metadata": {},
   "outputs": [],
   "source": [
    "# fit model on training data with default hyperparameters\n",
    "model = XGBClassifier(scale_pos_weight=2)\n",
    "model.fit(X_train, y_train)\n",
    "\n",
    "\n",
    "# make predictions for test data\n",
    "# use predict_proba since we need probabilities to compute auc\n",
    "y_pred_proba = model.predict_proba(X_test)\n",
    "\n",
    "from sklearn import metrics\n",
    "# evaluate predictions\n",
    "roc = metrics.roc_auc_score(y_test, y_pred_proba[:, 1])\n",
    "print(\"AUC: %.2f%%\" % (roc * 100.0))\n",
    "\n",
    "y_pred = model.predict(X_test)\n",
    "print(y_pred)\n",
    "\n",
    "print_metrics(y_test, y_pred)"
   ]
  },
  {
   "cell_type": "markdown",
   "id": "10c093f1",
   "metadata": {},
   "source": [
    "Let's save the XGBoost model (as that's our final chosen model)-"
   ]
  },
  {
   "cell_type": "code",
   "execution_count": null,
   "id": "46b85788",
   "metadata": {},
   "outputs": [],
   "source": [
    "joblib.dump(model, 'model/xgboost_model.pkl') "
   ]
  },
  {
   "cell_type": "markdown",
   "id": "39ff218b",
   "metadata": {},
   "source": [
    "So there are three models which we have tried. Let's look at their accuracies and other metrics for comparison : \n",
    "\n",
    "1. Logistic regression : accuracy = 90%, specificity =93.4% , sensitivity=65.5%\n",
    "\n",
    "2. Random Forest classifier : accuracy = 90.9%, specificity =99.8% , sensitivity=19.3% \n",
    "\n",
    "3. XGBoost Classifier : accuracy = 91.8%, specificity =94.9% , sensitivity=66.6% , AUC=92.7%\n",
    "\n",
    "From the above numbers we can see that random forest classifier is overfitting the data and has a very low sensitivity while logistic regression and XGBoost classifier are doing quite well. XGBoost classifier has a higher accuracy, sensitivity and specificity as compared to the logistic regression classifier. Hence, we are going ahead with the XGBoost classifier for this particular usecase. "
   ]
  },
  {
   "cell_type": "markdown",
   "id": "f0a9b887",
   "metadata": {},
   "source": [
    "Actual input dataset"
   ]
  },
  {
   "cell_type": "code",
   "execution_count": null,
   "id": "e75eddb2",
   "metadata": {},
   "outputs": [],
   "source": [
    "ratings.shape"
   ]
  },
  {
   "cell_type": "markdown",
   "id": "cf15c60d",
   "metadata": {},
   "source": [
    "TFIDF vector of all input rows"
   ]
  },
  {
   "cell_type": "code",
   "execution_count": null,
   "id": "841a842b",
   "metadata": {},
   "outputs": [],
   "source": [
    "reviews_tfidf"
   ]
  },
  {
   "cell_type": "markdown",
   "id": "22d701a6",
   "metadata": {},
   "source": [
    "train input to the recommendation system - "
   ]
  },
  {
   "cell_type": "code",
   "execution_count": null,
   "id": "47ecced7",
   "metadata": {},
   "outputs": [],
   "source": [
    "train.shape"
   ]
  },
  {
   "cell_type": "code",
   "execution_count": null,
   "id": "42e3000f",
   "metadata": {},
   "outputs": [],
   "source": [
    "train.head()"
   ]
  },
  {
   "cell_type": "code",
   "execution_count": null,
   "id": "9c71d0cb",
   "metadata": {},
   "outputs": [],
   "source": [
    "train.index"
   ]
  },
  {
   "cell_type": "code",
   "execution_count": null,
   "id": "5f3cdaf2",
   "metadata": {},
   "outputs": [],
   "source": [
    "d = item_final_rating.loc['zubb'].sort_values(ascending=False)[0:20]\n",
    "top_20_products = d.index.tolist()\n",
    "top_20_products"
   ]
  },
  {
   "cell_type": "code",
   "execution_count": null,
   "id": "4999778a",
   "metadata": {},
   "outputs": [],
   "source": [
    "reviews_dict = {}\n",
    "for i in top_20_products:\n",
    "    idx_prod= train[train['name'] == i].index.tolist()\n",
    "    #idx_prod = sort(idx_prod).tolist()\n",
    "    reviews_vector = [reviews_tfidf[i] for i in idx_prod] \n",
    "    if(i not in reviews_dict):\n",
    "        reviews_dict[i] = reviews_vector\n",
    "    else:\n",
    "        reviews_dict[i].append(reviews_vector)"
   ]
  },
  {
   "cell_type": "markdown",
   "id": "b5a91127",
   "metadata": {},
   "source": [
    "Now, we have a dictionary which is keyed with the top 20 reocmmended products to the user. Now we need to pass them through out model to get the sentiment predicted - "
   ]
  },
  {
   "cell_type": "code",
   "execution_count": null,
   "id": "1efbc7f3",
   "metadata": {},
   "outputs": [],
   "source": [
    "from functools import reduce\n",
    "\n",
    "sentiment_dict = {}\n",
    "\n",
    "for key,value in reviews_dict.items():\n",
    "    sentiment = [int(model.predict(i)) for i in value]\n",
    "    pos_sent = 100-((reduce(lambda x,y:x+y,sentiment)/len(sentiment))*100)\n",
    "    sentiment_dict[key] = pos_sent"
   ]
  },
  {
   "cell_type": "code",
   "execution_count": null,
   "id": "a1ff8e86",
   "metadata": {},
   "outputs": [],
   "source": [
    "top_5 = [key for key,value in sorted(sentiment_dict.items(), key = lambda x:x[1], reverse=True)[:5]]\n",
    "top_5"
   ]
  },
  {
   "cell_type": "code",
   "execution_count": null,
   "id": "9002a164",
   "metadata": {},
   "outputs": [],
   "source": [
    "users = list(train['reviews_username'].unique())\n",
    "users"
   ]
  },
  {
   "cell_type": "code",
   "execution_count": null,
   "id": "259536e5",
   "metadata": {},
   "outputs": [],
   "source": [
    "prods_list = train['name'].unique()\n",
    "prods_list = list(prods_list)\n",
    "prods_list"
   ]
  },
  {
   "cell_type": "code",
   "execution_count": null,
   "id": "9f19fb0f",
   "metadata": {},
   "outputs": [],
   "source": [
    "prod_idx_dict = {}\n",
    "prod_tfidf = {}\n",
    "\n",
    "for prod in prods_list:\n",
    "    prod_idx_dict[prod] = list(sort(train[train['name']==prod].index.tolist()))\n",
    "    "
   ]
  },
  {
   "cell_type": "code",
   "execution_count": null,
   "id": "f181ce1e",
   "metadata": {},
   "outputs": [],
   "source": [
    "prod_idx_dict"
   ]
  },
  {
   "cell_type": "code",
   "execution_count": null,
   "id": "df47d8db",
   "metadata": {},
   "outputs": [],
   "source": [
    "for key,value in prod_idx_dict.items():\n",
    "    prod_tfidf[key] = [reviews_tfidf[idx] for idx in value]\n",
    "    "
   ]
  },
  {
   "cell_type": "code",
   "execution_count": null,
   "id": "f6e61d70",
   "metadata": {},
   "outputs": [],
   "source": [
    "prod_tfidf"
   ]
  },
  {
   "cell_type": "code",
   "execution_count": null,
   "id": "9c5d3cfd",
   "metadata": {},
   "outputs": [],
   "source": [
    "\n"
   ]
  },
  {
   "cell_type": "code",
   "execution_count": null,
   "id": "e09730b0",
   "metadata": {},
   "outputs": [],
   "source": [
    "#joblib.dump(prod_tfidf, 'model/prod_tfidf')"
   ]
  },
  {
   "cell_type": "code",
   "execution_count": null,
   "id": "883fe897",
   "metadata": {},
   "outputs": [],
   "source": [
    "top_20_products"
   ]
  },
  {
   "cell_type": "code",
   "execution_count": null,
   "id": "476bc2d1",
   "metadata": {},
   "outputs": [],
   "source": [
    "sentiment_dict={}\n",
    "for i in top_20_products:\n",
    "    reviews_list = prod_tfidf[i]\n",
    "    sentiment = [model.predict(rev) for rev in reviews_list]\n",
    "    pos_sent = 100-((reduce(lambda x,y:x+y,sentiment)/len(sentiment))*100)\n",
    "    sentiment_dict[i] = pos_sent"
   ]
  },
  {
   "cell_type": "code",
   "execution_count": null,
   "id": "01318d5f",
   "metadata": {},
   "outputs": [],
   "source": [
    "sentiment_dict"
   ]
  },
  {
   "cell_type": "code",
   "execution_count": null,
   "id": "22e28066",
   "metadata": {},
   "outputs": [],
   "source": [
    "top_5 = [key for key,value in sorted(sentiment_dict.items(), key = lambda x:x[1], reverse=True)[:5]]"
   ]
  },
  {
   "cell_type": "code",
   "execution_count": null,
   "id": "a1ed7cac",
   "metadata": {},
   "outputs": [],
   "source": [
    "top_5\n"
   ]
  }
 ],
 "metadata": {
  "kernelspec": {
   "display_name": "Python 3",
   "language": "python",
   "name": "python3"
  },
  "language_info": {
   "codemirror_mode": {
    "name": "ipython",
    "version": 3
   },
   "file_extension": ".py",
   "mimetype": "text/x-python",
   "name": "python",
   "nbconvert_exporter": "python",
   "pygments_lexer": "ipython3",
   "version": "3.8.8"
  }
 },
 "nbformat": 4,
 "nbformat_minor": 5
}
